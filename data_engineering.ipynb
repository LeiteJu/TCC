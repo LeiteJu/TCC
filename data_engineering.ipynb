{
 "cells": [
  {
   "cell_type": "markdown",
   "id": "bca98c81",
   "metadata": {},
   "source": [
    "# Extração das Bases\n",
    "\n",
    "Nesse notebook vamos extrair os dados dos arquivos .xlsx, tratá-los e salvá-los em arquivos .csv"
   ]
  },
  {
   "cell_type": "code",
   "execution_count": 2,
   "id": "dac273d9",
   "metadata": {},
   "outputs": [],
   "source": [
    "import pandas as pd\n",
    "import numpy as np"
   ]
  },
  {
   "cell_type": "markdown",
   "id": "1104e362",
   "metadata": {},
   "source": [
    "### Dados de consumo mensal dos estados e regiões:"
   ]
  },
  {
   "cell_type": "code",
   "execution_count": 3,
   "id": "4fc6f12b",
   "metadata": {},
   "outputs": [],
   "source": [
    "mensal = pd.read_excel(\"C:/Users/julia/USP/TCC/data/cimento/bruto/mensal.xlsx\", None, \n",
    "                   names=[\"jan\", \"fev\", \"mar\", \"abr\",\"mai\",\"jun\", \"jul\", \"ago\",\"set\", \"out\",\"nov\",\"dez\", \"total\"])\n",
    "\n",
    "for year in mensal:\n",
    "    mensal[year]=mensal[year].dropna().transpose()\n",
    "    mensal[year]=mensal[year].iloc[: , 1:]\n",
    "    mensal[year]=mensal[year].replace(\"...\", np.nan)\n",
    "    \n",
    "    #path = \"C:/Users/julia/USP/TCC/data/cimento/bases/mensal/\" + year + \".csv\"\n",
    "    #mensal[year].to_csv(path)"
   ]
  },
  {
   "cell_type": "code",
   "execution_count": 5,
   "id": "c16c0d84",
   "metadata": {},
   "outputs": [
    {
     "ename": "AttributeError",
     "evalue": "'dict' object has no attribute 'columns'",
     "output_type": "error",
     "traceback": [
      "\u001b[1;31m---------------------------------------------------------------------------\u001b[0m",
      "\u001b[1;31mAttributeError\u001b[0m                            Traceback (most recent call last)",
      "Input \u001b[1;32mIn [5]\u001b[0m, in \u001b[0;36m<cell line: 1>\u001b[1;34m()\u001b[0m\n\u001b[1;32m----> 1\u001b[0m \u001b[43mmensal\u001b[49m\u001b[38;5;241;43m.\u001b[39;49m\u001b[43mcolumns\u001b[49m\n",
      "\u001b[1;31mAttributeError\u001b[0m: 'dict' object has no attribute 'columns'"
     ]
    }
   ],
   "source": [
    "mensal.columns"
   ]
  },
  {
   "cell_type": "markdown",
   "id": "7cb6fb67",
   "metadata": {},
   "source": [
    "### Dados consolidados do histórico"
   ]
  },
  {
   "cell_type": "code",
   "execution_count": 15,
   "id": "eeb84a12",
   "metadata": {},
   "outputs": [],
   "source": [
    "consolidado = pd.read_excel(\"C:/Users/julia/USP/TCC/data/cimento/bruto/consolidado.xlsx\", names=['Producao', 'Consumo aparente', 'Consumo Per-Capita', 'Exportacao','Importacao'])\n",
    "consolidado = consolidado.iloc[3:-6,]\n",
    "consolidado = consolidado.replace('...',np.nan)\n",
    "\n",
    "path = \"C:/Users/julia/USP/TCC/data/cimento/bases/consolidado.csv\"\n",
    "consolidado.to_csv(path)"
   ]
  },
  {
   "cell_type": "markdown",
   "id": "32a2eac4",
   "metadata": {},
   "source": [
    "### PIB por estado"
   ]
  },
  {
   "cell_type": "code",
   "execution_count": 19,
   "id": "b6f3ebf1",
   "metadata": {},
   "outputs": [],
   "source": [
    "pib_uf = pd.read_excel(\"C:/Users/julia/USP/TCC/data/pib/bruto/pibpm-base-2010-retropolado-sem-formula.xlsx\", \n",
    "                       sheet_name=['PIB_UF'], \n",
    "                       names=['REGIAO/UF','2002','2003','2004','2005','2006','2007','2008','2009','2010','2011', '2012','2013','2014'])\n",
    "pib_uf=list(pib_uf.values())[0]\n",
    "pib_uf=pib_uf.iloc[3:-1, :]\n",
    "\n",
    "path = \"C:/Users/julia/USP/TCC/data/pib/bases/pib_uf.csv\"\n",
    "pib_uf.to_csv(path)"
   ]
  },
  {
   "cell_type": "code",
   "execution_count": 21,
   "id": "f7934818",
   "metadata": {},
   "outputs": [
    {
     "data": {
      "text/html": [
       "<div>\n",
       "<style scoped>\n",
       "    .dataframe tbody tr th:only-of-type {\n",
       "        vertical-align: middle;\n",
       "    }\n",
       "\n",
       "    .dataframe tbody tr th {\n",
       "        vertical-align: top;\n",
       "    }\n",
       "\n",
       "    .dataframe thead th {\n",
       "        text-align: right;\n",
       "    }\n",
       "</style>\n",
       "<table border=\"1\" class=\"dataframe\">\n",
       "  <thead>\n",
       "    <tr style=\"text-align: right;\">\n",
       "      <th></th>\n",
       "      <th>REGIAO/UF</th>\n",
       "      <th>2002</th>\n",
       "      <th>2003</th>\n",
       "      <th>2004</th>\n",
       "      <th>2005</th>\n",
       "      <th>2006</th>\n",
       "      <th>2007</th>\n",
       "      <th>2008</th>\n",
       "      <th>2009</th>\n",
       "      <th>2010</th>\n",
       "      <th>2011</th>\n",
       "      <th>2012</th>\n",
       "      <th>2013</th>\n",
       "      <th>2014</th>\n",
       "    </tr>\n",
       "  </thead>\n",
       "  <tbody>\n",
       "    <tr>\n",
       "      <th>3</th>\n",
       "      <td>NORTE</td>\n",
       "      <td>69902.366302</td>\n",
       "      <td>81554.145768</td>\n",
       "      <td>97051.142415</td>\n",
       "      <td>106523.352700</td>\n",
       "      <td>121371.647103</td>\n",
       "      <td>135631.867053</td>\n",
       "      <td>156676.708062</td>\n",
       "      <td>166210.200698</td>\n",
       "      <td>207093.644799</td>\n",
       "      <td>241027.920261</td>\n",
       "      <td>259100.991473</td>\n",
       "      <td>292442.290166</td>\n",
       "      <td>308076.996941</td>\n",
       "    </tr>\n",
       "    <tr>\n",
       "      <th>4</th>\n",
       "      <td>Rondônia</td>\n",
       "      <td>7467.629889</td>\n",
       "      <td>9425.010484</td>\n",
       "      <td>11004.641436</td>\n",
       "      <td>12511.821180</td>\n",
       "      <td>13054.713345</td>\n",
       "      <td>14438.376501</td>\n",
       "      <td>17285.541726</td>\n",
       "      <td>19725.009504</td>\n",
       "      <td>23907.886883</td>\n",
       "      <td>27574.714377</td>\n",
       "      <td>30112.720316</td>\n",
       "      <td>31121.412532</td>\n",
       "      <td>34030.981973</td>\n",
       "    </tr>\n",
       "    <tr>\n",
       "      <th>5</th>\n",
       "      <td>Acre</td>\n",
       "      <td>2971.301278</td>\n",
       "      <td>3377.234250</td>\n",
       "      <td>3784.002574</td>\n",
       "      <td>4300.581272</td>\n",
       "      <td>4661.806951</td>\n",
       "      <td>5458.172175</td>\n",
       "      <td>6410.254677</td>\n",
       "      <td>7407.821405</td>\n",
       "      <td>8342.355523</td>\n",
       "      <td>8949.433758</td>\n",
       "      <td>10137.924706</td>\n",
       "      <td>11473.930165</td>\n",
       "      <td>13458.697630</td>\n",
       "    </tr>\n",
       "    <tr>\n",
       "      <th>6</th>\n",
       "      <td>Amazonas</td>\n",
       "      <td>22093.338008</td>\n",
       "      <td>25862.134091</td>\n",
       "      <td>31090.695799</td>\n",
       "      <td>33980.876529</td>\n",
       "      <td>39933.212630</td>\n",
       "      <td>43479.773087</td>\n",
       "      <td>48115.264644</td>\n",
       "      <td>50559.839678</td>\n",
       "      <td>60877.122681</td>\n",
       "      <td>70734.401223</td>\n",
       "      <td>72242.700677</td>\n",
       "      <td>83051.232957</td>\n",
       "      <td>86668.643770</td>\n",
       "    </tr>\n",
       "    <tr>\n",
       "      <th>7</th>\n",
       "      <td>Roraima</td>\n",
       "      <td>2392.032670</td>\n",
       "      <td>2594.080872</td>\n",
       "      <td>2822.756978</td>\n",
       "      <td>3193.430418</td>\n",
       "      <td>3802.452110</td>\n",
       "      <td>4203.302126</td>\n",
       "      <td>4841.862424</td>\n",
       "      <td>5671.974580</td>\n",
       "      <td>6639.150477</td>\n",
       "      <td>7303.719267</td>\n",
       "      <td>7711.467115</td>\n",
       "      <td>9010.725278</td>\n",
       "      <td>9744.122308</td>\n",
       "    </tr>\n",
       "  </tbody>\n",
       "</table>\n",
       "</div>"
      ],
      "text/plain": [
       "  REGIAO/UF          2002          2003          2004           2005  \\\n",
       "3     NORTE  69902.366302  81554.145768  97051.142415  106523.352700   \n",
       "4  Rondônia   7467.629889   9425.010484  11004.641436   12511.821180   \n",
       "5      Acre   2971.301278   3377.234250   3784.002574    4300.581272   \n",
       "6  Amazonas  22093.338008  25862.134091  31090.695799   33980.876529   \n",
       "7   Roraima   2392.032670   2594.080872   2822.756978    3193.430418   \n",
       "\n",
       "            2006           2007           2008           2009           2010  \\\n",
       "3  121371.647103  135631.867053  156676.708062  166210.200698  207093.644799   \n",
       "4   13054.713345   14438.376501   17285.541726   19725.009504   23907.886883   \n",
       "5    4661.806951    5458.172175    6410.254677    7407.821405    8342.355523   \n",
       "6   39933.212630   43479.773087   48115.264644   50559.839678   60877.122681   \n",
       "7    3802.452110    4203.302126    4841.862424    5671.974580    6639.150477   \n",
       "\n",
       "            2011           2012           2013           2014  \n",
       "3  241027.920261  259100.991473  292442.290166  308076.996941  \n",
       "4   27574.714377   30112.720316   31121.412532   34030.981973  \n",
       "5    8949.433758   10137.924706   11473.930165   13458.697630  \n",
       "6   70734.401223   72242.700677   83051.232957   86668.643770  \n",
       "7    7303.719267    7711.467115    9010.725278    9744.122308  "
      ]
     },
     "execution_count": 21,
     "metadata": {},
     "output_type": "execute_result"
    }
   ],
   "source": [
    "pib_uf.head()"
   ]
  },
  {
   "cell_type": "markdown",
   "id": "b825866e",
   "metadata": {},
   "source": [
    "### População"
   ]
  },
  {
   "cell_type": "code",
   "execution_count": 23,
   "id": "c2435f0c",
   "metadata": {},
   "outputs": [],
   "source": [
    "pib_pop = pd.read_excel('C:/Users/julia/USP/TCC/data/pib/bruto/pibpm-base-2010-retropolado-sem-formula.xlsx', sheet_name=['População'], names=['REGIAO/UF','2002','2003','2004','2005','2006','2007','2008','2009','2010','2011', '2012','2013','2014'])\n",
    "pib_pop=list(pib_pop.values())[0]\n",
    "pib_pop=pib_pop.iloc[3:-13, :]\n",
    "\n",
    "path = \"C:/Users/julia/USP/TCC/data/pib/bases/pib_pop.csv\"\n",
    "pib_pop.to_csv(path)"
   ]
  },
  {
   "cell_type": "markdown",
   "id": "fb0b4ea4",
   "metadata": {},
   "source": [
    "### PIB per capta"
   ]
  },
  {
   "cell_type": "code",
   "execution_count": 24,
   "id": "3942e669",
   "metadata": {},
   "outputs": [],
   "source": [
    "pib_pc = pd.read_excel('C:/Users/julia/USP/TCC/data/pib/bruto/pibpm-base-2010-retropolado-sem-formula.xlsx', sheet_name=['PIB per Capita'], names=['REGIAO/UF','2002','2003','2004','2005','2006','2007','2008','2009','2010','2011', '2012','2013','2014'])\n",
    "pib_pc=list(pib_pc.values())[0]\n",
    "pib_pc=pib_pc.iloc[3:-13, :]\n",
    "\n",
    "path = \"C:/Users/julia/USP/TCC/data/pib/bases/pib_pc.csv\"\n",
    "pib_pc.to_csv(path)"
   ]
  },
  {
   "cell_type": "code",
   "execution_count": null,
   "id": "d0030ec8",
   "metadata": {},
   "outputs": [],
   "source": []
  }
 ],
 "metadata": {
  "kernelspec": {
   "display_name": "Python 3 (ipykernel)",
   "language": "python",
   "name": "python3"
  },
  "language_info": {
   "codemirror_mode": {
    "name": "ipython",
    "version": 3
   },
   "file_extension": ".py",
   "mimetype": "text/x-python",
   "name": "python",
   "nbconvert_exporter": "python",
   "pygments_lexer": "ipython3",
   "version": "3.9.12"
  }
 },
 "nbformat": 4,
 "nbformat_minor": 5
}
