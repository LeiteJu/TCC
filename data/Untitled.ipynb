{
 "cells": [
  {
   "cell_type": "code",
   "execution_count": 2,
   "id": "df762b0c-3d63-4737-b5bf-ce1f0afc27df",
   "metadata": {},
   "outputs": [],
   "source": [
    "import pandas as pd\n",
    "import numpy as np\n",
    "import matplotlib.pyplot as plt\n",
    "import seaborn as sns"
   ]
  },
  {
   "cell_type": "code",
   "execution_count": 3,
   "id": "89f30235-8541-42fe-91f2-e64e28944e4c",
   "metadata": {},
   "outputs": [],
   "source": [
    "PATH=\"https://raw.githubusercontent.com/LeiteJu/TCC/main/data/entrada/\""
   ]
  },
  {
   "cell_type": "code",
   "execution_count": 5,
   "id": "537034e6-cbbe-4cc1-a82f-e0cdb654adbe",
   "metadata": {},
   "outputs": [],
   "source": [
    "df = pd.read_csv(\"https://raw.githubusercontent.com/LeiteJu/TCC/main/data/entrada/pib_precos_constantes.csv\")\n",
    "df.drop([\"Código\", \"Estado\"], inplace=True, axis=1)\n",
    "df = df.melt(id_vars=[\"Sigla\"], value_vars=[f\"{i}\" for i in range (1985,2020)], value_name=\"pib_pc\", var_name=\"anos\")"
   ]
  },
  {
   "cell_type": "code",
   "execution_count": 6,
   "id": "e5fcbaff-d5f3-4bfc-9bc8-49ea6032861e",
   "metadata": {},
   "outputs": [
    {
     "data": {
      "text/html": [
       "<div>\n",
       "<style scoped>\n",
       "    .dataframe tbody tr th:only-of-type {\n",
       "        vertical-align: middle;\n",
       "    }\n",
       "\n",
       "    .dataframe tbody tr th {\n",
       "        vertical-align: top;\n",
       "    }\n",
       "\n",
       "    .dataframe thead th {\n",
       "        text-align: right;\n",
       "    }\n",
       "</style>\n",
       "<table border=\"1\" class=\"dataframe\">\n",
       "  <thead>\n",
       "    <tr style=\"text-align: right;\">\n",
       "      <th></th>\n",
       "      <th>Sigla</th>\n",
       "      <th>anos</th>\n",
       "      <th>pib_pc</th>\n",
       "    </tr>\n",
       "  </thead>\n",
       "  <tbody>\n",
       "    <tr>\n",
       "      <th>0</th>\n",
       "      <td>AC</td>\n",
       "      <td>1985</td>\n",
       "      <td>3.263960e+06</td>\n",
       "    </tr>\n",
       "    <tr>\n",
       "      <th>1</th>\n",
       "      <td>AL</td>\n",
       "      <td>1985</td>\n",
       "      <td>1.307516e+07</td>\n",
       "    </tr>\n",
       "    <tr>\n",
       "      <th>2</th>\n",
       "      <td>AM</td>\n",
       "      <td>1985</td>\n",
       "      <td>1.268226e+07</td>\n",
       "    </tr>\n",
       "    <tr>\n",
       "      <th>3</th>\n",
       "      <td>AP</td>\n",
       "      <td>1985</td>\n",
       "      <td>2.396901e+06</td>\n",
       "    </tr>\n",
       "    <tr>\n",
       "      <th>4</th>\n",
       "      <td>BA</td>\n",
       "      <td>1985</td>\n",
       "      <td>5.417285e+07</td>\n",
       "    </tr>\n",
       "  </tbody>\n",
       "</table>\n",
       "</div>"
      ],
      "text/plain": [
       "  Sigla  anos        pib_pc\n",
       "0    AC  1985  3.263960e+06\n",
       "1    AL  1985  1.307516e+07\n",
       "2    AM  1985  1.268226e+07\n",
       "3    AP  1985  2.396901e+06\n",
       "4    BA  1985  5.417285e+07"
      ]
     },
     "execution_count": 6,
     "metadata": {},
     "output_type": "execute_result"
    }
   ],
   "source": [
    "df.head()"
   ]
  },
  {
   "cell_type": "code",
   "execution_count": 7,
   "id": "22c696b3-32e3-423d-844d-eccec8e5adce",
   "metadata": {},
   "outputs": [],
   "source": [
    "pib_pmc = pd.read_csv(\"https://raw.githubusercontent.com/LeiteJu/TCC/main/data/entrada/pib_precos_mercado_corrente.csv\")\n",
    "pib_pmc.drop([\"Código\", \"Estado\"], inplace=True, axis=1)\n",
    "pib_pmc = pib_pmc.melt(id_vars=[\"Sigla\"], value_vars=[f\"{i}\" for i in range (1985,2020)], value_name=\"pib_pmc\", var_name=\"anos\")"
   ]
  },
  {
   "cell_type": "code",
   "execution_count": 8,
   "id": "64c5f885-6371-4aa6-ba2b-56c6afde6e95",
   "metadata": {},
   "outputs": [],
   "source": [
    "df[\"pib_pmc\"] = pib_pmc[\"pib_pmc\"]"
   ]
  },
  {
   "cell_type": "code",
   "execution_count": 9,
   "id": "cd2a511f-c2f5-4b38-a02b-40af390abbc6",
   "metadata": {},
   "outputs": [],
   "source": [
    "pib_pc = pd.read_csv(\"https://raw.githubusercontent.com/LeiteJu/TCC/main/data/entrada/pib_per_capita.csv\")\n",
    "pib_pc.drop([\"Código\", \"Estado\"], inplace=True, axis=1)\n",
    "pib_pc = pib_pc.melt(id_vars=[\"Sigla\"], value_vars=[f\"{i}\" for i in range (1985,2020)], value_name=\"pib_pc\", var_name=\"anos\")"
   ]
  },
  {
   "cell_type": "code",
   "execution_count": 10,
   "id": "d3327cf0-9ca0-4d2d-98e4-b6b16f398247",
   "metadata": {},
   "outputs": [],
   "source": [
    "df[\"pib_pc\"] = pib_pc[\"pib_pc\"]"
   ]
  },
  {
   "cell_type": "code",
   "execution_count": 11,
   "id": "305900e5-53e4-40c2-a7ba-9dc454a2c146",
   "metadata": {},
   "outputs": [],
   "source": [
    "pop = pd.read_csv(PATH+'populacao.csv')"
   ]
  },
  {
   "cell_type": "code",
   "execution_count": 12,
   "id": "0e03e5b7-379b-43ad-8e3e-0cc888785304",
   "metadata": {},
   "outputs": [
    {
     "data": {
      "text/html": [
       "<div>\n",
       "<style scoped>\n",
       "    .dataframe tbody tr th:only-of-type {\n",
       "        vertical-align: middle;\n",
       "    }\n",
       "\n",
       "    .dataframe tbody tr th {\n",
       "        vertical-align: top;\n",
       "    }\n",
       "\n",
       "    .dataframe thead th {\n",
       "        text-align: right;\n",
       "    }\n",
       "</style>\n",
       "<table border=\"1\" class=\"dataframe\">\n",
       "  <thead>\n",
       "    <tr style=\"text-align: right;\">\n",
       "      <th></th>\n",
       "      <th>Sigla</th>\n",
       "      <th>anos</th>\n",
       "      <th>pib_pc</th>\n",
       "      <th>pib_pmc</th>\n",
       "    </tr>\n",
       "  </thead>\n",
       "  <tbody>\n",
       "    <tr>\n",
       "      <th>0</th>\n",
       "      <td>AC</td>\n",
       "      <td>1985</td>\n",
       "      <td>9.215645</td>\n",
       "      <td>0.000620</td>\n",
       "    </tr>\n",
       "    <tr>\n",
       "      <th>1</th>\n",
       "      <td>AL</td>\n",
       "      <td>1985</td>\n",
       "      <td>5.879142</td>\n",
       "      <td>0.004075</td>\n",
       "    </tr>\n",
       "    <tr>\n",
       "      <th>2</th>\n",
       "      <td>AM</td>\n",
       "      <td>1985</td>\n",
       "      <td>7.306192</td>\n",
       "      <td>0.007241</td>\n",
       "    </tr>\n",
       "    <tr>\n",
       "      <th>3</th>\n",
       "      <td>AP</td>\n",
       "      <td>1985</td>\n",
       "      <td>10.554527</td>\n",
       "      <td>0.000574</td>\n",
       "    </tr>\n",
       "    <tr>\n",
       "      <th>4</th>\n",
       "      <td>BA</td>\n",
       "      <td>1985</td>\n",
       "      <td>5.134586</td>\n",
       "      <td>0.025442</td>\n",
       "    </tr>\n",
       "  </tbody>\n",
       "</table>\n",
       "</div>"
      ],
      "text/plain": [
       "  Sigla  anos     pib_pc   pib_pmc\n",
       "0    AC  1985   9.215645  0.000620\n",
       "1    AL  1985   5.879142  0.004075\n",
       "2    AM  1985   7.306192  0.007241\n",
       "3    AP  1985  10.554527  0.000574\n",
       "4    BA  1985   5.134586  0.025442"
      ]
     },
     "execution_count": 12,
     "metadata": {},
     "output_type": "execute_result"
    }
   ],
   "source": [
    "df.head()"
   ]
  },
  {
   "cell_type": "code",
   "execution_count": 13,
   "id": "9edebdea-194e-47d4-9e81-c9596fe20fc2",
   "metadata": {},
   "outputs": [],
   "source": [
    "df[\"anos\"]=df[\"anos\"].astype(\"int64\")"
   ]
  },
  {
   "cell_type": "code",
   "execution_count": 14,
   "id": "820d6b13-5eae-464a-bbb5-8ee5e854946d",
   "metadata": {},
   "outputs": [],
   "source": [
    "df=pd.merge(df,pop, left_on=[\"anos\", \"Sigla\"], right_on=[\"ano\", \"sigla_uf\"], how=\"left\").drop([\"ano\", \"sigla_uf\"], axis=1)"
   ]
  },
  {
   "cell_type": "code",
   "execution_count": 15,
   "id": "8ee715b6-fcfb-4d55-a7e8-c943d796906f",
   "metadata": {},
   "outputs": [
    {
     "name": "stdout",
     "output_type": "stream",
     "text": [
      "<class 'pandas.core.frame.DataFrame'>\n",
      "Int64Index: 945 entries, 0 to 944\n",
      "Data columns (total 5 columns):\n",
      " #   Column     Non-Null Count  Dtype  \n",
      "---  ------     --------------  -----  \n",
      " 0   Sigla      945 non-null    object \n",
      " 1   anos       945 non-null    int64  \n",
      " 2   pib_pc     941 non-null    float64\n",
      " 3   pib_pmc    941 non-null    float64\n",
      " 4   populacao  783 non-null    float64\n",
      "dtypes: float64(3), int64(1), object(1)\n",
      "memory usage: 44.3+ KB\n"
     ]
    }
   ],
   "source": [
    "df.info()"
   ]
  },
  {
   "cell_type": "code",
   "execution_count": 16,
   "id": "d54540be-8c0d-4195-ba6d-e15da305682b",
   "metadata": {},
   "outputs": [],
   "source": [
    "pib_cc = pd.read_csv(f\"{PATH}pib_construcao_civil.csv\")\n",
    "pib_cc.drop([\"Código\", \"Estado\"], inplace=True, axis=1)\n",
    "pib_cc = pib_cc.melt(id_vars=[\"Sigla\"], value_vars=[f\"{i}\" for i in range (1985,2020)], value_name=\"pib_cc\", var_name=\"anos\")"
   ]
  },
  {
   "cell_type": "code",
   "execution_count": 17,
   "id": "8d115b4b-1496-4b68-9f17-4881af897320",
   "metadata": {},
   "outputs": [],
   "source": [
    "df[\"pib_cc\"] = pib_cc[\"pib_cc\"]"
   ]
  },
  {
   "cell_type": "code",
   "execution_count": 50,
   "id": "8422c578-d8ac-44c5-a06e-908bbc38c97d",
   "metadata": {},
   "outputs": [],
   "source": [
    "ipca = pd.read_csv(f\"{PATH}ipca.csv\")"
   ]
  },
  {
   "cell_type": "code",
   "execution_count": 51,
   "id": "3be126a1-0ff1-47bb-918d-2154336955ab",
   "metadata": {},
   "outputs": [],
   "source": [
    "ipca=ipca.T\n",
    "ipca.columns=ipca.iloc[0].astype(\"int64\").to_list()\n",
    "ipca=ipca.iloc[1:]"
   ]
  },
  {
   "cell_type": "code",
   "execution_count": 52,
   "id": "087ed1a4-d6e7-4c22-9d13-fe96b1e2974b",
   "metadata": {},
   "outputs": [],
   "source": [
    "ipca=pd.DataFrame(ipca.mean()).T"
   ]
  },
  {
   "cell_type": "code",
   "execution_count": 60,
   "id": "2817cf53-56e0-47ee-8d29-0196b7659041",
   "metadata": {},
   "outputs": [
    {
     "data": {
      "text/plain": [
       "Index(['Sigla', 'anos', 'pib_pc', 'pib_pmc', 'populacao', 'pib_cc', 'ipca'], dtype='object')"
      ]
     },
     "execution_count": 60,
     "metadata": {},
     "output_type": "execute_result"
    }
   ],
   "source": [
    "df.columns"
   ]
  },
  {
   "cell_type": "code",
   "execution_count": 61,
   "id": "bcda526a-7206-433d-b6c8-b53820069809",
   "metadata": {},
   "outputs": [
    {
     "name": "stderr",
     "output_type": "stream",
     "text": [
      "C:\\Users\\julia\\AppData\\Local\\Temp\\ipykernel_14608\\2238290725.py:3: SettingWithCopyWarning: \n",
      "A value is trying to be set on a copy of a slice from a DataFrame.\n",
      "Try using .loc[row_indexer,col_indexer] = value instead\n",
      "\n",
      "See the caveats in the documentation: https://pandas.pydata.org/pandas-docs/stable/user_guide/indexing.html#returning-a-view-versus-a-copy\n",
      "  df[df[\"anos\"] == ano][\"ipca\"] = ipca[ano]\n"
     ]
    }
   ],
   "source": [
    "for ano in range(1991,2020):\n",
    "    \n",
    "    df[df[\"anos\"] == ano][\"ipca\"] = ipca[ano]"
   ]
  },
  {
   "cell_type": "code",
   "execution_count": 67,
   "id": "451beeab-71dd-4f96-886b-c67724ca0a38",
   "metadata": {
    "tags": []
   },
   "outputs": [
    {
     "data": {
      "text/plain": [
       "array([False, False, False, False, False, False, False, False, False,\n",
       "       False, False,  True,  True,  True,  True,  True,  True,  True,\n",
       "        True,  True,  True,  True,  True,  True,  True,  True,  True,\n",
       "        True,  True,  True,  True,  True,  True,  True,  True,  True,\n",
       "        True,  True,  True,  True, False, False, False])"
      ]
     },
     "execution_count": 67,
     "metadata": {},
     "output_type": "execute_result"
    }
   ],
   "source": [
    "ipca.columns.isin([i for i in range(1991,2020)])"
   ]
  },
  {
   "cell_type": "code",
   "execution_count": 31,
   "id": "17488cfc-6382-4789-80b4-81f05049bd0f",
   "metadata": {},
   "outputs": [],
   "source": [
    "target = pd.read_csv(\"https://raw.githubusercontent.com/LeiteJu/TCC/main/data/csv/target.csv\")\n",
    "target_abs = pd.read_csv(\"https://raw.githubusercontent.com/LeiteJu/TCC/main/data/csv/target_abs.csv\")"
   ]
  },
  {
   "cell_type": "code",
   "execution_count": 32,
   "id": "a9b23bf7-44b1-4ce2-a885-c22895f47d65",
   "metadata": {},
   "outputs": [
    {
     "data": {
      "text/html": [
       "<div>\n",
       "<style scoped>\n",
       "    .dataframe tbody tr th:only-of-type {\n",
       "        vertical-align: middle;\n",
       "    }\n",
       "\n",
       "    .dataframe tbody tr th {\n",
       "        vertical-align: top;\n",
       "    }\n",
       "\n",
       "    .dataframe thead th {\n",
       "        text-align: right;\n",
       "    }\n",
       "</style>\n",
       "<table border=\"1\" class=\"dataframe\">\n",
       "  <thead>\n",
       "    <tr style=\"text-align: right;\">\n",
       "      <th></th>\n",
       "      <th>data</th>\n",
       "      <th>AC</th>\n",
       "      <th>AL</th>\n",
       "      <th>AM</th>\n",
       "      <th>AP</th>\n",
       "      <th>BA</th>\n",
       "      <th>CE</th>\n",
       "      <th>DF</th>\n",
       "      <th>ES</th>\n",
       "      <th>GO</th>\n",
       "      <th>...</th>\n",
       "      <th>PR</th>\n",
       "      <th>RJ</th>\n",
       "      <th>RN</th>\n",
       "      <th>RO</th>\n",
       "      <th>RR</th>\n",
       "      <th>RS</th>\n",
       "      <th>SC</th>\n",
       "      <th>SE</th>\n",
       "      <th>SP</th>\n",
       "      <th>TO</th>\n",
       "    </tr>\n",
       "  </thead>\n",
       "  <tbody>\n",
       "    <tr>\n",
       "      <th>0</th>\n",
       "      <td>199001</td>\n",
       "      <td>1450.0</td>\n",
       "      <td>27421.0</td>\n",
       "      <td>21819.0</td>\n",
       "      <td>275.0</td>\n",
       "      <td>98829.0</td>\n",
       "      <td>47569.0</td>\n",
       "      <td>32020.0</td>\n",
       "      <td>52437.0</td>\n",
       "      <td>57264.0</td>\n",
       "      <td>...</td>\n",
       "      <td>142103.0</td>\n",
       "      <td>221533.0</td>\n",
       "      <td>19353.0</td>\n",
       "      <td>9903.0</td>\n",
       "      <td>2040.0</td>\n",
       "      <td>138590.0</td>\n",
       "      <td>91667.0</td>\n",
       "      <td>23721.0</td>\n",
       "      <td>639210.0</td>\n",
       "      <td>3258.0</td>\n",
       "    </tr>\n",
       "    <tr>\n",
       "      <th>1</th>\n",
       "      <td>199002</td>\n",
       "      <td>938.0</td>\n",
       "      <td>20324.0</td>\n",
       "      <td>22683.0</td>\n",
       "      <td>1000.0</td>\n",
       "      <td>79133.0</td>\n",
       "      <td>42856.0</td>\n",
       "      <td>31612.0</td>\n",
       "      <td>36737.0</td>\n",
       "      <td>65472.0</td>\n",
       "      <td>...</td>\n",
       "      <td>125305.0</td>\n",
       "      <td>183828.0</td>\n",
       "      <td>15043.0</td>\n",
       "      <td>8953.0</td>\n",
       "      <td>2029.0</td>\n",
       "      <td>89165.0</td>\n",
       "      <td>65132.0</td>\n",
       "      <td>14096.0</td>\n",
       "      <td>593101.0</td>\n",
       "      <td>2958.0</td>\n",
       "    </tr>\n",
       "    <tr>\n",
       "      <th>2</th>\n",
       "      <td>199003</td>\n",
       "      <td>1160.0</td>\n",
       "      <td>18584.0</td>\n",
       "      <td>13819.0</td>\n",
       "      <td>1100.0</td>\n",
       "      <td>72574.0</td>\n",
       "      <td>22004.0</td>\n",
       "      <td>37038.0</td>\n",
       "      <td>40234.0</td>\n",
       "      <td>58816.0</td>\n",
       "      <td>...</td>\n",
       "      <td>112970.0</td>\n",
       "      <td>182124.0</td>\n",
       "      <td>10654.0</td>\n",
       "      <td>6200.0</td>\n",
       "      <td>2367.0</td>\n",
       "      <td>109681.0</td>\n",
       "      <td>75893.0</td>\n",
       "      <td>14728.0</td>\n",
       "      <td>573829.0</td>\n",
       "      <td>3735.0</td>\n",
       "    </tr>\n",
       "    <tr>\n",
       "      <th>3</th>\n",
       "      <td>199004</td>\n",
       "      <td>0.0</td>\n",
       "      <td>20972.0</td>\n",
       "      <td>16168.0</td>\n",
       "      <td>1000.0</td>\n",
       "      <td>77964.0</td>\n",
       "      <td>29635.0</td>\n",
       "      <td>32340.0</td>\n",
       "      <td>40937.0</td>\n",
       "      <td>56475.0</td>\n",
       "      <td>...</td>\n",
       "      <td>113938.0</td>\n",
       "      <td>172505.0</td>\n",
       "      <td>11015.0</td>\n",
       "      <td>3774.0</td>\n",
       "      <td>751.0</td>\n",
       "      <td>108513.0</td>\n",
       "      <td>78178.0</td>\n",
       "      <td>15560.0</td>\n",
       "      <td>549760.0</td>\n",
       "      <td>2866.0</td>\n",
       "    </tr>\n",
       "    <tr>\n",
       "      <th>4</th>\n",
       "      <td>199005</td>\n",
       "      <td>1643.0</td>\n",
       "      <td>30874.0</td>\n",
       "      <td>22104.0</td>\n",
       "      <td>2015.0</td>\n",
       "      <td>102595.0</td>\n",
       "      <td>45320.0</td>\n",
       "      <td>34414.0</td>\n",
       "      <td>53728.0</td>\n",
       "      <td>73296.0</td>\n",
       "      <td>...</td>\n",
       "      <td>146154.0</td>\n",
       "      <td>241736.0</td>\n",
       "      <td>10916.0</td>\n",
       "      <td>11742.0</td>\n",
       "      <td>1774.0</td>\n",
       "      <td>138613.0</td>\n",
       "      <td>95485.0</td>\n",
       "      <td>19020.0</td>\n",
       "      <td>676138.0</td>\n",
       "      <td>7227.0</td>\n",
       "    </tr>\n",
       "  </tbody>\n",
       "</table>\n",
       "<p>5 rows × 28 columns</p>\n",
       "</div>"
      ],
      "text/plain": [
       "     data      AC       AL       AM      AP        BA       CE       DF  \\\n",
       "0  199001  1450.0  27421.0  21819.0   275.0   98829.0  47569.0  32020.0   \n",
       "1  199002   938.0  20324.0  22683.0  1000.0   79133.0  42856.0  31612.0   \n",
       "2  199003  1160.0  18584.0  13819.0  1100.0   72574.0  22004.0  37038.0   \n",
       "3  199004     0.0  20972.0  16168.0  1000.0   77964.0  29635.0  32340.0   \n",
       "4  199005  1643.0  30874.0  22104.0  2015.0  102595.0  45320.0  34414.0   \n",
       "\n",
       "        ES       GO  ...        PR        RJ       RN       RO      RR  \\\n",
       "0  52437.0  57264.0  ...  142103.0  221533.0  19353.0   9903.0  2040.0   \n",
       "1  36737.0  65472.0  ...  125305.0  183828.0  15043.0   8953.0  2029.0   \n",
       "2  40234.0  58816.0  ...  112970.0  182124.0  10654.0   6200.0  2367.0   \n",
       "3  40937.0  56475.0  ...  113938.0  172505.0  11015.0   3774.0   751.0   \n",
       "4  53728.0  73296.0  ...  146154.0  241736.0  10916.0  11742.0  1774.0   \n",
       "\n",
       "         RS       SC       SE        SP      TO  \n",
       "0  138590.0  91667.0  23721.0  639210.0  3258.0  \n",
       "1   89165.0  65132.0  14096.0  593101.0  2958.0  \n",
       "2  109681.0  75893.0  14728.0  573829.0  3735.0  \n",
       "3  108513.0  78178.0  15560.0  549760.0  2866.0  \n",
       "4  138613.0  95485.0  19020.0  676138.0  7227.0  \n",
       "\n",
       "[5 rows x 28 columns]"
      ]
     },
     "execution_count": 32,
     "metadata": {},
     "output_type": "execute_result"
    }
   ],
   "source": [
    "target.head()"
   ]
  },
  {
   "cell_type": "code",
   "execution_count": 33,
   "id": "99e5bb9b-cd98-4ccf-b030-dc9c2eea9d28",
   "metadata": {},
   "outputs": [
    {
     "data": {
      "text/html": [
       "<div>\n",
       "<style scoped>\n",
       "    .dataframe tbody tr th:only-of-type {\n",
       "        vertical-align: middle;\n",
       "    }\n",
       "\n",
       "    .dataframe tbody tr th {\n",
       "        vertical-align: top;\n",
       "    }\n",
       "\n",
       "    .dataframe thead th {\n",
       "        text-align: right;\n",
       "    }\n",
       "</style>\n",
       "<table border=\"1\" class=\"dataframe\">\n",
       "  <thead>\n",
       "    <tr style=\"text-align: right;\">\n",
       "      <th></th>\n",
       "      <th>data</th>\n",
       "      <th>AC</th>\n",
       "      <th>AL</th>\n",
       "      <th>AM</th>\n",
       "      <th>AP</th>\n",
       "      <th>BA</th>\n",
       "      <th>CE</th>\n",
       "      <th>DF</th>\n",
       "      <th>ES</th>\n",
       "      <th>GO</th>\n",
       "      <th>...</th>\n",
       "      <th>PR</th>\n",
       "      <th>RJ</th>\n",
       "      <th>RN</th>\n",
       "      <th>RO</th>\n",
       "      <th>RR</th>\n",
       "      <th>RS</th>\n",
       "      <th>SC</th>\n",
       "      <th>SE</th>\n",
       "      <th>SP</th>\n",
       "      <th>TO</th>\n",
       "    </tr>\n",
       "  </thead>\n",
       "  <tbody>\n",
       "    <tr>\n",
       "      <th>0</th>\n",
       "      <td>199001</td>\n",
       "      <td>1450.0</td>\n",
       "      <td>27421.0</td>\n",
       "      <td>21819.0</td>\n",
       "      <td>275.0</td>\n",
       "      <td>98829.0</td>\n",
       "      <td>47569.0</td>\n",
       "      <td>32020.0</td>\n",
       "      <td>52437.0</td>\n",
       "      <td>57264.0</td>\n",
       "      <td>...</td>\n",
       "      <td>142103.0</td>\n",
       "      <td>221533.0</td>\n",
       "      <td>19353.0</td>\n",
       "      <td>9903.0</td>\n",
       "      <td>2040.0</td>\n",
       "      <td>138590.0</td>\n",
       "      <td>91667.0</td>\n",
       "      <td>23721.0</td>\n",
       "      <td>639210.0</td>\n",
       "      <td>3258.0</td>\n",
       "    </tr>\n",
       "    <tr>\n",
       "      <th>1</th>\n",
       "      <td>199002</td>\n",
       "      <td>938.0</td>\n",
       "      <td>20324.0</td>\n",
       "      <td>22683.0</td>\n",
       "      <td>1000.0</td>\n",
       "      <td>79133.0</td>\n",
       "      <td>42856.0</td>\n",
       "      <td>31612.0</td>\n",
       "      <td>36737.0</td>\n",
       "      <td>65472.0</td>\n",
       "      <td>...</td>\n",
       "      <td>125305.0</td>\n",
       "      <td>183828.0</td>\n",
       "      <td>15043.0</td>\n",
       "      <td>8953.0</td>\n",
       "      <td>2029.0</td>\n",
       "      <td>89165.0</td>\n",
       "      <td>65132.0</td>\n",
       "      <td>14096.0</td>\n",
       "      <td>593101.0</td>\n",
       "      <td>2958.0</td>\n",
       "    </tr>\n",
       "    <tr>\n",
       "      <th>2</th>\n",
       "      <td>199003</td>\n",
       "      <td>1160.0</td>\n",
       "      <td>18584.0</td>\n",
       "      <td>13819.0</td>\n",
       "      <td>1100.0</td>\n",
       "      <td>72574.0</td>\n",
       "      <td>22004.0</td>\n",
       "      <td>37038.0</td>\n",
       "      <td>40234.0</td>\n",
       "      <td>58816.0</td>\n",
       "      <td>...</td>\n",
       "      <td>112970.0</td>\n",
       "      <td>182124.0</td>\n",
       "      <td>10654.0</td>\n",
       "      <td>6200.0</td>\n",
       "      <td>2367.0</td>\n",
       "      <td>109681.0</td>\n",
       "      <td>75893.0</td>\n",
       "      <td>14728.0</td>\n",
       "      <td>573829.0</td>\n",
       "      <td>3735.0</td>\n",
       "    </tr>\n",
       "    <tr>\n",
       "      <th>3</th>\n",
       "      <td>199004</td>\n",
       "      <td>0.0</td>\n",
       "      <td>20972.0</td>\n",
       "      <td>16168.0</td>\n",
       "      <td>1000.0</td>\n",
       "      <td>77964.0</td>\n",
       "      <td>29635.0</td>\n",
       "      <td>32340.0</td>\n",
       "      <td>40937.0</td>\n",
       "      <td>56475.0</td>\n",
       "      <td>...</td>\n",
       "      <td>113938.0</td>\n",
       "      <td>172505.0</td>\n",
       "      <td>11015.0</td>\n",
       "      <td>3774.0</td>\n",
       "      <td>751.0</td>\n",
       "      <td>108513.0</td>\n",
       "      <td>78178.0</td>\n",
       "      <td>15560.0</td>\n",
       "      <td>549760.0</td>\n",
       "      <td>2866.0</td>\n",
       "    </tr>\n",
       "    <tr>\n",
       "      <th>4</th>\n",
       "      <td>199005</td>\n",
       "      <td>1643.0</td>\n",
       "      <td>30874.0</td>\n",
       "      <td>22104.0</td>\n",
       "      <td>2015.0</td>\n",
       "      <td>102595.0</td>\n",
       "      <td>45320.0</td>\n",
       "      <td>34414.0</td>\n",
       "      <td>53728.0</td>\n",
       "      <td>73296.0</td>\n",
       "      <td>...</td>\n",
       "      <td>146154.0</td>\n",
       "      <td>241736.0</td>\n",
       "      <td>10916.0</td>\n",
       "      <td>11742.0</td>\n",
       "      <td>1774.0</td>\n",
       "      <td>138613.0</td>\n",
       "      <td>95485.0</td>\n",
       "      <td>19020.0</td>\n",
       "      <td>676138.0</td>\n",
       "      <td>7227.0</td>\n",
       "    </tr>\n",
       "  </tbody>\n",
       "</table>\n",
       "<p>5 rows × 28 columns</p>\n",
       "</div>"
      ],
      "text/plain": [
       "     data      AC       AL       AM      AP        BA       CE       DF  \\\n",
       "0  199001  1450.0  27421.0  21819.0   275.0   98829.0  47569.0  32020.0   \n",
       "1  199002   938.0  20324.0  22683.0  1000.0   79133.0  42856.0  31612.0   \n",
       "2  199003  1160.0  18584.0  13819.0  1100.0   72574.0  22004.0  37038.0   \n",
       "3  199004     0.0  20972.0  16168.0  1000.0   77964.0  29635.0  32340.0   \n",
       "4  199005  1643.0  30874.0  22104.0  2015.0  102595.0  45320.0  34414.0   \n",
       "\n",
       "        ES       GO  ...        PR        RJ       RN       RO      RR  \\\n",
       "0  52437.0  57264.0  ...  142103.0  221533.0  19353.0   9903.0  2040.0   \n",
       "1  36737.0  65472.0  ...  125305.0  183828.0  15043.0   8953.0  2029.0   \n",
       "2  40234.0  58816.0  ...  112970.0  182124.0  10654.0   6200.0  2367.0   \n",
       "3  40937.0  56475.0  ...  113938.0  172505.0  11015.0   3774.0   751.0   \n",
       "4  53728.0  73296.0  ...  146154.0  241736.0  10916.0  11742.0  1774.0   \n",
       "\n",
       "         RS       SC       SE        SP      TO  \n",
       "0  138590.0  91667.0  23721.0  639210.0  3258.0  \n",
       "1   89165.0  65132.0  14096.0  593101.0  2958.0  \n",
       "2  109681.0  75893.0  14728.0  573829.0  3735.0  \n",
       "3  108513.0  78178.0  15560.0  549760.0  2866.0  \n",
       "4  138613.0  95485.0  19020.0  676138.0  7227.0  \n",
       "\n",
       "[5 rows x 28 columns]"
      ]
     },
     "execution_count": 33,
     "metadata": {},
     "output_type": "execute_result"
    }
   ],
   "source": [
    "target_abs.head()"
   ]
  },
  {
   "cell_type": "code",
   "execution_count": 1,
   "id": "a05eb46f-bd05-417a-91bf-35ebec8844c8",
   "metadata": {},
   "outputs": [
    {
     "ename": "NameError",
     "evalue": "name 'df' is not defined",
     "output_type": "error",
     "traceback": [
      "\u001b[1;31m---------------------------------------------------------------------------\u001b[0m",
      "\u001b[1;31mNameError\u001b[0m                                 Traceback (most recent call last)",
      "Input \u001b[1;32mIn [1]\u001b[0m, in \u001b[0;36m<cell line: 1>\u001b[1;34m()\u001b[0m\n\u001b[1;32m----> 1\u001b[0m \u001b[43mdf\u001b[49m\n",
      "\u001b[1;31mNameError\u001b[0m: name 'df' is not defined"
     ]
    }
   ],
   "source": [
    "df"
   ]
  },
  {
   "cell_type": "code",
   "execution_count": null,
   "id": "adae7a82-9dd2-4878-9248-f46427a5884b",
   "metadata": {},
   "outputs": [],
   "source": []
  }
 ],
 "metadata": {
  "kernelspec": {
   "display_name": "Python 3 (ipykernel)",
   "language": "python",
   "name": "python3"
  },
  "language_info": {
   "codemirror_mode": {
    "name": "ipython",
    "version": 3
   },
   "file_extension": ".py",
   "mimetype": "text/x-python",
   "name": "python",
   "nbconvert_exporter": "python",
   "pygments_lexer": "ipython3",
   "version": "3.10.5"
  }
 },
 "nbformat": 4,
 "nbformat_minor": 5
}
