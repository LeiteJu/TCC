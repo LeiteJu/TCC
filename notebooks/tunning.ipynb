{
 "cells": [
  {
   "cell_type": "code",
   "execution_count": 1,
   "id": "772f055a-50ca-499a-8b0f-5d71f586ef00",
   "metadata": {},
   "outputs": [],
   "source": [
    "import pandas as pd\n",
    "import numpy as np\n",
    "import matplotlib.pyplot as plt\n",
    "import seaborn as sns\n",
    "import os\n",
    "import random\n",
    "from scipy.stats import pearsonr\n",
    "from collections import Counter\n",
    "\n",
    "from tensorflow import keras\n",
    "from tensorflow.keras.layers import Dense, Dropout, LSTM, Conv1D, MaxPooling1D, Flatten\n",
    "from tensorflow.keras.models import Sequential\n",
    "from tensorflow.random import set_seed\n",
    "\n",
    "sns.set_palette(\"Paired\")\n",
    "\n",
    "from sklearn.model_selection import train_test_split\n",
    "\n",
    "from sklearn.linear_model import LinearRegression\n",
    "from sklearn.preprocessing import StandardScaler\n",
    "from sklearn.preprocessing import MinMaxScaler, PowerTransformer\n",
    "\n",
    "from sklearn.metrics import mean_squared_error\n",
    "from sklearn.metrics import mean_absolute_error\n",
    "from sklearn.metrics import mean_absolute_percentage_error\n",
    "from sklearn.metrics import r2_score\n",
    "\n",
    "from sklearn.pipeline import Pipeline\n",
    "\n",
    "import warnings\n",
    "warnings.filterwarnings(\"ignore\")\n",
    "\n",
    "from keras.layers import BatchNormalization"
   ]
  },
  {
   "cell_type": "code",
   "execution_count": 2,
   "id": "775df529-b467-49df-b115-a4ca15d0580c",
   "metadata": {},
   "outputs": [],
   "source": [
    "PATH=\"https://raw.githubusercontent.com/LeiteJu/TCC/main/dados/input/\"\n",
    "\n",
    "SIGLAS = ['AC', 'AL', 'AM', 'AP', 'BA', 'CE',\n",
    "  'DF', 'ES', 'GO', 'MA',\n",
    "  'MG', 'MS', 'MT', 'PA', 'PB',\n",
    "  'PE', 'PI', 'PR', 'RJ',\n",
    "  'RN', 'RO', 'RR', 'RS',\n",
    "  'SC', 'SE', 'SP', 'TO']\n",
    "\n",
    "LABELS=[\"subestima: -90%\", \"subestima entre -90% e 60%\", \"subestima entre -60% e -30%\",\n",
    "        \"subestima entre -30% e 10%\", \"entre -10% e 10%\", \"superestima entre 10% e 30%\", \n",
    "        \"superestima entre 30% e 60%\", \"superestima entre 60% e 90%\", \"superestima mais de 90%\"]\n",
    "\n",
    "N='NORTE'\n",
    "NE=\"NORDESTE\"\n",
    "CO='CENTRO OESTE'\n",
    "SE='SUDESTE'\n",
    "S = 'SUL'\n",
    "\n",
    "REGIOES = {\n",
    "    'AC': N, 'AL': NE, 'AM' : N, 'AP' : N, 'BA' : NE, 'CE' : NE,\n",
    "    'DF' : CO, 'ES' : SE, 'GO' : CO, 'MA' : NE,\n",
    "    'MG' : SE, 'MS' : CO, 'MT' : CO, 'PA' : N, 'PB' : NE,\n",
    "    'PE' : NE, 'PI' : NE, 'PR' : S, 'RJ' : SE,\n",
    "    'RN' : NE, 'RO' : N, 'RR' : N, 'RS' : S,\n",
    "    'SC' : S, 'SE' : NE, 'SP' : SE, 'TO' : N}"
   ]
  },
  {
   "cell_type": "code",
   "execution_count": 3,
   "id": "6c1903db-6177-4e82-8f17-cad89a382505",
   "metadata": {},
   "outputs": [],
   "source": [
    "# calcula metricas de regressao\n",
    "def score_regression_metrics(y_test, y_test_pred):\n",
    "\n",
    "    RMSE = mean_squared_error(y_true=y_test, y_pred=y_test_pred, squared=False)\n",
    "    MAE = mean_absolute_error(y_true=y_test, y_pred=y_test_pred)\n",
    "    MAPE = mean_absolute_percentage_error(y_true=y_test, y_pred=y_test_pred)\n",
    "    R2 = r2_score(y_true=y_test, y_pred=y_test_pred)\n",
    "\n",
    "    scores = {\n",
    "        \"neg_root_mean_squared_error\": RMSE,\n",
    "        \"neg_mean_absolute_error\": MAE,\n",
    "        \"neg_mean_absolute_percentage_error\": MAPE,\n",
    "    }\n",
    "\n",
    "    return scores\n",
    "\n",
    "def show_scores (scores):\n",
    "\n",
    "    print (\"Scores obtidos:\")\n",
    "\n",
    "    print (f\"RMSE: {scores['neg_root_mean_squared_error']}\")\n",
    "    print (f\"MAE: {scores['neg_mean_absolute_error']}\")\n",
    "    print (f\"MAPE: {scores['neg_mean_absolute_percentage_error']}\")"
   ]
  },
  {
   "cell_type": "code",
   "execution_count": 9,
   "id": "65acf280-2773-46bb-bffc-1994707397bc",
   "metadata": {},
   "outputs": [],
   "source": [
    "def split_train_test_validation (x, y):\n",
    "    x_train, x_test, y_train, y_test = train_test_split(x,y, test_size=0.3, shuffle=False)\n",
    "    x_val, x_test, y_val, y_test = train_test_split(x_test, y_test, test_size=0.5, shuffle=False)\n",
    "    return x_train, x_val, x_test, y_train, y_val, y_test"
   ]
  },
  {
   "cell_type": "code",
   "execution_count": 5,
   "id": "2e003107-0ee1-4f4d-bf09-cb09bf443255",
   "metadata": {},
   "outputs": [],
   "source": [
    "SEED = 41\n",
    "\n",
    "def set_seeds (SEED=41):\n",
    "    os.environ['PYTHONHASHSEED'] = str(SEED)\n",
    "    set_seed(SEED)\n",
    "    np.random.seed(SEED)\n",
    "    random.seed(SEED)\n",
    "    \n",
    "set_seeds(SEED)"
   ]
  },
  {
   "cell_type": "code",
   "execution_count": 6,
   "id": "5a3d1c3f-bbca-4173-80df-4fb965afce1f",
   "metadata": {},
   "outputs": [],
   "source": [
    "def load_data():\n",
    "    \n",
    "    df = pd.read_csv(f\"{PATH}processado.csv\")\n",
    "    \n",
    "    x  = df.copy()\n",
    "    x = x.sort_values([\"data\", \"estados\"])\n",
    "    x = x.drop([\"consumo\", 'data'], axis=1)\n",
    "\n",
    "    y = df.copy().sort_values([\"data\", \"estados\"])[['estados', 'data', 'consumo']]\n",
    "    \n",
    "    # processo de one-hot\n",
    "    x = pd.get_dummies(data=x, columns=[\"estados\"], drop_first=True)\n",
    "\n",
    "    y = y['consumo']\n",
    "    \n",
    "    return x,y"
   ]
  },
  {
   "cell_type": "code",
   "execution_count": 7,
   "id": "9771a804-e05b-452e-be8e-a87ef2149c3b",
   "metadata": {},
   "outputs": [],
   "source": [
    "x, y = load_data()"
   ]
  },
  {
   "cell_type": "code",
   "execution_count": 10,
   "id": "5c9de5f9-6c3c-46b0-a0ce-ce2c15be6fac",
   "metadata": {},
   "outputs": [],
   "source": [
    "x_train, x_val, x_test, y_train, y_val, y_test = split_train_test_validation(x,y)"
   ]
  },
  {
   "cell_type": "code",
   "execution_count": null,
   "id": "3182ce45-669c-4a70-8f02-1245f94e43a1",
   "metadata": {},
   "outputs": [],
   "source": [
    "def "
   ]
  },
  {
   "cell_type": "code",
   "execution_count": null,
   "id": "03c0aba8-3d9f-4047-886a-6415e3a1ce61",
   "metadata": {},
   "outputs": [],
   "source": [
    "scaler = StandardScaler()\n",
    "x_train = scaler.fit_transform(x_train)\n",
    "x_test = scaler.transform(x_test)\n",
    "\n",
    "model = Sequential()\n",
    "\n",
    "model.add(Dense(units=16, activation=\"relu\")),\n",
    "\n",
    "model.add(Dropout(rate=0.10))\n",
    "model.add(Dense(units=1))\n",
    "model.compile(\n",
    "    optimizer=keras.optimizers.Adam(learning_rate=0.001),\n",
    "    loss=\"mse\",\n",
    "    metrics=[keras.metrics.RootMeanSquaredError(name=\"RMSE\")],\n",
    ")\n",
    "\n",
    "history=model.fit(x_train, y_train, batch_size=32, epochs=100, verbose=0)"
   ]
  }
 ],
 "metadata": {
  "kernelspec": {
   "display_name": "Python 3 (ipykernel)",
   "language": "python",
   "name": "python3"
  },
  "language_info": {
   "codemirror_mode": {
    "name": "ipython",
    "version": 3
   },
   "file_extension": ".py",
   "mimetype": "text/x-python",
   "name": "python",
   "nbconvert_exporter": "python",
   "pygments_lexer": "ipython3",
   "version": "3.10.5"
  }
 },
 "nbformat": 4,
 "nbformat_minor": 5
}
