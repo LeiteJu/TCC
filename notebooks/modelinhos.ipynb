{
 "cells": [
  {
   "cell_type": "code",
   "execution_count": 1,
   "id": "839b10da-56f8-4150-ba7a-e824df7bb57a",
   "metadata": {},
   "outputs": [],
   "source": [
    "import pandas as pd\n",
    "import numpy as np\n",
    "import matplotlib.pyplot as plt\n",
    "import seaborn as sns\n",
    "import os\n",
    "import random\n",
    "from scipy.stats import pearsonr\n",
    "from collections import Counter\n",
    "\n",
    "from tensorflow import keras\n",
    "from tensorflow.keras.layers import Dense, Dropout, LSTM\n",
    "from tensorflow.keras.models import Sequential\n",
    "\n",
    "sns.set_palette(\"Set2\")\n",
    "\n",
    "from sklearn.model_selection import train_test_split\n",
    "\n",
    "from sklearn.linear_model import LinearRegression\n",
    "from sklearn.preprocessing import StandardScaler\n",
    "from sklearn.preprocessing import MinMaxScaler, PowerTransformer\n",
    "\n",
    "from sklearn.metrics import mean_squared_error\n",
    "from sklearn.metrics import mean_absolute_error\n",
    "from sklearn.metrics import mean_absolute_percentage_error\n",
    "from sklearn.metrics import r2_score\n",
    "\n",
    "import warnings\n",
    "warnings.filterwarnings(\"ignore\")\n",
    "\n",
    "from keras.layers import BatchNormalization"
   ]
  },
  {
   "cell_type": "code",
   "execution_count": 2,
   "id": "e46aedd8-9d01-4117-aa05-58f56e5c7110",
   "metadata": {},
   "outputs": [],
   "source": [
    "PATH=\"https://raw.githubusercontent.com/LeiteJu/TCC/main/dados/input/\"\n",
    "\n",
    "SIGLAS = ['AC', 'AL', 'AM', 'AP', 'BA', 'CE',\n",
    "  'DF', 'ES', 'GO', 'MA',\n",
    "  'MG', 'MS', 'MT', 'PA', 'PB',\n",
    "  'PE', 'PI', 'PR', 'RJ',\n",
    "  'RN', 'RO', 'RR', 'RS',\n",
    "  'SC', 'SE', 'SP', 'TO']\n",
    "\n",
    "LABELS=[\"subestima: -90%\", \"subestima entre -90% e 60%\", \"subestima entre -60% e -30%\",\n",
    "        \"subestima entre -30% e 10%\", \"entre -10% e 10%\", \"superestima entre 10% e 30%\", \n",
    "        \"superestima entre 30% e 60%\", \"superestima entre 60% e 90%\", \"superestima mais de 90%\"]"
   ]
  },
  {
   "cell_type": "code",
   "execution_count": 3,
   "id": "f2cfe738-5ba7-4f76-9f12-0fe58389ee9f",
   "metadata": {},
   "outputs": [],
   "source": [
    "# calcula metricas de regressao\n",
    "def score_regression_metrics(y_test, y_test_pred):\n",
    "\n",
    "    RMSE = mean_squared_error(y_true=y_test, y_pred=y_test_pred, squared=False)\n",
    "    MAE = mean_absolute_error(y_true=y_test, y_pred=y_test_pred)\n",
    "    MAPE = mean_absolute_percentage_error(y_true=y_test, y_pred=y_test_pred)\n",
    "    R2 = r2_score(y_true=y_test, y_pred=y_test_pred)\n",
    "\n",
    "    scores = {\n",
    "        \"neg_root_mean_squared_error\": RMSE,\n",
    "        \"neg_mean_absolute_error\": MAE,\n",
    "        \"neg_mean_absolute_percentage_error\": MAPE,\n",
    "    }\n",
    "\n",
    "    return scores\n",
    "\n",
    "def show_scores (scores):\n",
    "\n",
    "    print (\"Scores obtidos:\")\n",
    "\n",
    "    print (f\"RMSE: {scores['neg_root_mean_squared_error']}\")\n",
    "    print (f\"MAE: {scores['neg_mean_absolute_error']}\")\n",
    "    print (f\"MAPE: {scores['neg_mean_absolute_percentage_error']}\")"
   ]
  },
  {
   "cell_type": "code",
   "execution_count": 4,
   "id": "136a4598-cb83-43b1-9bc0-a9cceaf78293",
   "metadata": {},
   "outputs": [],
   "source": [
    "def categorize(x):\n",
    "    if x < - 0.9:\n",
    "        return LABELS[0]\n",
    "    elif x < - 0.6:\n",
    "        return LABELS[1]\n",
    "    elif x < - 0.3:\n",
    "        return LABELS[2]\n",
    "    elif x < - 0.1:\n",
    "        return LABELS[3]\n",
    "    elif x < 0.1:\n",
    "        return LABELS[4]\n",
    "    elif x < 0.3:\n",
    "        return LABELS[5]\n",
    "    elif x < 0.6:\n",
    "        return LABELS[6]\n",
    "    elif x < 0.9:\n",
    "        return LABELS[7]\n",
    "    else:\n",
    "        return LABELS[8]"
   ]
  },
  {
   "cell_type": "code",
   "execution_count": 5,
   "id": "6436a283-b740-4ac8-a166-5bf9ab22db97",
   "metadata": {},
   "outputs": [],
   "source": [
    "def show_delta (y_test, y_pred):\n",
    "    \n",
    "    data=(y_pred - y_test)/y_test\n",
    "\n",
    "    error = pd.DataFrame(data, columns=['erro'])\n",
    "    error['categoria']=error['erro'].apply(categorize)\n",
    "    \n",
    "    plt.figure(figsize=(28,6))\n",
    "\n",
    "    sns.countplot(data=error, x='categoria', order=LABELS)\n",
    "\n",
    "    plt.show()"
   ]
  },
  {
   "cell_type": "markdown",
   "id": "d235a284-4c6d-4585-9b03-a38550cd345b",
   "metadata": {},
   "source": [
    "# Dados"
   ]
  },
  {
   "cell_type": "code",
   "execution_count": null,
   "id": "25fb1f0b-e085-4371-b3d7-6b1f68ba4373",
   "metadata": {},
   "outputs": [],
   "source": [
    "df = pd.read_csv"
   ]
  },
  {
   "cell_type": "markdown",
   "id": "7c97d2c1-f4ee-43dd-8cea-cfce19150c94",
   "metadata": {},
   "source": [
    "# Regressão Linear\n"
   ]
  },
  {
   "cell_type": "code",
   "execution_count": null,
   "id": "d32d0a07-c046-4abd-b725-28565f36f2d1",
   "metadata": {},
   "outputs": [],
   "source": []
  }
 ],
 "metadata": {
  "kernelspec": {
   "display_name": "Python 3 (ipykernel)",
   "language": "python",
   "name": "python3"
  },
  "language_info": {
   "codemirror_mode": {
    "name": "ipython",
    "version": 3
   },
   "file_extension": ".py",
   "mimetype": "text/x-python",
   "name": "python",
   "nbconvert_exporter": "python",
   "pygments_lexer": "ipython3",
   "version": "3.10.5"
  }
 },
 "nbformat": 4,
 "nbformat_minor": 5
}
