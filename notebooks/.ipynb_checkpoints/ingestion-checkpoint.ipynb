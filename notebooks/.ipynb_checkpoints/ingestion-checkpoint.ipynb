{
 "cells": [
  {
   "cell_type": "markdown",
   "id": "53f53758-761a-42ea-b161-47fb3352afa6",
   "metadata": {},
   "source": [
    "# Ingestão de dados\n",
    "\n",
    "Aqui, pegamos os dados das diversas fontes (bases) e criamos uma base unificada com as informações disponíveis **sem processar, preencher nulos ou fazer algum tipo de data prep**\n",
    "\n",
    "Path das bases de dados: `https://raw.githubusercontent.com/LeiteJu/TCC/main/dados/bases/`\n",
    "- aqui estão os arquivos originais obtidos do IBGE, IPEA, CNIC, ...\n",
    "\n",
    "Path da base única: `https://raw.githubusercontent.com/LeiteJu/TCC/main/dados/csv/base_unica.csv`\n",
    "\n",
    "Na base única, manteremos apenas a sigla de cada estado, para evitar problemas com diferenças na grafia do nome dos estados (acento, til, ...)"
   ]
  },
  {
   "cell_type": "code",
   "execution_count": 516,
   "id": "a467af99-f003-4521-ac77-361207a9b492",
   "metadata": {},
   "outputs": [],
   "source": [
    "# importamos as libs\n",
    "import matplotlib.pyplot as plt \n",
    "import seaborn as sns\n",
    "import pandas as pd "
   ]
  },
  {
   "cell_type": "code",
   "execution_count": 517,
   "id": "49908e1b-378b-429a-8927-41a29b2f9ed6",
   "metadata": {},
   "outputs": [],
   "source": [
    "PATH=\"https://raw.githubusercontent.com/LeiteJu/TCC/main/dados/\"\n",
    "\n",
    "SIGLAS = [\"AC\",\"AL\",\"AM\",\"AP\",\"BA\",\"CE\",\n",
    "          \"DF\",\"ES\",\"GO\",\"MA\",\"MG\",\"MS\",\n",
    "          \"MT\",\"PA\",\"PB\",\"PE\",\"PI\",\"PR\",\n",
    "          \"RJ\",\"RN\",\"RO\",\"RR\",\"RS\",\"SC\",\n",
    "          \"SE\",\"SP\",\"TO\"]\n",
    "\n",
    "ESTADOS = ['Acre', 'Alagoas', 'Amazonas', 'Amapá', 'Bahia', 'Ceará',\n",
    "  'Distrito Federal', 'Espírito Santo', 'Goiás', 'Maranhão',\n",
    "  'Minas Gerais', 'Mato Grosso do Sul', 'Mato Grosso', 'Pará', 'Paraíba',\n",
    "  'Pernambuco', 'Piauí', 'Paraná', 'Rio de Janeiro',\n",
    "  'Rio Grande do Norte', 'Rondônia', 'Roraima', 'Rio Grande do Sul',\n",
    "  'Santa Catarina', 'Sergipe', 'São Paulo', 'Tocantins']\n",
    "\n",
    "MAP={'Acre':'AC', 'Alagoas':'AL', 'Amazonas':\"AM\", 'Amapá':'AP', \n",
    "        'Bahia':\"BA\", 'Ceará':\"CE\", 'Distrito Federal' : \"DF\", \n",
    "        'Espírito Santo':'ES', 'Goiás':'GO', 'Maranhão':'MA',\n",
    "        'Minas Gerais' : 'MG', 'Mato Grosso do Sul': 'MS', \n",
    "        'Mato Grosso' : 'MT', 'Pará':'PA', 'Paraíba':'PB', 'Pernambuco': 'PE', \n",
    "        'Piauí':'PI', 'Paraná' : 'PR', 'Rio de Janeiro' : 'RJ',\n",
    "        'Rio Grande do Norte' : 'RN', 'Rondônia' : 'RO', 'Roraima' : 'RR', \n",
    "        'Rio Grande do Sul' : 'RS', 'Santa Catarina' : 'SC', \n",
    "        'Sergipe' : 'SE', 'São Paulo' : 'SP', 'Tocantins' : 'TO'}"
   ]
  },
  {
   "cell_type": "code",
   "execution_count": 518,
   "id": "b5acda4d-449e-4ee4-bb40-ab34bf8ce8c6",
   "metadata": {},
   "outputs": [],
   "source": [
    "df = pd.DataFrame(SIGLAS*35*12, columns=[\"estados\"]).sort_values(\"estados\").reset_index(drop=True)"
   ]
  },
  {
   "cell_type": "code",
   "execution_count": 519,
   "id": "f3a2efe6-e063-437e-9916-436e304d4e4b",
   "metadata": {},
   "outputs": [],
   "source": [
    "init=pd.to_datetime('011985', format='%m%Y')\n",
    "end=pd.to_datetime('122019', format='%m%Y')\n",
    "df['data'] = pd.Series(pd.date_range(start=init, end=end, freq='MS')).to_list() * 27"
   ]
  },
  {
   "cell_type": "code",
   "execution_count": 520,
   "id": "e0383be1-b300-401b-bb91-3aef8016640d",
   "metadata": {},
   "outputs": [
    {
     "data": {
      "text/plain": [
       "(11340, 2)"
      ]
     },
     "execution_count": 520,
     "metadata": {},
     "output_type": "execute_result"
    }
   ],
   "source": [
    "df.shape"
   ]
  },
  {
   "cell_type": "code",
   "execution_count": 521,
   "id": "e23e5420-dc81-4e75-9730-e70fae872e06",
   "metadata": {},
   "outputs": [
    {
     "data": {
      "text/html": [
       "<div>\n",
       "<style scoped>\n",
       "    .dataframe tbody tr th:only-of-type {\n",
       "        vertical-align: middle;\n",
       "    }\n",
       "\n",
       "    .dataframe tbody tr th {\n",
       "        vertical-align: top;\n",
       "    }\n",
       "\n",
       "    .dataframe thead th {\n",
       "        text-align: right;\n",
       "    }\n",
       "</style>\n",
       "<table border=\"1\" class=\"dataframe\">\n",
       "  <thead>\n",
       "    <tr style=\"text-align: right;\">\n",
       "      <th></th>\n",
       "      <th>estados</th>\n",
       "      <th>data</th>\n",
       "    </tr>\n",
       "  </thead>\n",
       "  <tbody>\n",
       "    <tr>\n",
       "      <th>0</th>\n",
       "      <td>AC</td>\n",
       "      <td>1985-01-01</td>\n",
       "    </tr>\n",
       "    <tr>\n",
       "      <th>1</th>\n",
       "      <td>AC</td>\n",
       "      <td>1985-02-01</td>\n",
       "    </tr>\n",
       "    <tr>\n",
       "      <th>2</th>\n",
       "      <td>AC</td>\n",
       "      <td>1985-03-01</td>\n",
       "    </tr>\n",
       "    <tr>\n",
       "      <th>3</th>\n",
       "      <td>AC</td>\n",
       "      <td>1985-04-01</td>\n",
       "    </tr>\n",
       "    <tr>\n",
       "      <th>4</th>\n",
       "      <td>AC</td>\n",
       "      <td>1985-05-01</td>\n",
       "    </tr>\n",
       "  </tbody>\n",
       "</table>\n",
       "</div>"
      ],
      "text/plain": [
       "  estados       data\n",
       "0      AC 1985-01-01\n",
       "1      AC 1985-02-01\n",
       "2      AC 1985-03-01\n",
       "3      AC 1985-04-01\n",
       "4      AC 1985-05-01"
      ]
     },
     "execution_count": 521,
     "metadata": {},
     "output_type": "execute_result"
    }
   ],
   "source": [
    "df.head()"
   ]
  },
  {
   "cell_type": "code",
   "execution_count": 633,
   "id": "7093ed6d-55a2-4500-8936-2069eea61c61",
   "metadata": {},
   "outputs": [],
   "source": [
    "def search_duplicates(df):\n",
    "    print(f\"Todas as datas repetem 27 vezes? {(df['data'].value_counts() == 27).all()}\")\n",
    "    print(f\"Estados unicos: {df['estados'].nunique()}\")\n",
    "    print(f\"Shape: {df.shape}\")\n",
    "    print(f\"Duplicados? {df.duplicated().any()}\")"
   ]
  },
  {
   "cell_type": "code",
   "execution_count": 523,
   "id": "8790c674-90f7-4359-9d13-5dee300611cf",
   "metadata": {},
   "outputs": [
    {
     "data": {
      "text/plain": [
       "True"
      ]
     },
     "execution_count": 523,
     "metadata": {},
     "output_type": "execute_result"
    }
   ],
   "source": [
    "(df[\"data\"].value_counts() == 27).all()"
   ]
  },
  {
   "cell_type": "code",
   "execution_count": 524,
   "id": "bfba8c1f-f501-4d53-9036-e8767235b1e9",
   "metadata": {},
   "outputs": [
    {
     "data": {
      "text/plain": [
       "27"
      ]
     },
     "execution_count": 524,
     "metadata": {},
     "output_type": "execute_result"
    }
   ],
   "source": [
    "df[\"estados\"].nunique()"
   ]
  },
  {
   "cell_type": "markdown",
   "id": "b1f4cb15-2837-4ca1-aa2a-e55b872f7b36",
   "metadata": {},
   "source": [
    "# PIB dos estados a preços constantes\n",
    "\n",
    "- Fonte: IBGE\n",
    "- Link: ipeadata\n",
    "- Granularidade: anual por estado"
   ]
  },
  {
   "cell_type": "code",
   "execution_count": 525,
   "id": "5125ce0e-1a58-49d0-b333-cea4276a6556",
   "metadata": {},
   "outputs": [],
   "source": [
    "pib_pc = pd.read_csv(f\"{PATH}bases/pib_precos_constantes.csv\")"
   ]
  },
  {
   "cell_type": "code",
   "execution_count": 526,
   "id": "7675298f-321e-4ec3-a67a-ecd1ddac8493",
   "metadata": {},
   "outputs": [],
   "source": [
    "pib_pc.drop([\"Código\", \"Estado\"], inplace=True, axis=1)\n",
    "pib_pc = pib_pc.melt(id_vars=[\"Sigla\"], value_vars=[f\"{i}\" for i in range (1985,2020)], value_name=\"pib_pc\", var_name=\"data\")"
   ]
  },
  {
   "cell_type": "code",
   "execution_count": 527,
   "id": "1586a705-6755-4f64-bca9-34487fddd4da",
   "metadata": {},
   "outputs": [
    {
     "name": "stdout",
     "output_type": "stream",
     "text": [
      "<class 'pandas.core.frame.DataFrame'>\n",
      "RangeIndex: 945 entries, 0 to 944\n",
      "Data columns (total 3 columns):\n",
      " #   Column  Non-Null Count  Dtype  \n",
      "---  ------  --------------  -----  \n",
      " 0   Sigla   945 non-null    object \n",
      " 1   data    945 non-null    object \n",
      " 2   pib_pc  941 non-null    float64\n",
      "dtypes: float64(1), object(2)\n",
      "memory usage: 22.3+ KB\n"
     ]
    }
   ],
   "source": [
    "pib_pc.info()"
   ]
  },
  {
   "cell_type": "code",
   "execution_count": 528,
   "id": "4e73668c-9225-4045-91a1-e0fb2aa35ed6",
   "metadata": {},
   "outputs": [],
   "source": [
    "pib_pc[\"data\"]=pd.to_datetime(pib_pc[\"data\"], format=\"%Y\")"
   ]
  },
  {
   "cell_type": "code",
   "execution_count": 529,
   "id": "06b9ffe0-dbec-4897-bb7b-bbd69eb7f7f0",
   "metadata": {},
   "outputs": [],
   "source": [
    "pib_pc.columns=[\"estados\", \"data\", \"pib_pc\"]"
   ]
  },
  {
   "cell_type": "code",
   "execution_count": 530,
   "id": "43bb3830-f06e-4ff0-afa9-2df9df15485a",
   "metadata": {},
   "outputs": [
    {
     "data": {
      "text/html": [
       "<div>\n",
       "<style scoped>\n",
       "    .dataframe tbody tr th:only-of-type {\n",
       "        vertical-align: middle;\n",
       "    }\n",
       "\n",
       "    .dataframe tbody tr th {\n",
       "        vertical-align: top;\n",
       "    }\n",
       "\n",
       "    .dataframe thead th {\n",
       "        text-align: right;\n",
       "    }\n",
       "</style>\n",
       "<table border=\"1\" class=\"dataframe\">\n",
       "  <thead>\n",
       "    <tr style=\"text-align: right;\">\n",
       "      <th></th>\n",
       "      <th>estados</th>\n",
       "      <th>data</th>\n",
       "      <th>pib_pc</th>\n",
       "    </tr>\n",
       "  </thead>\n",
       "  <tbody>\n",
       "    <tr>\n",
       "      <th>0</th>\n",
       "      <td>AC</td>\n",
       "      <td>1985-01-01</td>\n",
       "      <td>3.263960e+06</td>\n",
       "    </tr>\n",
       "    <tr>\n",
       "      <th>1</th>\n",
       "      <td>AL</td>\n",
       "      <td>1985-01-01</td>\n",
       "      <td>1.307516e+07</td>\n",
       "    </tr>\n",
       "    <tr>\n",
       "      <th>2</th>\n",
       "      <td>AM</td>\n",
       "      <td>1985-01-01</td>\n",
       "      <td>1.268226e+07</td>\n",
       "    </tr>\n",
       "    <tr>\n",
       "      <th>3</th>\n",
       "      <td>AP</td>\n",
       "      <td>1985-01-01</td>\n",
       "      <td>2.396901e+06</td>\n",
       "    </tr>\n",
       "    <tr>\n",
       "      <th>4</th>\n",
       "      <td>BA</td>\n",
       "      <td>1985-01-01</td>\n",
       "      <td>5.417285e+07</td>\n",
       "    </tr>\n",
       "  </tbody>\n",
       "</table>\n",
       "</div>"
      ],
      "text/plain": [
       "  estados       data        pib_pc\n",
       "0      AC 1985-01-01  3.263960e+06\n",
       "1      AL 1985-01-01  1.307516e+07\n",
       "2      AM 1985-01-01  1.268226e+07\n",
       "3      AP 1985-01-01  2.396901e+06\n",
       "4      BA 1985-01-01  5.417285e+07"
      ]
     },
     "execution_count": 530,
     "metadata": {},
     "output_type": "execute_result"
    }
   ],
   "source": [
    "pib_pc.head()"
   ]
  },
  {
   "cell_type": "code",
   "execution_count": 531,
   "id": "3c2eeaa6-5a81-40f1-ba48-239de624fb75",
   "metadata": {},
   "outputs": [],
   "source": [
    "pib_pc[\"pib_pc\"] = pib_pc[\"pib_pc\"] / 12"
   ]
  },
  {
   "cell_type": "code",
   "execution_count": 532,
   "id": "6a3b67b6-e032-4cd7-ba95-c68629b79272",
   "metadata": {},
   "outputs": [
    {
     "data": {
      "text/html": [
       "<div>\n",
       "<style scoped>\n",
       "    .dataframe tbody tr th:only-of-type {\n",
       "        vertical-align: middle;\n",
       "    }\n",
       "\n",
       "    .dataframe tbody tr th {\n",
       "        vertical-align: top;\n",
       "    }\n",
       "\n",
       "    .dataframe thead th {\n",
       "        text-align: right;\n",
       "    }\n",
       "</style>\n",
       "<table border=\"1\" class=\"dataframe\">\n",
       "  <thead>\n",
       "    <tr style=\"text-align: right;\">\n",
       "      <th></th>\n",
       "      <th>estados</th>\n",
       "      <th>data</th>\n",
       "      <th>pib_pc</th>\n",
       "    </tr>\n",
       "  </thead>\n",
       "  <tbody>\n",
       "    <tr>\n",
       "      <th>0</th>\n",
       "      <td>AC</td>\n",
       "      <td>1985-01-01</td>\n",
       "      <td>2.719967e+05</td>\n",
       "    </tr>\n",
       "    <tr>\n",
       "      <th>1</th>\n",
       "      <td>AL</td>\n",
       "      <td>1985-01-01</td>\n",
       "      <td>1.089597e+06</td>\n",
       "    </tr>\n",
       "    <tr>\n",
       "      <th>2</th>\n",
       "      <td>AM</td>\n",
       "      <td>1985-01-01</td>\n",
       "      <td>1.056855e+06</td>\n",
       "    </tr>\n",
       "    <tr>\n",
       "      <th>3</th>\n",
       "      <td>AP</td>\n",
       "      <td>1985-01-01</td>\n",
       "      <td>1.997418e+05</td>\n",
       "    </tr>\n",
       "    <tr>\n",
       "      <th>4</th>\n",
       "      <td>BA</td>\n",
       "      <td>1985-01-01</td>\n",
       "      <td>4.514404e+06</td>\n",
       "    </tr>\n",
       "  </tbody>\n",
       "</table>\n",
       "</div>"
      ],
      "text/plain": [
       "  estados       data        pib_pc\n",
       "0      AC 1985-01-01  2.719967e+05\n",
       "1      AL 1985-01-01  1.089597e+06\n",
       "2      AM 1985-01-01  1.056855e+06\n",
       "3      AP 1985-01-01  1.997418e+05\n",
       "4      BA 1985-01-01  4.514404e+06"
      ]
     },
     "execution_count": 532,
     "metadata": {},
     "output_type": "execute_result"
    }
   ],
   "source": [
    "pib_pc.head()"
   ]
  },
  {
   "cell_type": "code",
   "execution_count": 533,
   "id": "7114c3cb-9148-4564-a142-4bbf288f8dd7",
   "metadata": {},
   "outputs": [],
   "source": [
    "df = pd.merge(df, pib_pc, how=\"left\").fillna(method=\"ffill\")"
   ]
  },
  {
   "cell_type": "code",
   "execution_count": 534,
   "id": "f7474225-50de-4fa6-add6-311e02344f5f",
   "metadata": {},
   "outputs": [
    {
     "data": {
      "text/plain": [
       "True"
      ]
     },
     "execution_count": 534,
     "metadata": {},
     "output_type": "execute_result"
    }
   ],
   "source": [
    "(df[\"data\"].value_counts() == 27).all()"
   ]
  },
  {
   "cell_type": "code",
   "execution_count": 535,
   "id": "ce439b86-8c51-4a28-a766-274119ebf5f6",
   "metadata": {},
   "outputs": [
    {
     "data": {
      "text/plain": [
       "27"
      ]
     },
     "execution_count": 535,
     "metadata": {},
     "output_type": "execute_result"
    }
   ],
   "source": [
    "df[\"estados\"].nunique()"
   ]
  },
  {
   "cell_type": "code",
   "execution_count": 536,
   "id": "c93865ff-2758-4179-b2aa-e89feea21713",
   "metadata": {},
   "outputs": [
    {
     "data": {
      "text/plain": [
       "(11340, 3)"
      ]
     },
     "execution_count": 536,
     "metadata": {},
     "output_type": "execute_result"
    }
   ],
   "source": [
    "df.shape"
   ]
  },
  {
   "cell_type": "code",
   "execution_count": 537,
   "id": "d95f3e4f-873d-423d-957c-1c90e0be8371",
   "metadata": {},
   "outputs": [
    {
     "name": "stdout",
     "output_type": "stream",
     "text": [
      "Todas as datas repetem 27 vezes? True\n",
      "Estados unicos: 27\n",
      "Shape: (11340, 3)\n"
     ]
    }
   ],
   "source": [
    "search_duplicates(df)"
   ]
  },
  {
   "cell_type": "markdown",
   "id": "f458faa8-ce5d-4e54-a4c1-f3a6debfba03",
   "metadata": {
    "tags": []
   },
   "source": [
    "# PIB do estado de mercado corrente\n",
    "\n",
    "- Fonte: IBGE\n",
    "- Link: ipeadata\n",
    "- Granularidade: anual por estado"
   ]
  },
  {
   "cell_type": "code",
   "execution_count": 538,
   "id": "288c5509-fc81-4bae-8f97-3a64a34212ae",
   "metadata": {},
   "outputs": [],
   "source": [
    "pib_pmc = pd.read_csv(f\"{PATH}bases/pib_precos_mercado_corrente.csv\")"
   ]
  },
  {
   "cell_type": "code",
   "execution_count": 539,
   "id": "d0f3dbd4-7fa8-40ed-872f-831e011657eb",
   "metadata": {},
   "outputs": [
    {
     "data": {
      "text/html": [
       "<div>\n",
       "<style scoped>\n",
       "    .dataframe tbody tr th:only-of-type {\n",
       "        vertical-align: middle;\n",
       "    }\n",
       "\n",
       "    .dataframe tbody tr th {\n",
       "        vertical-align: top;\n",
       "    }\n",
       "\n",
       "    .dataframe thead th {\n",
       "        text-align: right;\n",
       "    }\n",
       "</style>\n",
       "<table border=\"1\" class=\"dataframe\">\n",
       "  <thead>\n",
       "    <tr style=\"text-align: right;\">\n",
       "      <th></th>\n",
       "      <th>Sigla</th>\n",
       "      <th>Código</th>\n",
       "      <th>Estado</th>\n",
       "      <th>1985</th>\n",
       "      <th>1986</th>\n",
       "      <th>1987</th>\n",
       "      <th>1988</th>\n",
       "      <th>1989</th>\n",
       "      <th>1990</th>\n",
       "      <th>1991</th>\n",
       "      <th>...</th>\n",
       "      <th>2011</th>\n",
       "      <th>2012</th>\n",
       "      <th>2013</th>\n",
       "      <th>2014</th>\n",
       "      <th>2015</th>\n",
       "      <th>2016</th>\n",
       "      <th>2017</th>\n",
       "      <th>2018</th>\n",
       "      <th>2019</th>\n",
       "      <th>Unnamed: 38</th>\n",
       "    </tr>\n",
       "  </thead>\n",
       "  <tbody>\n",
       "    <tr>\n",
       "      <th>0</th>\n",
       "      <td>AC</td>\n",
       "      <td>12</td>\n",
       "      <td>Acre</td>\n",
       "      <td>0.000620</td>\n",
       "      <td>0.001771</td>\n",
       "      <td>0.005193</td>\n",
       "      <td>0.038876</td>\n",
       "      <td>0.547705</td>\n",
       "      <td>15.996393</td>\n",
       "      <td>80.808201</td>\n",
       "      <td>...</td>\n",
       "      <td>8.165288e+06</td>\n",
       "      <td>9.149380e+06</td>\n",
       "      <td>1.048352e+07</td>\n",
       "      <td>1.234899e+07</td>\n",
       "      <td>1.244313e+07</td>\n",
       "      <td>1.250000e+07</td>\n",
       "      <td>1.283566e+07</td>\n",
       "      <td>1.362206e+07</td>\n",
       "      <td>1.393929e+07</td>\n",
       "      <td>NaN</td>\n",
       "    </tr>\n",
       "    <tr>\n",
       "      <th>1</th>\n",
       "      <td>AL</td>\n",
       "      <td>27</td>\n",
       "      <td>Alagoas</td>\n",
       "      <td>0.004075</td>\n",
       "      <td>0.010037</td>\n",
       "      <td>0.033596</td>\n",
       "      <td>0.200712</td>\n",
       "      <td>2.458330</td>\n",
       "      <td>81.602266</td>\n",
       "      <td>428.900043</td>\n",
       "      <td>...</td>\n",
       "      <td>2.852996e+07</td>\n",
       "      <td>3.124893e+07</td>\n",
       "      <td>3.370809e+07</td>\n",
       "      <td>3.726409e+07</td>\n",
       "      <td>4.226066e+07</td>\n",
       "      <td>4.475466e+07</td>\n",
       "      <td>4.780562e+07</td>\n",
       "      <td>4.889228e+07</td>\n",
       "      <td>5.303229e+07</td>\n",
       "      <td>NaN</td>\n",
       "    </tr>\n",
       "    <tr>\n",
       "      <th>2</th>\n",
       "      <td>AM</td>\n",
       "      <td>13</td>\n",
       "      <td>Amazonas</td>\n",
       "      <td>0.007241</td>\n",
       "      <td>0.022455</td>\n",
       "      <td>0.072782</td>\n",
       "      <td>0.538409</td>\n",
       "      <td>7.521879</td>\n",
       "      <td>210.045517</td>\n",
       "      <td>1015.381910</td>\n",
       "      <td>...</td>\n",
       "      <td>5.910811e+07</td>\n",
       "      <td>5.957231e+07</td>\n",
       "      <td>6.881200e+07</td>\n",
       "      <td>7.189786e+07</td>\n",
       "      <td>7.269479e+07</td>\n",
       "      <td>7.590849e+07</td>\n",
       "      <td>7.849747e+07</td>\n",
       "      <td>8.436154e+07</td>\n",
       "      <td>9.072525e+07</td>\n",
       "      <td>NaN</td>\n",
       "    </tr>\n",
       "    <tr>\n",
       "      <th>3</th>\n",
       "      <td>AP</td>\n",
       "      <td>16</td>\n",
       "      <td>Amapá</td>\n",
       "      <td>0.000574</td>\n",
       "      <td>0.001458</td>\n",
       "      <td>0.004728</td>\n",
       "      <td>0.040189</td>\n",
       "      <td>0.764695</td>\n",
       "      <td>18.591401</td>\n",
       "      <td>96.910902</td>\n",
       "      <td>...</td>\n",
       "      <td>8.716746e+06</td>\n",
       "      <td>1.025058e+07</td>\n",
       "      <td>1.175608e+07</td>\n",
       "      <td>1.237244e+07</td>\n",
       "      <td>1.289080e+07</td>\n",
       "      <td>1.346862e+07</td>\n",
       "      <td>1.447259e+07</td>\n",
       "      <td>1.566502e+07</td>\n",
       "      <td>1.632420e+07</td>\n",
       "      <td>NaN</td>\n",
       "    </tr>\n",
       "    <tr>\n",
       "      <th>4</th>\n",
       "      <td>BA</td>\n",
       "      <td>29</td>\n",
       "      <td>Bahia</td>\n",
       "      <td>0.025442</td>\n",
       "      <td>0.065506</td>\n",
       "      <td>0.189984</td>\n",
       "      <td>1.404576</td>\n",
       "      <td>19.221150</td>\n",
       "      <td>518.982825</td>\n",
       "      <td>2652.432271</td>\n",
       "      <td>...</td>\n",
       "      <td>1.457271e+08</td>\n",
       "      <td>1.592959e+08</td>\n",
       "      <td>1.782617e+08</td>\n",
       "      <td>1.962028e+08</td>\n",
       "      <td>2.159861e+08</td>\n",
       "      <td>2.283293e+08</td>\n",
       "      <td>2.361379e+08</td>\n",
       "      <td>2.505338e+08</td>\n",
       "      <td>2.564685e+08</td>\n",
       "      <td>NaN</td>\n",
       "    </tr>\n",
       "  </tbody>\n",
       "</table>\n",
       "<p>5 rows × 39 columns</p>\n",
       "</div>"
      ],
      "text/plain": [
       "  Sigla  Código    Estado      1985      1986      1987      1988       1989  \\\n",
       "0    AC      12      Acre  0.000620  0.001771  0.005193  0.038876   0.547705   \n",
       "1    AL      27   Alagoas  0.004075  0.010037  0.033596  0.200712   2.458330   \n",
       "2    AM      13  Amazonas  0.007241  0.022455  0.072782  0.538409   7.521879   \n",
       "3    AP      16     Amapá  0.000574  0.001458  0.004728  0.040189   0.764695   \n",
       "4    BA      29     Bahia  0.025442  0.065506  0.189984  1.404576  19.221150   \n",
       "\n",
       "         1990         1991  ...          2011          2012          2013  \\\n",
       "0   15.996393    80.808201  ...  8.165288e+06  9.149380e+06  1.048352e+07   \n",
       "1   81.602266   428.900043  ...  2.852996e+07  3.124893e+07  3.370809e+07   \n",
       "2  210.045517  1015.381910  ...  5.910811e+07  5.957231e+07  6.881200e+07   \n",
       "3   18.591401    96.910902  ...  8.716746e+06  1.025058e+07  1.175608e+07   \n",
       "4  518.982825  2652.432271  ...  1.457271e+08  1.592959e+08  1.782617e+08   \n",
       "\n",
       "           2014          2015          2016          2017          2018  \\\n",
       "0  1.234899e+07  1.244313e+07  1.250000e+07  1.283566e+07  1.362206e+07   \n",
       "1  3.726409e+07  4.226066e+07  4.475466e+07  4.780562e+07  4.889228e+07   \n",
       "2  7.189786e+07  7.269479e+07  7.590849e+07  7.849747e+07  8.436154e+07   \n",
       "3  1.237244e+07  1.289080e+07  1.346862e+07  1.447259e+07  1.566502e+07   \n",
       "4  1.962028e+08  2.159861e+08  2.283293e+08  2.361379e+08  2.505338e+08   \n",
       "\n",
       "           2019  Unnamed: 38  \n",
       "0  1.393929e+07          NaN  \n",
       "1  5.303229e+07          NaN  \n",
       "2  9.072525e+07          NaN  \n",
       "3  1.632420e+07          NaN  \n",
       "4  2.564685e+08          NaN  \n",
       "\n",
       "[5 rows x 39 columns]"
      ]
     },
     "execution_count": 539,
     "metadata": {},
     "output_type": "execute_result"
    }
   ],
   "source": [
    "pib_pmc.head()"
   ]
  },
  {
   "cell_type": "code",
   "execution_count": 540,
   "id": "37c3ec52-d8dc-4484-b872-2a896607ba58",
   "metadata": {},
   "outputs": [],
   "source": [
    "pib_pmc.drop([\"Código\", \"Estado\"], inplace=True, axis=1)\n",
    "pib_pmc = pib_pmc.melt(id_vars=[\"Sigla\"], value_vars=[f\"{i}\" for i in range (1985,2020)], value_name=\"pib_pmc\", var_name=\"anos\")"
   ]
  },
  {
   "cell_type": "code",
   "execution_count": 541,
   "id": "85eeb587-e775-4847-b3c9-39ab775280be",
   "metadata": {},
   "outputs": [
    {
     "data": {
      "text/html": [
       "<div>\n",
       "<style scoped>\n",
       "    .dataframe tbody tr th:only-of-type {\n",
       "        vertical-align: middle;\n",
       "    }\n",
       "\n",
       "    .dataframe tbody tr th {\n",
       "        vertical-align: top;\n",
       "    }\n",
       "\n",
       "    .dataframe thead th {\n",
       "        text-align: right;\n",
       "    }\n",
       "</style>\n",
       "<table border=\"1\" class=\"dataframe\">\n",
       "  <thead>\n",
       "    <tr style=\"text-align: right;\">\n",
       "      <th></th>\n",
       "      <th>Sigla</th>\n",
       "      <th>anos</th>\n",
       "      <th>pib_pmc</th>\n",
       "    </tr>\n",
       "  </thead>\n",
       "  <tbody>\n",
       "    <tr>\n",
       "      <th>0</th>\n",
       "      <td>AC</td>\n",
       "      <td>1985</td>\n",
       "      <td>0.000620</td>\n",
       "    </tr>\n",
       "    <tr>\n",
       "      <th>1</th>\n",
       "      <td>AL</td>\n",
       "      <td>1985</td>\n",
       "      <td>0.004075</td>\n",
       "    </tr>\n",
       "    <tr>\n",
       "      <th>2</th>\n",
       "      <td>AM</td>\n",
       "      <td>1985</td>\n",
       "      <td>0.007241</td>\n",
       "    </tr>\n",
       "    <tr>\n",
       "      <th>3</th>\n",
       "      <td>AP</td>\n",
       "      <td>1985</td>\n",
       "      <td>0.000574</td>\n",
       "    </tr>\n",
       "    <tr>\n",
       "      <th>4</th>\n",
       "      <td>BA</td>\n",
       "      <td>1985</td>\n",
       "      <td>0.025442</td>\n",
       "    </tr>\n",
       "  </tbody>\n",
       "</table>\n",
       "</div>"
      ],
      "text/plain": [
       "  Sigla  anos   pib_pmc\n",
       "0    AC  1985  0.000620\n",
       "1    AL  1985  0.004075\n",
       "2    AM  1985  0.007241\n",
       "3    AP  1985  0.000574\n",
       "4    BA  1985  0.025442"
      ]
     },
     "execution_count": 541,
     "metadata": {},
     "output_type": "execute_result"
    }
   ],
   "source": [
    "pib_pmc.head()"
   ]
  },
  {
   "cell_type": "code",
   "execution_count": 542,
   "id": "a3e05ee5-a00c-4084-a371-7d99691da059",
   "metadata": {},
   "outputs": [],
   "source": [
    "pib_pmc[\"data\"] = pd.to_datetime(pib_pc[\"data\"], format=\"%Y\")\n",
    "pib_pmc[\"pib_pmc\"] = pib_pmc[\"pib_pmc\"] / 12"
   ]
  },
  {
   "cell_type": "code",
   "execution_count": 543,
   "id": "1ac4bd1e-870e-4399-9706-85e227cc691f",
   "metadata": {},
   "outputs": [],
   "source": [
    "pib_pmc = pib_pmc.rename({\"Sigla\":\"estados\"}, axis=1)"
   ]
  },
  {
   "cell_type": "code",
   "execution_count": 544,
   "id": "b555068a-e243-43d4-8840-b6e0b565e7a2",
   "metadata": {},
   "outputs": [],
   "source": [
    "pib_pmc = pib_pmc.drop(\"anos\", axis=1)"
   ]
  },
  {
   "cell_type": "code",
   "execution_count": 545,
   "id": "d3ce8603-14be-4fca-84a0-cfe2ca561b14",
   "metadata": {},
   "outputs": [],
   "source": [
    "df = pd.merge(df, pib_pmc, how=\"left\").fillna(method=\"ffill\")"
   ]
  },
  {
   "cell_type": "code",
   "execution_count": 546,
   "id": "7a23965d-f510-444d-ba38-84f53fed29c3",
   "metadata": {},
   "outputs": [
    {
     "data": {
      "text/html": [
       "<div>\n",
       "<style scoped>\n",
       "    .dataframe tbody tr th:only-of-type {\n",
       "        vertical-align: middle;\n",
       "    }\n",
       "\n",
       "    .dataframe tbody tr th {\n",
       "        vertical-align: top;\n",
       "    }\n",
       "\n",
       "    .dataframe thead th {\n",
       "        text-align: right;\n",
       "    }\n",
       "</style>\n",
       "<table border=\"1\" class=\"dataframe\">\n",
       "  <thead>\n",
       "    <tr style=\"text-align: right;\">\n",
       "      <th></th>\n",
       "      <th>estados</th>\n",
       "      <th>data</th>\n",
       "      <th>pib_pc</th>\n",
       "      <th>pib_pmc</th>\n",
       "    </tr>\n",
       "  </thead>\n",
       "  <tbody>\n",
       "    <tr>\n",
       "      <th>0</th>\n",
       "      <td>AC</td>\n",
       "      <td>1985-01-01</td>\n",
       "      <td>271996.683911</td>\n",
       "      <td>0.000052</td>\n",
       "    </tr>\n",
       "    <tr>\n",
       "      <th>1</th>\n",
       "      <td>AC</td>\n",
       "      <td>1985-02-01</td>\n",
       "      <td>271996.683911</td>\n",
       "      <td>0.000052</td>\n",
       "    </tr>\n",
       "    <tr>\n",
       "      <th>2</th>\n",
       "      <td>AC</td>\n",
       "      <td>1985-03-01</td>\n",
       "      <td>271996.683911</td>\n",
       "      <td>0.000052</td>\n",
       "    </tr>\n",
       "    <tr>\n",
       "      <th>3</th>\n",
       "      <td>AC</td>\n",
       "      <td>1985-04-01</td>\n",
       "      <td>271996.683911</td>\n",
       "      <td>0.000052</td>\n",
       "    </tr>\n",
       "    <tr>\n",
       "      <th>4</th>\n",
       "      <td>AC</td>\n",
       "      <td>1985-05-01</td>\n",
       "      <td>271996.683911</td>\n",
       "      <td>0.000052</td>\n",
       "    </tr>\n",
       "  </tbody>\n",
       "</table>\n",
       "</div>"
      ],
      "text/plain": [
       "  estados       data         pib_pc   pib_pmc\n",
       "0      AC 1985-01-01  271996.683911  0.000052\n",
       "1      AC 1985-02-01  271996.683911  0.000052\n",
       "2      AC 1985-03-01  271996.683911  0.000052\n",
       "3      AC 1985-04-01  271996.683911  0.000052\n",
       "4      AC 1985-05-01  271996.683911  0.000052"
      ]
     },
     "execution_count": 546,
     "metadata": {},
     "output_type": "execute_result"
    }
   ],
   "source": [
    "df.head()"
   ]
  },
  {
   "cell_type": "code",
   "execution_count": 547,
   "id": "4a93cedd-b237-459e-b804-cbdf89ac9277",
   "metadata": {},
   "outputs": [
    {
     "name": "stdout",
     "output_type": "stream",
     "text": [
      "Todas as datas repetem 27 vezes? True\n",
      "Estados unicos: 27\n",
      "Shape: (11340, 4)\n"
     ]
    }
   ],
   "source": [
    "search_duplicates(df)"
   ]
  },
  {
   "cell_type": "markdown",
   "id": "a9515730-7ef7-48b6-a737-e7c9ae875eea",
   "metadata": {
    "tags": []
   },
   "source": [
    "# PIB per capita\n",
    "\n",
    "- Fonte: IBGE\n",
    "- Link: ipeadata\n",
    "- Granularidade: anual por estado"
   ]
  },
  {
   "cell_type": "code",
   "execution_count": 548,
   "id": "c9f70794-759a-47a5-9b5b-b79556b670b4",
   "metadata": {},
   "outputs": [
    {
     "data": {
      "text/html": [
       "<div>\n",
       "<style scoped>\n",
       "    .dataframe tbody tr th:only-of-type {\n",
       "        vertical-align: middle;\n",
       "    }\n",
       "\n",
       "    .dataframe tbody tr th {\n",
       "        vertical-align: top;\n",
       "    }\n",
       "\n",
       "    .dataframe thead th {\n",
       "        text-align: right;\n",
       "    }\n",
       "</style>\n",
       "<table border=\"1\" class=\"dataframe\">\n",
       "  <thead>\n",
       "    <tr style=\"text-align: right;\">\n",
       "      <th></th>\n",
       "      <th>Sigla</th>\n",
       "      <th>Código</th>\n",
       "      <th>Estado</th>\n",
       "      <th>1985</th>\n",
       "      <th>1986</th>\n",
       "      <th>1987</th>\n",
       "      <th>1988</th>\n",
       "      <th>1989</th>\n",
       "      <th>1990</th>\n",
       "      <th>1991</th>\n",
       "      <th>...</th>\n",
       "      <th>2011</th>\n",
       "      <th>2012</th>\n",
       "      <th>2013</th>\n",
       "      <th>2014</th>\n",
       "      <th>2015</th>\n",
       "      <th>2016</th>\n",
       "      <th>2017</th>\n",
       "      <th>2018</th>\n",
       "      <th>2019</th>\n",
       "      <th>Unnamed: 38</th>\n",
       "    </tr>\n",
       "  </thead>\n",
       "  <tbody>\n",
       "    <tr>\n",
       "      <th>0</th>\n",
       "      <td>AC</td>\n",
       "      <td>12</td>\n",
       "      <td>Acre</td>\n",
       "      <td>9.215645</td>\n",
       "      <td>9.076744</td>\n",
       "      <td>8.537466</td>\n",
       "      <td>8.610980</td>\n",
       "      <td>8.402114</td>\n",
       "      <td>8.504651</td>\n",
       "      <td>8.723272</td>\n",
       "      <td>...</td>\n",
       "      <td>10.099619</td>\n",
       "      <td>10.312746</td>\n",
       "      <td>10.741417</td>\n",
       "      <td>11.529670</td>\n",
       "      <td>10.620112</td>\n",
       "      <td>9.709720</td>\n",
       "      <td>9.470557</td>\n",
       "      <td>9.287253</td>\n",
       "      <td>8.993397</td>\n",
       "      <td>NaN</td>\n",
       "    </tr>\n",
       "    <tr>\n",
       "      <th>1</th>\n",
       "      <td>AL</td>\n",
       "      <td>27</td>\n",
       "      <td>Alagoas</td>\n",
       "      <td>5.879142</td>\n",
       "      <td>5.925594</td>\n",
       "      <td>6.320284</td>\n",
       "      <td>5.730295</td>\n",
       "      <td>5.771642</td>\n",
       "      <td>6.124530</td>\n",
       "      <td>6.170056</td>\n",
       "      <td>...</td>\n",
       "      <td>8.379165</td>\n",
       "      <td>8.443036</td>\n",
       "      <td>8.124044</td>\n",
       "      <td>8.275502</td>\n",
       "      <td>8.674832</td>\n",
       "      <td>8.452503</td>\n",
       "      <td>8.668324</td>\n",
       "      <td>8.720275</td>\n",
       "      <td>9.041852</td>\n",
       "      <td>NaN</td>\n",
       "    </tr>\n",
       "    <tr>\n",
       "      <th>2</th>\n",
       "      <td>AM</td>\n",
       "      <td>13</td>\n",
       "      <td>Amazonas</td>\n",
       "      <td>7.306192</td>\n",
       "      <td>7.546578</td>\n",
       "      <td>7.601859</td>\n",
       "      <td>8.054953</td>\n",
       "      <td>7.828067</td>\n",
       "      <td>7.616238</td>\n",
       "      <td>7.471428</td>\n",
       "      <td>...</td>\n",
       "      <td>15.421931</td>\n",
       "      <td>14.188381</td>\n",
       "      <td>14.376439</td>\n",
       "      <td>13.691574</td>\n",
       "      <td>12.658521</td>\n",
       "      <td>12.033770</td>\n",
       "      <td>11.824399</td>\n",
       "      <td>12.252257</td>\n",
       "      <td>12.455625</td>\n",
       "      <td>NaN</td>\n",
       "    </tr>\n",
       "    <tr>\n",
       "      <th>3</th>\n",
       "      <td>AP</td>\n",
       "      <td>16</td>\n",
       "      <td>Amapá</td>\n",
       "      <td>10.554527</td>\n",
       "      <td>10.754808</td>\n",
       "      <td>10.423195</td>\n",
       "      <td>10.149562</td>\n",
       "      <td>9.718350</td>\n",
       "      <td>9.521564</td>\n",
       "      <td>9.716494</td>\n",
       "      <td>...</td>\n",
       "      <td>11.759778</td>\n",
       "      <td>12.549329</td>\n",
       "      <td>12.724844</td>\n",
       "      <td>12.154425</td>\n",
       "      <td>11.530783</td>\n",
       "      <td>10.922070</td>\n",
       "      <td>11.105306</td>\n",
       "      <td>11.192173</td>\n",
       "      <td>10.982957</td>\n",
       "      <td>NaN</td>\n",
       "    </tr>\n",
       "    <tr>\n",
       "      <th>4</th>\n",
       "      <td>BA</td>\n",
       "      <td>29</td>\n",
       "      <td>Bahia</td>\n",
       "      <td>5.134586</td>\n",
       "      <td>5.385667</td>\n",
       "      <td>5.456052</td>\n",
       "      <td>6.312963</td>\n",
       "      <td>5.609763</td>\n",
       "      <td>5.866089</td>\n",
       "      <td>5.945315</td>\n",
       "      <td>...</td>\n",
       "      <td>9.543200</td>\n",
       "      <td>9.611099</td>\n",
       "      <td>9.426834</td>\n",
       "      <td>9.568387</td>\n",
       "      <td>9.742704</td>\n",
       "      <td>9.481745</td>\n",
       "      <td>9.419988</td>\n",
       "      <td>10.023776</td>\n",
       "      <td>9.811905</td>\n",
       "      <td>NaN</td>\n",
       "    </tr>\n",
       "  </tbody>\n",
       "</table>\n",
       "<p>5 rows × 39 columns</p>\n",
       "</div>"
      ],
      "text/plain": [
       "  Sigla  Código    Estado       1985       1986       1987       1988  \\\n",
       "0    AC      12      Acre   9.215645   9.076744   8.537466   8.610980   \n",
       "1    AL      27   Alagoas   5.879142   5.925594   6.320284   5.730295   \n",
       "2    AM      13  Amazonas   7.306192   7.546578   7.601859   8.054953   \n",
       "3    AP      16     Amapá  10.554527  10.754808  10.423195  10.149562   \n",
       "4    BA      29     Bahia   5.134586   5.385667   5.456052   6.312963   \n",
       "\n",
       "       1989      1990      1991  ...       2011       2012       2013  \\\n",
       "0  8.402114  8.504651  8.723272  ...  10.099619  10.312746  10.741417   \n",
       "1  5.771642  6.124530  6.170056  ...   8.379165   8.443036   8.124044   \n",
       "2  7.828067  7.616238  7.471428  ...  15.421931  14.188381  14.376439   \n",
       "3  9.718350  9.521564  9.716494  ...  11.759778  12.549329  12.724844   \n",
       "4  5.609763  5.866089  5.945315  ...   9.543200   9.611099   9.426834   \n",
       "\n",
       "        2014       2015       2016       2017       2018       2019  \\\n",
       "0  11.529670  10.620112   9.709720   9.470557   9.287253   8.993397   \n",
       "1   8.275502   8.674832   8.452503   8.668324   8.720275   9.041852   \n",
       "2  13.691574  12.658521  12.033770  11.824399  12.252257  12.455625   \n",
       "3  12.154425  11.530783  10.922070  11.105306  11.192173  10.982957   \n",
       "4   9.568387   9.742704   9.481745   9.419988  10.023776   9.811905   \n",
       "\n",
       "   Unnamed: 38  \n",
       "0          NaN  \n",
       "1          NaN  \n",
       "2          NaN  \n",
       "3          NaN  \n",
       "4          NaN  \n",
       "\n",
       "[5 rows x 39 columns]"
      ]
     },
     "execution_count": 548,
     "metadata": {},
     "output_type": "execute_result"
    }
   ],
   "source": [
    "pib_pcpt =  pd.read_csv(f\"{PATH}bases/pib_per_capita.csv\")\n",
    "pib_pcpt.head()"
   ]
  },
  {
   "cell_type": "code",
   "execution_count": 549,
   "id": "ba085066-20cc-40ef-8557-2fc0df68b0f6",
   "metadata": {},
   "outputs": [],
   "source": [
    "pib_pcpt = pib_pcpt.drop([\"Código\", \"Estado\", 'Unnamed: 38'], axis=1)\n",
    "pib_pcpt = pib_pcpt.melt(id_vars=[\"Sigla\"], value_vars=[f\"{i}\" for i in range (1985,2020)], value_name=\"pib_pcpt\", var_name=\"anos\")"
   ]
  },
  {
   "cell_type": "code",
   "execution_count": 550,
   "id": "e24d2353-d33f-4470-8c5c-20d31cca0583",
   "metadata": {},
   "outputs": [],
   "source": [
    "pib_pcpt['data'] = pd.to_datetime(pib_pcpt['anos'], format=\"%Y\")\n",
    "pib_pcpt = pib_pcpt.drop(['anos'], axis=1)"
   ]
  },
  {
   "cell_type": "code",
   "execution_count": 551,
   "id": "11d689c6-7ec5-4586-8342-e840819a2e34",
   "metadata": {},
   "outputs": [],
   "source": [
    "pib_pcpt[\"pib_pcpt\"] = pib_pcpt[\"pib_pcpt\"] / 12"
   ]
  },
  {
   "cell_type": "code",
   "execution_count": 552,
   "id": "e9af52c3-4e88-4a7b-b91b-d8e05dc97895",
   "metadata": {},
   "outputs": [],
   "source": [
    "pib_pcpt = pib_pcpt.rename({\"Sigla\":\"estados\"}, axis=1)"
   ]
  },
  {
   "cell_type": "code",
   "execution_count": 553,
   "id": "95e2cde2-8ae0-4341-b824-0cb3609b96e4",
   "metadata": {},
   "outputs": [
    {
     "data": {
      "text/html": [
       "<div>\n",
       "<style scoped>\n",
       "    .dataframe tbody tr th:only-of-type {\n",
       "        vertical-align: middle;\n",
       "    }\n",
       "\n",
       "    .dataframe tbody tr th {\n",
       "        vertical-align: top;\n",
       "    }\n",
       "\n",
       "    .dataframe thead th {\n",
       "        text-align: right;\n",
       "    }\n",
       "</style>\n",
       "<table border=\"1\" class=\"dataframe\">\n",
       "  <thead>\n",
       "    <tr style=\"text-align: right;\">\n",
       "      <th></th>\n",
       "      <th>estados</th>\n",
       "      <th>pib_pcpt</th>\n",
       "      <th>data</th>\n",
       "    </tr>\n",
       "  </thead>\n",
       "  <tbody>\n",
       "    <tr>\n",
       "      <th>0</th>\n",
       "      <td>AC</td>\n",
       "      <td>0.767970</td>\n",
       "      <td>1985-01-01</td>\n",
       "    </tr>\n",
       "    <tr>\n",
       "      <th>1</th>\n",
       "      <td>AL</td>\n",
       "      <td>0.489929</td>\n",
       "      <td>1985-01-01</td>\n",
       "    </tr>\n",
       "    <tr>\n",
       "      <th>2</th>\n",
       "      <td>AM</td>\n",
       "      <td>0.608849</td>\n",
       "      <td>1985-01-01</td>\n",
       "    </tr>\n",
       "    <tr>\n",
       "      <th>3</th>\n",
       "      <td>AP</td>\n",
       "      <td>0.879544</td>\n",
       "      <td>1985-01-01</td>\n",
       "    </tr>\n",
       "    <tr>\n",
       "      <th>4</th>\n",
       "      <td>BA</td>\n",
       "      <td>0.427882</td>\n",
       "      <td>1985-01-01</td>\n",
       "    </tr>\n",
       "  </tbody>\n",
       "</table>\n",
       "</div>"
      ],
      "text/plain": [
       "  estados  pib_pcpt       data\n",
       "0      AC  0.767970 1985-01-01\n",
       "1      AL  0.489929 1985-01-01\n",
       "2      AM  0.608849 1985-01-01\n",
       "3      AP  0.879544 1985-01-01\n",
       "4      BA  0.427882 1985-01-01"
      ]
     },
     "execution_count": 553,
     "metadata": {},
     "output_type": "execute_result"
    }
   ],
   "source": [
    "pib_pcpt.head()"
   ]
  },
  {
   "cell_type": "code",
   "execution_count": 554,
   "id": "f8de5fa0-26e0-4248-aee3-2e5d85297392",
   "metadata": {},
   "outputs": [],
   "source": [
    "df = pd.merge(df, pib_pcpt, how=\"left\").fillna(method=\"ffill\")"
   ]
  },
  {
   "cell_type": "code",
   "execution_count": 555,
   "id": "d0157b34-1dfb-43d1-ac59-1f13ec34f377",
   "metadata": {},
   "outputs": [
    {
     "name": "stdout",
     "output_type": "stream",
     "text": [
      "Todas as datas repetem 27 vezes? True\n",
      "Estados unicos: 27\n",
      "Shape: (11340, 5)\n"
     ]
    }
   ],
   "source": [
    "search_duplicates(df)"
   ]
  },
  {
   "cell_type": "markdown",
   "id": "cbbbadb2-e0b7-48fe-bf14-c5c9bf1560fd",
   "metadata": {
    "tags": []
   },
   "source": [
    "# PIB da construção civil\n",
    "\n",
    "- Fonte: IBGE\n",
    "- Link: ipeadata\n",
    "- Granularidade: anual por estado"
   ]
  },
  {
   "cell_type": "code",
   "execution_count": 556,
   "id": "dac754f8-cc61-4e4f-a9ba-0353e669d4bf",
   "metadata": {},
   "outputs": [
    {
     "data": {
      "text/html": [
       "<div>\n",
       "<style scoped>\n",
       "    .dataframe tbody tr th:only-of-type {\n",
       "        vertical-align: middle;\n",
       "    }\n",
       "\n",
       "    .dataframe tbody tr th {\n",
       "        vertical-align: top;\n",
       "    }\n",
       "\n",
       "    .dataframe thead th {\n",
       "        text-align: right;\n",
       "    }\n",
       "</style>\n",
       "<table border=\"1\" class=\"dataframe\">\n",
       "  <thead>\n",
       "    <tr style=\"text-align: right;\">\n",
       "      <th></th>\n",
       "      <th>Sigla</th>\n",
       "      <th>Código</th>\n",
       "      <th>Estado</th>\n",
       "      <th>1985</th>\n",
       "      <th>1986</th>\n",
       "      <th>1987</th>\n",
       "      <th>1988</th>\n",
       "      <th>1989</th>\n",
       "      <th>1990</th>\n",
       "      <th>1991</th>\n",
       "      <th>...</th>\n",
       "      <th>2011</th>\n",
       "      <th>2012</th>\n",
       "      <th>2013</th>\n",
       "      <th>2014</th>\n",
       "      <th>2015</th>\n",
       "      <th>2016</th>\n",
       "      <th>2017</th>\n",
       "      <th>2018</th>\n",
       "      <th>2019</th>\n",
       "      <th>Unnamed: 38</th>\n",
       "    </tr>\n",
       "  </thead>\n",
       "  <tbody>\n",
       "    <tr>\n",
       "      <th>0</th>\n",
       "      <td>AC</td>\n",
       "      <td>12</td>\n",
       "      <td>Acre</td>\n",
       "      <td>2.074864e+05</td>\n",
       "      <td>3.073232e+05</td>\n",
       "      <td>2.350580e+05</td>\n",
       "      <td>2.748413e+05</td>\n",
       "      <td>2.786433e+05</td>\n",
       "      <td>2.039486e+05</td>\n",
       "      <td>2.130618e+05</td>\n",
       "      <td>...</td>\n",
       "      <td>5.814337e+05</td>\n",
       "      <td>5.591640e+05</td>\n",
       "      <td>5.175694e+05</td>\n",
       "      <td>6.801141e+05</td>\n",
       "      <td>4.635291e+05</td>\n",
       "      <td>3.632690e+05</td>\n",
       "      <td>3.032005e+05</td>\n",
       "      <td>3.080581e+05</td>\n",
       "      <td>3.096874e+05</td>\n",
       "      <td>NaN</td>\n",
       "    </tr>\n",
       "    <tr>\n",
       "      <th>1</th>\n",
       "      <td>AL</td>\n",
       "      <td>27</td>\n",
       "      <td>Alagoas</td>\n",
       "      <td>1.094083e+06</td>\n",
       "      <td>1.648612e+06</td>\n",
       "      <td>1.675906e+06</td>\n",
       "      <td>1.661463e+06</td>\n",
       "      <td>1.320639e+06</td>\n",
       "      <td>1.140776e+06</td>\n",
       "      <td>8.737912e+05</td>\n",
       "      <td>...</td>\n",
       "      <td>1.958261e+06</td>\n",
       "      <td>1.846452e+06</td>\n",
       "      <td>1.859065e+06</td>\n",
       "      <td>1.823977e+06</td>\n",
       "      <td>1.458481e+06</td>\n",
       "      <td>1.459544e+06</td>\n",
       "      <td>1.293523e+06</td>\n",
       "      <td>1.188205e+06</td>\n",
       "      <td>1.097614e+06</td>\n",
       "      <td>NaN</td>\n",
       "    </tr>\n",
       "    <tr>\n",
       "      <th>2</th>\n",
       "      <td>AM</td>\n",
       "      <td>13</td>\n",
       "      <td>Amazonas</td>\n",
       "      <td>1.502130e+06</td>\n",
       "      <td>2.014757e+06</td>\n",
       "      <td>2.168534e+06</td>\n",
       "      <td>2.466623e+06</td>\n",
       "      <td>2.529082e+06</td>\n",
       "      <td>1.885088e+06</td>\n",
       "      <td>2.017014e+06</td>\n",
       "      <td>...</td>\n",
       "      <td>3.148854e+06</td>\n",
       "      <td>2.926015e+06</td>\n",
       "      <td>3.405730e+06</td>\n",
       "      <td>2.994511e+06</td>\n",
       "      <td>2.430038e+06</td>\n",
       "      <td>2.216941e+06</td>\n",
       "      <td>1.823895e+06</td>\n",
       "      <td>1.673511e+06</td>\n",
       "      <td>1.760398e+06</td>\n",
       "      <td>NaN</td>\n",
       "    </tr>\n",
       "    <tr>\n",
       "      <th>3</th>\n",
       "      <td>AP</td>\n",
       "      <td>16</td>\n",
       "      <td>Amapá</td>\n",
       "      <td>8.479147e+04</td>\n",
       "      <td>9.843820e+04</td>\n",
       "      <td>9.542397e+04</td>\n",
       "      <td>1.096430e+05</td>\n",
       "      <td>1.112544e+05</td>\n",
       "      <td>7.965913e+04</td>\n",
       "      <td>8.441434e+04</td>\n",
       "      <td>...</td>\n",
       "      <td>4.782305e+05</td>\n",
       "      <td>6.497477e+05</td>\n",
       "      <td>5.738301e+05</td>\n",
       "      <td>6.575904e+05</td>\n",
       "      <td>7.024214e+05</td>\n",
       "      <td>4.768975e+05</td>\n",
       "      <td>3.716279e+05</td>\n",
       "      <td>3.716938e+05</td>\n",
       "      <td>3.161351e+05</td>\n",
       "      <td>NaN</td>\n",
       "    </tr>\n",
       "    <tr>\n",
       "      <th>4</th>\n",
       "      <td>BA</td>\n",
       "      <td>29</td>\n",
       "      <td>Bahia</td>\n",
       "      <td>6.513353e+06</td>\n",
       "      <td>9.173761e+06</td>\n",
       "      <td>5.200354e+06</td>\n",
       "      <td>4.989453e+06</td>\n",
       "      <td>6.707817e+06</td>\n",
       "      <td>6.753978e+06</td>\n",
       "      <td>6.077555e+06</td>\n",
       "      <td>...</td>\n",
       "      <td>1.123077e+07</td>\n",
       "      <td>1.109462e+07</td>\n",
       "      <td>1.197595e+07</td>\n",
       "      <td>1.222309e+07</td>\n",
       "      <td>1.083619e+07</td>\n",
       "      <td>9.365402e+06</td>\n",
       "      <td>8.056606e+06</td>\n",
       "      <td>7.452787e+06</td>\n",
       "      <td>7.105524e+06</td>\n",
       "      <td>NaN</td>\n",
       "    </tr>\n",
       "  </tbody>\n",
       "</table>\n",
       "<p>5 rows × 39 columns</p>\n",
       "</div>"
      ],
      "text/plain": [
       "  Sigla  Código    Estado          1985          1986          1987  \\\n",
       "0    AC      12      Acre  2.074864e+05  3.073232e+05  2.350580e+05   \n",
       "1    AL      27   Alagoas  1.094083e+06  1.648612e+06  1.675906e+06   \n",
       "2    AM      13  Amazonas  1.502130e+06  2.014757e+06  2.168534e+06   \n",
       "3    AP      16     Amapá  8.479147e+04  9.843820e+04  9.542397e+04   \n",
       "4    BA      29     Bahia  6.513353e+06  9.173761e+06  5.200354e+06   \n",
       "\n",
       "           1988          1989          1990          1991  ...          2011  \\\n",
       "0  2.748413e+05  2.786433e+05  2.039486e+05  2.130618e+05  ...  5.814337e+05   \n",
       "1  1.661463e+06  1.320639e+06  1.140776e+06  8.737912e+05  ...  1.958261e+06   \n",
       "2  2.466623e+06  2.529082e+06  1.885088e+06  2.017014e+06  ...  3.148854e+06   \n",
       "3  1.096430e+05  1.112544e+05  7.965913e+04  8.441434e+04  ...  4.782305e+05   \n",
       "4  4.989453e+06  6.707817e+06  6.753978e+06  6.077555e+06  ...  1.123077e+07   \n",
       "\n",
       "           2012          2013          2014          2015          2016  \\\n",
       "0  5.591640e+05  5.175694e+05  6.801141e+05  4.635291e+05  3.632690e+05   \n",
       "1  1.846452e+06  1.859065e+06  1.823977e+06  1.458481e+06  1.459544e+06   \n",
       "2  2.926015e+06  3.405730e+06  2.994511e+06  2.430038e+06  2.216941e+06   \n",
       "3  6.497477e+05  5.738301e+05  6.575904e+05  7.024214e+05  4.768975e+05   \n",
       "4  1.109462e+07  1.197595e+07  1.222309e+07  1.083619e+07  9.365402e+06   \n",
       "\n",
       "           2017          2018          2019  Unnamed: 38  \n",
       "0  3.032005e+05  3.080581e+05  3.096874e+05          NaN  \n",
       "1  1.293523e+06  1.188205e+06  1.097614e+06          NaN  \n",
       "2  1.823895e+06  1.673511e+06  1.760398e+06          NaN  \n",
       "3  3.716279e+05  3.716938e+05  3.161351e+05          NaN  \n",
       "4  8.056606e+06  7.452787e+06  7.105524e+06          NaN  \n",
       "\n",
       "[5 rows x 39 columns]"
      ]
     },
     "execution_count": 556,
     "metadata": {},
     "output_type": "execute_result"
    }
   ],
   "source": [
    "pib_cc =  pd.read_csv(f\"{PATH}bases/pib_construcao_civil.csv\")\n",
    "pib_cc.head()"
   ]
  },
  {
   "cell_type": "code",
   "execution_count": 557,
   "id": "26f79b71-7163-492f-9064-96bebdd5bd3b",
   "metadata": {},
   "outputs": [],
   "source": [
    "pib_cc.drop([\"Código\", \"Estado\"], inplace=True, axis=1)\n",
    "pib_cc = pib_cc.melt(id_vars=[\"Sigla\"], value_vars=[f\"{i}\" for i in range (1985,2020)], value_name=\"pib_cc\", var_name=\"anos\")\n",
    "#df[\"pib_cc\"] = pib_cc[\"pib_cc\"]"
   ]
  },
  {
   "cell_type": "code",
   "execution_count": 558,
   "id": "df1cb553-9962-4b22-99dc-cc8c29fb4824",
   "metadata": {},
   "outputs": [],
   "source": [
    "pib_cc['data'] = pd.to_datetime(pib_cc['anos'], format=\"%Y\")\n",
    "pib_cc = pib_cc.drop(['anos'], axis=1)"
   ]
  },
  {
   "cell_type": "code",
   "execution_count": 559,
   "id": "321cfd62-5034-4554-a68f-bc429482e411",
   "metadata": {},
   "outputs": [],
   "source": [
    "pib_cc = pib_cc.rename({'Sigla':\"estados\"}, axis=1)"
   ]
  },
  {
   "cell_type": "code",
   "execution_count": 560,
   "id": "1d33ed69-07a4-457c-aaec-4dd73263e0b3",
   "metadata": {},
   "outputs": [
    {
     "data": {
      "text/html": [
       "<div>\n",
       "<style scoped>\n",
       "    .dataframe tbody tr th:only-of-type {\n",
       "        vertical-align: middle;\n",
       "    }\n",
       "\n",
       "    .dataframe tbody tr th {\n",
       "        vertical-align: top;\n",
       "    }\n",
       "\n",
       "    .dataframe thead th {\n",
       "        text-align: right;\n",
       "    }\n",
       "</style>\n",
       "<table border=\"1\" class=\"dataframe\">\n",
       "  <thead>\n",
       "    <tr style=\"text-align: right;\">\n",
       "      <th></th>\n",
       "      <th>estados</th>\n",
       "      <th>pib_cc</th>\n",
       "      <th>data</th>\n",
       "    </tr>\n",
       "  </thead>\n",
       "  <tbody>\n",
       "    <tr>\n",
       "      <th>0</th>\n",
       "      <td>AC</td>\n",
       "      <td>2.074864e+05</td>\n",
       "      <td>1985-01-01</td>\n",
       "    </tr>\n",
       "    <tr>\n",
       "      <th>1</th>\n",
       "      <td>AL</td>\n",
       "      <td>1.094083e+06</td>\n",
       "      <td>1985-01-01</td>\n",
       "    </tr>\n",
       "    <tr>\n",
       "      <th>2</th>\n",
       "      <td>AM</td>\n",
       "      <td>1.502130e+06</td>\n",
       "      <td>1985-01-01</td>\n",
       "    </tr>\n",
       "    <tr>\n",
       "      <th>3</th>\n",
       "      <td>AP</td>\n",
       "      <td>8.479147e+04</td>\n",
       "      <td>1985-01-01</td>\n",
       "    </tr>\n",
       "    <tr>\n",
       "      <th>4</th>\n",
       "      <td>BA</td>\n",
       "      <td>6.513353e+06</td>\n",
       "      <td>1985-01-01</td>\n",
       "    </tr>\n",
       "  </tbody>\n",
       "</table>\n",
       "</div>"
      ],
      "text/plain": [
       "  estados        pib_cc       data\n",
       "0      AC  2.074864e+05 1985-01-01\n",
       "1      AL  1.094083e+06 1985-01-01\n",
       "2      AM  1.502130e+06 1985-01-01\n",
       "3      AP  8.479147e+04 1985-01-01\n",
       "4      BA  6.513353e+06 1985-01-01"
      ]
     },
     "execution_count": 560,
     "metadata": {},
     "output_type": "execute_result"
    }
   ],
   "source": [
    "pib_cc.head()"
   ]
  },
  {
   "cell_type": "code",
   "execution_count": 561,
   "id": "f142970e-61b5-4efa-83e3-ac661cba35f2",
   "metadata": {},
   "outputs": [],
   "source": [
    "df = pd.merge(df, pib_cc, how=\"left\").fillna(method=\"ffill\")"
   ]
  },
  {
   "cell_type": "code",
   "execution_count": 562,
   "id": "79b5a2b3-9435-48f5-bb21-a3e956ecbb12",
   "metadata": {},
   "outputs": [
    {
     "name": "stdout",
     "output_type": "stream",
     "text": [
      "Todas as datas repetem 27 vezes? True\n",
      "Estados unicos: 27\n",
      "Shape: (11340, 6)\n"
     ]
    }
   ],
   "source": [
    "search_duplicates(df)"
   ]
  },
  {
   "cell_type": "markdown",
   "id": "6c9d4bf6-db1d-4e04-a736-cc93a41a6d75",
   "metadata": {
    "jp-MarkdownHeadingCollapsed": true,
    "tags": []
   },
   "source": [
    "# População\n",
    "\n",
    "- Fonte: IBGE\n",
    "- Link: https://basedosdados.org/dataset/br-ibge-populacao\n",
    "- Granularidade: anual por estado"
   ]
  },
  {
   "cell_type": "code",
   "execution_count": 563,
   "id": "b1aa9074-9f8d-4a59-bdf2-c2f61cf4a48c",
   "metadata": {},
   "outputs": [],
   "source": [
    "pop = pd.read_csv(f\"{PATH}bases/populacao.csv\")"
   ]
  },
  {
   "cell_type": "code",
   "execution_count": 564,
   "id": "f3ca7a12-627d-451a-8748-dd2cc30819d9",
   "metadata": {},
   "outputs": [
    {
     "data": {
      "text/html": [
       "<div>\n",
       "<style scoped>\n",
       "    .dataframe tbody tr th:only-of-type {\n",
       "        vertical-align: middle;\n",
       "    }\n",
       "\n",
       "    .dataframe tbody tr th {\n",
       "        vertical-align: top;\n",
       "    }\n",
       "\n",
       "    .dataframe thead th {\n",
       "        text-align: right;\n",
       "    }\n",
       "</style>\n",
       "<table border=\"1\" class=\"dataframe\">\n",
       "  <thead>\n",
       "    <tr style=\"text-align: right;\">\n",
       "      <th></th>\n",
       "      <th>ano</th>\n",
       "      <th>sigla_uf</th>\n",
       "      <th>populacao</th>\n",
       "    </tr>\n",
       "  </thead>\n",
       "  <tbody>\n",
       "    <tr>\n",
       "      <th>0</th>\n",
       "      <td>1991</td>\n",
       "      <td>AC</td>\n",
       "      <td>417102</td>\n",
       "    </tr>\n",
       "    <tr>\n",
       "      <th>1</th>\n",
       "      <td>1991</td>\n",
       "      <td>AL</td>\n",
       "      <td>2512658</td>\n",
       "    </tr>\n",
       "    <tr>\n",
       "      <th>2</th>\n",
       "      <td>1991</td>\n",
       "      <td>AM</td>\n",
       "      <td>2102766</td>\n",
       "    </tr>\n",
       "    <tr>\n",
       "      <th>3</th>\n",
       "      <td>1991</td>\n",
       "      <td>AP</td>\n",
       "      <td>289035</td>\n",
       "    </tr>\n",
       "    <tr>\n",
       "      <th>4</th>\n",
       "      <td>1991</td>\n",
       "      <td>BA</td>\n",
       "      <td>11867336</td>\n",
       "    </tr>\n",
       "  </tbody>\n",
       "</table>\n",
       "</div>"
      ],
      "text/plain": [
       "    ano sigla_uf  populacao\n",
       "0  1991       AC     417102\n",
       "1  1991       AL    2512658\n",
       "2  1991       AM    2102766\n",
       "3  1991       AP     289035\n",
       "4  1991       BA   11867336"
      ]
     },
     "execution_count": 564,
     "metadata": {},
     "output_type": "execute_result"
    }
   ],
   "source": [
    "pop.head()"
   ]
  },
  {
   "cell_type": "code",
   "execution_count": 565,
   "id": "343edcc3-48dd-4a1a-8d3e-37a2987e1e4d",
   "metadata": {},
   "outputs": [],
   "source": [
    "pop[\"data\"] = pd.to_datetime(pop[\"ano\"], format=\"%Y\")\n",
    "pop=pop.drop(\"ano\", axis=1)\n",
    "pop = pop.rename({\"sigla_uf\":\"estados\"}, axis=1)"
   ]
  },
  {
   "cell_type": "code",
   "execution_count": 566,
   "id": "655b3eb3-3720-46a7-a5ce-2a5b835c7780",
   "metadata": {},
   "outputs": [
    {
     "data": {
      "text/html": [
       "<div>\n",
       "<style scoped>\n",
       "    .dataframe tbody tr th:only-of-type {\n",
       "        vertical-align: middle;\n",
       "    }\n",
       "\n",
       "    .dataframe tbody tr th {\n",
       "        vertical-align: top;\n",
       "    }\n",
       "\n",
       "    .dataframe thead th {\n",
       "        text-align: right;\n",
       "    }\n",
       "</style>\n",
       "<table border=\"1\" class=\"dataframe\">\n",
       "  <thead>\n",
       "    <tr style=\"text-align: right;\">\n",
       "      <th></th>\n",
       "      <th>estados</th>\n",
       "      <th>populacao</th>\n",
       "      <th>data</th>\n",
       "    </tr>\n",
       "  </thead>\n",
       "  <tbody>\n",
       "    <tr>\n",
       "      <th>0</th>\n",
       "      <td>AC</td>\n",
       "      <td>417102</td>\n",
       "      <td>1991-01-01</td>\n",
       "    </tr>\n",
       "    <tr>\n",
       "      <th>1</th>\n",
       "      <td>AL</td>\n",
       "      <td>2512658</td>\n",
       "      <td>1991-01-01</td>\n",
       "    </tr>\n",
       "    <tr>\n",
       "      <th>2</th>\n",
       "      <td>AM</td>\n",
       "      <td>2102766</td>\n",
       "      <td>1991-01-01</td>\n",
       "    </tr>\n",
       "    <tr>\n",
       "      <th>3</th>\n",
       "      <td>AP</td>\n",
       "      <td>289035</td>\n",
       "      <td>1991-01-01</td>\n",
       "    </tr>\n",
       "    <tr>\n",
       "      <th>4</th>\n",
       "      <td>BA</td>\n",
       "      <td>11867336</td>\n",
       "      <td>1991-01-01</td>\n",
       "    </tr>\n",
       "  </tbody>\n",
       "</table>\n",
       "</div>"
      ],
      "text/plain": [
       "  estados  populacao       data\n",
       "0      AC     417102 1991-01-01\n",
       "1      AL    2512658 1991-01-01\n",
       "2      AM    2102766 1991-01-01\n",
       "3      AP     289035 1991-01-01\n",
       "4      BA   11867336 1991-01-01"
      ]
     },
     "execution_count": 566,
     "metadata": {},
     "output_type": "execute_result"
    }
   ],
   "source": [
    "pop.head()"
   ]
  },
  {
   "cell_type": "code",
   "execution_count": 567,
   "id": "6d33318f-df93-41fb-b81d-2773e4b92998",
   "metadata": {},
   "outputs": [],
   "source": [
    "df = pd.merge(df, pop, how=\"left\").fillna(method=\"ffill\")"
   ]
  },
  {
   "cell_type": "code",
   "execution_count": 568,
   "id": "86e3afa4-791e-4dd3-8d13-8cfb2bd8d875",
   "metadata": {},
   "outputs": [
    {
     "name": "stdout",
     "output_type": "stream",
     "text": [
      "Todas as datas repetem 27 vezes? True\n",
      "Estados unicos: 27\n",
      "Shape: (11340, 7)\n"
     ]
    }
   ],
   "source": [
    "search_duplicates(df)"
   ]
  },
  {
   "cell_type": "markdown",
   "id": "03dcda99-92a6-4146-b587-393d110eaf12",
   "metadata": {
    "tags": []
   },
   "source": [
    "# INCC\n",
    "\n",
    "- Fonte: FGV\n",
    "- Granularidade: mensal para o Brasil"
   ]
  },
  {
   "cell_type": "code",
   "execution_count": 569,
   "id": "651fb958-ac47-4e85-849b-0c54f03c615e",
   "metadata": {},
   "outputs": [],
   "source": [
    "incc = pd.read_csv(f\"{PATH}bases/INCC.csv\")"
   ]
  },
  {
   "cell_type": "code",
   "execution_count": 570,
   "id": "292428c1-04d3-4c9d-bcc5-1b181295cedf",
   "metadata": {},
   "outputs": [
    {
     "data": {
      "text/html": [
       "<div>\n",
       "<style scoped>\n",
       "    .dataframe tbody tr th:only-of-type {\n",
       "        vertical-align: middle;\n",
       "    }\n",
       "\n",
       "    .dataframe tbody tr th {\n",
       "        vertical-align: top;\n",
       "    }\n",
       "\n",
       "    .dataframe thead th {\n",
       "        text-align: right;\n",
       "    }\n",
       "</style>\n",
       "<table border=\"1\" class=\"dataframe\">\n",
       "  <thead>\n",
       "    <tr style=\"text-align: right;\">\n",
       "      <th></th>\n",
       "      <th>Ano</th>\n",
       "      <th>janeiro</th>\n",
       "      <th>fevereiro</th>\n",
       "      <th>março</th>\n",
       "      <th>abril</th>\n",
       "      <th>maio</th>\n",
       "      <th>junho</th>\n",
       "      <th>julho</th>\n",
       "      <th>agosto</th>\n",
       "      <th>setembro</th>\n",
       "      <th>outubro</th>\n",
       "      <th>novembro</th>\n",
       "      <th>dezembro</th>\n",
       "    </tr>\n",
       "  </thead>\n",
       "  <tbody>\n",
       "    <tr>\n",
       "      <th>0</th>\n",
       "      <td>1980</td>\n",
       "      <td>4.70</td>\n",
       "      <td>9.53</td>\n",
       "      <td>12.80</td>\n",
       "      <td>3.13</td>\n",
       "      <td>4.86</td>\n",
       "      <td>5.73</td>\n",
       "      <td>6.33</td>\n",
       "      <td>10.28</td>\n",
       "      <td>8.02</td>\n",
       "      <td>3.10</td>\n",
       "      <td>5.06</td>\n",
       "      <td>4.98</td>\n",
       "    </tr>\n",
       "    <tr>\n",
       "      <th>1</th>\n",
       "      <td>1981</td>\n",
       "      <td>4.48</td>\n",
       "      <td>14.89</td>\n",
       "      <td>8.06</td>\n",
       "      <td>3.39</td>\n",
       "      <td>3.50</td>\n",
       "      <td>2.35</td>\n",
       "      <td>1.96</td>\n",
       "      <td>12.39</td>\n",
       "      <td>5.54</td>\n",
       "      <td>1.72</td>\n",
       "      <td>3.28</td>\n",
       "      <td>3.11</td>\n",
       "    </tr>\n",
       "    <tr>\n",
       "      <th>2</th>\n",
       "      <td>1982</td>\n",
       "      <td>3.80</td>\n",
       "      <td>10.87</td>\n",
       "      <td>12.55</td>\n",
       "      <td>4.28</td>\n",
       "      <td>5.25</td>\n",
       "      <td>3.67</td>\n",
       "      <td>5.50</td>\n",
       "      <td>16.94</td>\n",
       "      <td>4.02</td>\n",
       "      <td>3.24</td>\n",
       "      <td>4.06</td>\n",
       "      <td>2.37</td>\n",
       "    </tr>\n",
       "    <tr>\n",
       "      <th>3</th>\n",
       "      <td>1983</td>\n",
       "      <td>3.86</td>\n",
       "      <td>12.65</td>\n",
       "      <td>8.29</td>\n",
       "      <td>4.07</td>\n",
       "      <td>7.16</td>\n",
       "      <td>5.05</td>\n",
       "      <td>6.65</td>\n",
       "      <td>16.87</td>\n",
       "      <td>8.91</td>\n",
       "      <td>5.06</td>\n",
       "      <td>12.05</td>\n",
       "      <td>4.94</td>\n",
       "    </tr>\n",
       "    <tr>\n",
       "      <th>4</th>\n",
       "      <td>1984</td>\n",
       "      <td>5.94</td>\n",
       "      <td>21.67</td>\n",
       "      <td>9.36</td>\n",
       "      <td>4.36</td>\n",
       "      <td>7.99</td>\n",
       "      <td>8.93</td>\n",
       "      <td>5.26</td>\n",
       "      <td>27.61</td>\n",
       "      <td>5.60</td>\n",
       "      <td>8.64</td>\n",
       "      <td>8.64</td>\n",
       "      <td>8.16</td>\n",
       "    </tr>\n",
       "  </tbody>\n",
       "</table>\n",
       "</div>"
      ],
      "text/plain": [
       "    Ano  janeiro  fevereiro  março  abril  maio  junho  julho  agosto  \\\n",
       "0  1980     4.70       9.53  12.80   3.13  4.86   5.73   6.33   10.28   \n",
       "1  1981     4.48      14.89   8.06   3.39  3.50   2.35   1.96   12.39   \n",
       "2  1982     3.80      10.87  12.55   4.28  5.25   3.67   5.50   16.94   \n",
       "3  1983     3.86      12.65   8.29   4.07  7.16   5.05   6.65   16.87   \n",
       "4  1984     5.94      21.67   9.36   4.36  7.99   8.93   5.26   27.61   \n",
       "\n",
       "   setembro  outubro  novembro  dezembro  \n",
       "0      8.02     3.10      5.06      4.98  \n",
       "1      5.54     1.72      3.28      3.11  \n",
       "2      4.02     3.24      4.06      2.37  \n",
       "3      8.91     5.06     12.05      4.94  \n",
       "4      5.60     8.64      8.64      8.16  "
      ]
     },
     "execution_count": 570,
     "metadata": {},
     "output_type": "execute_result"
    }
   ],
   "source": [
    "incc.head()"
   ]
  },
  {
   "cell_type": "code",
   "execution_count": 571,
   "id": "a7ef1593-8017-4fa9-ac24-c812ae077627",
   "metadata": {},
   "outputs": [],
   "source": [
    "incc = pd.melt(incc, id_vars=[\"Ano\"], value_vars=incc.columns[1:], var_name=\"mes\", value_name=\"incc\")"
   ]
  },
  {
   "cell_type": "code",
   "execution_count": 572,
   "id": "15be77df-1712-4cf9-a641-90f508412096",
   "metadata": {},
   "outputs": [],
   "source": [
    "meses = ['janeiro', 'fevereiro', 'março', 'abril',\n",
    "         'maio', 'junho', 'julho', 'agosto', 'setembro', \n",
    "         'outubro', 'novembro', 'dezembro']\n",
    "\n",
    "def categorize (x):\n",
    "    for i in range(12):\n",
    "        if x == meses[i]:\n",
    "            return f\"{i+1:02d}\"\n",
    "\n",
    "categorize(\"fevereiro\")\n",
    "incc[\"ind_mes\"] = incc[\"mes\"].apply(categorize)\n",
    "#incc[incc[\"mes\"] == \"janeiro\"][\"data\"] = pd.to_datetime(f\"{str(incc['Ano'])}01\", format=\"%Y%m\")"
   ]
  },
  {
   "cell_type": "code",
   "execution_count": 573,
   "id": "b9a37aa2-b345-4898-90d0-a78cfc40733a",
   "metadata": {},
   "outputs": [],
   "source": [
    "incc[\"Ano\"]=incc[\"Ano\"].astype('str')\n",
    "incc[\"anomes\"] = incc[\"Ano\"]+incc[\"ind_mes\"]\n",
    "incc[\"data\"] = pd.to_datetime(incc[\"anomes\"], format=\"%Y%m\")"
   ]
  },
  {
   "cell_type": "code",
   "execution_count": 574,
   "id": "f6904ba2-924f-434b-a210-967790c365ee",
   "metadata": {},
   "outputs": [],
   "source": [
    "incc =incc[[\"data\", \"incc\"]]"
   ]
  },
  {
   "cell_type": "code",
   "execution_count": 575,
   "id": "06f6009e-3eb7-4329-958b-fd480e572c9e",
   "metadata": {},
   "outputs": [],
   "source": [
    "df = pd.merge(df, incc, how=\"left\", on=[\"data\"])#.fillna(method=\"ffill\")"
   ]
  },
  {
   "cell_type": "code",
   "execution_count": 576,
   "id": "64b7e93d-7af8-4e73-a7ab-913dd7fb3339",
   "metadata": {},
   "outputs": [
    {
     "name": "stdout",
     "output_type": "stream",
     "text": [
      "Todas as datas repetem 27 vezes? True\n",
      "Estados unicos: 27\n",
      "Shape: (11340, 8)\n"
     ]
    }
   ],
   "source": [
    "search_duplicates(df)"
   ]
  },
  {
   "cell_type": "markdown",
   "id": "e0029644-c2d6-4662-a4e7-c231dba135b5",
   "metadata": {
    "tags": []
   },
   "source": [
    "# IPCA"
   ]
  },
  {
   "cell_type": "code",
   "execution_count": 577,
   "id": "c177bca4-a87f-4ec0-9592-ff094a74a724",
   "metadata": {},
   "outputs": [],
   "source": [
    "ipca = pd.read_csv(f\"{PATH}bases/ipca.csv\")"
   ]
  },
  {
   "cell_type": "code",
   "execution_count": 578,
   "id": "b1c81a91-d433-46ed-a259-c74f16eec72a",
   "metadata": {},
   "outputs": [
    {
     "data": {
      "text/html": [
       "<div>\n",
       "<style scoped>\n",
       "    .dataframe tbody tr th:only-of-type {\n",
       "        vertical-align: middle;\n",
       "    }\n",
       "\n",
       "    .dataframe tbody tr th {\n",
       "        vertical-align: top;\n",
       "    }\n",
       "\n",
       "    .dataframe thead th {\n",
       "        text-align: right;\n",
       "    }\n",
       "</style>\n",
       "<table border=\"1\" class=\"dataframe\">\n",
       "  <thead>\n",
       "    <tr style=\"text-align: right;\">\n",
       "      <th></th>\n",
       "      <th>Ano</th>\n",
       "      <th>janeiro</th>\n",
       "      <th>fevereiro</th>\n",
       "      <th>março</th>\n",
       "      <th>abril</th>\n",
       "      <th>maio</th>\n",
       "      <th>junho</th>\n",
       "      <th>julho</th>\n",
       "      <th>agosto</th>\n",
       "      <th>setembro</th>\n",
       "      <th>outubro</th>\n",
       "      <th>novembro</th>\n",
       "      <th>dezembro</th>\n",
       "    </tr>\n",
       "  </thead>\n",
       "  <tbody>\n",
       "    <tr>\n",
       "      <th>0</th>\n",
       "      <td>1980</td>\n",
       "      <td>6.62</td>\n",
       "      <td>11.54</td>\n",
       "      <td>18.27</td>\n",
       "      <td>24.53</td>\n",
       "      <td>31.63</td>\n",
       "      <td>38.61</td>\n",
       "      <td>46.30</td>\n",
       "      <td>53.53</td>\n",
       "      <td>60.03</td>\n",
       "      <td>75.20</td>\n",
       "      <td>86.89</td>\n",
       "      <td>99.25</td>\n",
       "    </tr>\n",
       "    <tr>\n",
       "      <th>1</th>\n",
       "      <td>1981</td>\n",
       "      <td>6.84</td>\n",
       "      <td>13.68</td>\n",
       "      <td>19.33</td>\n",
       "      <td>27.04</td>\n",
       "      <td>34.10</td>\n",
       "      <td>41.50</td>\n",
       "      <td>50.35</td>\n",
       "      <td>58.62</td>\n",
       "      <td>66.95</td>\n",
       "      <td>75.43</td>\n",
       "      <td>84.68</td>\n",
       "      <td>95.62</td>\n",
       "    </tr>\n",
       "    <tr>\n",
       "      <th>2</th>\n",
       "      <td>1982</td>\n",
       "      <td>6.97</td>\n",
       "      <td>14.06</td>\n",
       "      <td>20.58</td>\n",
       "      <td>27.68</td>\n",
       "      <td>36.18</td>\n",
       "      <td>45.86</td>\n",
       "      <td>55.13</td>\n",
       "      <td>64.39</td>\n",
       "      <td>72.75</td>\n",
       "      <td>80.42</td>\n",
       "      <td>89.96</td>\n",
       "      <td>104.79</td>\n",
       "    </tr>\n",
       "    <tr>\n",
       "      <th>3</th>\n",
       "      <td>1983</td>\n",
       "      <td>8.64</td>\n",
       "      <td>17.18</td>\n",
       "      <td>25.78</td>\n",
       "      <td>34.06</td>\n",
       "      <td>42.75</td>\n",
       "      <td>56.86</td>\n",
       "      <td>72.66</td>\n",
       "      <td>88.40</td>\n",
       "      <td>107.80</td>\n",
       "      <td>126.23</td>\n",
       "      <td>142.93</td>\n",
       "      <td>164.01</td>\n",
       "    </tr>\n",
       "    <tr>\n",
       "      <th>4</th>\n",
       "      <td>1984</td>\n",
       "      <td>9.67</td>\n",
       "      <td>20.09</td>\n",
       "      <td>30.82</td>\n",
       "      <td>43.31</td>\n",
       "      <td>56.28</td>\n",
       "      <td>72.03</td>\n",
       "      <td>88.76</td>\n",
       "      <td>106.41</td>\n",
       "      <td>130.65</td>\n",
       "      <td>154.73</td>\n",
       "      <td>181.54</td>\n",
       "      <td>215.26</td>\n",
       "    </tr>\n",
       "  </tbody>\n",
       "</table>\n",
       "</div>"
      ],
      "text/plain": [
       "    Ano  janeiro  fevereiro  março  abril   maio  junho  julho  agosto  \\\n",
       "0  1980     6.62      11.54  18.27  24.53  31.63  38.61  46.30   53.53   \n",
       "1  1981     6.84      13.68  19.33  27.04  34.10  41.50  50.35   58.62   \n",
       "2  1982     6.97      14.06  20.58  27.68  36.18  45.86  55.13   64.39   \n",
       "3  1983     8.64      17.18  25.78  34.06  42.75  56.86  72.66   88.40   \n",
       "4  1984     9.67      20.09  30.82  43.31  56.28  72.03  88.76  106.41   \n",
       "\n",
       "   setembro  outubro  novembro  dezembro  \n",
       "0     60.03    75.20     86.89     99.25  \n",
       "1     66.95    75.43     84.68     95.62  \n",
       "2     72.75    80.42     89.96    104.79  \n",
       "3    107.80   126.23    142.93    164.01  \n",
       "4    130.65   154.73    181.54    215.26  "
      ]
     },
     "execution_count": 578,
     "metadata": {},
     "output_type": "execute_result"
    }
   ],
   "source": [
    "ipca.head()"
   ]
  },
  {
   "cell_type": "code",
   "execution_count": 579,
   "id": "94554b67-5873-461c-aa1c-02ec015f9b1a",
   "metadata": {},
   "outputs": [],
   "source": [
    "ipca = pd.melt(ipca, id_vars=[\"Ano\"], value_vars=ipca.columns[1:], var_name=\"mes\", value_name=\"ipca\")"
   ]
  },
  {
   "cell_type": "code",
   "execution_count": 580,
   "id": "9b6c8fc8-0d37-471b-890f-1400056f4c74",
   "metadata": {},
   "outputs": [],
   "source": [
    "ipca[\"ind_mes\"] = ipca[\"mes\"].apply(categorize)"
   ]
  },
  {
   "cell_type": "code",
   "execution_count": 581,
   "id": "dba047f2-438b-4d6c-9763-1d7175b62631",
   "metadata": {},
   "outputs": [],
   "source": [
    "ipca[\"anomes\"] = ipca[\"Ano\"].astype('str')+ipca[\"ind_mes\"]\n",
    "ipca[\"data\"] = pd.to_datetime(ipca[\"anomes\"], format=\"%Y%m\")"
   ]
  },
  {
   "cell_type": "code",
   "execution_count": 582,
   "id": "7599673d-4778-4f69-9bb8-5cb9e4556f32",
   "metadata": {},
   "outputs": [],
   "source": [
    "ipca=ipca[[\"data\", \"ipca\"]]"
   ]
  },
  {
   "cell_type": "code",
   "execution_count": 583,
   "id": "57a4ca5a-2196-427b-a0ff-af5a207820a4",
   "metadata": {},
   "outputs": [],
   "source": [
    "df = pd.merge(df, ipca, how=\"left\", on=[\"data\"])#.fillna(method=\"ffill\")"
   ]
  },
  {
   "cell_type": "code",
   "execution_count": 584,
   "id": "3057b024-3ad7-4353-ae4b-f3f65f736f02",
   "metadata": {},
   "outputs": [
    {
     "name": "stdout",
     "output_type": "stream",
     "text": [
      "Todas as datas repetem 27 vezes? True\n",
      "Estados unicos: 27\n",
      "Shape: (11340, 9)\n"
     ]
    }
   ],
   "source": [
    "search_duplicates(df)"
   ]
  },
  {
   "cell_type": "markdown",
   "id": "7a1a35bb-3bf7-4174-963f-6ca42361c7c6",
   "metadata": {},
   "source": [
    "# IGP"
   ]
  },
  {
   "cell_type": "code",
   "execution_count": 585,
   "id": "29246b75-69d2-4dd9-9261-b3defde4cb12",
   "metadata": {},
   "outputs": [],
   "source": [
    "igp = pd.read_csv(f\"{PATH}bases/igp.csv\").dropna(axis=\"columns\", how=\"any\")\n",
    "igp.columns = [\"data\", \"igp\"]\n",
    "igp[\"data\"]=pd.to_datetime(igp[\"data\"], format=\"%Y%m\")"
   ]
  },
  {
   "cell_type": "code",
   "execution_count": 586,
   "id": "321fcbed-455f-4ee5-8862-caddc11c1864",
   "metadata": {},
   "outputs": [],
   "source": [
    "df = pd.merge(df, igp, how=\"left\", on=[\"data\"])"
   ]
  },
  {
   "cell_type": "code",
   "execution_count": 587,
   "id": "436129be-3609-4516-b607-131a9e084e17",
   "metadata": {
    "tags": []
   },
   "outputs": [
    {
     "name": "stdout",
     "output_type": "stream",
     "text": [
      "Todas as datas repetem 27 vezes? True\n",
      "Estados unicos: 27\n",
      "Shape: (11340, 10)\n"
     ]
    }
   ],
   "source": [
    "search_duplicates(df)"
   ]
  },
  {
   "cell_type": "markdown",
   "id": "8b8e2c78-26c2-4aeb-92cf-8ed94f5edffc",
   "metadata": {},
   "source": [
    "# SELIC"
   ]
  },
  {
   "cell_type": "code",
   "execution_count": 588,
   "id": "8354c929-b6c5-4805-8be9-21b8c2984157",
   "metadata": {},
   "outputs": [],
   "source": [
    "selic = pd.read_csv(f\"{PATH}bases/SELIC.csv\")"
   ]
  },
  {
   "cell_type": "code",
   "execution_count": 589,
   "id": "69e8ee50-2150-4415-8781-72b698f42b5d",
   "metadata": {},
   "outputs": [
    {
     "data": {
      "text/html": [
       "<div>\n",
       "<style scoped>\n",
       "    .dataframe tbody tr th:only-of-type {\n",
       "        vertical-align: middle;\n",
       "    }\n",
       "\n",
       "    .dataframe tbody tr th {\n",
       "        vertical-align: top;\n",
       "    }\n",
       "\n",
       "    .dataframe thead th {\n",
       "        text-align: right;\n",
       "    }\n",
       "</style>\n",
       "<table border=\"1\" class=\"dataframe\">\n",
       "  <thead>\n",
       "    <tr style=\"text-align: right;\">\n",
       "      <th></th>\n",
       "      <th>Ano</th>\n",
       "      <th>janeiro</th>\n",
       "      <th>fevereiro</th>\n",
       "      <th>março</th>\n",
       "      <th>abril</th>\n",
       "      <th>maio</th>\n",
       "      <th>junho</th>\n",
       "      <th>julho</th>\n",
       "      <th>agosto</th>\n",
       "      <th>setembro</th>\n",
       "      <th>outubro</th>\n",
       "      <th>novembro</th>\n",
       "      <th>dezembro</th>\n",
       "    </tr>\n",
       "  </thead>\n",
       "  <tbody>\n",
       "    <tr>\n",
       "      <th>0</th>\n",
       "      <td>1986</td>\n",
       "      <td>NaN</td>\n",
       "      <td>NaN</td>\n",
       "      <td>NaN</td>\n",
       "      <td>NaN</td>\n",
       "      <td>NaN</td>\n",
       "      <td>0.066482</td>\n",
       "      <td>0.083826</td>\n",
       "      <td>0.120788</td>\n",
       "      <td>0.131875</td>\n",
       "      <td>0.084264</td>\n",
       "      <td>0.117146</td>\n",
       "      <td>0.242219</td>\n",
       "    </tr>\n",
       "    <tr>\n",
       "      <th>1</th>\n",
       "      <td>1987</td>\n",
       "      <td>0.498423</td>\n",
       "      <td>0.899355</td>\n",
       "      <td>0.566052</td>\n",
       "      <td>0.752127</td>\n",
       "      <td>1.107117</td>\n",
       "      <td>0.792399</td>\n",
       "      <td>0.371650</td>\n",
       "      <td>0.370975</td>\n",
       "      <td>0.366568</td>\n",
       "      <td>0.430937</td>\n",
       "      <td>0.609279</td>\n",
       "      <td>0.612633</td>\n",
       "    </tr>\n",
       "    <tr>\n",
       "      <th>2</th>\n",
       "      <td>1988</td>\n",
       "      <td>0.778818</td>\n",
       "      <td>0.890577</td>\n",
       "      <td>0.700062</td>\n",
       "      <td>0.975415</td>\n",
       "      <td>0.858712</td>\n",
       "      <td>0.838859</td>\n",
       "      <td>1.056574</td>\n",
       "      <td>0.891064</td>\n",
       "      <td>1.116060</td>\n",
       "      <td>1.381863</td>\n",
       "      <td>1.197748</td>\n",
       "      <td>1.208201</td>\n",
       "    </tr>\n",
       "    <tr>\n",
       "      <th>3</th>\n",
       "      <td>1989</td>\n",
       "      <td>1.039475</td>\n",
       "      <td>0.968531</td>\n",
       "      <td>0.888536</td>\n",
       "      <td>0.575459</td>\n",
       "      <td>0.516613</td>\n",
       "      <td>1.103163</td>\n",
       "      <td>1.372702</td>\n",
       "      <td>1.329308</td>\n",
       "      <td>1.644868</td>\n",
       "      <td>1.874483</td>\n",
       "      <td>1.993559</td>\n",
       "      <td>2.511088</td>\n",
       "    </tr>\n",
       "    <tr>\n",
       "      <th>4</th>\n",
       "      <td>1990</td>\n",
       "      <td>2.375185</td>\n",
       "      <td>3.384407</td>\n",
       "      <td>1.440015</td>\n",
       "      <td>0.218263</td>\n",
       "      <td>0.252015</td>\n",
       "      <td>0.419450</td>\n",
       "      <td>0.589091</td>\n",
       "      <td>0.475493</td>\n",
       "      <td>0.748210</td>\n",
       "      <td>0.729572</td>\n",
       "      <td>0.908650</td>\n",
       "      <td>1.034617</td>\n",
       "    </tr>\n",
       "  </tbody>\n",
       "</table>\n",
       "</div>"
      ],
      "text/plain": [
       "    Ano   janeiro  fevereiro     março     abril      maio     junho  \\\n",
       "0  1986       NaN        NaN       NaN       NaN       NaN  0.066482   \n",
       "1  1987  0.498423   0.899355  0.566052  0.752127  1.107117  0.792399   \n",
       "2  1988  0.778818   0.890577  0.700062  0.975415  0.858712  0.838859   \n",
       "3  1989  1.039475   0.968531  0.888536  0.575459  0.516613  1.103163   \n",
       "4  1990  2.375185   3.384407  1.440015  0.218263  0.252015  0.419450   \n",
       "\n",
       "      julho    agosto  setembro   outubro  novembro  dezembro  \n",
       "0  0.083826  0.120788  0.131875  0.084264  0.117146  0.242219  \n",
       "1  0.371650  0.370975  0.366568  0.430937  0.609279  0.612633  \n",
       "2  1.056574  0.891064  1.116060  1.381863  1.197748  1.208201  \n",
       "3  1.372702  1.329308  1.644868  1.874483  1.993559  2.511088  \n",
       "4  0.589091  0.475493  0.748210  0.729572  0.908650  1.034617  "
      ]
     },
     "execution_count": 589,
     "metadata": {},
     "output_type": "execute_result"
    }
   ],
   "source": [
    "selic.head()"
   ]
  },
  {
   "cell_type": "code",
   "execution_count": 590,
   "id": "47fa868a-7932-45dd-b441-6b745dda3018",
   "metadata": {},
   "outputs": [],
   "source": [
    "selic = pd.melt(selic, id_vars=[\"Ano\"], value_vars=selic.columns[1:], var_name=\"mes\", value_name=\"selic\")"
   ]
  },
  {
   "cell_type": "code",
   "execution_count": 591,
   "id": "d6a0c4d0-12c6-45bd-9e6f-7e8ef20e709d",
   "metadata": {},
   "outputs": [],
   "source": [
    "selic[\"ind_mes\"] = selic[\"mes\"].apply(categorize)"
   ]
  },
  {
   "cell_type": "code",
   "execution_count": 592,
   "id": "0be86510-4307-441e-bf67-6ee8199e00ee",
   "metadata": {},
   "outputs": [],
   "source": [
    "selic[\"anomes\"] = selic[\"Ano\"].astype('str') + selic[\"ind_mes\"]\n",
    "selic[\"data\"] = pd.to_datetime(selic[\"anomes\"], format=\"%Y%m\")"
   ]
  },
  {
   "cell_type": "code",
   "execution_count": 593,
   "id": "d7cffd32-0141-4dee-ab0a-c3803b19cfa3",
   "metadata": {},
   "outputs": [],
   "source": [
    "selic = selic[[\"data\", \"selic\"]]"
   ]
  },
  {
   "cell_type": "code",
   "execution_count": 594,
   "id": "f6ca2654-4e35-43ee-8b48-78b5eeb5eec2",
   "metadata": {},
   "outputs": [
    {
     "data": {
      "text/html": [
       "<div>\n",
       "<style scoped>\n",
       "    .dataframe tbody tr th:only-of-type {\n",
       "        vertical-align: middle;\n",
       "    }\n",
       "\n",
       "    .dataframe tbody tr th {\n",
       "        vertical-align: top;\n",
       "    }\n",
       "\n",
       "    .dataframe thead th {\n",
       "        text-align: right;\n",
       "    }\n",
       "</style>\n",
       "<table border=\"1\" class=\"dataframe\">\n",
       "  <thead>\n",
       "    <tr style=\"text-align: right;\">\n",
       "      <th></th>\n",
       "      <th>data</th>\n",
       "      <th>selic</th>\n",
       "    </tr>\n",
       "  </thead>\n",
       "  <tbody>\n",
       "    <tr>\n",
       "      <th>0</th>\n",
       "      <td>1986-01-01</td>\n",
       "      <td>NaN</td>\n",
       "    </tr>\n",
       "    <tr>\n",
       "      <th>1</th>\n",
       "      <td>1987-01-01</td>\n",
       "      <td>0.498423</td>\n",
       "    </tr>\n",
       "    <tr>\n",
       "      <th>2</th>\n",
       "      <td>1988-01-01</td>\n",
       "      <td>0.778818</td>\n",
       "    </tr>\n",
       "    <tr>\n",
       "      <th>3</th>\n",
       "      <td>1989-01-01</td>\n",
       "      <td>1.039475</td>\n",
       "    </tr>\n",
       "    <tr>\n",
       "      <th>4</th>\n",
       "      <td>1990-01-01</td>\n",
       "      <td>2.375185</td>\n",
       "    </tr>\n",
       "  </tbody>\n",
       "</table>\n",
       "</div>"
      ],
      "text/plain": [
       "        data     selic\n",
       "0 1986-01-01       NaN\n",
       "1 1987-01-01  0.498423\n",
       "2 1988-01-01  0.778818\n",
       "3 1989-01-01  1.039475\n",
       "4 1990-01-01  2.375185"
      ]
     },
     "execution_count": 594,
     "metadata": {},
     "output_type": "execute_result"
    }
   ],
   "source": [
    "selic.head()"
   ]
  },
  {
   "cell_type": "code",
   "execution_count": 595,
   "id": "de87cb4d-cb75-4247-ae09-ace03f2652ee",
   "metadata": {},
   "outputs": [],
   "source": [
    "df = pd.merge(df, selic, how=\"left\", on=[\"data\"])"
   ]
  },
  {
   "cell_type": "code",
   "execution_count": 596,
   "id": "09a64948-5967-49ce-a1a9-aa8736170f2b",
   "metadata": {},
   "outputs": [
    {
     "name": "stdout",
     "output_type": "stream",
     "text": [
      "Todas as datas repetem 27 vezes? True\n",
      "Estados unicos: 27\n",
      "Shape: (11340, 11)\n"
     ]
    }
   ],
   "source": [
    "search_duplicates(df)"
   ]
  },
  {
   "cell_type": "markdown",
   "id": "20a02685-72e2-4e16-b5d6-4d35121abbbf",
   "metadata": {},
   "source": [
    "# IDH"
   ]
  },
  {
   "cell_type": "code",
   "execution_count": 597,
   "id": "454afce2-0be7-4394-98f9-2101863b444c",
   "metadata": {},
   "outputs": [],
   "source": [
    "def map_sigla (x):\n",
    "    if x == \"Acre\":\n",
    "        return \"AC\"\n",
    "    else:\n",
    "        return \"outros\""
   ]
  },
  {
   "cell_type": "code",
   "execution_count": 598,
   "id": "98636115-0446-4922-b693-84bc05482ab5",
   "metadata": {},
   "outputs": [],
   "source": [
    "SIGLAS = [\"AC\",\"AL\",\"AP\",\"AM\",\"BA\",\"CE\",\n",
    "          \"DF\",\"ES\",\"GO\",\"MA\",\"MS\",\"MT\",\n",
    "          \"MG\",\"PB\",\"PN\",\"PA\",\"PE\",\"PI\",\n",
    "          \"RJ\",\"RN\",\"RS\",\"RO\",\"RR\",\"SC\",\n",
    "          \"SP\",\"SE\",\"TO\"]"
   ]
  },
  {
   "cell_type": "markdown",
   "id": "958051b1-13fd-4e8e-a37c-5822e366b232",
   "metadata": {},
   "source": [
    "## IDH Longevidade"
   ]
  },
  {
   "cell_type": "code",
   "execution_count": 599,
   "id": "b2a65855-ccec-4c95-8f1c-eb03b7b838d7",
   "metadata": {},
   "outputs": [],
   "source": [
    "idh_l = pd.read_csv(f\"{PATH}bases/idh_longevidade.csv\")\n",
    "idh_l[\"estados\"] = SIGLAS"
   ]
  },
  {
   "cell_type": "code",
   "execution_count": 600,
   "id": "b26ac325-e884-4288-97ce-8f33b1817538",
   "metadata": {},
   "outputs": [],
   "source": [
    "idh_l = idh_l.melt(id_vars=[\"Territorialidades\",\"estados\"], value_vars=idh_l.columns[1:-1], value_name=\"idh_l\", var_name=\"anos\")"
   ]
  },
  {
   "cell_type": "code",
   "execution_count": 601,
   "id": "aff81416-8afd-45cf-a3c5-f11402398ce0",
   "metadata": {},
   "outputs": [],
   "source": [
    "idh_l['data'] = pd.to_datetime(idh_l['anos'], format='%Y')"
   ]
  },
  {
   "cell_type": "code",
   "execution_count": 602,
   "id": "6075db53-5c43-49ad-b313-e881c3bbfc7e",
   "metadata": {},
   "outputs": [],
   "source": [
    "idh_l = idh_l[[\"data\", \"estados\", \"idh_l\"]]"
   ]
  },
  {
   "cell_type": "code",
   "execution_count": 603,
   "id": "0d78619f-cc0c-4102-955e-a843ba025f8a",
   "metadata": {},
   "outputs": [
    {
     "data": {
      "text/html": [
       "<div>\n",
       "<style scoped>\n",
       "    .dataframe tbody tr th:only-of-type {\n",
       "        vertical-align: middle;\n",
       "    }\n",
       "\n",
       "    .dataframe tbody tr th {\n",
       "        vertical-align: top;\n",
       "    }\n",
       "\n",
       "    .dataframe thead th {\n",
       "        text-align: right;\n",
       "    }\n",
       "</style>\n",
       "<table border=\"1\" class=\"dataframe\">\n",
       "  <thead>\n",
       "    <tr style=\"text-align: right;\">\n",
       "      <th></th>\n",
       "      <th>data</th>\n",
       "      <th>estados</th>\n",
       "      <th>idh_l</th>\n",
       "    </tr>\n",
       "  </thead>\n",
       "  <tbody>\n",
       "    <tr>\n",
       "      <th>0</th>\n",
       "      <td>1991-01-01</td>\n",
       "      <td>AC</td>\n",
       "      <td>0.645</td>\n",
       "    </tr>\n",
       "    <tr>\n",
       "      <th>1</th>\n",
       "      <td>1991-01-01</td>\n",
       "      <td>AL</td>\n",
       "      <td>0.552</td>\n",
       "    </tr>\n",
       "    <tr>\n",
       "      <th>2</th>\n",
       "      <td>1991-01-01</td>\n",
       "      <td>AP</td>\n",
       "      <td>0.668</td>\n",
       "    </tr>\n",
       "    <tr>\n",
       "      <th>3</th>\n",
       "      <td>1991-01-01</td>\n",
       "      <td>AM</td>\n",
       "      <td>0.645</td>\n",
       "    </tr>\n",
       "    <tr>\n",
       "      <th>4</th>\n",
       "      <td>1991-01-01</td>\n",
       "      <td>BA</td>\n",
       "      <td>0.582</td>\n",
       "    </tr>\n",
       "  </tbody>\n",
       "</table>\n",
       "</div>"
      ],
      "text/plain": [
       "        data estados  idh_l\n",
       "0 1991-01-01      AC  0.645\n",
       "1 1991-01-01      AL  0.552\n",
       "2 1991-01-01      AP  0.668\n",
       "3 1991-01-01      AM  0.645\n",
       "4 1991-01-01      BA  0.582"
      ]
     },
     "execution_count": 603,
     "metadata": {},
     "output_type": "execute_result"
    }
   ],
   "source": [
    "idh_l.head()"
   ]
  },
  {
   "cell_type": "code",
   "execution_count": 604,
   "id": "eba69e36-7b1b-49aa-8ed3-816627651a5d",
   "metadata": {},
   "outputs": [],
   "source": [
    "df=pd.merge(df, idh_l, how=\"left\", on=[\"data\", \"estados\"])\n",
    "df[\"idh_l\"] = df[\"idh_l\"].fillna(method=\"ffill\")"
   ]
  },
  {
   "cell_type": "code",
   "execution_count": 605,
   "id": "ef4012a1-0ab0-4b73-bdc9-605c2c47f97d",
   "metadata": {},
   "outputs": [
    {
     "name": "stdout",
     "output_type": "stream",
     "text": [
      "Todas as datas repetem 27 vezes? True\n",
      "Estados unicos: 27\n",
      "Shape: (11340, 12)\n"
     ]
    }
   ],
   "source": [
    "search_duplicates(df)"
   ]
  },
  {
   "cell_type": "markdown",
   "id": "1529482f-23f2-4955-8481-d5cd1fcf8e98",
   "metadata": {},
   "source": [
    "## IDH Renda"
   ]
  },
  {
   "cell_type": "code",
   "execution_count": 606,
   "id": "b7cafd12-8b53-4cd8-8bdb-d2da9dc94d64",
   "metadata": {},
   "outputs": [],
   "source": [
    "idh_r = pd.read_csv(f\"{PATH}bases/idh_renda.csv\")\n",
    "idh_r[\"estados\"] = [\"BR\"] + SIGLAS\n",
    "idh_r.drop(\"Territorialidades\", axis=1, inplace=True)"
   ]
  },
  {
   "cell_type": "code",
   "execution_count": 607,
   "id": "6e73686b-8d90-4f34-9a82-9718a15ee107",
   "metadata": {},
   "outputs": [],
   "source": [
    "idh_r=idh_r.melt(id_vars=[\"estados\"], value_vars=idh_r.columns[:-1], var_name=\"Anos\", value_name=\"idh_r\") "
   ]
  },
  {
   "cell_type": "code",
   "execution_count": 608,
   "id": "c6a0936d-f294-42d4-ae46-5751356f2b74",
   "metadata": {},
   "outputs": [],
   "source": [
    "idh_r['data'] = pd.to_datetime(idh_r['Anos'], format=\"%Y\")\n",
    "idh_r.drop('Anos', axis=1, inplace=True)"
   ]
  },
  {
   "cell_type": "code",
   "execution_count": 609,
   "id": "6f2f4a95-4fd3-4518-b8bd-7942b85c532e",
   "metadata": {},
   "outputs": [],
   "source": [
    "df = pd.merge(df, idh_r, how=\"left\", on=[\"data\", \"estados\"])\n",
    "df[\"idh_r\"] = df[\"idh_r\"].fillna(method=\"ffill\")"
   ]
  },
  {
   "cell_type": "code",
   "execution_count": 610,
   "id": "4ba386ae-7fe3-4ee1-962f-7eaa80a21255",
   "metadata": {},
   "outputs": [
    {
     "name": "stdout",
     "output_type": "stream",
     "text": [
      "Todas as datas repetem 27 vezes? True\n",
      "Estados unicos: 27\n",
      "Shape: (11340, 13)\n"
     ]
    }
   ],
   "source": [
    "search_duplicates(df)"
   ]
  },
  {
   "cell_type": "markdown",
   "id": "a7990086-0dbd-44c3-a8a6-7df5ec8c348b",
   "metadata": {},
   "source": [
    "## IDH Educação"
   ]
  },
  {
   "cell_type": "code",
   "execution_count": 611,
   "id": "c8e98273-a837-494f-8ea3-5ee49a66376d",
   "metadata": {},
   "outputs": [],
   "source": [
    "idh_e = pd.read_csv(f\"{PATH}bases/idh_educacao.csv\")\n",
    "idh_e[\"estados\"] = SIGLAS\n",
    "idh_e.drop(\"Territorialidades\", axis=1, inplace=True)"
   ]
  },
  {
   "cell_type": "code",
   "execution_count": 612,
   "id": "b5aac36d-e4ad-4cdf-b5ab-f52a349da893",
   "metadata": {},
   "outputs": [],
   "source": [
    "idh_e=idh_e.melt(id_vars=[\"estados\"], value_vars=idh_e.columns[:-1], var_name=\"Anos\", value_name=\"idh_e\") "
   ]
  },
  {
   "cell_type": "code",
   "execution_count": 613,
   "id": "fcaa6c74-282b-4548-b376-b130a1f3df07",
   "metadata": {},
   "outputs": [],
   "source": [
    "idh_e['data'] = pd.to_datetime(idh_e['Anos'], format=\"%Y\")\n",
    "idh_e.drop('Anos', axis=1, inplace=True)"
   ]
  },
  {
   "cell_type": "code",
   "execution_count": 614,
   "id": "03ca7995-171f-4518-9b42-b8098cb1d410",
   "metadata": {},
   "outputs": [],
   "source": [
    "df = pd.merge(df, idh_e, how=\"left\", on=[\"data\", \"estados\"])\n",
    "df['idh_e'] = df['idh_e'].fillna(method=\"ffill\")"
   ]
  },
  {
   "cell_type": "code",
   "execution_count": 615,
   "id": "763d3a25-fafe-47d4-b63b-6399e89bd3e3",
   "metadata": {},
   "outputs": [
    {
     "name": "stdout",
     "output_type": "stream",
     "text": [
      "Todas as datas repetem 27 vezes? True\n",
      "Estados unicos: 27\n",
      "Shape: (11340, 14)\n"
     ]
    }
   ],
   "source": [
    "search_duplicates(df)"
   ]
  },
  {
   "cell_type": "markdown",
   "id": "293e3a02-1ee4-4094-93e9-fc0c0a874d3d",
   "metadata": {},
   "source": [
    "# NFSP\n",
    "\n",
    "- Fonte: BACEN\n",
    "- Granularidade: mensal para o Brasil"
   ]
  },
  {
   "cell_type": "code",
   "execution_count": 683,
   "id": "a0e4364c-36a3-470f-b1f4-6c5647ee17c6",
   "metadata": {},
   "outputs": [],
   "source": [
    "nfsp = pd.read_csv(PATH+\"bases/nfsp.csv\", names=[\"data\", \"nfsp\"], skiprows=1)\n",
    "nfsp=nfsp.dropna()"
   ]
  },
  {
   "cell_type": "code",
   "execution_count": 684,
   "id": "54126298-01b2-408f-a890-910018a86870",
   "metadata": {},
   "outputs": [
    {
     "data": {
      "text/html": [
       "<div>\n",
       "<style scoped>\n",
       "    .dataframe tbody tr th:only-of-type {\n",
       "        vertical-align: middle;\n",
       "    }\n",
       "\n",
       "    .dataframe tbody tr th {\n",
       "        vertical-align: top;\n",
       "    }\n",
       "\n",
       "    .dataframe thead th {\n",
       "        text-align: right;\n",
       "    }\n",
       "</style>\n",
       "<table border=\"1\" class=\"dataframe\">\n",
       "  <thead>\n",
       "    <tr style=\"text-align: right;\">\n",
       "      <th></th>\n",
       "      <th>data</th>\n",
       "      <th>nfsp</th>\n",
       "    </tr>\n",
       "  </thead>\n",
       "  <tbody>\n",
       "    <tr>\n",
       "      <th>12</th>\n",
       "      <td>1991.01</td>\n",
       "      <td>11.17</td>\n",
       "    </tr>\n",
       "    <tr>\n",
       "      <th>13</th>\n",
       "      <td>1991.02</td>\n",
       "      <td>11.17</td>\n",
       "    </tr>\n",
       "    <tr>\n",
       "      <th>14</th>\n",
       "      <td>1991.03</td>\n",
       "      <td>11.17</td>\n",
       "    </tr>\n",
       "    <tr>\n",
       "      <th>15</th>\n",
       "      <td>1991.04</td>\n",
       "      <td>11.17</td>\n",
       "    </tr>\n",
       "    <tr>\n",
       "      <th>16</th>\n",
       "      <td>1991.05</td>\n",
       "      <td>11.17</td>\n",
       "    </tr>\n",
       "  </tbody>\n",
       "</table>\n",
       "</div>"
      ],
      "text/plain": [
       "       data   nfsp\n",
       "12  1991.01  11.17\n",
       "13  1991.02  11.17\n",
       "14  1991.03  11.17\n",
       "15  1991.04  11.17\n",
       "16  1991.05  11.17"
      ]
     },
     "execution_count": 684,
     "metadata": {},
     "output_type": "execute_result"
    }
   ],
   "source": [
    "nfsp.head()"
   ]
  },
  {
   "cell_type": "code",
   "execution_count": 685,
   "id": "be479914-0462-4c3a-a64e-519cc6cf248d",
   "metadata": {},
   "outputs": [],
   "source": [
    "nfsp[\"data\"] = nfsp[\"data\"] * 100"
   ]
  },
  {
   "cell_type": "code",
   "execution_count": 686,
   "id": "e083b713-6783-4077-a6fc-fab41df0cea4",
   "metadata": {},
   "outputs": [],
   "source": [
    "nfsp['data'] = pd.to_datetime(nfsp['data'], format=\"%Y%m\")"
   ]
  },
  {
   "cell_type": "code",
   "execution_count": 689,
   "id": "63d9ee55-02e7-46bd-be07-761ccc8f3539",
   "metadata": {},
   "outputs": [],
   "source": [
    "df = pd.merge(df, nfsp, how=\"left\", on=[\"data\"])"
   ]
  },
  {
   "cell_type": "code",
   "execution_count": 690,
   "id": "ff0defbd-07fc-41d2-b904-a20c0626bd54",
   "metadata": {},
   "outputs": [
    {
     "name": "stdout",
     "output_type": "stream",
     "text": [
      "Todas as datas repetem 27 vezes? True\n",
      "Estados unicos: 27\n",
      "Shape: (11340, 15)\n",
      "Duplicados? False\n"
     ]
    }
   ],
   "source": [
    "search_duplicates(df)"
   ]
  },
  {
   "cell_type": "markdown",
   "id": "ef9cf985-6646-4917-8422-fba17c7d6ceb",
   "metadata": {},
   "source": [
    "# Estoque\n",
    "\n",
    "- Fonte: IPEA\n",
    "- Granularidade: mensal para o Brasil"
   ]
  },
  {
   "cell_type": "code",
   "execution_count": 691,
   "id": "366a294a-0b63-46da-a965-47ad29e9e756",
   "metadata": {},
   "outputs": [],
   "source": [
    "estoque = pd.read_csv(PATH+\"bases/estoque.csv\")"
   ]
  },
  {
   "cell_type": "code",
   "execution_count": 692,
   "id": "aa675dd4-7baf-4cfb-a6be-b8e4374b6fa8",
   "metadata": {},
   "outputs": [],
   "source": [
    "estoque.columns=[\"data\", 'estoque', 'trash']\n",
    "estoque.drop('trash', axis=1, inplace=True)\n",
    "estoque['data'] = pd.to_datetime(estoque['data'], format=\"%Y\")"
   ]
  },
  {
   "cell_type": "code",
   "execution_count": 693,
   "id": "3450ab72-2e77-4b16-a598-6dacf2447430",
   "metadata": {},
   "outputs": [
    {
     "data": {
      "text/html": [
       "<div>\n",
       "<style scoped>\n",
       "    .dataframe tbody tr th:only-of-type {\n",
       "        vertical-align: middle;\n",
       "    }\n",
       "\n",
       "    .dataframe tbody tr th {\n",
       "        vertical-align: top;\n",
       "    }\n",
       "\n",
       "    .dataframe thead th {\n",
       "        text-align: right;\n",
       "    }\n",
       "</style>\n",
       "<table border=\"1\" class=\"dataframe\">\n",
       "  <thead>\n",
       "    <tr style=\"text-align: right;\">\n",
       "      <th></th>\n",
       "      <th>data</th>\n",
       "      <th>estoque</th>\n",
       "    </tr>\n",
       "  </thead>\n",
       "  <tbody>\n",
       "    <tr>\n",
       "      <th>0</th>\n",
       "      <td>1947-01-01</td>\n",
       "      <td>1.906553e+05</td>\n",
       "    </tr>\n",
       "    <tr>\n",
       "      <th>1</th>\n",
       "      <td>1948-01-01</td>\n",
       "      <td>2.025084e+05</td>\n",
       "    </tr>\n",
       "    <tr>\n",
       "      <th>2</th>\n",
       "      <td>1949-01-01</td>\n",
       "      <td>2.173332e+05</td>\n",
       "    </tr>\n",
       "    <tr>\n",
       "      <th>3</th>\n",
       "      <td>1950-01-01</td>\n",
       "      <td>2.328778e+05</td>\n",
       "    </tr>\n",
       "    <tr>\n",
       "      <th>4</th>\n",
       "      <td>1951-01-01</td>\n",
       "      <td>2.552773e+05</td>\n",
       "    </tr>\n",
       "    <tr>\n",
       "      <th>...</th>\n",
       "      <td>...</td>\n",
       "      <td>...</td>\n",
       "    </tr>\n",
       "    <tr>\n",
       "      <th>68</th>\n",
       "      <td>2015-01-01</td>\n",
       "      <td>7.751228e+06</td>\n",
       "    </tr>\n",
       "    <tr>\n",
       "      <th>69</th>\n",
       "      <td>2016-01-01</td>\n",
       "      <td>7.806242e+06</td>\n",
       "    </tr>\n",
       "    <tr>\n",
       "      <th>70</th>\n",
       "      <td>2017-01-01</td>\n",
       "      <td>7.820758e+06</td>\n",
       "    </tr>\n",
       "    <tr>\n",
       "      <th>71</th>\n",
       "      <td>2018-01-01</td>\n",
       "      <td>7.813724e+06</td>\n",
       "    </tr>\n",
       "    <tr>\n",
       "      <th>72</th>\n",
       "      <td>2019-01-01</td>\n",
       "      <td>7.827728e+06</td>\n",
       "    </tr>\n",
       "  </tbody>\n",
       "</table>\n",
       "<p>73 rows × 2 columns</p>\n",
       "</div>"
      ],
      "text/plain": [
       "         data       estoque\n",
       "0  1947-01-01  1.906553e+05\n",
       "1  1948-01-01  2.025084e+05\n",
       "2  1949-01-01  2.173332e+05\n",
       "3  1950-01-01  2.328778e+05\n",
       "4  1951-01-01  2.552773e+05\n",
       "..        ...           ...\n",
       "68 2015-01-01  7.751228e+06\n",
       "69 2016-01-01  7.806242e+06\n",
       "70 2017-01-01  7.820758e+06\n",
       "71 2018-01-01  7.813724e+06\n",
       "72 2019-01-01  7.827728e+06\n",
       "\n",
       "[73 rows x 2 columns]"
      ]
     },
     "execution_count": 693,
     "metadata": {},
     "output_type": "execute_result"
    }
   ],
   "source": [
    "estoque"
   ]
  },
  {
   "cell_type": "code",
   "execution_count": 694,
   "id": "a806f069-237f-4ec2-ab42-99e965e297df",
   "metadata": {},
   "outputs": [],
   "source": [
    "df = pd.merge(df, estoque, how=\"left\", on=[\"data\"])\n",
    "df[\"estoque\"] = df[\"estoque\"].fillna(method=\"ffill\")"
   ]
  },
  {
   "cell_type": "code",
   "execution_count": 695,
   "id": "cd068e3d-d2f0-46e4-b5b2-d82de10f90da",
   "metadata": {},
   "outputs": [
    {
     "name": "stdout",
     "output_type": "stream",
     "text": [
      "Todas as datas repetem 27 vezes? True\n",
      "Estados unicos: 27\n",
      "Shape: (11340, 16)\n",
      "Duplicados? False\n"
     ]
    }
   ],
   "source": [
    "search_duplicates(df)"
   ]
  },
  {
   "cell_type": "markdown",
   "id": "54e69939-a28d-4c2c-9bcb-4c9cde01c309",
   "metadata": {
    "tags": []
   },
   "source": [
    "# Desemprego"
   ]
  },
  {
   "cell_type": "code",
   "execution_count": 696,
   "id": "b3079a17-aeb9-4793-8479-2b84bc585dda",
   "metadata": {},
   "outputs": [],
   "source": [
    "# de 1992 a 2019\n",
    "init=pd.to_datetime('011992', format='%m%Y')\n",
    "end=pd.to_datetime('122019', format='%m%Y')\n",
    "desemprego_geral=pd.DataFrame(SIGLAS * 336, columns=[\"estados\"]).sort_values(\"estados\").reset_index(drop=True)\n",
    "desemprego_geral[\"data\"] = pd.Series(pd.date_range(start=init, end=end, freq='MS')).to_list() * 27"
   ]
  },
  {
   "cell_type": "code",
   "execution_count": 697,
   "id": "eb792b94-0002-4dfc-86de-389a46e6372a",
   "metadata": {},
   "outputs": [],
   "source": [
    "init=pd.to_datetime('011992', format='%m%Y')\n",
    "end=pd.to_datetime('022012', format='%m%Y')\n",
    "desemprego_geral_anual=pd.DataFrame(SIGLAS * 242, columns=[\"estados\"]).sort_values(\"estados\").reset_index(drop=True)\n",
    "desemprego_geral_anual[\"data\"] = pd.Series(pd.date_range(start=init, end=end, freq='MS')).to_list() * 27"
   ]
  },
  {
   "cell_type": "code",
   "execution_count": 698,
   "id": "17141e5f-3a1c-4b27-a9d6-f901e5f69ed2",
   "metadata": {},
   "outputs": [],
   "source": [
    "desemprego_anual =pd.read_csv(PATH+\"bases/desemprego_b2015.csv\", sep=\";\", skiprows=1, decimal=\",\")\n",
    "desemprego_anual = desemprego_anual.drop([\"Código\", \"Estado\",\"Unnamed: 23\"], axis=1)"
   ]
  },
  {
   "cell_type": "code",
   "execution_count": 699,
   "id": "f7f98c4f-7458-4317-af5a-bd19f23d2d9a",
   "metadata": {},
   "outputs": [
    {
     "data": {
      "text/html": [
       "<div>\n",
       "<style scoped>\n",
       "    .dataframe tbody tr th:only-of-type {\n",
       "        vertical-align: middle;\n",
       "    }\n",
       "\n",
       "    .dataframe tbody tr th {\n",
       "        vertical-align: top;\n",
       "    }\n",
       "\n",
       "    .dataframe thead th {\n",
       "        text-align: right;\n",
       "    }\n",
       "</style>\n",
       "<table border=\"1\" class=\"dataframe\">\n",
       "  <thead>\n",
       "    <tr style=\"text-align: right;\">\n",
       "      <th></th>\n",
       "      <th>Sigla</th>\n",
       "      <th>1992</th>\n",
       "      <th>1993</th>\n",
       "      <th>1995</th>\n",
       "      <th>1996</th>\n",
       "      <th>1997</th>\n",
       "      <th>1998</th>\n",
       "      <th>1999</th>\n",
       "      <th>2001</th>\n",
       "      <th>2002</th>\n",
       "      <th>...</th>\n",
       "      <th>2004</th>\n",
       "      <th>2005</th>\n",
       "      <th>2006</th>\n",
       "      <th>2007</th>\n",
       "      <th>2008</th>\n",
       "      <th>2009</th>\n",
       "      <th>2011</th>\n",
       "      <th>2012</th>\n",
       "      <th>2013</th>\n",
       "      <th>2014</th>\n",
       "    </tr>\n",
       "  </thead>\n",
       "  <tbody>\n",
       "    <tr>\n",
       "      <th>0</th>\n",
       "      <td>AC</td>\n",
       "      <td>9.216314</td>\n",
       "      <td>10.056490</td>\n",
       "      <td>9.800710</td>\n",
       "      <td>8.437029</td>\n",
       "      <td>8.887605</td>\n",
       "      <td>8.535510</td>\n",
       "      <td>12.203437</td>\n",
       "      <td>8.558123</td>\n",
       "      <td>6.582788</td>\n",
       "      <td>...</td>\n",
       "      <td>10.247832</td>\n",
       "      <td>11.327006</td>\n",
       "      <td>8.581848</td>\n",
       "      <td>5.786489</td>\n",
       "      <td>7.743653</td>\n",
       "      <td>7.556724</td>\n",
       "      <td>5.357073</td>\n",
       "      <td>8.002315</td>\n",
       "      <td>9.562580</td>\n",
       "      <td>9.808001</td>\n",
       "    </tr>\n",
       "    <tr>\n",
       "      <th>1</th>\n",
       "      <td>AL</td>\n",
       "      <td>8.980849</td>\n",
       "      <td>11.086582</td>\n",
       "      <td>8.312264</td>\n",
       "      <td>8.011287</td>\n",
       "      <td>7.972121</td>\n",
       "      <td>12.287512</td>\n",
       "      <td>14.748984</td>\n",
       "      <td>12.065698</td>\n",
       "      <td>9.080515</td>\n",
       "      <td>...</td>\n",
       "      <td>10.209505</td>\n",
       "      <td>9.775723</td>\n",
       "      <td>10.637167</td>\n",
       "      <td>8.359978</td>\n",
       "      <td>8.005988</td>\n",
       "      <td>12.126772</td>\n",
       "      <td>10.407524</td>\n",
       "      <td>12.241125</td>\n",
       "      <td>13.191182</td>\n",
       "      <td>13.133901</td>\n",
       "    </tr>\n",
       "    <tr>\n",
       "      <th>2</th>\n",
       "      <td>AM</td>\n",
       "      <td>11.555730</td>\n",
       "      <td>16.032611</td>\n",
       "      <td>11.311703</td>\n",
       "      <td>10.816192</td>\n",
       "      <td>15.131507</td>\n",
       "      <td>18.481736</td>\n",
       "      <td>19.326194</td>\n",
       "      <td>10.684138</td>\n",
       "      <td>12.966133</td>\n",
       "      <td>...</td>\n",
       "      <td>12.448917</td>\n",
       "      <td>12.828997</td>\n",
       "      <td>9.430801</td>\n",
       "      <td>12.238770</td>\n",
       "      <td>10.012385</td>\n",
       "      <td>12.441820</td>\n",
       "      <td>9.275540</td>\n",
       "      <td>8.995633</td>\n",
       "      <td>10.194570</td>\n",
       "      <td>10.835797</td>\n",
       "    </tr>\n",
       "    <tr>\n",
       "      <th>3</th>\n",
       "      <td>AP</td>\n",
       "      <td>5.922940</td>\n",
       "      <td>8.304413</td>\n",
       "      <td>13.067481</td>\n",
       "      <td>7.528157</td>\n",
       "      <td>10.932264</td>\n",
       "      <td>10.538872</td>\n",
       "      <td>15.278558</td>\n",
       "      <td>19.057839</td>\n",
       "      <td>20.539464</td>\n",
       "      <td>...</td>\n",
       "      <td>14.564569</td>\n",
       "      <td>11.961929</td>\n",
       "      <td>6.666667</td>\n",
       "      <td>16.331604</td>\n",
       "      <td>15.193255</td>\n",
       "      <td>13.756124</td>\n",
       "      <td>14.214812</td>\n",
       "      <td>10.913790</td>\n",
       "      <td>13.103432</td>\n",
       "      <td>10.325027</td>\n",
       "    </tr>\n",
       "    <tr>\n",
       "      <th>4</th>\n",
       "      <td>BA</td>\n",
       "      <td>8.211435</td>\n",
       "      <td>7.681225</td>\n",
       "      <td>7.459730</td>\n",
       "      <td>8.524951</td>\n",
       "      <td>8.366323</td>\n",
       "      <td>8.734137</td>\n",
       "      <td>9.922290</td>\n",
       "      <td>10.603811</td>\n",
       "      <td>10.735432</td>\n",
       "      <td>...</td>\n",
       "      <td>11.530353</td>\n",
       "      <td>11.071503</td>\n",
       "      <td>10.248704</td>\n",
       "      <td>10.343830</td>\n",
       "      <td>10.533664</td>\n",
       "      <td>10.669944</td>\n",
       "      <td>10.509659</td>\n",
       "      <td>10.181658</td>\n",
       "      <td>9.865157</td>\n",
       "      <td>9.984575</td>\n",
       "    </tr>\n",
       "  </tbody>\n",
       "</table>\n",
       "<p>5 rows × 21 columns</p>\n",
       "</div>"
      ],
      "text/plain": [
       "  Sigla       1992       1993       1995       1996       1997       1998  \\\n",
       "0    AC   9.216314  10.056490   9.800710   8.437029   8.887605   8.535510   \n",
       "1    AL   8.980849  11.086582   8.312264   8.011287   7.972121  12.287512   \n",
       "2    AM  11.555730  16.032611  11.311703  10.816192  15.131507  18.481736   \n",
       "3    AP   5.922940   8.304413  13.067481   7.528157  10.932264  10.538872   \n",
       "4    BA   8.211435   7.681225   7.459730   8.524951   8.366323   8.734137   \n",
       "\n",
       "        1999       2001       2002  ...       2004       2005       2006  \\\n",
       "0  12.203437   8.558123   6.582788  ...  10.247832  11.327006   8.581848   \n",
       "1  14.748984  12.065698   9.080515  ...  10.209505   9.775723  10.637167   \n",
       "2  19.326194  10.684138  12.966133  ...  12.448917  12.828997   9.430801   \n",
       "3  15.278558  19.057839  20.539464  ...  14.564569  11.961929   6.666667   \n",
       "4   9.922290  10.603811  10.735432  ...  11.530353  11.071503  10.248704   \n",
       "\n",
       "        2007       2008       2009       2011       2012       2013       2014  \n",
       "0   5.786489   7.743653   7.556724   5.357073   8.002315   9.562580   9.808001  \n",
       "1   8.359978   8.005988  12.126772  10.407524  12.241125  13.191182  13.133901  \n",
       "2  12.238770  10.012385  12.441820   9.275540   8.995633  10.194570  10.835797  \n",
       "3  16.331604  15.193255  13.756124  14.214812  10.913790  13.103432  10.325027  \n",
       "4  10.343830  10.533664  10.669944  10.509659  10.181658   9.865157   9.984575  \n",
       "\n",
       "[5 rows x 21 columns]"
      ]
     },
     "execution_count": 699,
     "metadata": {},
     "output_type": "execute_result"
    }
   ],
   "source": [
    "desemprego_anual.head()"
   ]
  },
  {
   "cell_type": "code",
   "execution_count": 700,
   "id": "306162ff-1f3a-4b89-9b80-03d9770f84af",
   "metadata": {},
   "outputs": [],
   "source": [
    "desemprego_anual = desemprego_anual.melt(id_vars=[\"Sigla\"], value_vars=desemprego_anual[1:], value_name=\"desemprego\", var_name=\"data\")"
   ]
  },
  {
   "cell_type": "code",
   "execution_count": 380,
   "id": "51b97700-0ddb-46e3-b242-715b7b9f087f",
   "metadata": {},
   "outputs": [
    {
     "data": {
      "text/html": [
       "<div>\n",
       "<style scoped>\n",
       "    .dataframe tbody tr th:only-of-type {\n",
       "        vertical-align: middle;\n",
       "    }\n",
       "\n",
       "    .dataframe tbody tr th {\n",
       "        vertical-align: top;\n",
       "    }\n",
       "\n",
       "    .dataframe thead th {\n",
       "        text-align: right;\n",
       "    }\n",
       "</style>\n",
       "<table border=\"1\" class=\"dataframe\">\n",
       "  <thead>\n",
       "    <tr style=\"text-align: right;\">\n",
       "      <th></th>\n",
       "      <th>Sigla</th>\n",
       "      <th>data</th>\n",
       "      <th>desemprego</th>\n",
       "    </tr>\n",
       "  </thead>\n",
       "  <tbody>\n",
       "    <tr>\n",
       "      <th>0</th>\n",
       "      <td>AC</td>\n",
       "      <td>1992</td>\n",
       "      <td>9.216314</td>\n",
       "    </tr>\n",
       "    <tr>\n",
       "      <th>1</th>\n",
       "      <td>AL</td>\n",
       "      <td>1992</td>\n",
       "      <td>8.980849</td>\n",
       "    </tr>\n",
       "    <tr>\n",
       "      <th>2</th>\n",
       "      <td>AM</td>\n",
       "      <td>1992</td>\n",
       "      <td>11.555730</td>\n",
       "    </tr>\n",
       "    <tr>\n",
       "      <th>3</th>\n",
       "      <td>AP</td>\n",
       "      <td>1992</td>\n",
       "      <td>5.922940</td>\n",
       "    </tr>\n",
       "    <tr>\n",
       "      <th>4</th>\n",
       "      <td>BA</td>\n",
       "      <td>1992</td>\n",
       "      <td>8.211435</td>\n",
       "    </tr>\n",
       "    <tr>\n",
       "      <th>...</th>\n",
       "      <td>...</td>\n",
       "      <td>...</td>\n",
       "      <td>...</td>\n",
       "    </tr>\n",
       "    <tr>\n",
       "      <th>535</th>\n",
       "      <td>RS</td>\n",
       "      <td>2014</td>\n",
       "      <td>5.004448</td>\n",
       "    </tr>\n",
       "    <tr>\n",
       "      <th>536</th>\n",
       "      <td>SC</td>\n",
       "      <td>2014</td>\n",
       "      <td>3.133842</td>\n",
       "    </tr>\n",
       "    <tr>\n",
       "      <th>537</th>\n",
       "      <td>SE</td>\n",
       "      <td>2014</td>\n",
       "      <td>8.652161</td>\n",
       "    </tr>\n",
       "    <tr>\n",
       "      <th>538</th>\n",
       "      <td>SP</td>\n",
       "      <td>2014</td>\n",
       "      <td>7.896507</td>\n",
       "    </tr>\n",
       "    <tr>\n",
       "      <th>539</th>\n",
       "      <td>TO</td>\n",
       "      <td>2014</td>\n",
       "      <td>6.441905</td>\n",
       "    </tr>\n",
       "  </tbody>\n",
       "</table>\n",
       "<p>540 rows × 3 columns</p>\n",
       "</div>"
      ],
      "text/plain": [
       "    Sigla  data  desemprego\n",
       "0      AC  1992    9.216314\n",
       "1      AL  1992    8.980849\n",
       "2      AM  1992   11.555730\n",
       "3      AP  1992    5.922940\n",
       "4      BA  1992    8.211435\n",
       "..    ...   ...         ...\n",
       "535    RS  2014    5.004448\n",
       "536    SC  2014    3.133842\n",
       "537    SE  2014    8.652161\n",
       "538    SP  2014    7.896507\n",
       "539    TO  2014    6.441905\n",
       "\n",
       "[540 rows x 3 columns]"
      ]
     },
     "execution_count": 380,
     "metadata": {},
     "output_type": "execute_result"
    }
   ],
   "source": [
    "desemprego_anual"
   ]
  },
  {
   "cell_type": "code",
   "execution_count": 701,
   "id": "ade697a6-f06c-4d83-9a77-3c8e102bd385",
   "metadata": {},
   "outputs": [],
   "source": [
    "desemprego_anual['data'] = pd.to_datetime(desemprego_anual['data'], format=\"%Y\")"
   ]
  },
  {
   "cell_type": "code",
   "execution_count": 382,
   "id": "1a240790-8a1b-4533-bacd-5e44a395e3c8",
   "metadata": {},
   "outputs": [
    {
     "data": {
      "text/html": [
       "<div>\n",
       "<style scoped>\n",
       "    .dataframe tbody tr th:only-of-type {\n",
       "        vertical-align: middle;\n",
       "    }\n",
       "\n",
       "    .dataframe tbody tr th {\n",
       "        vertical-align: top;\n",
       "    }\n",
       "\n",
       "    .dataframe thead th {\n",
       "        text-align: right;\n",
       "    }\n",
       "</style>\n",
       "<table border=\"1\" class=\"dataframe\">\n",
       "  <thead>\n",
       "    <tr style=\"text-align: right;\">\n",
       "      <th></th>\n",
       "      <th>Sigla</th>\n",
       "      <th>data</th>\n",
       "      <th>desemprego</th>\n",
       "    </tr>\n",
       "  </thead>\n",
       "  <tbody>\n",
       "    <tr>\n",
       "      <th>0</th>\n",
       "      <td>AC</td>\n",
       "      <td>1992-01-01</td>\n",
       "      <td>9.216314</td>\n",
       "    </tr>\n",
       "    <tr>\n",
       "      <th>1</th>\n",
       "      <td>AL</td>\n",
       "      <td>1992-01-01</td>\n",
       "      <td>8.980849</td>\n",
       "    </tr>\n",
       "    <tr>\n",
       "      <th>2</th>\n",
       "      <td>AM</td>\n",
       "      <td>1992-01-01</td>\n",
       "      <td>11.555730</td>\n",
       "    </tr>\n",
       "    <tr>\n",
       "      <th>3</th>\n",
       "      <td>AP</td>\n",
       "      <td>1992-01-01</td>\n",
       "      <td>5.922940</td>\n",
       "    </tr>\n",
       "    <tr>\n",
       "      <th>4</th>\n",
       "      <td>BA</td>\n",
       "      <td>1992-01-01</td>\n",
       "      <td>8.211435</td>\n",
       "    </tr>\n",
       "    <tr>\n",
       "      <th>...</th>\n",
       "      <td>...</td>\n",
       "      <td>...</td>\n",
       "      <td>...</td>\n",
       "    </tr>\n",
       "    <tr>\n",
       "      <th>535</th>\n",
       "      <td>RS</td>\n",
       "      <td>2014-01-01</td>\n",
       "      <td>5.004448</td>\n",
       "    </tr>\n",
       "    <tr>\n",
       "      <th>536</th>\n",
       "      <td>SC</td>\n",
       "      <td>2014-01-01</td>\n",
       "      <td>3.133842</td>\n",
       "    </tr>\n",
       "    <tr>\n",
       "      <th>537</th>\n",
       "      <td>SE</td>\n",
       "      <td>2014-01-01</td>\n",
       "      <td>8.652161</td>\n",
       "    </tr>\n",
       "    <tr>\n",
       "      <th>538</th>\n",
       "      <td>SP</td>\n",
       "      <td>2014-01-01</td>\n",
       "      <td>7.896507</td>\n",
       "    </tr>\n",
       "    <tr>\n",
       "      <th>539</th>\n",
       "      <td>TO</td>\n",
       "      <td>2014-01-01</td>\n",
       "      <td>6.441905</td>\n",
       "    </tr>\n",
       "  </tbody>\n",
       "</table>\n",
       "<p>540 rows × 3 columns</p>\n",
       "</div>"
      ],
      "text/plain": [
       "    Sigla       data  desemprego\n",
       "0      AC 1992-01-01    9.216314\n",
       "1      AL 1992-01-01    8.980849\n",
       "2      AM 1992-01-01   11.555730\n",
       "3      AP 1992-01-01    5.922940\n",
       "4      BA 1992-01-01    8.211435\n",
       "..    ...        ...         ...\n",
       "535    RS 2014-01-01    5.004448\n",
       "536    SC 2014-01-01    3.133842\n",
       "537    SE 2014-01-01    8.652161\n",
       "538    SP 2014-01-01    7.896507\n",
       "539    TO 2014-01-01    6.441905\n",
       "\n",
       "[540 rows x 3 columns]"
      ]
     },
     "execution_count": 382,
     "metadata": {},
     "output_type": "execute_result"
    }
   ],
   "source": [
    "desemprego_anual"
   ]
  },
  {
   "cell_type": "code",
   "execution_count": 702,
   "id": "30b88a90-711c-4eb7-9534-3484f72677fb",
   "metadata": {},
   "outputs": [],
   "source": [
    "desemprego_anual=desemprego_anual.rename({\"Sigla\":\"estados\"}, axis=1)"
   ]
  },
  {
   "cell_type": "code",
   "execution_count": 703,
   "id": "4cad954b-a372-4668-b500-692d320d6db5",
   "metadata": {},
   "outputs": [],
   "source": [
    "desemprego_geral_anual=pd.merge(desemprego_geral_anual, desemprego_anual, how=\"left\", on=[\"data\", \"estados\"]).fillna(method=\"ffill\")"
   ]
  },
  {
   "cell_type": "code",
   "execution_count": 704,
   "id": "abc59609-2ebd-43b2-8084-fdbb269f3541",
   "metadata": {},
   "outputs": [],
   "source": [
    "desemprego_mensal = pd.read_csv(PATH+\"bases/desemprego_a2015.csv\", sep=\";\", skiprows=1, decimal=\",\")\n",
    "desemprego_mensal=desemprego_mensal.dropna()"
   ]
  },
  {
   "cell_type": "code",
   "execution_count": 705,
   "id": "4d8aea6b-31a8-4f8b-923f-7e53245c82ab",
   "metadata": {},
   "outputs": [
    {
     "data": {
      "text/html": [
       "<div>\n",
       "<style scoped>\n",
       "    .dataframe tbody tr th:only-of-type {\n",
       "        vertical-align: middle;\n",
       "    }\n",
       "\n",
       "    .dataframe tbody tr th {\n",
       "        vertical-align: top;\n",
       "    }\n",
       "\n",
       "    .dataframe thead th {\n",
       "        text-align: right;\n",
       "    }\n",
       "</style>\n",
       "<table border=\"1\" class=\"dataframe\">\n",
       "  <thead>\n",
       "    <tr style=\"text-align: right;\">\n",
       "      <th></th>\n",
       "      <th></th>\n",
       "      <th>jan-fev-mar 2012</th>\n",
       "      <th>fev-mar-abr 2012</th>\n",
       "      <th>mar-abr-mai 2012</th>\n",
       "      <th>abr-mai-jun 2012</th>\n",
       "      <th>mai-jun-jul 2012</th>\n",
       "      <th>jun-jul-ago 2012</th>\n",
       "      <th>jul-ago-set 2012</th>\n",
       "      <th>ago-set-out 2012</th>\n",
       "      <th>set-out-nov 2012</th>\n",
       "      <th>...</th>\n",
       "      <th>ago-set-out 2021</th>\n",
       "      <th>set-out-nov 2021</th>\n",
       "      <th>out-nov-dez 2021</th>\n",
       "      <th>nov-dez-jan 2022</th>\n",
       "      <th>dez-jan-fev 2022</th>\n",
       "      <th>jan-fev-mar 2022</th>\n",
       "      <th>fev-mar-abr 2022</th>\n",
       "      <th>mar-abr-mai 2022</th>\n",
       "      <th>abr-mai-jun 2022</th>\n",
       "      <th>mai-jun-jul 2022</th>\n",
       "    </tr>\n",
       "  </thead>\n",
       "  <tbody>\n",
       "    <tr>\n",
       "      <th>0</th>\n",
       "      <td>Brasil</td>\n",
       "      <td>8.0</td>\n",
       "      <td>7.8</td>\n",
       "      <td>7.7</td>\n",
       "      <td>7.6</td>\n",
       "      <td>7.5</td>\n",
       "      <td>7.4</td>\n",
       "      <td>7.1</td>\n",
       "      <td>7.0</td>\n",
       "      <td>6.8</td>\n",
       "      <td>...</td>\n",
       "      <td>12.1</td>\n",
       "      <td>11.6</td>\n",
       "      <td>11.1</td>\n",
       "      <td>11.2</td>\n",
       "      <td>11.2</td>\n",
       "      <td>11.1</td>\n",
       "      <td>10.5</td>\n",
       "      <td>9.8</td>\n",
       "      <td>9.3</td>\n",
       "      <td>9.1</td>\n",
       "    </tr>\n",
       "  </tbody>\n",
       "</table>\n",
       "<p>1 rows × 126 columns</p>\n",
       "</div>"
      ],
      "text/plain": [
       "           jan-fev-mar 2012 fev-mar-abr 2012 mar-abr-mai 2012  \\\n",
       "0  Brasil               8.0              7.8              7.7   \n",
       "\n",
       "  abr-mai-jun 2012 mai-jun-jul 2012 jun-jul-ago 2012 jul-ago-set 2012  \\\n",
       "0              7.6              7.5              7.4              7.1   \n",
       "\n",
       "   ago-set-out 2012 set-out-nov 2012  ... ago-set-out 2021 set-out-nov 2021  \\\n",
       "0               7.0              6.8  ...             12.1             11.6   \n",
       "\n",
       "  out-nov-dez 2021 nov-dez-jan 2022 dez-jan-fev 2022 jan-fev-mar 2022  \\\n",
       "0             11.1             11.2             11.2             11.1   \n",
       "\n",
       "  fev-mar-abr 2022 mar-abr-mai 2022 abr-mai-jun 2022  mai-jun-jul 2022  \n",
       "0             10.5              9.8              9.3               9.1  \n",
       "\n",
       "[1 rows x 126 columns]"
      ]
     },
     "execution_count": 705,
     "metadata": {},
     "output_type": "execute_result"
    }
   ],
   "source": [
    "desemprego_mensal.head()"
   ]
  },
  {
   "cell_type": "code",
   "execution_count": 706,
   "id": "2006bd23-28bb-4a7b-bc5c-3a786c8c5823",
   "metadata": {},
   "outputs": [],
   "source": [
    "desemprego_mensal = desemprego_mensal.melt(id_vars=[], value_vars=desemprego_mensal[:], value_name=\"desemprego\", var_name=\"data\")"
   ]
  },
  {
   "cell_type": "code",
   "execution_count": 707,
   "id": "8e9c4d15-128a-4cab-8729-7a986ca4a6b0",
   "metadata": {},
   "outputs": [
    {
     "data": {
      "text/html": [
       "<div>\n",
       "<style scoped>\n",
       "    .dataframe tbody tr th:only-of-type {\n",
       "        vertical-align: middle;\n",
       "    }\n",
       "\n",
       "    .dataframe tbody tr th {\n",
       "        vertical-align: top;\n",
       "    }\n",
       "\n",
       "    .dataframe thead th {\n",
       "        text-align: right;\n",
       "    }\n",
       "</style>\n",
       "<table border=\"1\" class=\"dataframe\">\n",
       "  <thead>\n",
       "    <tr style=\"text-align: right;\">\n",
       "      <th></th>\n",
       "      <th>data</th>\n",
       "      <th>desemprego</th>\n",
       "    </tr>\n",
       "  </thead>\n",
       "  <tbody>\n",
       "    <tr>\n",
       "      <th>0</th>\n",
       "      <td></td>\n",
       "      <td>Brasil</td>\n",
       "    </tr>\n",
       "    <tr>\n",
       "      <th>1</th>\n",
       "      <td>jan-fev-mar 2012</td>\n",
       "      <td>8.0</td>\n",
       "    </tr>\n",
       "    <tr>\n",
       "      <th>2</th>\n",
       "      <td>fev-mar-abr 2012</td>\n",
       "      <td>7.8</td>\n",
       "    </tr>\n",
       "    <tr>\n",
       "      <th>3</th>\n",
       "      <td>mar-abr-mai 2012</td>\n",
       "      <td>7.7</td>\n",
       "    </tr>\n",
       "    <tr>\n",
       "      <th>4</th>\n",
       "      <td>abr-mai-jun 2012</td>\n",
       "      <td>7.6</td>\n",
       "    </tr>\n",
       "  </tbody>\n",
       "</table>\n",
       "</div>"
      ],
      "text/plain": [
       "               data desemprego\n",
       "0                       Brasil\n",
       "1  jan-fev-mar 2012        8.0\n",
       "2  fev-mar-abr 2012        7.8\n",
       "3  mar-abr-mai 2012        7.7\n",
       "4  abr-mai-jun 2012        7.6"
      ]
     },
     "execution_count": 707,
     "metadata": {},
     "output_type": "execute_result"
    }
   ],
   "source": [
    "desemprego_mensal.head()"
   ]
  },
  {
   "cell_type": "code",
   "execution_count": 708,
   "id": "832f7a4a-f0fd-4a43-b2e7-897786ebcab0",
   "metadata": {},
   "outputs": [],
   "source": [
    "desemprego_mensal=desemprego_mensal.iloc[1:]"
   ]
  },
  {
   "cell_type": "code",
   "execution_count": 709,
   "id": "3f226162-5a9f-4b50-b519-4f96a1c12b8b",
   "metadata": {},
   "outputs": [
    {
     "data": {
      "text/html": [
       "<div>\n",
       "<style scoped>\n",
       "    .dataframe tbody tr th:only-of-type {\n",
       "        vertical-align: middle;\n",
       "    }\n",
       "\n",
       "    .dataframe tbody tr th {\n",
       "        vertical-align: top;\n",
       "    }\n",
       "\n",
       "    .dataframe thead th {\n",
       "        text-align: right;\n",
       "    }\n",
       "</style>\n",
       "<table border=\"1\" class=\"dataframe\">\n",
       "  <thead>\n",
       "    <tr style=\"text-align: right;\">\n",
       "      <th></th>\n",
       "      <th>data</th>\n",
       "      <th>desemprego</th>\n",
       "    </tr>\n",
       "  </thead>\n",
       "  <tbody>\n",
       "    <tr>\n",
       "      <th>121</th>\n",
       "      <td>jan-fev-mar 2022</td>\n",
       "      <td>11.1</td>\n",
       "    </tr>\n",
       "    <tr>\n",
       "      <th>122</th>\n",
       "      <td>fev-mar-abr 2022</td>\n",
       "      <td>10.5</td>\n",
       "    </tr>\n",
       "    <tr>\n",
       "      <th>123</th>\n",
       "      <td>mar-abr-mai 2022</td>\n",
       "      <td>9.8</td>\n",
       "    </tr>\n",
       "    <tr>\n",
       "      <th>124</th>\n",
       "      <td>abr-mai-jun 2022</td>\n",
       "      <td>9.3</td>\n",
       "    </tr>\n",
       "    <tr>\n",
       "      <th>125</th>\n",
       "      <td>mai-jun-jul 2022</td>\n",
       "      <td>9.1</td>\n",
       "    </tr>\n",
       "  </tbody>\n",
       "</table>\n",
       "</div>"
      ],
      "text/plain": [
       "                 data desemprego\n",
       "121  jan-fev-mar 2022       11.1\n",
       "122  fev-mar-abr 2022       10.5\n",
       "123  mar-abr-mai 2022        9.8\n",
       "124  abr-mai-jun 2022        9.3\n",
       "125  mai-jun-jul 2022        9.1"
      ]
     },
     "execution_count": 709,
     "metadata": {},
     "output_type": "execute_result"
    }
   ],
   "source": [
    "desemprego_mensal.tail()"
   ]
  },
  {
   "cell_type": "code",
   "execution_count": 710,
   "id": "50f86ca3-a88a-45fb-b96c-17d74e938e7c",
   "metadata": {},
   "outputs": [],
   "source": [
    "init = pd.to_datetime(\"032012\", format='%m%Y')\n",
    "end = pd.to_datetime(\"072022\", format='%m%Y')\n",
    "desemprego_mensal['data'] = pd.date_range(start=init, end=end, freq='MS')"
   ]
  },
  {
   "cell_type": "code",
   "execution_count": 711,
   "id": "915beff2-52b4-4745-a079-d1f915d3cff7",
   "metadata": {},
   "outputs": [
    {
     "data": {
      "text/html": [
       "<div>\n",
       "<style scoped>\n",
       "    .dataframe tbody tr th:only-of-type {\n",
       "        vertical-align: middle;\n",
       "    }\n",
       "\n",
       "    .dataframe tbody tr th {\n",
       "        vertical-align: top;\n",
       "    }\n",
       "\n",
       "    .dataframe thead th {\n",
       "        text-align: right;\n",
       "    }\n",
       "</style>\n",
       "<table border=\"1\" class=\"dataframe\">\n",
       "  <thead>\n",
       "    <tr style=\"text-align: right;\">\n",
       "      <th></th>\n",
       "      <th>data</th>\n",
       "      <th>desemprego</th>\n",
       "    </tr>\n",
       "  </thead>\n",
       "  <tbody>\n",
       "    <tr>\n",
       "      <th>121</th>\n",
       "      <td>2022-03-01</td>\n",
       "      <td>11.1</td>\n",
       "    </tr>\n",
       "    <tr>\n",
       "      <th>122</th>\n",
       "      <td>2022-04-01</td>\n",
       "      <td>10.5</td>\n",
       "    </tr>\n",
       "    <tr>\n",
       "      <th>123</th>\n",
       "      <td>2022-05-01</td>\n",
       "      <td>9.8</td>\n",
       "    </tr>\n",
       "    <tr>\n",
       "      <th>124</th>\n",
       "      <td>2022-06-01</td>\n",
       "      <td>9.3</td>\n",
       "    </tr>\n",
       "    <tr>\n",
       "      <th>125</th>\n",
       "      <td>2022-07-01</td>\n",
       "      <td>9.1</td>\n",
       "    </tr>\n",
       "  </tbody>\n",
       "</table>\n",
       "</div>"
      ],
      "text/plain": [
       "          data desemprego\n",
       "121 2022-03-01       11.1\n",
       "122 2022-04-01       10.5\n",
       "123 2022-05-01        9.8\n",
       "124 2022-06-01        9.3\n",
       "125 2022-07-01        9.1"
      ]
     },
     "execution_count": 711,
     "metadata": {},
     "output_type": "execute_result"
    }
   ],
   "source": [
    "desemprego_mensal.tail()"
   ]
  },
  {
   "cell_type": "code",
   "execution_count": 712,
   "id": "6c121efa-27ca-4b0c-9dbf-72d16a1c64b1",
   "metadata": {},
   "outputs": [],
   "source": [
    "desemprego_geral = pd.merge(desemprego_geral,desemprego_geral_anual, how=\"left\", on=[\"estados\", \"data\"])"
   ]
  },
  {
   "cell_type": "code",
   "execution_count": 713,
   "id": "424e2cbd-7f19-4638-b21a-f0b66d40a39c",
   "metadata": {},
   "outputs": [],
   "source": [
    "desemprego_geral = pd.merge(desemprego_geral,desemprego_mensal, how=\"left\", on=[\"data\"]).fillna(0)"
   ]
  },
  {
   "cell_type": "code",
   "execution_count": 714,
   "id": "654ee72b-c527-41e9-b590-59f99e5fbfba",
   "metadata": {},
   "outputs": [
    {
     "name": "stdout",
     "output_type": "stream",
     "text": [
      "<class 'pandas.core.frame.DataFrame'>\n",
      "Int64Index: 9072 entries, 0 to 9071\n",
      "Data columns (total 4 columns):\n",
      " #   Column        Non-Null Count  Dtype         \n",
      "---  ------        --------------  -----         \n",
      " 0   estados       9072 non-null   object        \n",
      " 1   data          9072 non-null   datetime64[ns]\n",
      " 2   desemprego_x  9072 non-null   float64       \n",
      " 3   desemprego_y  9072 non-null   object        \n",
      "dtypes: datetime64[ns](1), float64(1), object(2)\n",
      "memory usage: 354.4+ KB\n"
     ]
    }
   ],
   "source": [
    "desemprego_geral.info()"
   ]
  },
  {
   "cell_type": "code",
   "execution_count": 715,
   "id": "4cb3ceb4-5d0d-49d6-ab20-794021606bdd",
   "metadata": {},
   "outputs": [],
   "source": [
    "desemprego_geral[\"desemprego_y\"] = desemprego_geral[\"desemprego_y\"].astype(\"float\")"
   ]
  },
  {
   "cell_type": "code",
   "execution_count": 716,
   "id": "0173ebc1-1b79-4fe4-b8e7-181dedc0a165",
   "metadata": {},
   "outputs": [],
   "source": [
    "desemprego_geral[\"desemprego\"] = desemprego_geral[\"desemprego_x\"] + desemprego_geral[\"desemprego_y\"]"
   ]
  },
  {
   "cell_type": "code",
   "execution_count": 717,
   "id": "1c1b4d11-4665-4446-97e3-d4ba24283518",
   "metadata": {},
   "outputs": [
    {
     "data": {
      "text/html": [
       "<div>\n",
       "<style scoped>\n",
       "    .dataframe tbody tr th:only-of-type {\n",
       "        vertical-align: middle;\n",
       "    }\n",
       "\n",
       "    .dataframe tbody tr th {\n",
       "        vertical-align: top;\n",
       "    }\n",
       "\n",
       "    .dataframe thead th {\n",
       "        text-align: right;\n",
       "    }\n",
       "</style>\n",
       "<table border=\"1\" class=\"dataframe\">\n",
       "  <thead>\n",
       "    <tr style=\"text-align: right;\">\n",
       "      <th></th>\n",
       "      <th>estados</th>\n",
       "      <th>data</th>\n",
       "      <th>desemprego_x</th>\n",
       "      <th>desemprego_y</th>\n",
       "      <th>desemprego</th>\n",
       "    </tr>\n",
       "  </thead>\n",
       "  <tbody>\n",
       "    <tr>\n",
       "      <th>0</th>\n",
       "      <td>AC</td>\n",
       "      <td>1992-01-01</td>\n",
       "      <td>9.216314</td>\n",
       "      <td>0.0</td>\n",
       "      <td>9.216314</td>\n",
       "    </tr>\n",
       "    <tr>\n",
       "      <th>1</th>\n",
       "      <td>AC</td>\n",
       "      <td>1992-02-01</td>\n",
       "      <td>9.216314</td>\n",
       "      <td>0.0</td>\n",
       "      <td>9.216314</td>\n",
       "    </tr>\n",
       "    <tr>\n",
       "      <th>2</th>\n",
       "      <td>AC</td>\n",
       "      <td>1992-03-01</td>\n",
       "      <td>9.216314</td>\n",
       "      <td>0.0</td>\n",
       "      <td>9.216314</td>\n",
       "    </tr>\n",
       "    <tr>\n",
       "      <th>3</th>\n",
       "      <td>AC</td>\n",
       "      <td>1992-04-01</td>\n",
       "      <td>9.216314</td>\n",
       "      <td>0.0</td>\n",
       "      <td>9.216314</td>\n",
       "    </tr>\n",
       "    <tr>\n",
       "      <th>4</th>\n",
       "      <td>AC</td>\n",
       "      <td>1992-05-01</td>\n",
       "      <td>9.216314</td>\n",
       "      <td>0.0</td>\n",
       "      <td>9.216314</td>\n",
       "    </tr>\n",
       "  </tbody>\n",
       "</table>\n",
       "</div>"
      ],
      "text/plain": [
       "  estados       data  desemprego_x  desemprego_y  desemprego\n",
       "0      AC 1992-01-01      9.216314           0.0    9.216314\n",
       "1      AC 1992-02-01      9.216314           0.0    9.216314\n",
       "2      AC 1992-03-01      9.216314           0.0    9.216314\n",
       "3      AC 1992-04-01      9.216314           0.0    9.216314\n",
       "4      AC 1992-05-01      9.216314           0.0    9.216314"
      ]
     },
     "execution_count": 717,
     "metadata": {},
     "output_type": "execute_result"
    }
   ],
   "source": [
    "desemprego_geral.head()"
   ]
  },
  {
   "cell_type": "code",
   "execution_count": 718,
   "id": "3acc3c7d-4388-45d2-9187-42372b3c02b5",
   "metadata": {},
   "outputs": [],
   "source": [
    "desemprego_geral=desemprego_geral.drop([\"desemprego_x\",\"desemprego_y\"],axis=1)"
   ]
  },
  {
   "cell_type": "code",
   "execution_count": 719,
   "id": "71f90a84-52ff-42c0-a97e-de03a7509d20",
   "metadata": {},
   "outputs": [
    {
     "data": {
      "text/plain": [
       "(9072, 3)"
      ]
     },
     "execution_count": 719,
     "metadata": {},
     "output_type": "execute_result"
    }
   ],
   "source": [
    "desemprego_geral.shape"
   ]
  },
  {
   "cell_type": "code",
   "execution_count": 720,
   "id": "97729119-1e99-4e19-bc30-f618d3f44c79",
   "metadata": {},
   "outputs": [
    {
     "data": {
      "text/html": [
       "<div>\n",
       "<style scoped>\n",
       "    .dataframe tbody tr th:only-of-type {\n",
       "        vertical-align: middle;\n",
       "    }\n",
       "\n",
       "    .dataframe tbody tr th {\n",
       "        vertical-align: top;\n",
       "    }\n",
       "\n",
       "    .dataframe thead th {\n",
       "        text-align: right;\n",
       "    }\n",
       "</style>\n",
       "<table border=\"1\" class=\"dataframe\">\n",
       "  <thead>\n",
       "    <tr style=\"text-align: right;\">\n",
       "      <th></th>\n",
       "      <th>estados</th>\n",
       "      <th>data</th>\n",
       "      <th>desemprego</th>\n",
       "    </tr>\n",
       "  </thead>\n",
       "  <tbody>\n",
       "    <tr>\n",
       "      <th>8736</th>\n",
       "      <td>TO</td>\n",
       "      <td>1992-01-01</td>\n",
       "      <td>6.100175</td>\n",
       "    </tr>\n",
       "    <tr>\n",
       "      <th>8737</th>\n",
       "      <td>TO</td>\n",
       "      <td>1992-02-01</td>\n",
       "      <td>6.100175</td>\n",
       "    </tr>\n",
       "    <tr>\n",
       "      <th>8738</th>\n",
       "      <td>TO</td>\n",
       "      <td>1992-03-01</td>\n",
       "      <td>6.100175</td>\n",
       "    </tr>\n",
       "    <tr>\n",
       "      <th>8739</th>\n",
       "      <td>TO</td>\n",
       "      <td>1992-04-01</td>\n",
       "      <td>6.100175</td>\n",
       "    </tr>\n",
       "    <tr>\n",
       "      <th>8740</th>\n",
       "      <td>TO</td>\n",
       "      <td>1992-05-01</td>\n",
       "      <td>6.100175</td>\n",
       "    </tr>\n",
       "    <tr>\n",
       "      <th>...</th>\n",
       "      <td>...</td>\n",
       "      <td>...</td>\n",
       "      <td>...</td>\n",
       "    </tr>\n",
       "    <tr>\n",
       "      <th>9067</th>\n",
       "      <td>TO</td>\n",
       "      <td>2019-08-01</td>\n",
       "      <td>11.900000</td>\n",
       "    </tr>\n",
       "    <tr>\n",
       "      <th>9068</th>\n",
       "      <td>TO</td>\n",
       "      <td>2019-09-01</td>\n",
       "      <td>11.900000</td>\n",
       "    </tr>\n",
       "    <tr>\n",
       "      <th>9069</th>\n",
       "      <td>TO</td>\n",
       "      <td>2019-10-01</td>\n",
       "      <td>11.800000</td>\n",
       "    </tr>\n",
       "    <tr>\n",
       "      <th>9070</th>\n",
       "      <td>TO</td>\n",
       "      <td>2019-11-01</td>\n",
       "      <td>11.300000</td>\n",
       "    </tr>\n",
       "    <tr>\n",
       "      <th>9071</th>\n",
       "      <td>TO</td>\n",
       "      <td>2019-12-01</td>\n",
       "      <td>11.100000</td>\n",
       "    </tr>\n",
       "  </tbody>\n",
       "</table>\n",
       "<p>336 rows × 3 columns</p>\n",
       "</div>"
      ],
      "text/plain": [
       "     estados       data  desemprego\n",
       "8736      TO 1992-01-01    6.100175\n",
       "8737      TO 1992-02-01    6.100175\n",
       "8738      TO 1992-03-01    6.100175\n",
       "8739      TO 1992-04-01    6.100175\n",
       "8740      TO 1992-05-01    6.100175\n",
       "...      ...        ...         ...\n",
       "9067      TO 2019-08-01   11.900000\n",
       "9068      TO 2019-09-01   11.900000\n",
       "9069      TO 2019-10-01   11.800000\n",
       "9070      TO 2019-11-01   11.300000\n",
       "9071      TO 2019-12-01   11.100000\n",
       "\n",
       "[336 rows x 3 columns]"
      ]
     },
     "execution_count": 720,
     "metadata": {},
     "output_type": "execute_result"
    }
   ],
   "source": [
    "desemprego_geral[desemprego_geral['estados'] == \"TO\"].sort_values(\"data\").drop_duplicates()"
   ]
  },
  {
   "cell_type": "code",
   "execution_count": 721,
   "id": "5f5b3c3d-18f0-43c8-a2b4-815bb1b0476f",
   "metadata": {},
   "outputs": [],
   "source": [
    "df = pd.merge(df, desemprego_geral.drop_duplicates(), how=\"left\", on=[\"estados\", \"data\"])"
   ]
  },
  {
   "cell_type": "code",
   "execution_count": 724,
   "id": "5936f1bc-d0d9-4627-88b1-168890c865a6",
   "metadata": {},
   "outputs": [
    {
     "name": "stdout",
     "output_type": "stream",
     "text": [
      "Todas as datas repetem 27 vezes? True\n",
      "Estados unicos: 27\n",
      "Shape: (11340, 17)\n",
      "Duplicados? False\n"
     ]
    }
   ],
   "source": [
    "search_duplicates(df)"
   ]
  },
  {
   "cell_type": "code",
   "execution_count": null,
   "id": "e8de9547-5d10-49c8-94d9-47f1b6661fab",
   "metadata": {},
   "outputs": [],
   "source": []
  },
  {
   "cell_type": "code",
   "execution_count": null,
   "id": "7f0f194d-086d-45ef-b3b5-729b0cf96173",
   "metadata": {},
   "outputs": [],
   "source": []
  }
 ],
 "metadata": {
  "kernelspec": {
   "display_name": "Python 3 (ipykernel)",
   "language": "python",
   "name": "python3"
  },
  "language_info": {
   "codemirror_mode": {
    "name": "ipython",
    "version": 3
   },
   "file_extension": ".py",
   "mimetype": "text/x-python",
   "name": "python",
   "nbconvert_exporter": "python",
   "pygments_lexer": "ipython3",
   "version": "3.10.5"
  }
 },
 "nbformat": 4,
 "nbformat_minor": 5
}
