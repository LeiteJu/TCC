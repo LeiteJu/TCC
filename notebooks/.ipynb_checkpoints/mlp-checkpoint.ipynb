{
 "cells": [
  {
   "cell_type": "markdown",
   "id": "8028965b-2bc6-4d50-8b0c-91522e33fbb1",
   "metadata": {},
   "source": [
    "# Redes MLP\n",
    "\n",
    "Melhores resultados: \n",
    "\n",
    "|      | MLP |\n",
    "|------|------------------|\n",
    "| RMSE | 35724.18         |\n",
    "| MAE  | 23680.35         |\n",
    "| MAPE | 0.30             |\n",
    "\n",
    "Config:\n",
    "\n",
    "4 camadas com ativação relu e units (256, 128, 64, 32) e minmax"
   ]
  },
  {
   "cell_type": "code",
   "execution_count": 1,
   "id": "f2f23ada-6aa8-4034-a7d1-c4b3bd9226f8",
   "metadata": {},
   "outputs": [],
   "source": [
    "import pandas as pd\n",
    "import numpy as np\n",
    "import matplotlib.pyplot as plt\n",
    "import seaborn as sns\n",
    "import os\n",
    "import random\n",
    "from scipy.stats import pearsonr\n",
    "from collections import Counter\n",
    "\n",
    "from tensorflow import keras\n",
    "from tensorflow.keras.layers import Dense, Dropout, LSTM, Conv1D, MaxPooling1D, Flatten\n",
    "from tensorflow.keras.models import Sequential\n",
    "from tensorflow.random import set_seed\n",
    "\n",
    "sns.set_palette(\"Paired\")\n",
    "\n",
    "from sklearn.model_selection import train_test_split\n",
    "\n",
    "from sklearn.linear_model import LinearRegression\n",
    "from sklearn.preprocessing import StandardScaler\n",
    "from sklearn.preprocessing import MinMaxScaler, PowerTransformer\n",
    "\n",
    "from sklearn.metrics import mean_squared_error\n",
    "from sklearn.metrics import mean_absolute_error\n",
    "from sklearn.metrics import mean_absolute_percentage_error\n",
    "from sklearn.metrics import r2_score\n",
    "\n",
    "from sklearn.pipeline import Pipeline\n",
    "\n",
    "import warnings\n",
    "warnings.filterwarnings(\"ignore\")\n",
    "\n",
    "from keras.layers import BatchNormalization"
   ]
  },
  {
   "cell_type": "markdown",
   "id": "094d6144-e4b1-4728-ac61-72849dd49bf2",
   "metadata": {},
   "source": [
    "# Constantes e funções"
   ]
  },
  {
   "cell_type": "code",
   "execution_count": 2,
   "id": "2a42e501-53b6-4a5e-99f5-a1bffc77a965",
   "metadata": {},
   "outputs": [],
   "source": [
    "PATH=\"https://raw.githubusercontent.com/LeiteJu/TCC/main/dados/input/\"\n",
    "\n",
    "SIGLAS = ['AC', 'AL', 'AM', 'AP', 'BA', 'CE',\n",
    "  'DF', 'ES', 'GO', 'MA',\n",
    "  'MG', 'MS', 'MT', 'PA', 'PB',\n",
    "  'PE', 'PI', 'PR', 'RJ',\n",
    "  'RN', 'RO', 'RR', 'RS',\n",
    "  'SC', 'SE', 'SP', 'TO']\n",
    "\n",
    "LABELS=[\"subestima: -90%\", \"subestima entre -90% e 60%\", \"subestima entre -60% e -30%\",\n",
    "        \"subestima entre -30% e 10%\", \"entre -10% e 10%\", \"superestima entre 10% e 30%\", \n",
    "        \"superestima entre 30% e 60%\", \"superestima entre 60% e 90%\", \"superestima mais de 90%\"]\n",
    "\n",
    "N='NORTE'\n",
    "NE=\"NORDESTE\"\n",
    "CO='CENTRO OESTE'\n",
    "SE='SUDESTE'\n",
    "S = 'SUL'\n",
    "\n",
    "REGIOES = {\n",
    "    'AC': N, 'AL': NE, 'AM' : N, 'AP' : N, 'BA' : NE, 'CE' : NE,\n",
    "    'DF' : CO, 'ES' : SE, 'GO' : CO, 'MA' : NE,\n",
    "    'MG' : SE, 'MS' : CO, 'MT' : CO, 'PA' : N, 'PB' : NE,\n",
    "    'PE' : NE, 'PI' : NE, 'PR' : S, 'RJ' : SE,\n",
    "    'RN' : NE, 'RO' : N, 'RR' : N, 'RS' : S,\n",
    "    'SC' : S, 'SE' : NE, 'SP' : SE, 'TO' : N}"
   ]
  },
  {
   "cell_type": "code",
   "execution_count": 3,
   "id": "bb4db44f-03a4-4ae0-91ec-3ce946fcabbb",
   "metadata": {},
   "outputs": [],
   "source": [
    "# calcula metricas de regressao\n",
    "def score_regression_metrics(y_test, y_test_pred):\n",
    "\n",
    "    RMSE = mean_squared_error(y_true=y_test, y_pred=y_test_pred, squared=False)\n",
    "    MAE = mean_absolute_error(y_true=y_test, y_pred=y_test_pred)\n",
    "    MAPE = mean_absolute_percentage_error(y_true=y_test, y_pred=y_test_pred)\n",
    "    R2 = r2_score(y_true=y_test, y_pred=y_test_pred)\n",
    "\n",
    "    scores = {\n",
    "        \"neg_root_mean_squared_error\": RMSE,\n",
    "        \"neg_mean_absolute_error\": MAE,\n",
    "        \"neg_mean_absolute_percentage_error\": MAPE,\n",
    "    }\n",
    "\n",
    "    return scores\n",
    "\n",
    "def show_scores (scores):\n",
    "\n",
    "    print (\"Scores obtidos:\")\n",
    "\n",
    "    print (f\"RMSE: {scores['neg_root_mean_squared_error']}\")\n",
    "    print (f\"MAE: {scores['neg_mean_absolute_error']}\")\n",
    "    print (f\"MAPE: {scores['neg_mean_absolute_percentage_error']}\")"
   ]
  },
  {
   "cell_type": "code",
   "execution_count": 4,
   "id": "99e3b348-70aa-49e4-b4b8-da99ef7f7711",
   "metadata": {},
   "outputs": [],
   "source": [
    "def categorize(x):\n",
    "    if x < - 0.9:\n",
    "        return LABELS[0]\n",
    "    elif x < - 0.6:\n",
    "        return LABELS[1]\n",
    "    elif x < - 0.3:\n",
    "        return LABELS[2]\n",
    "    elif x < - 0.1:\n",
    "        return LABELS[3]\n",
    "    elif x < 0.1:\n",
    "        return LABELS[4]\n",
    "    elif x < 0.3:\n",
    "        return LABELS[5]\n",
    "    elif x < 0.6:\n",
    "        return LABELS[6]\n",
    "    elif x < 0.9:\n",
    "        return LABELS[7]\n",
    "    else:\n",
    "        return LABELS[8]"
   ]
  },
  {
   "cell_type": "code",
   "execution_count": 5,
   "id": "e7c50bbb-6446-47e3-b487-7597eddf79f9",
   "metadata": {},
   "outputs": [],
   "source": [
    "def show_delta (y_test, y_pred):\n",
    "    \n",
    "    data=(y_pred - y_test)/y_test\n",
    "\n",
    "    error = pd.DataFrame(data, columns=['erro'])\n",
    "    error['categoria']=error['erro'].apply(categorize)\n",
    "    \n",
    "    plt.figure(figsize=(28,6))\n",
    "\n",
    "    g = sns.countplot(data=error, x='categoria', order=LABELS)\n",
    "    \n",
    "    plt.show()"
   ]
  },
  {
   "cell_type": "code",
   "execution_count": 6,
   "id": "cc9a0538-c209-453f-8633-87c08a559e87",
   "metadata": {},
   "outputs": [],
   "source": [
    "def get_regiao (x):\n",
    "    return REGIOES[x]"
   ]
  },
  {
   "cell_type": "code",
   "execution_count": 7,
   "id": "92daf2ea-a2b6-4c24-933d-59f9103488aa",
   "metadata": {
    "tags": []
   },
   "outputs": [],
   "source": [
    "def get_pred (y_test, y_pred):\n",
    "    \n",
    "    init = pd.to_datetime(\"072017\", format='%m%Y')\n",
    "    end = pd.to_datetime(\"122019\", format='%m%Y')\n",
    "    data = pd.date_range(start=init, end=end, freq='MS').date\n",
    "    \n",
    "    pred = pd.DataFrame(list(data) * 27, columns=['data']).sort_values('data')\n",
    "    \n",
    "    pred['estados'] = SIGLAS * 30\n",
    "    \n",
    "    pred['y_test'] =  y_test[len(y_test) % 27 :].values\n",
    "    pred['y_pred'] = y_pred[len(y_pred) % 27 :]\n",
    "    \n",
    "    pred = pred.set_index('data')\n",
    "    \n",
    "    pred['regiao'] = pred['estados'].apply(get_regiao)\n",
    "    \n",
    "    return pred"
   ]
  },
  {
   "cell_type": "code",
   "execution_count": 120,
   "id": "84b47256-641e-4f15-8179-cfd596d4c94e",
   "metadata": {},
   "outputs": [],
   "source": [
    "def show_pred (pred, states=SIGLAS):\n",
    "    \n",
    "    for state in states:\n",
    "        \n",
    "        fig, ax = plt.subplots()\n",
    "\n",
    "        pred[pred['estados'] == state].plot(y=\"y_pred\", ax=ax, figsize=(12,6), color=\"coral\", title=f\"Previsão x Dado Real: {state}\", ylabel=\"Consumo\")\n",
    "        pred[pred['estados'] == state].plot(y=\"y_test\", linestyle=' ', marker=\"o\", ax=ax)\n",
    "\n",
    "    plt.show()"
   ]
  },
  {
   "cell_type": "code",
   "execution_count": 121,
   "id": "b342a9cb-2297-4c19-aeb7-b102d9f56d22",
   "metadata": {},
   "outputs": [],
   "source": [
    "def show_graphs (pred, reg):\n",
    "    \n",
    "    plt.figure(figsize=(14,6))\n",
    "    \n",
    "    \n",
    "    plt.title(\"Visão regional\")\n",
    "    \n",
    "    for state in reg:\n",
    "        \n",
    "        sns.scatterplot(pred[pred['estados'] == state]['y_test'], label=f\"Dado real de {state}\")\n",
    "        sns.lineplot(pred[pred['estados'] == state]['y_pred'], label=f\"Previsão e {state}\")\n",
    "        \n",
    "    plt.ylabel=\"Consumo\"\n",
    "        \n",
    "    plt.show()"
   ]
  },
  {
   "cell_type": "code",
   "execution_count": 9,
   "id": "a9884267-75ba-479c-8942-45e750b2af37",
   "metadata": {},
   "outputs": [],
   "source": [
    "def region_metrics (pred):\n",
    "\n",
    "    for reg in pred['regiao'].unique():\n",
    "        \n",
    "        print (f\"Metricas de {reg}:\")\n",
    "        print (f\"RMSE: {mean_squared_error(pred[pred['regiao'] == reg]['y_test'], pred[pred['regiao'] == reg]['y_pred'], squared=False)}\")\n",
    "        print (f\"MAPE: {mean_absolute_percentage_error(pred[pred['regiao'] == reg]['y_test'], pred[pred['regiao'] == reg]['y_pred'])}\")\n",
    "        print (f\"MAE: {mean_absolute_error(pred[pred['regiao'] == reg]['y_test'], pred[pred['regiao'] == reg]['y_pred'])}\")\n",
    "        print (\"-------------------------------\\n\")"
   ]
  },
  {
   "cell_type": "code",
   "execution_count": 14,
   "id": "b95a7520-e333-4ae2-9564-5475ad46ad7a",
   "metadata": {},
   "outputs": [],
   "source": [
    "def region_graphs (pred, reg):\n",
    "    \n",
    "    plt.figure(figsize=(18,6))\n",
    "        \n",
    "    plt.title(f\"Visão regional: {reg}\")\n",
    "    \n",
    "    pred=pred[pred['regiao'] == reg]\n",
    "    \n",
    "    plt.ylabel=\"Consumo\"\n",
    "    sns.scatterplot(pred, x=pred.index, y='y_test', hue=\"estados\")\n",
    "    sns.lineplot(pred, x=pred.index, y='y_pred', hue=\"estados\")\n",
    "    \n",
    "        \n",
    "    plt.show()"
   ]
  },
  {
   "cell_type": "code",
   "execution_count": 19,
   "id": "27bc2fce-b9d1-4971-a008-da61a7df7b6d",
   "metadata": {},
   "outputs": [],
   "source": [
    "def split_train_test_validation (x, y):\n",
    "    x_train, x_test, y_train, y_test = train_test_split(x,y, test_size=0.3, shuffle=False)\n",
    "    x_val, x_test, y_val, y_test = train_test_split(x_test, y_test, test_size=0.5, shuffle=False)"
   ]
  },
  {
   "cell_type": "markdown",
   "id": "00d15381-e18e-4a4b-8cb7-1807d6904a18",
   "metadata": {},
   "source": [
    "# SEED"
   ]
  },
  {
   "cell_type": "code",
   "execution_count": 11,
   "id": "9fbe749d-a27a-4a07-9b95-42f0e41bc951",
   "metadata": {},
   "outputs": [],
   "source": [
    "SEED = 41\n",
    "\n",
    "def set_seeds (SEED=41):\n",
    "    os.environ['PYTHONHASHSEED'] = str(SEED)\n",
    "    set_seed(SEED)\n",
    "    np.random.seed(SEED)\n",
    "    random.seed(SEED)"
   ]
  },
  {
   "cell_type": "code",
   "execution_count": 12,
   "id": "f53b8840-3b14-48ca-b18e-09860768fc28",
   "metadata": {},
   "outputs": [],
   "source": [
    "set_seeds(SEED)"
   ]
  },
  {
   "cell_type": "markdown",
   "id": "e61e043d-8adb-4067-8e4b-f101c8705cd4",
   "metadata": {},
   "source": [
    "# Dados"
   ]
  },
  {
   "cell_type": "code",
   "execution_count": 15,
   "id": "8ca9722b-8de3-4c45-a19f-b3bc4f403387",
   "metadata": {},
   "outputs": [],
   "source": [
    "def load_data():\n",
    "    \n",
    "    df = pd.read_csv(f\"{PATH}processado.csv\")\n",
    "    \n",
    "    x  = df.copy()\n",
    "    x = x.sort_values([\"data\", \"estados\"])\n",
    "    x = x.drop([\"consumo\", 'data'], axis=1)\n",
    "\n",
    "    y = df.copy().sort_values([\"data\", \"estados\"])[['estados', 'data', 'consumo']]\n",
    "    \n",
    "    # processo de one-hot\n",
    "    x = pd.get_dummies(data=x, columns=[\"estados\"], drop_first=True)\n",
    "\n",
    "    y = y['consumo']\n",
    "    \n",
    "    return x,y"
   ]
  },
  {
   "cell_type": "markdown",
   "id": "4ce787c6-02b3-40ea-870a-1e46505a8b4f",
   "metadata": {},
   "source": [
    "# Experimentos"
   ]
  },
  {
   "cell_type": "markdown",
   "id": "2fb32462-76f0-425c-94de-10eebdc73bba",
   "metadata": {
    "tags": []
   },
   "source": [
    "## 1 camada de 16 neurônios"
   ]
  },
  {
   "cell_type": "code",
   "execution_count": 16,
   "id": "96ed5a06-52b5-4d2f-b463-b53d756599f2",
   "metadata": {},
   "outputs": [],
   "source": [
    "x,y = load_data()\n",
    "\n",
    "x_train, x_test, y_train, y_test = train_test_split(x,y, test_size=0.15, shuffle=False)\n",
    "\n",
    "scaler = StandardScaler()\n",
    "x_train = scaler.fit_transform(x_train)\n",
    "x_test = scaler.transform(x_test)\n",
    "\n",
    "model = Sequential()\n",
    "\n",
    "model.add(Dense(units=16, activation=\"relu\")),\n",
    "\n",
    "model.add(Dropout(rate=0.10))\n",
    "model.add(Dense(units=1))\n",
    "model.compile(\n",
    "    optimizer=keras.optimizers.Adam(learning_rate=0.001),\n",
    "    loss=\"mse\",\n",
    "    metrics=[keras.metrics.RootMeanSquaredError(name=\"RMSE\")],\n",
    ")\n",
    "\n",
    "history=model.fit(x_train, y_train, batch_size=32, epochs=100, verbose=0)"
   ]
  },
  {
   "cell_type": "code",
   "execution_count": 17,
   "id": "70dace56-a6f8-4b91-b366-dae987332069",
   "metadata": {},
   "outputs": [
    {
     "name": "stdout",
     "output_type": "stream",
     "text": [
      "147/147 [==============================] - 0s 2ms/step\n",
      "Scores obtidos:\n",
      "RMSE: 247356.83564931896\n",
      "MAE: 147654.2215069418\n",
      "MAPE: 0.9363750094252453\n",
      "26/26 [==============================] - 0s 2ms/step\n",
      "Scores obtidos:\n",
      "RMSE: 204905.72048572573\n",
      "MAE: 127943.09992699814\n",
      "MAPE: 0.8666399019176667\n"
     ]
    }
   ],
   "source": [
    "show_scores(score_regression_metrics(y_train, model.predict(x_train)))\n",
    "\n",
    "y_pred = model.predict(x_test)\n",
    "scores = score_regression_metrics(y_test, y_pred)\n",
    "show_scores(scores)"
   ]
  },
  {
   "cell_type": "markdown",
   "id": "e6afffe7-54ab-4f1f-a5d4-9d2659cd850d",
   "metadata": {
    "tags": []
   },
   "source": [
    "## 1 camada de 32 neurônios"
   ]
  },
  {
   "cell_type": "code",
   "execution_count": 129,
   "id": "c9309c6b-19dd-4de0-8136-9b0a9cff4d0b",
   "metadata": {},
   "outputs": [
    {
     "name": "stdout",
     "output_type": "stream",
     "text": [
      "147/147 [==============================] - 0s 2ms/step\n",
      "Scores obtidos:\n",
      "RMSE: 218250.1393228356\n",
      "MAE: 130234.74269842633\n",
      "MAPE: 0.8746592700290485\n",
      "26/26 [==============================] - 0s 2ms/step\n",
      "Scores obtidos:\n",
      "RMSE: 166145.15213151067\n",
      "MAE: 101965.3869633692\n",
      "MAPE: 0.7387956151494\n"
     ]
    }
   ],
   "source": [
    "x,y = load_data()\n",
    "\n",
    "x_train, x_test, y_train, y_test = train_test_split(x,y, test_size=0.15, shuffle=False)\n",
    "\n",
    "scaler = StandardScaler()\n",
    "x_train = scaler.fit_transform(x_train)\n",
    "x_test = scaler.transform(x_test)\n",
    "\n",
    "model = Sequential()\n",
    "\n",
    "model.add(Dense(units=32, activation=\"relu\")),\n",
    "\n",
    "model.add(Dropout(rate=0.10))\n",
    "model.add(Dense(units=1))\n",
    "model.compile(\n",
    "    optimizer=keras.optimizers.Adam(learning_rate=0.001),\n",
    "    loss=\"mse\",\n",
    "    metrics=[keras.metrics.RootMeanSquaredError(name=\"RMSE\")],\n",
    ")\n",
    "\n",
    "history=model.fit(x_train, y_train, batch_size=32, epochs=100, verbose=0)\n",
    "\n",
    "show_scores(score_regression_metrics(y_train, model.predict(x_train)))\n",
    "\n",
    "y_pred = model.predict(x_test)\n",
    "scores = score_regression_metrics(y_test, y_pred)\n",
    "show_scores(scores)"
   ]
  },
  {
   "cell_type": "markdown",
   "id": "0984d74a-8067-4f50-9de4-71b79075fc3e",
   "metadata": {
    "tags": []
   },
   "source": [
    "## 2 camadas (64, 32)"
   ]
  },
  {
   "cell_type": "code",
   "execution_count": 130,
   "id": "490fb0b7-d50a-4694-a7ec-964a341233d9",
   "metadata": {},
   "outputs": [
    {
     "name": "stdout",
     "output_type": "stream",
     "text": [
      "147/147 [==============================] - 0s 2ms/step\n",
      "Scores obtidos:\n",
      "RMSE: 47077.45704469229\n",
      "MAE: 29392.3360141927\n",
      "MAPE: 0.3781404727295164\n",
      "26/26 [==============================] - 0s 2ms/step\n",
      "Scores obtidos:\n",
      "RMSE: 74701.33229080414\n",
      "MAE: 43369.511122716234\n",
      "MAPE: 0.4843290624419502\n"
     ]
    }
   ],
   "source": [
    "x,y = load_data()\n",
    "\n",
    "x_train, x_test, y_train, y_test = train_test_split(x,y, test_size=0.15, shuffle=False)\n",
    "\n",
    "scaler = StandardScaler()\n",
    "x_train = scaler.fit_transform(x_train)\n",
    "x_test = scaler.transform(x_test)\n",
    "\n",
    "model = Sequential()\n",
    "\n",
    "model.add(Dense(units=64, activation=\"relu\")),\n",
    "model.add(Dense(units=32, activation=\"relu\")),\n",
    "\n",
    "model.add(Dropout(rate=0.10))\n",
    "model.add(Dense(units=1))\n",
    "model.compile(\n",
    "    optimizer=keras.optimizers.Adam(learning_rate=0.001),\n",
    "    loss=\"mse\",\n",
    "    metrics=[keras.metrics.RootMeanSquaredError(name=\"RMSE\")],\n",
    ")\n",
    "\n",
    "history=model.fit(x_train, y_train, batch_size=32, epochs=100, verbose=0)\n",
    "\n",
    "show_scores(score_regression_metrics(y_train, model.predict(x_train)))\n",
    "\n",
    "y_pred = model.predict(x_test)\n",
    "scores = score_regression_metrics(y_test, y_pred)\n",
    "show_scores(scores)"
   ]
  },
  {
   "cell_type": "code",
   "execution_count": 131,
   "id": "ea76fc6a-b41d-4d49-ad04-0ca81a7c5191",
   "metadata": {},
   "outputs": [
    {
     "name": "stdout",
     "output_type": "stream",
     "text": [
      "147/147 [==============================] - 0s 2ms/step\n",
      "Scores obtidos:\n",
      "RMSE: 46437.395932640175\n",
      "MAE: 27044.9488660576\n",
      "MAPE: 0.3588282487268094\n",
      "26/26 [==============================] - 0s 2ms/step\n",
      "Scores obtidos:\n",
      "RMSE: 83890.67003283024\n",
      "MAE: 54124.65654078418\n",
      "MAPE: 0.7626164899459138\n"
     ]
    }
   ],
   "source": [
    "x,y = load_data()\n",
    "\n",
    "x_train, x_test, y_train, y_test = train_test_split(x,y, test_size=0.15, shuffle=False)\n",
    "\n",
    "scaler = MinMaxScaler()\n",
    "x_train = scaler.fit_transform(x_train)\n",
    "x_test = scaler.transform(x_test)\n",
    "\n",
    "model = Sequential()\n",
    "\n",
    "model.add(Dense(units=64, activation=\"relu\")),\n",
    "model.add(Dense(units=32, activation=\"relu\")),\n",
    "\n",
    "model.add(Dropout(rate=0.10))\n",
    "model.add(Dense(units=1))\n",
    "model.compile(\n",
    "    optimizer=keras.optimizers.Adam(learning_rate=0.001),\n",
    "    loss=\"mse\",\n",
    "    metrics=[keras.metrics.RootMeanSquaredError(name=\"RMSE\")],\n",
    ")\n",
    "\n",
    "history=model.fit(x_train, y_train, batch_size=32, epochs=100, verbose=0)\n",
    "\n",
    "show_scores(score_regression_metrics(y_train, model.predict(x_train)))\n",
    "\n",
    "y_pred = model.predict(x_test)\n",
    "scores = score_regression_metrics(y_test, y_pred)\n",
    "show_scores(scores)"
   ]
  },
  {
   "cell_type": "markdown",
   "id": "a5094185-3665-4d31-8685-1a21312649c1",
   "metadata": {
    "tags": []
   },
   "source": [
    "## 3 camadas (128, 64, 32)"
   ]
  },
  {
   "cell_type": "markdown",
   "id": "81684790-6d3a-4177-83b2-4ca3d4e229aa",
   "metadata": {
    "tags": []
   },
   "source": [
    "### StandardScaler"
   ]
  },
  {
   "cell_type": "code",
   "execution_count": 132,
   "id": "2afe98ee-40a4-410b-a6df-c29139d6f505",
   "metadata": {},
   "outputs": [
    {
     "name": "stdout",
     "output_type": "stream",
     "text": [
      "147/147 [==============================] - 0s 2ms/step\n",
      "Scores obtidos:\n",
      "RMSE: 31777.14595561428\n",
      "MAE: 17652.733353265066\n",
      "MAPE: 0.24598927636079493\n",
      "26/26 [==============================] - 0s 2ms/step\n",
      "Scores obtidos:\n",
      "RMSE: 44519.96296107601\n",
      "MAE: 30388.38663254799\n",
      "MAPE: 0.5894218289033246\n"
     ]
    }
   ],
   "source": [
    "x,y = load_data()\n",
    "\n",
    "x_train, x_test, y_train, y_test = train_test_split(x,y, test_size=0.15, shuffle=False)\n",
    "\n",
    "scaler = StandardScaler()\n",
    "x_train = scaler.fit_transform(x_train)\n",
    "x_test = scaler.transform(x_test)\n",
    "\n",
    "model = Sequential()\n",
    "\n",
    "model.add(Dense(units=128, activation=\"relu\")),\n",
    "model.add(Dense(units=64, activation=\"relu\")),\n",
    "model.add(Dense(units=32, activation=\"relu\")),\n",
    "\n",
    "model.add(Dropout(rate=0.10))\n",
    "model.add(Dense(units=1))\n",
    "model.compile(\n",
    "    optimizer=keras.optimizers.Adam(learning_rate=0.001),\n",
    "    loss=\"mse\",\n",
    "    metrics=[keras.metrics.RootMeanSquaredError(name=\"RMSE\")],\n",
    ")\n",
    "\n",
    "history=model.fit(x_train, y_train, batch_size=32, epochs=100, verbose=0)\n",
    "\n",
    "show_scores(score_regression_metrics(y_train, model.predict(x_train)))\n",
    "\n",
    "y_pred = model.predict(x_test)\n",
    "scores = score_regression_metrics(y_test, y_pred)\n",
    "show_scores(scores)"
   ]
  },
  {
   "cell_type": "markdown",
   "id": "38b1173c-8181-4585-8ba6-d29062d7841e",
   "metadata": {
    "tags": []
   },
   "source": [
    "### MinMax Scaler"
   ]
  },
  {
   "cell_type": "code",
   "execution_count": 133,
   "id": "dafa0d93-9158-497e-a384-1037702bd9c6",
   "metadata": {
    "tags": []
   },
   "outputs": [
    {
     "name": "stdout",
     "output_type": "stream",
     "text": [
      "147/147 [==============================] - 0s 2ms/step\n",
      "Scores obtidos:\n",
      "RMSE: 38041.52837804079\n",
      "MAE: 21230.317434207936\n",
      "MAPE: 0.3279675306259006\n",
      "26/26 [==============================] - 0s 2ms/step\n",
      "Scores obtidos:\n",
      "RMSE: 70500.13519137503\n",
      "MAE: 41265.27863441846\n",
      "MAPE: 0.5347937753328799\n"
     ]
    }
   ],
   "source": [
    "x,y = load_data()\n",
    "\n",
    "x_train, x_test, y_train, y_test = train_test_split(x,y, test_size=0.15, shuffle=False)\n",
    "\n",
    "scaler = MinMaxScaler()\n",
    "x_train = scaler.fit_transform(x_train)\n",
    "x_test = scaler.transform(x_test)\n",
    "\n",
    "model = Sequential()\n",
    "\n",
    "model.add(Dense(units=128, activation=\"relu\")),\n",
    "model.add(Dense(units=64, activation=\"relu\")),\n",
    "model.add(Dense(units=32, activation=\"relu\")),\n",
    "\n",
    "model.add(Dropout(rate=0.10))\n",
    "model.add(Dense(units=1))\n",
    "model.compile(\n",
    "    optimizer=keras.optimizers.Adam(learning_rate=0.001),\n",
    "    loss=\"mse\",\n",
    "    metrics=[keras.metrics.RootMeanSquaredError(name=\"RMSE\")],\n",
    ")\n",
    "\n",
    "history=model.fit(x_train, y_train, batch_size=32, epochs=100, verbose=0)\n",
    "\n",
    "show_scores(score_regression_metrics(y_train, model.predict(x_train)))\n",
    "\n",
    "y_pred = model.predict(x_test)\n",
    "scores = score_regression_metrics(y_test, y_pred)\n",
    "show_scores(scores)"
   ]
  },
  {
   "cell_type": "markdown",
   "id": "f9a9bd99-a1b8-4b0b-8288-30b48b53945a",
   "metadata": {
    "tags": []
   },
   "source": [
    "## 3 camadas (256, 128, 64)"
   ]
  },
  {
   "cell_type": "markdown",
   "id": "7593bb9e-1ddc-4d93-a8fc-dee755c675ad",
   "metadata": {
    "tags": []
   },
   "source": [
    "### Standard Scaler"
   ]
  },
  {
   "cell_type": "code",
   "execution_count": 134,
   "id": "ae654ba3-ca6f-474f-81d8-a099c35ac557",
   "metadata": {},
   "outputs": [
    {
     "name": "stdout",
     "output_type": "stream",
     "text": [
      "147/147 [==============================] - 1s 3ms/step\n",
      "Scores obtidos:\n",
      "RMSE: 30131.132426431624\n",
      "MAE: 16534.43286393883\n",
      "MAPE: 0.2190166858610891\n",
      "26/26 [==============================] - 0s 3ms/step\n",
      "Scores obtidos:\n",
      "RMSE: 43755.36702107525\n",
      "MAE: 30338.791136071646\n",
      "MAPE: 0.6100094978897368\n"
     ]
    }
   ],
   "source": [
    "x,y = load_data()\n",
    "\n",
    "x_train, x_test, y_train, y_test = train_test_split(x,y, test_size=0.15, shuffle=False)\n",
    "\n",
    "scaler = StandardScaler()\n",
    "x_train = scaler.fit_transform(x_train)\n",
    "x_test = scaler.transform(x_test)\n",
    "\n",
    "model = Sequential()\n",
    "\n",
    "model.add(Dense(units=256, activation=\"relu\")),\n",
    "model.add(Dense(units=128, activation=\"relu\")),\n",
    "model.add(Dense(units=64, activation=\"relu\")),\n",
    "\n",
    "model.add(Dropout(rate=0.10))\n",
    "model.add(Dense(units=1))\n",
    "model.compile(\n",
    "    optimizer=keras.optimizers.Adam(learning_rate=0.001),\n",
    "    loss=\"mse\",\n",
    "    metrics=[keras.metrics.RootMeanSquaredError(name=\"RMSE\")],\n",
    ")\n",
    "\n",
    "history=model.fit(x_train, y_train, batch_size=32, epochs=100, verbose=0)\n",
    "\n",
    "show_scores(score_regression_metrics(y_train, model.predict(x_train)))\n",
    "\n",
    "y_pred = model.predict(x_test)\n",
    "scores = score_regression_metrics(y_test, y_pred)\n",
    "show_scores(scores)"
   ]
  },
  {
   "cell_type": "markdown",
   "id": "f23e224a-d05b-4753-99be-4926434fb63d",
   "metadata": {},
   "source": [
    "### MinMax Scaler"
   ]
  },
  {
   "cell_type": "markdown",
   "id": "a20978c5-6c96-4d0b-b9c4-4b6f59bde7f7",
   "metadata": {
    "tags": []
   },
   "source": [
    "#### 100 epochs"
   ]
  },
  {
   "cell_type": "code",
   "execution_count": 135,
   "id": "89bc23c3-c6b2-4e38-ba02-8f7800f04398",
   "metadata": {},
   "outputs": [
    {
     "name": "stdout",
     "output_type": "stream",
     "text": [
      "147/147 [==============================] - 1s 3ms/step\n",
      "Scores obtidos:\n",
      "RMSE: 32803.54842672395\n",
      "MAE: 18521.202397736946\n",
      "MAPE: 0.2686803310480784\n",
      "26/26 [==============================] - 0s 3ms/step\n",
      "Scores obtidos:\n",
      "RMSE: 54979.7456459006\n",
      "MAE: 34599.293916972114\n",
      "MAPE: 0.5178527748763385\n"
     ]
    }
   ],
   "source": [
    "x,y = load_data()\n",
    "\n",
    "x_train, x_test, y_train, y_test = train_test_split(x,y, test_size=0.15, shuffle=False)\n",
    "\n",
    "scaler = MinMaxScaler()\n",
    "x_train = scaler.fit_transform(x_train)\n",
    "x_test = scaler.transform(x_test)\n",
    "\n",
    "model = Sequential()\n",
    "\n",
    "model.add(Dense(units=256, activation=\"relu\")),\n",
    "model.add(Dense(units=128, activation=\"relu\")),\n",
    "model.add(Dense(units=64, activation=\"relu\")),\n",
    "\n",
    "model.add(Dropout(rate=0.10))\n",
    "model.add(Dense(units=1))\n",
    "model.compile(\n",
    "    optimizer=keras.optimizers.Adam(learning_rate=0.001),\n",
    "    loss=\"mse\",\n",
    "    metrics=[keras.metrics.RootMeanSquaredError(name=\"RMSE\")],\n",
    ")\n",
    "\n",
    "history=model.fit(x_train, y_train, batch_size=32, epochs=100, verbose=0)\n",
    "\n",
    "show_scores(score_regression_metrics(y_train, model.predict(x_train)))\n",
    "\n",
    "y_pred = model.predict(x_test)\n",
    "scores = score_regression_metrics(y_test, y_pred)\n",
    "show_scores(scores)"
   ]
  },
  {
   "cell_type": "markdown",
   "id": "5665b09d-91d3-43a5-89dc-53bb7a201d94",
   "metadata": {
    "tags": []
   },
   "source": [
    "#### 200 epochs"
   ]
  },
  {
   "cell_type": "code",
   "execution_count": 136,
   "id": "22cb9df6-0e0d-4d06-ae53-623c8eca2c6e",
   "metadata": {},
   "outputs": [
    {
     "name": "stdout",
     "output_type": "stream",
     "text": [
      "147/147 [==============================] - 0s 2ms/step\n",
      "Scores obtidos:\n",
      "RMSE: 29587.060727903412\n",
      "MAE: 16024.43344986381\n",
      "MAPE: 0.20693813948030687\n",
      "26/26 [==============================] - 0s 3ms/step\n",
      "Scores obtidos:\n",
      "RMSE: 38864.206685995145\n",
      "MAE: 25925.152220941658\n",
      "MAPE: 0.41956528536096266\n"
     ]
    }
   ],
   "source": [
    "x,y = load_data()\n",
    "\n",
    "x_train, x_test, y_train, y_test = train_test_split(x,y, test_size=0.15, shuffle=False)\n",
    "\n",
    "scaler = MinMaxScaler()\n",
    "x_train = scaler.fit_transform(x_train)\n",
    "x_test = scaler.transform(x_test)\n",
    "\n",
    "model = Sequential()\n",
    "\n",
    "model.add(Dense(units=256, activation=\"relu\")),\n",
    "model.add(Dense(units=128, activation=\"relu\")),\n",
    "model.add(Dense(units=64, activation=\"relu\")),\n",
    "\n",
    "model.add(Dropout(rate=0.10))\n",
    "model.add(Dense(units=1))\n",
    "model.compile(\n",
    "    optimizer=keras.optimizers.Adam(learning_rate=0.001),\n",
    "    loss=\"mse\",\n",
    "    metrics=[keras.metrics.RootMeanSquaredError(name=\"RMSE\")],\n",
    ")\n",
    "\n",
    "history=model.fit(x_train, y_train, batch_size=32, epochs=200, verbose=0)\n",
    "\n",
    "show_scores(score_regression_metrics(y_train, model.predict(x_train)))\n",
    "\n",
    "y_pred = model.predict(x_test)\n",
    "scores = score_regression_metrics(y_test, y_pred)\n",
    "show_scores(scores)"
   ]
  },
  {
   "cell_type": "markdown",
   "id": "a38ae749-150b-47a7-83cd-207b7200d84f",
   "metadata": {
    "tags": []
   },
   "source": [
    "#### 300 epochs"
   ]
  },
  {
   "cell_type": "code",
   "execution_count": 137,
   "id": "df3ff9ac-a496-48cf-b54d-d3d9c8c92c0c",
   "metadata": {},
   "outputs": [
    {
     "name": "stdout",
     "output_type": "stream",
     "text": [
      "147/147 [==============================] - 0s 2ms/step\n",
      "Scores obtidos:\n",
      "RMSE: 27975.498721064894\n",
      "MAE: 15246.693977535098\n",
      "MAPE: 0.1980162611621636\n",
      "26/26 [==============================] - 0s 2ms/step\n",
      "Scores obtidos:\n",
      "RMSE: 37376.8176567423\n",
      "MAE: 25048.33820532138\n",
      "MAPE: 0.37227871588758704\n"
     ]
    }
   ],
   "source": [
    "x,y = load_data()\n",
    "\n",
    "x_train, x_test, y_train, y_test = train_test_split(x,y, test_size=0.15, shuffle=False)\n",
    "\n",
    "scaler = MinMaxScaler()\n",
    "x_train = scaler.fit_transform(x_train)\n",
    "x_test = scaler.transform(x_test)\n",
    "\n",
    "model = Sequential()\n",
    "\n",
    "model.add(Dense(units=256, activation=\"relu\")),\n",
    "model.add(Dense(units=128, activation=\"relu\")),\n",
    "model.add(Dense(units=64, activation=\"relu\")),\n",
    "\n",
    "model.add(Dropout(rate=0.10))\n",
    "model.add(Dense(units=1))\n",
    "model.compile(\n",
    "    optimizer=keras.optimizers.Adam(learning_rate=0.001),\n",
    "    loss=\"mse\",\n",
    "    metrics=[keras.metrics.RootMeanSquaredError(name=\"RMSE\")],\n",
    ")\n",
    "\n",
    "history=model.fit(x_train, y_train, batch_size=32, epochs=300, verbose=0)\n",
    "\n",
    "show_scores(score_regression_metrics(y_train, model.predict(x_train)))\n",
    "\n",
    "y_pred = model.predict(x_test)\n",
    "scores = score_regression_metrics(y_test, y_pred)\n",
    "show_scores(scores)"
   ]
  },
  {
   "cell_type": "markdown",
   "id": "8646e72d-4204-4758-ae04-7cf7c71b487a",
   "metadata": {
    "tags": []
   },
   "source": [
    "#### 400 epochs"
   ]
  },
  {
   "cell_type": "code",
   "execution_count": 138,
   "id": "0daac846-0db0-4377-90e6-25198e86d487",
   "metadata": {},
   "outputs": [
    {
     "name": "stdout",
     "output_type": "stream",
     "text": [
      "147/147 [==============================] - 0s 2ms/step\n",
      "Scores obtidos:\n",
      "RMSE: 25877.926650775116\n",
      "MAE: 14254.521494718094\n",
      "MAPE: 0.17892248090545299\n",
      "26/26 [==============================] - 0s 2ms/step\n",
      "Scores obtidos:\n",
      "RMSE: 36371.3857594817\n",
      "MAE: 22538.66977190712\n",
      "MAPE: 0.26623841311589647\n"
     ]
    }
   ],
   "source": [
    "x,y = load_data()\n",
    "\n",
    "x_train, x_test, y_train, y_test = train_test_split(x,y, test_size=0.15, shuffle=False)\n",
    "\n",
    "scaler = MinMaxScaler()\n",
    "x_train = scaler.fit_transform(x_train)\n",
    "x_test = scaler.transform(x_test)\n",
    "\n",
    "model = Sequential()\n",
    "\n",
    "model.add(Dense(units=256, activation=\"relu\")),\n",
    "model.add(Dense(units=128, activation=\"relu\")),\n",
    "model.add(Dense(units=64, activation=\"relu\")),\n",
    "\n",
    "model.add(Dropout(rate=0.10))\n",
    "model.add(Dense(units=1))\n",
    "model.compile(\n",
    "    optimizer=keras.optimizers.Adam(learning_rate=0.001),\n",
    "    loss=\"mse\",\n",
    "    metrics=[keras.metrics.RootMeanSquaredError(name=\"RMSE\")],\n",
    ")\n",
    "\n",
    "history=model.fit(x_train, y_train, batch_size=32, epochs=400, verbose=0)\n",
    "\n",
    "show_scores(score_regression_metrics(y_train, model.predict(x_train)))\n",
    "\n",
    "y_pred = model.predict(x_test)\n",
    "scores = score_regression_metrics(y_test, y_pred)\n",
    "show_scores(scores)"
   ]
  },
  {
   "cell_type": "markdown",
   "id": "4f4e2a1d-72ce-4a35-a986-100b53b413c7",
   "metadata": {
    "tags": []
   },
   "source": [
    "## 4 camadas (256, 128, 64, 32)"
   ]
  },
  {
   "cell_type": "markdown",
   "id": "be729a2b-9981-4057-a323-cdf06397aa14",
   "metadata": {
    "tags": []
   },
   "source": [
    "### Standard Scaler"
   ]
  },
  {
   "cell_type": "markdown",
   "id": "5a808657-f29a-4cb2-896b-dbcaaf113ba2",
   "metadata": {
    "tags": []
   },
   "source": [
    "#### 100 epochs"
   ]
  },
  {
   "cell_type": "code",
   "execution_count": 139,
   "id": "9f7148e7-16bb-46a1-bf16-bc95b2c2c1da",
   "metadata": {},
   "outputs": [
    {
     "name": "stdout",
     "output_type": "stream",
     "text": [
      "147/147 [==============================] - 1s 3ms/step\n",
      "Scores obtidos:\n",
      "RMSE: 26958.800064562223\n",
      "MAE: 14501.38083610625\n",
      "MAPE: 0.1881364385259486\n",
      "26/26 [==============================] - 0s 2ms/step\n",
      "Scores obtidos:\n",
      "RMSE: 43979.22010454599\n",
      "MAE: 30613.860144913844\n",
      "MAPE: 0.6057417740953225\n"
     ]
    }
   ],
   "source": [
    "x,y = load_data()\n",
    "\n",
    "x_train, x_test, y_train, y_test = train_test_split(x,y, test_size=0.15, shuffle=False)\n",
    "\n",
    "scaler = StandardScaler()\n",
    "x_train = scaler.fit_transform(x_train)\n",
    "x_test = scaler.transform(x_test)\n",
    "\n",
    "model = Sequential()\n",
    "\n",
    "model.add(Dense(units=256, activation=\"relu\")),\n",
    "model.add(Dense(units=128, activation=\"relu\")),\n",
    "model.add(Dense(units=64, activation=\"relu\")),\n",
    "model.add(Dense(units=32, activation=\"relu\")),\n",
    "\n",
    "model.add(Dropout(rate=0.10))\n",
    "model.add(Dense(units=1))\n",
    "model.compile(\n",
    "    optimizer=keras.optimizers.Adam(learning_rate=0.001),\n",
    "    loss=\"mse\",\n",
    "    metrics=[keras.metrics.RootMeanSquaredError(name=\"RMSE\")],\n",
    ")\n",
    "\n",
    "history=model.fit(x_train, y_train, batch_size=32, epochs=100, verbose=0)\n",
    "\n",
    "show_scores(score_regression_metrics(y_train, model.predict(x_train)))\n",
    "\n",
    "y_pred = model.predict(x_test)\n",
    "scores = score_regression_metrics(y_test, y_pred)\n",
    "show_scores(scores)"
   ]
  },
  {
   "cell_type": "markdown",
   "id": "ce73f039-15d3-42d8-8f8d-0dbcf37a6051",
   "metadata": {},
   "source": [
    "### MinMax Scaler"
   ]
  },
  {
   "cell_type": "markdown",
   "id": "7674009d-9055-4421-b7d2-8fc0df661e4c",
   "metadata": {
    "tags": []
   },
   "source": [
    "#### 100 epochs"
   ]
  },
  {
   "cell_type": "code",
   "execution_count": 140,
   "id": "12f2339e-ea95-440a-8b7a-d8772c75fa58",
   "metadata": {},
   "outputs": [
    {
     "name": "stdout",
     "output_type": "stream",
     "text": [
      "147/147 [==============================] - 0s 2ms/step\n",
      "Scores obtidos:\n",
      "RMSE: 31996.166512262527\n",
      "MAE: 18510.671963027897\n",
      "MAPE: 0.26311635237999864\n",
      "26/26 [==============================] - 0s 2ms/step\n",
      "Scores obtidos:\n",
      "RMSE: 48640.71819794183\n",
      "MAE: 32781.172355605726\n",
      "MAPE: 0.535225668381961\n"
     ]
    }
   ],
   "source": [
    "x,y = load_data()\n",
    "\n",
    "x_train, x_test, y_train, y_test = train_test_split(x,y, test_size=0.15, shuffle=False)\n",
    "\n",
    "scaler = MinMaxScaler()\n",
    "x_train = scaler.fit_transform(x_train)\n",
    "x_test = scaler.transform(x_test)\n",
    "\n",
    "model = Sequential()\n",
    "\n",
    "model.add(Dense(units=256, activation=\"relu\")),\n",
    "model.add(Dense(units=128, activation=\"relu\")),\n",
    "model.add(Dense(units=64, activation=\"relu\")),\n",
    "model.add(Dense(units=32, activation=\"relu\")),\n",
    "\n",
    "model.add(Dropout(rate=0.10))\n",
    "model.add(Dense(units=1))\n",
    "model.compile(\n",
    "    optimizer=keras.optimizers.Adam(learning_rate=0.001),\n",
    "    loss=\"mse\",\n",
    "    metrics=[keras.metrics.RootMeanSquaredError(name=\"RMSE\")],\n",
    ")\n",
    "\n",
    "history=model.fit(x_train, y_train, batch_size=32, epochs=100, verbose=0)\n",
    "\n",
    "show_scores(score_regression_metrics(y_train, model.predict(x_train)))\n",
    "\n",
    "y_pred = model.predict(x_test)\n",
    "scores = score_regression_metrics(y_test, y_pred)\n",
    "show_scores(scores)"
   ]
  },
  {
   "cell_type": "markdown",
   "id": "3c0b10c8-39bc-427b-9dcb-38affb006ccc",
   "metadata": {
    "tags": []
   },
   "source": [
    "#### 200 epochs"
   ]
  },
  {
   "cell_type": "code",
   "execution_count": 141,
   "id": "f2acdc26-74a8-4df4-aa04-a0c90b775dec",
   "metadata": {},
   "outputs": [
    {
     "name": "stdout",
     "output_type": "stream",
     "text": [
      "147/147 [==============================] - 1s 3ms/step\n",
      "Scores obtidos:\n",
      "RMSE: 28301.615337365085\n",
      "MAE: 15081.51046122206\n",
      "MAPE: 0.1814278383449915\n",
      "26/26 [==============================] - 0s 3ms/step\n",
      "Scores obtidos:\n",
      "RMSE: 38314.04201546073\n",
      "MAE: 25757.79574138452\n",
      "MAPE: 0.38724185031425606\n"
     ]
    }
   ],
   "source": [
    "x,y = load_data()\n",
    "\n",
    "x_train, x_test, y_train, y_test = train_test_split(x,y, test_size=0.15, shuffle=False)\n",
    "\n",
    "scaler = MinMaxScaler()\n",
    "x_train = scaler.fit_transform(x_train)\n",
    "x_test = scaler.transform(x_test)\n",
    "\n",
    "model = Sequential()\n",
    "\n",
    "model.add(Dense(units=256, activation=\"relu\")),\n",
    "model.add(Dense(units=128, activation=\"relu\")),\n",
    "model.add(Dense(units=64, activation=\"relu\")),\n",
    "model.add(Dense(units=32, activation=\"relu\")),\n",
    "\n",
    "model.add(Dropout(rate=0.10))\n",
    "model.add(Dense(units=1))\n",
    "model.compile(\n",
    "    optimizer=keras.optimizers.Adam(learning_rate=0.001),\n",
    "    loss=\"mse\",\n",
    "    metrics=[keras.metrics.RootMeanSquaredError(name=\"RMSE\")],\n",
    ")\n",
    "\n",
    "history=model.fit(x_train, y_train, batch_size=32, epochs=200, verbose=0)\n",
    "\n",
    "show_scores(score_regression_metrics(y_train, model.predict(x_train)))\n",
    "\n",
    "y_pred = model.predict(x_test)\n",
    "scores = score_regression_metrics(y_test, y_pred)\n",
    "show_scores(scores)"
   ]
  },
  {
   "cell_type": "code",
   "execution_count": 142,
   "id": "06b3b57c-6eea-4ea7-84c5-7f991fef596d",
   "metadata": {},
   "outputs": [
    {
     "name": "stdout",
     "output_type": "stream",
     "text": [
      "147/147 [==============================] - 1s 3ms/step\n",
      "Scores obtidos:\n",
      "RMSE: 36731.79112813412\n",
      "MAE: 20958.08296333395\n",
      "MAPE: 0.2511676370979884\n",
      "26/26 [==============================] - 0s 3ms/step\n",
      "Scores obtidos:\n",
      "RMSE: 52090.49881988729\n",
      "MAE: 31840.046317048633\n",
      "MAPE: 0.38096104430331656\n"
     ]
    }
   ],
   "source": [
    "x,y = load_data()\n",
    "\n",
    "DROP=['pib_pc',  'selic', 'idh_e', 'idh_l', 'nfsp', 'preco_ton', 'estoque']\n",
    "x=x.drop(DROP, axis=1)\n",
    "\n",
    "x_train, x_test, y_train, y_test = train_test_split(x,y, test_size=0.15, shuffle=False)\n",
    "\n",
    "scaler = MinMaxScaler()\n",
    "x_train = scaler.fit_transform(x_train)\n",
    "x_test = scaler.transform(x_test)\n",
    "\n",
    "model = Sequential()\n",
    "\n",
    "model.add(Dense(units=256, activation=\"relu\")),\n",
    "model.add(Dense(units=128, activation=\"relu\")),\n",
    "model.add(Dense(units=64, activation=\"relu\")),\n",
    "model.add(Dense(units=32, activation=\"relu\")),\n",
    "\n",
    "model.add(Dropout(rate=0.10))\n",
    "model.add(Dense(units=1))\n",
    "model.compile(\n",
    "    optimizer=keras.optimizers.Adam(learning_rate=0.001),\n",
    "    loss=\"mse\",\n",
    "    metrics=[keras.metrics.RootMeanSquaredError(name=\"RMSE\")],\n",
    ")\n",
    "\n",
    "history=model.fit(x_train, y_train, batch_size=32, epochs=200, verbose=0)\n",
    "\n",
    "show_scores(score_regression_metrics(y_train, model.predict(x_train)))\n",
    "\n",
    "y_pred = model.predict(x_test)\n",
    "scores = score_regression_metrics(y_test, y_pred)\n",
    "show_scores(scores)"
   ]
  },
  {
   "cell_type": "markdown",
   "id": "45c84d77-f7be-4f98-8b85-37703790fba1",
   "metadata": {
    "tags": []
   },
   "source": [
    "#### 300 epochs"
   ]
  },
  {
   "cell_type": "code",
   "execution_count": 143,
   "id": "a8a062e1-383b-48fd-8634-96d42620ff00",
   "metadata": {},
   "outputs": [
    {
     "name": "stdout",
     "output_type": "stream",
     "text": [
      "147/147 [==============================] - 1s 3ms/step\n",
      "Scores obtidos:\n",
      "RMSE: 25535.2278217785\n",
      "MAE: 13849.259952090337\n",
      "MAPE: 0.17634605506334644\n",
      "26/26 [==============================] - 0s 4ms/step\n",
      "Scores obtidos:\n",
      "RMSE: 40553.857985030445\n",
      "MAE: 28227.548421912787\n",
      "MAPE: 0.44361389703193926\n"
     ]
    }
   ],
   "source": [
    "x,y = load_data()\n",
    "\n",
    "x_train, x_test, y_train, y_test = train_test_split(x,y, test_size=0.15, shuffle=False)\n",
    "\n",
    "scaler = MinMaxScaler()\n",
    "x_train = scaler.fit_transform(x_train)\n",
    "x_test = scaler.transform(x_test)\n",
    "\n",
    "model = Sequential()\n",
    "\n",
    "model.add(Dense(units=256, activation=\"relu\")),\n",
    "model.add(Dense(units=128, activation=\"relu\")),\n",
    "model.add(Dense(units=64, activation=\"relu\")),\n",
    "model.add(Dense(units=32, activation=\"relu\")),\n",
    "\n",
    "model.add(Dropout(rate=0.10))\n",
    "model.add(Dense(units=1))\n",
    "model.compile(\n",
    "    optimizer=keras.optimizers.Adam(learning_rate=0.001),\n",
    "    loss=\"mse\",\n",
    "    metrics=[keras.metrics.RootMeanSquaredError(name=\"RMSE\")],\n",
    ")\n",
    "\n",
    "history=model.fit(x_train, y_train, batch_size=32, epochs=300, verbose=0)\n",
    "\n",
    "show_scores(score_regression_metrics(y_train, model.predict(x_train)))\n",
    "\n",
    "y_pred = model.predict(x_test)\n",
    "scores = score_regression_metrics(y_test, y_pred)\n",
    "show_scores(scores)"
   ]
  },
  {
   "cell_type": "code",
   "execution_count": 144,
   "id": "d08c0ca6-e665-4f58-beda-212f81252cc0",
   "metadata": {},
   "outputs": [
    {
     "name": "stdout",
     "output_type": "stream",
     "text": [
      "147/147 [==============================] - 1s 3ms/step\n",
      "Scores obtidos:\n",
      "RMSE: 32782.8820404526\n",
      "MAE: 17489.298374091657\n",
      "MAPE: 0.21916392284605712\n",
      "26/26 [==============================] - 0s 3ms/step\n",
      "Scores obtidos:\n",
      "RMSE: 42234.69340866941\n",
      "MAE: 28182.23825645216\n",
      "MAPE: 0.4654198511285563\n"
     ]
    }
   ],
   "source": [
    "x,y = load_data()\n",
    "\n",
    "x_train, x_test, y_train, y_test = train_test_split(x,y, test_size=0.15, shuffle=False)\n",
    "\n",
    "scaler = MinMaxScaler()\n",
    "x_train = scaler.fit_transform(x_train)\n",
    "x_test = scaler.transform(x_test)\n",
    "\n",
    "model = Sequential()\n",
    "\n",
    "model.add(Dense(units=512, activation=\"relu\")),\n",
    "model.add(Dense(units=256, activation=\"relu\")),\n",
    "model.add(Dense(units=128, activation=\"relu\")),\n",
    "model.add(Dense(units=64, activation=\"relu\")),\n",
    "model.add(Dense(units=32, activation=\"relu\")),\n",
    "\n",
    "model.add(Dropout(rate=0.10))\n",
    "model.add(Dense(units=1))\n",
    "model.compile(\n",
    "    optimizer=keras.optimizers.Adam(learning_rate=0.001),\n",
    "    loss=\"mse\",\n",
    "    metrics=[keras.metrics.RootMeanSquaredError(name=\"RMSE\")],\n",
    ")\n",
    "\n",
    "history=model.fit(x_train, y_train, batch_size=32, epochs=100, verbose=0)\n",
    "\n",
    "show_scores(score_regression_metrics(y_train, model.predict(x_train)))\n",
    "\n",
    "y_pred = model.predict(x_test)\n",
    "scores = score_regression_metrics(y_test, y_pred)\n",
    "show_scores(scores)"
   ]
  },
  {
   "cell_type": "code",
   "execution_count": 145,
   "id": "1799f52b-c752-4609-b1b5-d9f8028949e9",
   "metadata": {},
   "outputs": [
    {
     "name": "stdout",
     "output_type": "stream",
     "text": [
      "147/147 [==============================] - 1s 3ms/step\n",
      "Scores obtidos:\n",
      "RMSE: 24903.046258932383\n",
      "MAE: 13424.587360423095\n",
      "MAPE: 0.14397350801340203\n",
      "26/26 [==============================] - 0s 3ms/step\n",
      "Scores obtidos:\n",
      "RMSE: 42105.315004997225\n",
      "MAE: 27889.534275336307\n",
      "MAPE: 0.3899539343375384\n"
     ]
    }
   ],
   "source": [
    "x,y = load_data()\n",
    "\n",
    "x_train, x_test, y_train, y_test = train_test_split(x,y, test_size=0.15, shuffle=False)\n",
    "\n",
    "scaler = MinMaxScaler()\n",
    "x_train = scaler.fit_transform(x_train)\n",
    "x_test = scaler.transform(x_test)\n",
    "\n",
    "model = Sequential()\n",
    "\n",
    "model.add(Dense(units=512, activation=\"relu\")),\n",
    "model.add(Dense(units=256, activation=\"relu\")),\n",
    "model.add(Dense(units=128, activation=\"relu\")),\n",
    "model.add(Dense(units=64, activation=\"relu\")),\n",
    "model.add(Dense(units=32, activation=\"relu\")),\n",
    "\n",
    "model.add(Dropout(rate=0.10))\n",
    "model.add(Dense(units=1))\n",
    "model.compile(\n",
    "    optimizer=keras.optimizers.Adam(learning_rate=0.001),\n",
    "    loss=\"mse\",\n",
    "    metrics=[keras.metrics.RootMeanSquaredError(name=\"RMSE\")],\n",
    ")\n",
    "\n",
    "history=model.fit(x_train, y_train, batch_size=32, epochs=300, verbose=0)\n",
    "\n",
    "show_scores(score_regression_metrics(y_train, model.predict(x_train)))\n",
    "\n",
    "y_pred = model.predict(x_test)\n",
    "scores = score_regression_metrics(y_test, y_pred)\n",
    "show_scores(scores)"
   ]
  },
  {
   "cell_type": "code",
   "execution_count": 146,
   "id": "dcce389e-224d-4c39-b6e2-2a17e79ccdc7",
   "metadata": {},
   "outputs": [
    {
     "data": {
      "image/png": "[encoded data removed]",
      "text/plain": [
       "<Figure size 1500x500 with 2 Axes>"
      ]
     },
     "metadata": {},
     "output_type": "display_data"
    }
   ],
   "source": [
    "plt.figure(figsize=(15,5))\n",
    "\n",
    "plt.subplot(1,2,1)\n",
    "\n",
    "plt.plot(history.history[\"RMSE\"])\n",
    "plt.title(\"RMSE\")\n",
    "\n",
    "plt.subplot(1,2,2)\n",
    "\n",
    "plt.plot(history.history[\"loss\"])\n",
    "plt.title(\"Loss\")\n",
    "\n",
    "plt.show()"
   ]
  },
  {
   "cell_type": "code",
   "execution_count": null,
   "id": "cca8b00e-847a-4860-8cb3-f394554abb3b",
   "metadata": {
    "tags": []
   },
   "outputs": [],
   "source": [
    "x,y = load_data()\n",
    "\n",
    "x_train, x_test, y_train, y_test = train_test_split(x,y, test_size=0.15, shuffle=False)\n",
    "\n",
    "scaler = MinMaxScaler()\n",
    "x_train = scaler.fit_transform(x_train)\n",
    "x_test = scaler.transform(x_test)\n",
    "\n",
    "model = Sequential()\n",
    "\n",
    "model.add(Dense(units=64, activation=\"swish\")),\n",
    "model.add(Dense(units=32, activation=\"swish\")),\n",
    "model.add(Dense(units=16, activation=\"swish\")),\n",
    "\n",
    "model.add(Dropout(rate=0.10))\n",
    "model.add(Dense(units=1))\n",
    "model.compile(\n",
    "    optimizer=keras.optimizers.Adam(learning_rate=0.001),\n",
    "    loss=\"mse\",\n",
    "    metrics=[keras.metrics.RootMeanSquaredError(name=\"RMSE\")],\n",
    ")\n",
    "\n",
    "history=model.fit(x_train, y_train, batch_size=32, epochs=100, verbose=0)\n",
    "\n",
    "show_scores(score_regression_metrics(y_train, model.predict(x_train)))\n",
    "\n",
    "y_pred = model.predict(x_test)\n",
    "scores = score_regression_metrics(y_test, y_pred)\n",
    "show_scores(scores)"
   ]
  },
  {
   "cell_type": "markdown",
   "id": "5189fd6f-5713-4512-a470-4fa96ec3d37d",
   "metadata": {
    "tags": []
   },
   "source": [
    "### Swish"
   ]
  },
  {
   "cell_type": "code",
   "execution_count": 148,
   "id": "4acca3a7-b2fa-4a5e-8ae5-7ecc541c12db",
   "metadata": {},
   "outputs": [
    {
     "name": "stdout",
     "output_type": "stream",
     "text": [
      "Epoch 1/100\n",
      "147/147 [==============================] - 1s 3ms/step - loss: 71488356352.0000 - RMSE: 267373.0625\n",
      "Epoch 2/100\n",
      "147/147 [==============================] - 0s 3ms/step - loss: 67342655488.0000 - RMSE: 259504.6406\n",
      "Epoch 3/100\n",
      "147/147 [==============================] - 0s 3ms/step - loss: 49473417216.0000 - RMSE: 222426.2031\n",
      "Epoch 4/100\n",
      "147/147 [==============================] - 0s 3ms/step - loss: 32769261568.0000 - RMSE: 181022.8281\n",
      "Epoch 5/100\n",
      "147/147 [==============================] - 1s 4ms/step - loss: 17695793152.0000 - RMSE: 133025.5312\n",
      "Epoch 6/100\n",
      "147/147 [==============================] - 0s 3ms/step - loss: 8816667648.0000 - RMSE: 93897.1094\n",
      "Epoch 7/100\n",
      "147/147 [==============================] - 0s 3ms/step - loss: 5008403968.0000 - RMSE: 70770.0781\n",
      "Epoch 8/100\n",
      "147/147 [==============================] - 0s 3ms/step - loss: 3438396160.0000 - RMSE: 58637.8398\n",
      "Epoch 9/100\n",
      "147/147 [==============================] - 0s 3ms/step - loss: 3014039808.0000 - RMSE: 54900.2695\n",
      "Epoch 10/100\n",
      "147/147 [==============================] - 1s 3ms/step - loss: 2711714048.0000 - RMSE: 52074.1211\n",
      "Epoch 11/100\n",
      "147/147 [==============================] - 1s 4ms/step - loss: 2547940352.0000 - RMSE: 50477.1289\n",
      "Epoch 12/100\n",
      "147/147 [==============================] - 1s 4ms/step - loss: 2495322368.0000 - RMSE: 49953.2031\n",
      "Epoch 13/100\n",
      "147/147 [==============================] - 1s 4ms/step - loss: 2667412224.0000 - RMSE: 51646.9961\n",
      "Epoch 14/100\n",
      "147/147 [==============================] - 0s 3ms/step - loss: 2477565696.0000 - RMSE: 49775.1523\n",
      "Epoch 15/100\n",
      "147/147 [==============================] - 1s 4ms/step - loss: 2433763072.0000 - RMSE: 49333.1836\n",
      "Epoch 16/100\n",
      "147/147 [==============================] - 1s 4ms/step - loss: 2556005120.0000 - RMSE: 50556.9492\n",
      "Epoch 17/100\n",
      "147/147 [==============================] - 0s 3ms/step - loss: 2509524992.0000 - RMSE: 50095.1602\n",
      "Epoch 18/100\n",
      "147/147 [==============================] - 0s 3ms/step - loss: 2437748224.0000 - RMSE: 49373.5586\n",
      "Epoch 19/100\n",
      "147/147 [==============================] - 0s 3ms/step - loss: 2440011776.0000 - RMSE: 49396.4766\n",
      "Epoch 20/100\n",
      "147/147 [==============================] - 0s 3ms/step - loss: 2422365696.0000 - RMSE: 49217.5352\n",
      "Epoch 21/100\n",
      "147/147 [==============================] - 0s 3ms/step - loss: 2291187712.0000 - RMSE: 47866.3516\n",
      "Epoch 22/100\n",
      "147/147 [==============================] - 0s 3ms/step - loss: 2386120960.0000 - RMSE: 48847.9375\n",
      "Epoch 23/100\n",
      "147/147 [==============================] - 0s 3ms/step - loss: 2412316416.0000 - RMSE: 49115.3359\n",
      "Epoch 24/100\n",
      "147/147 [==============================] - 0s 3ms/step - loss: 2376670976.0000 - RMSE: 48751.1133\n",
      "Epoch 25/100\n",
      "147/147 [==============================] - 0s 3ms/step - loss: 2310498816.0000 - RMSE: 48067.6484\n",
      "Epoch 26/100\n",
      "147/147 [==============================] - 0s 3ms/step - loss: 2460891392.0000 - RMSE: 49607.3711\n",
      "Epoch 27/100\n",
      "147/147 [==============================] - 0s 3ms/step - loss: 2327927296.0000 - RMSE: 48248.5977\n",
      "Epoch 28/100\n",
      "147/147 [==============================] - 0s 3ms/step - loss: 2309148160.0000 - RMSE: 48053.5977\n",
      "Epoch 29/100\n",
      "147/147 [==============================] - 0s 3ms/step - loss: 2367126784.0000 - RMSE: 48653.1289\n",
      "Epoch 30/100\n",
      "147/147 [==============================] - 0s 3ms/step - loss: 2213175552.0000 - RMSE: 47044.3984\n",
      "Epoch 31/100\n",
      "147/147 [==============================] - 0s 3ms/step - loss: 2254837504.0000 - RMSE: 47485.1289\n",
      "Epoch 32/100\n",
      "147/147 [==============================] - 0s 3ms/step - loss: 2327170304.0000 - RMSE: 48240.7539\n",
      "Epoch 33/100\n",
      "147/147 [==============================] - 0s 3ms/step - loss: 2238390272.0000 - RMSE: 47311.6289\n",
      "Epoch 34/100\n",
      "147/147 [==============================] - 0s 3ms/step - loss: 2340602368.0000 - RMSE: 48379.7734\n",
      "Epoch 35/100\n",
      "147/147 [==============================] - 0s 3ms/step - loss: 2259852544.0000 - RMSE: 47537.9062\n",
      "Epoch 36/100\n",
      "147/147 [==============================] - 0s 3ms/step - loss: 2283754496.0000 - RMSE: 47788.6445\n",
      "Epoch 37/100\n",
      "147/147 [==============================] - 0s 3ms/step - loss: 2180108800.0000 - RMSE: 46691.6367\n",
      "Epoch 38/100\n",
      "147/147 [==============================] - 0s 3ms/step - loss: 2172749312.0000 - RMSE: 46612.7578\n",
      "Epoch 39/100\n",
      "147/147 [==============================] - 0s 3ms/step - loss: 2273365760.0000 - RMSE: 47679.8242\n",
      "Epoch 40/100\n",
      "147/147 [==============================] - 0s 3ms/step - loss: 2251837952.0000 - RMSE: 47453.5352\n",
      "Epoch 41/100\n",
      "147/147 [==============================] - 0s 3ms/step - loss: 2226626048.0000 - RMSE: 47187.1367\n",
      "Epoch 42/100\n",
      "147/147 [==============================] - 1s 3ms/step - loss: 2194462976.0000 - RMSE: 46845.0938\n",
      "Epoch 43/100\n",
      "147/147 [==============================] - 0s 3ms/step - loss: 2202771456.0000 - RMSE: 46933.6914\n",
      "Epoch 44/100\n",
      "147/147 [==============================] - 1s 4ms/step - loss: 2167789824.0000 - RMSE: 46559.5312\n",
      "Epoch 45/100\n",
      "147/147 [==============================] - 1s 4ms/step - loss: 2178297856.0000 - RMSE: 46672.2383\n",
      "Epoch 46/100\n",
      "147/147 [==============================] - 1s 4ms/step - loss: 2294436608.0000 - RMSE: 47900.2773\n",
      "Epoch 47/100\n",
      "147/147 [==============================] - 1s 4ms/step - loss: 2127041920.0000 - RMSE: 46119.8633\n",
      "Epoch 48/100\n",
      "147/147 [==============================] - 1s 4ms/step - loss: 2182725632.0000 - RMSE: 46719.6484\n",
      "Epoch 49/100\n",
      "147/147 [==============================] - 1s 4ms/step - loss: 2137532544.0000 - RMSE: 46233.4570\n",
      "Epoch 50/100\n",
      "147/147 [==============================] - 1s 4ms/step - loss: 2133645440.0000 - RMSE: 46191.3984\n",
      "Epoch 51/100\n",
      "147/147 [==============================] - 1s 3ms/step - loss: 2041404800.0000 - RMSE: 45181.9062\n",
      "Epoch 52/100\n",
      "147/147 [==============================] - 0s 3ms/step - loss: 2091094912.0000 - RMSE: 45728.4922\n",
      "Epoch 53/100\n",
      "147/147 [==============================] - 0s 3ms/step - loss: 2127676544.0000 - RMSE: 46126.7461\n",
      "Epoch 54/100\n",
      "147/147 [==============================] - 0s 3ms/step - loss: 2141768832.0000 - RMSE: 46279.2500\n",
      "Epoch 55/100\n",
      "147/147 [==============================] - 0s 3ms/step - loss: 2032848768.0000 - RMSE: 45087.1250\n",
      "Epoch 56/100\n",
      "147/147 [==============================] - 0s 3ms/step - loss: 2040216576.0000 - RMSE: 45168.7578\n",
      "Epoch 57/100\n",
      "147/147 [==============================] - 0s 3ms/step - loss: 2004976512.0000 - RMSE: 44776.9648\n",
      "Epoch 58/100\n",
      "147/147 [==============================] - 1s 3ms/step - loss: 2088192384.0000 - RMSE: 45696.7422\n",
      "Epoch 59/100\n",
      "147/147 [==============================] - 0s 3ms/step - loss: 2112063488.0000 - RMSE: 45957.1914\n",
      "Epoch 60/100\n",
      "147/147 [==============================] - 1s 4ms/step - loss: 2037148416.0000 - RMSE: 45134.7812\n",
      "Epoch 61/100\n",
      "147/147 [==============================] - 1s 4ms/step - loss: 1912501632.0000 - RMSE: 43732.1562\n",
      "Epoch 62/100\n",
      "147/147 [==============================] - 1s 4ms/step - loss: 1983957120.0000 - RMSE: 44541.6328\n",
      "Epoch 63/100\n",
      "147/147 [==============================] - 1s 4ms/step - loss: 1936473728.0000 - RMSE: 44005.3828\n",
      "Epoch 64/100\n",
      "147/147 [==============================] - 1s 3ms/step - loss: 1993553152.0000 - RMSE: 44649.2227\n",
      "Epoch 65/100\n",
      "147/147 [==============================] - 0s 3ms/step - loss: 2038351488.0000 - RMSE: 45148.1055\n",
      "Epoch 66/100\n",
      "147/147 [==============================] - 0s 3ms/step - loss: 2054858624.0000 - RMSE: 45330.5469\n",
      "Epoch 67/100\n",
      "147/147 [==============================] - 0s 3ms/step - loss: 1982547456.0000 - RMSE: 44525.8047\n",
      "Epoch 68/100\n",
      "147/147 [==============================] - 0s 3ms/step - loss: 2076092928.0000 - RMSE: 45564.1641\n",
      "Epoch 69/100\n",
      "147/147 [==============================] - 0s 3ms/step - loss: 1947667072.0000 - RMSE: 44132.3828\n",
      "Epoch 70/100\n",
      "147/147 [==============================] - 0s 3ms/step - loss: 1974816512.0000 - RMSE: 44438.9062\n",
      "Epoch 71/100\n",
      "147/147 [==============================] - 0s 3ms/step - loss: 1908582144.0000 - RMSE: 43687.3242\n",
      "Epoch 72/100\n",
      "147/147 [==============================] - 0s 3ms/step - loss: 2004541056.0000 - RMSE: 44772.1016\n",
      "Epoch 73/100\n",
      "147/147 [==============================] - 0s 3ms/step - loss: 1992413568.0000 - RMSE: 44636.4609\n",
      "Epoch 74/100\n",
      "147/147 [==============================] - 1s 3ms/step - loss: 1941296384.0000 - RMSE: 44060.1445\n",
      "Epoch 75/100\n",
      "147/147 [==============================] - 0s 3ms/step - loss: 1950802304.0000 - RMSE: 44167.8867\n",
      "Epoch 76/100\n",
      "147/147 [==============================] - 0s 3ms/step - loss: 1831478784.0000 - RMSE: 42795.7812\n",
      "Epoch 77/100\n",
      "147/147 [==============================] - 0s 3ms/step - loss: 1866739072.0000 - RMSE: 43205.7773\n",
      "Epoch 78/100\n",
      "147/147 [==============================] - 0s 3ms/step - loss: 1952845056.0000 - RMSE: 44191.0078\n",
      "Epoch 79/100\n",
      "147/147 [==============================] - 0s 3ms/step - loss: 1956141696.0000 - RMSE: 44228.2891\n",
      "Epoch 80/100\n",
      "147/147 [==============================] - 0s 3ms/step - loss: 1964565504.0000 - RMSE: 44323.4180\n",
      "Epoch 81/100\n",
      "147/147 [==============================] - 0s 3ms/step - loss: 2013675136.0000 - RMSE: 44873.9922\n",
      "Epoch 82/100\n",
      "147/147 [==============================] - 0s 3ms/step - loss: 1874768256.0000 - RMSE: 43298.5938\n",
      "Epoch 83/100\n",
      "147/147 [==============================] - 0s 3ms/step - loss: 1873811968.0000 - RMSE: 43287.5508\n",
      "Epoch 84/100\n",
      "147/147 [==============================] - 0s 3ms/step - loss: 1972306688.0000 - RMSE: 44410.6602\n",
      "Epoch 85/100\n",
      "147/147 [==============================] - 0s 3ms/step - loss: 1946897664.0000 - RMSE: 44123.6641\n",
      "Epoch 86/100\n",
      "147/147 [==============================] - 0s 3ms/step - loss: 1888972544.0000 - RMSE: 43462.3125\n",
      "Epoch 87/100\n",
      "147/147 [==============================] - 0s 3ms/step - loss: 1889897344.0000 - RMSE: 43472.9492\n",
      "Epoch 88/100\n",
      "147/147 [==============================] - 0s 3ms/step - loss: 1931942912.0000 - RMSE: 43953.8711\n",
      "Epoch 89/100\n",
      "147/147 [==============================] - 0s 3ms/step - loss: 1829045376.0000 - RMSE: 42767.3398\n",
      "Epoch 90/100\n",
      "147/147 [==============================] - 0s 3ms/step - loss: 1867394048.0000 - RMSE: 43213.3555\n",
      "Epoch 91/100\n",
      "147/147 [==============================] - 1s 4ms/step - loss: 1878274688.0000 - RMSE: 43339.0664\n",
      "Epoch 92/100\n",
      "147/147 [==============================] - 1s 3ms/step - loss: 1833197056.0000 - RMSE: 42815.8516\n",
      "Epoch 93/100\n",
      "147/147 [==============================] - 0s 3ms/step - loss: 1826079360.0000 - RMSE: 42732.6484\n",
      "Epoch 94/100\n",
      "147/147 [==============================] - 0s 3ms/step - loss: 1869283456.0000 - RMSE: 43235.2109\n",
      "Epoch 95/100\n",
      "147/147 [==============================] - 0s 3ms/step - loss: 1861112704.0000 - RMSE: 43140.6172\n",
      "Epoch 96/100\n",
      "147/147 [==============================] - 0s 3ms/step - loss: 1896489600.0000 - RMSE: 43548.7031\n",
      "Epoch 97/100\n",
      "147/147 [==============================] - 0s 3ms/step - loss: 1768336896.0000 - RMSE: 42051.5977\n",
      "Epoch 98/100\n",
      "147/147 [==============================] - 0s 3ms/step - loss: 1846617472.0000 - RMSE: 42972.2891\n",
      "Epoch 99/100\n",
      "147/147 [==============================] - 0s 3ms/step - loss: 1880828160.0000 - RMSE: 43368.5156\n",
      "Epoch 100/100\n",
      "147/147 [==============================] - 0s 3ms/step - loss: 1788352128.0000 - RMSE: 42288.9141\n",
      "147/147 [==============================] - 0s 2ms/step\n",
      "Scores obtidos:\n",
      "RMSE: 39387.61957945724\n",
      "MAE: 22913.754922360953\n",
      "MAPE: 0.332420457622843\n",
      "26/26 [==============================] - 0s 2ms/step\n",
      "Scores obtidos:\n",
      "RMSE: 55444.282208499804\n",
      "MAE: 34433.350705203295\n",
      "MAPE: 0.6065999936502805\n"
     ]
    }
   ],
   "source": [
    "x,y = load_data()\n",
    "\n",
    "x_train, x_test, y_train, y_test = train_test_split(x,y, test_size=0.15, shuffle=False)\n",
    "\n",
    "scaler = MinMaxScaler()\n",
    "x_train = scaler.fit_transform(x_train)\n",
    "x_test = scaler.transform(x_test)\n",
    "\n",
    "model = Sequential()\n",
    "\n",
    "model.add(Dense(units=64, activation=\"swish\")),\n",
    "model.add(Dense(units=64, activation=\"swish\")),\n",
    "model.add(Dense(units=64, activation=\"swish\")),\n",
    "\n",
    "model.add(Dropout(rate=0.10))\n",
    "model.add(Dense(units=1))\n",
    "model.compile(\n",
    "    optimizer=keras.optimizers.Adam(learning_rate=0.001),\n",
    "    loss=\"mse\",\n",
    "    metrics=[keras.metrics.RootMeanSquaredError(name=\"RMSE\")],\n",
    ")\n",
    "\n",
    "history=model.fit(x_train, y_train, batch_size=32, epochs=100, verbose=0)\n",
    "\n",
    "show_scores(score_regression_metrics(y_train, model.predict(x_train)))\n",
    "\n",
    "y_pred = model.predict(x_test)\n",
    "scores = score_regression_metrics(y_test, y_pred)\n",
    "show_scores(scores)"
   ]
  },
  {
   "cell_type": "code",
   "execution_count": 149,
   "id": "518ec147-a945-4f93-861c-e81f1cc2bf04",
   "metadata": {},
   "outputs": [
    {
     "name": "stdout",
     "output_type": "stream",
     "text": [
      "Epoch 1/100\n",
      "147/147 [==============================] - 1s 3ms/step - loss: 70294151168.0000 - RMSE: 265130.4375\n",
      "Epoch 2/100\n",
      "147/147 [==============================] - 0s 3ms/step - loss: 45047181312.0000 - RMSE: 212243.2188\n",
      "Epoch 3/100\n",
      "147/147 [==============================] - 0s 3ms/step - loss: 30367266816.0000 - RMSE: 174262.0625\n",
      "Epoch 4/100\n",
      "147/147 [==============================] - 0s 3ms/step - loss: 22963105792.0000 - RMSE: 151535.8281\n",
      "Epoch 5/100\n",
      "147/147 [==============================] - 0s 3ms/step - loss: 13702219776.0000 - RMSE: 117056.4844\n",
      "Epoch 6/100\n",
      "147/147 [==============================] - 0s 3ms/step - loss: 6578806784.0000 - RMSE: 81109.8438\n",
      "Epoch 7/100\n",
      "147/147 [==============================] - 0s 3ms/step - loss: 3726157824.0000 - RMSE: 61042.2617\n",
      "Epoch 8/100\n",
      "147/147 [==============================] - 0s 3ms/step - loss: 2892472064.0000 - RMSE: 53781.7070\n",
      "Epoch 9/100\n",
      "147/147 [==============================] - 0s 3ms/step - loss: 2566478848.0000 - RMSE: 50660.4258\n",
      "Epoch 10/100\n",
      "147/147 [==============================] - 0s 3ms/step - loss: 2393425920.0000 - RMSE: 48922.6523\n",
      "Epoch 11/100\n",
      "147/147 [==============================] - 0s 3ms/step - loss: 2252558080.0000 - RMSE: 47461.1211\n",
      "Epoch 12/100\n",
      "147/147 [==============================] - 0s 3ms/step - loss: 2286550016.0000 - RMSE: 47817.8828\n",
      "Epoch 13/100\n",
      "147/147 [==============================] - 0s 3ms/step - loss: 2302225152.0000 - RMSE: 47981.5078\n",
      "Epoch 14/100\n",
      "147/147 [==============================] - 0s 3ms/step - loss: 2194241280.0000 - RMSE: 46842.7305\n",
      "Epoch 15/100\n",
      "147/147 [==============================] - 0s 3ms/step - loss: 2176646400.0000 - RMSE: 46654.5430\n",
      "Epoch 16/100\n",
      "147/147 [==============================] - 0s 3ms/step - loss: 2157659392.0000 - RMSE: 46450.6133\n",
      "Epoch 17/100\n",
      "147/147 [==============================] - 0s 3ms/step - loss: 2204167424.0000 - RMSE: 46948.5625\n",
      "Epoch 18/100\n",
      "147/147 [==============================] - 0s 3ms/step - loss: 2182136320.0000 - RMSE: 46713.3438\n",
      "Epoch 19/100\n",
      "147/147 [==============================] - 0s 3ms/step - loss: 2134539392.0000 - RMSE: 46201.0742\n",
      "Epoch 20/100\n",
      "147/147 [==============================] - 0s 3ms/step - loss: 2121890688.0000 - RMSE: 46063.9844\n",
      "Epoch 21/100\n",
      "147/147 [==============================] - 0s 3ms/step - loss: 2116881664.0000 - RMSE: 46009.5820\n",
      "Epoch 22/100\n",
      "147/147 [==============================] - 0s 3ms/step - loss: 2083237376.0000 - RMSE: 45642.4961\n",
      "Epoch 23/100\n",
      "147/147 [==============================] - 0s 3ms/step - loss: 2235815936.0000 - RMSE: 47284.4141\n",
      "Epoch 24/100\n",
      "147/147 [==============================] - 0s 3ms/step - loss: 2120013696.0000 - RMSE: 46043.6055\n",
      "Epoch 25/100\n",
      "147/147 [==============================] - 0s 3ms/step - loss: 1978283264.0000 - RMSE: 44477.8945\n",
      "Epoch 26/100\n",
      "147/147 [==============================] - 0s 3ms/step - loss: 2088511360.0000 - RMSE: 45700.2344\n",
      "Epoch 27/100\n",
      "147/147 [==============================] - 1s 4ms/step - loss: 2017631872.0000 - RMSE: 44918.0586\n",
      "Epoch 28/100\n",
      "147/147 [==============================] - 1s 4ms/step - loss: 2021811968.0000 - RMSE: 44964.5625\n",
      "Epoch 29/100\n",
      "147/147 [==============================] - 0s 3ms/step - loss: 2040344960.0000 - RMSE: 45170.1797\n",
      "Epoch 30/100\n",
      "147/147 [==============================] - 0s 3ms/step - loss: 2029779200.0000 - RMSE: 45053.0703\n",
      "Epoch 31/100\n",
      "147/147 [==============================] - 0s 3ms/step - loss: 1939649024.0000 - RMSE: 44041.4453\n",
      "Epoch 32/100\n",
      "147/147 [==============================] - 1s 3ms/step - loss: 1974093440.0000 - RMSE: 44430.7695\n",
      "Epoch 33/100\n",
      "147/147 [==============================] - 1s 4ms/step - loss: 1941441280.0000 - RMSE: 44061.7891\n",
      "Epoch 34/100\n",
      "147/147 [==============================] - 0s 3ms/step - loss: 1948888192.0000 - RMSE: 44146.2148\n",
      "Epoch 35/100\n",
      "147/147 [==============================] - 0s 3ms/step - loss: 1886875904.0000 - RMSE: 43438.1836\n",
      "Epoch 36/100\n",
      "147/147 [==============================] - 0s 3ms/step - loss: 1990134272.0000 - RMSE: 44610.9219\n",
      "Epoch 37/100\n",
      "147/147 [==============================] - 0s 3ms/step - loss: 1940287616.0000 - RMSE: 44048.6953\n",
      "Epoch 38/100\n",
      "147/147 [==============================] - 0s 3ms/step - loss: 1927182976.0000 - RMSE: 43899.6914\n",
      "Epoch 39/100\n",
      "147/147 [==============================] - 0s 3ms/step - loss: 1931226112.0000 - RMSE: 43945.7188\n",
      "Epoch 40/100\n",
      "147/147 [==============================] - 0s 3ms/step - loss: 1889241344.0000 - RMSE: 43465.4023\n",
      "Epoch 41/100\n",
      "147/147 [==============================] - 0s 3ms/step - loss: 1853842048.0000 - RMSE: 43056.2656\n",
      "Epoch 42/100\n",
      "147/147 [==============================] - 0s 3ms/step - loss: 1801987712.0000 - RMSE: 42449.8242\n",
      "Epoch 43/100\n",
      "147/147 [==============================] - 0s 3ms/step - loss: 1937946112.0000 - RMSE: 44022.1094\n",
      "Epoch 44/100\n",
      "147/147 [==============================] - 1s 3ms/step - loss: 1784166528.0000 - RMSE: 42239.3945\n",
      "Epoch 45/100\n",
      "147/147 [==============================] - 0s 3ms/step - loss: 1856027904.0000 - RMSE: 43081.6406\n",
      "Epoch 46/100\n",
      "147/147 [==============================] - 0s 3ms/step - loss: 1885529856.0000 - RMSE: 43422.6875\n",
      "Epoch 47/100\n",
      "147/147 [==============================] - 0s 3ms/step - loss: 1782219392.0000 - RMSE: 42216.3398\n",
      "Epoch 48/100\n",
      "147/147 [==============================] - 0s 3ms/step - loss: 1803391360.0000 - RMSE: 42466.3555\n",
      "Epoch 49/100\n",
      "147/147 [==============================] - 0s 3ms/step - loss: 1758868736.0000 - RMSE: 41938.8672\n",
      "Epoch 50/100\n",
      "147/147 [==============================] - 0s 3ms/step - loss: 1807922048.0000 - RMSE: 42519.6680\n",
      "Epoch 51/100\n",
      "147/147 [==============================] - 1s 4ms/step - loss: 1818948608.0000 - RMSE: 42649.1328\n",
      "Epoch 52/100\n",
      "147/147 [==============================] - 1s 3ms/step - loss: 1772622848.0000 - RMSE: 42102.5273\n",
      "Epoch 53/100\n",
      "147/147 [==============================] - 0s 3ms/step - loss: 1681688960.0000 - RMSE: 41008.4023\n",
      "Epoch 54/100\n",
      "147/147 [==============================] - 0s 3ms/step - loss: 1752368128.0000 - RMSE: 41861.2969\n",
      "Epoch 55/100\n",
      "147/147 [==============================] - 0s 3ms/step - loss: 1640619776.0000 - RMSE: 40504.5664\n",
      "Epoch 56/100\n",
      "147/147 [==============================] - 0s 3ms/step - loss: 1757867520.0000 - RMSE: 41926.9297\n",
      "Epoch 57/100\n",
      "147/147 [==============================] - 0s 3ms/step - loss: 1712516864.0000 - RMSE: 41382.5664\n",
      "Epoch 58/100\n",
      "147/147 [==============================] - 0s 3ms/step - loss: 1764720256.0000 - RMSE: 42008.5742\n",
      "Epoch 59/100\n",
      "147/147 [==============================] - 0s 3ms/step - loss: 1686339200.0000 - RMSE: 41065.0625\n",
      "Epoch 60/100\n",
      "147/147 [==============================] - 0s 3ms/step - loss: 1698889984.0000 - RMSE: 41217.5938\n",
      "Epoch 61/100\n",
      "147/147 [==============================] - 0s 3ms/step - loss: 1607089024.0000 - RMSE: 40088.5156\n",
      "Epoch 62/100\n",
      "147/147 [==============================] - 1s 3ms/step - loss: 1636551936.0000 - RMSE: 40454.3203\n",
      "Epoch 63/100\n",
      "147/147 [==============================] - 0s 3ms/step - loss: 1715840896.0000 - RMSE: 41422.7109\n",
      "Epoch 64/100\n",
      "147/147 [==============================] - 1s 4ms/step - loss: 1713995136.0000 - RMSE: 41400.4258\n",
      "Epoch 65/100\n",
      "147/147 [==============================] - 1s 3ms/step - loss: 1672014720.0000 - RMSE: 40890.2773\n",
      "Epoch 66/100\n",
      "147/147 [==============================] - 0s 3ms/step - loss: 1636351744.0000 - RMSE: 40451.8438\n",
      "Epoch 67/100\n",
      "147/147 [==============================] - 0s 3ms/step - loss: 1654838016.0000 - RMSE: 40679.6992\n",
      "Epoch 68/100\n",
      "147/147 [==============================] - 0s 3ms/step - loss: 1724965248.0000 - RMSE: 41532.6992\n",
      "Epoch 69/100\n",
      "147/147 [==============================] - 0s 3ms/step - loss: 1545476352.0000 - RMSE: 39312.5469\n",
      "Epoch 70/100\n",
      "147/147 [==============================] - 1s 4ms/step - loss: 1556879488.0000 - RMSE: 39457.3125\n",
      "Epoch 71/100\n",
      "147/147 [==============================] - 0s 3ms/step - loss: 1554648448.0000 - RMSE: 39429.0312\n",
      "Epoch 72/100\n",
      "147/147 [==============================] - 1s 3ms/step - loss: 1552493440.0000 - RMSE: 39401.6953\n",
      "Epoch 73/100\n",
      "147/147 [==============================] - 0s 3ms/step - loss: 1570813184.0000 - RMSE: 39633.4844\n",
      "Epoch 74/100\n",
      "147/147 [==============================] - 1s 4ms/step - loss: 1492543488.0000 - RMSE: 38633.4492\n",
      "Epoch 75/100\n",
      "147/147 [==============================] - 1s 4ms/step - loss: 1556072192.0000 - RMSE: 39447.0820\n",
      "Epoch 76/100\n",
      "147/147 [==============================] - 0s 3ms/step - loss: 1515978496.0000 - RMSE: 38935.5703\n",
      "Epoch 77/100\n",
      "147/147 [==============================] - 0s 3ms/step - loss: 1622934400.0000 - RMSE: 40285.6602\n",
      "Epoch 78/100\n",
      "147/147 [==============================] - 0s 3ms/step - loss: 1532027136.0000 - RMSE: 39141.1172\n",
      "Epoch 79/100\n",
      "147/147 [==============================] - 0s 3ms/step - loss: 1541839104.0000 - RMSE: 39266.2578\n",
      "Epoch 80/100\n",
      "147/147 [==============================] - 1s 3ms/step - loss: 1526544256.0000 - RMSE: 39071.0156\n",
      "Epoch 81/100\n",
      "147/147 [==============================] - 0s 3ms/step - loss: 1567365632.0000 - RMSE: 39589.9688\n",
      "Epoch 82/100\n",
      "147/147 [==============================] - 0s 3ms/step - loss: 1527042560.0000 - RMSE: 39077.3906\n",
      "Epoch 83/100\n",
      "147/147 [==============================] - 0s 3ms/step - loss: 1451660288.0000 - RMSE: 38100.6602\n",
      "Epoch 84/100\n",
      "147/147 [==============================] - 0s 3ms/step - loss: 1515035008.0000 - RMSE: 38923.4492\n",
      "Epoch 85/100\n",
      "147/147 [==============================] - 1s 4ms/step - loss: 1462563200.0000 - RMSE: 38243.4727\n",
      "Epoch 86/100\n",
      "147/147 [==============================] - 0s 3ms/step - loss: 1503497088.0000 - RMSE: 38774.9531\n",
      "Epoch 87/100\n",
      "147/147 [==============================] - 0s 3ms/step - loss: 1436779904.0000 - RMSE: 37904.8789\n",
      "Epoch 88/100\n",
      "147/147 [==============================] - 0s 3ms/step - loss: 1449355776.0000 - RMSE: 38070.4062\n",
      "Epoch 89/100\n",
      "147/147 [==============================] - 0s 3ms/step - loss: 1429977088.0000 - RMSE: 37815.0391\n",
      "Epoch 90/100\n",
      "147/147 [==============================] - 0s 3ms/step - loss: 1399782144.0000 - RMSE: 37413.6641\n",
      "Epoch 91/100\n",
      "147/147 [==============================] - 0s 3ms/step - loss: 1515399936.0000 - RMSE: 38928.1367\n",
      "Epoch 92/100\n",
      "147/147 [==============================] - 0s 3ms/step - loss: 1384715136.0000 - RMSE: 37211.7617\n",
      "Epoch 93/100\n",
      "147/147 [==============================] - 0s 3ms/step - loss: 1405928960.0000 - RMSE: 37495.7188\n",
      "Epoch 94/100\n",
      "147/147 [==============================] - 0s 3ms/step - loss: 1412666496.0000 - RMSE: 37585.4570\n",
      "Epoch 95/100\n",
      "147/147 [==============================] - 0s 3ms/step - loss: 1423120896.0000 - RMSE: 37724.2734\n",
      "Epoch 96/100\n",
      "147/147 [==============================] - 0s 3ms/step - loss: 1408566144.0000 - RMSE: 37530.8711\n",
      "Epoch 97/100\n",
      "147/147 [==============================] - 0s 3ms/step - loss: 1396952064.0000 - RMSE: 37375.8203\n",
      "Epoch 98/100\n",
      "147/147 [==============================] - 0s 3ms/step - loss: 1398101504.0000 - RMSE: 37391.1953\n",
      "Epoch 99/100\n",
      "147/147 [==============================] - 0s 3ms/step - loss: 1371661440.0000 - RMSE: 37035.9492\n",
      "Epoch 100/100\n",
      "147/147 [==============================] - 0s 3ms/step - loss: 1337219840.0000 - RMSE: 36568.0156\n",
      "147/147 [==============================] - 0s 2ms/step\n",
      "Scores obtidos:\n",
      "RMSE: 33098.366528073864\n",
      "MAE: 18061.857737602393\n",
      "MAPE: 0.22496211069735203\n",
      "26/26 [==============================] - 0s 2ms/step\n",
      "Scores obtidos:\n",
      "RMSE: 57403.89383811905\n",
      "MAE: 35204.78491299501\n",
      "MAPE: 0.46406815618466396\n"
     ]
    }
   ],
   "source": [
    "x,y = load_data()\n",
    "\n",
    "x_train, x_test, y_train, y_test = train_test_split(x,y, test_size=0.15, shuffle=False)\n",
    "\n",
    "scaler = MinMaxScaler()\n",
    "x_train = scaler.fit_transform(x_train)\n",
    "x_test = scaler.transform(x_test)\n",
    "\n",
    "model = Sequential()\n",
    "\n",
    "model.add(Dense(units=256, activation=\"relu\")),\n",
    "model.add(Dense(units=128, activation=\"swish\")),\n",
    "model.add(Dense(units=64, activation=\"relu\")),\n",
    "\n",
    "model.add(Dropout(rate=0.10))\n",
    "model.add(Dense(units=1))\n",
    "model.compile(\n",
    "    optimizer=keras.optimizers.Adam(learning_rate=0.001),\n",
    "    loss=\"mse\",\n",
    "    metrics=[keras.metrics.RootMeanSquaredError(name=\"RMSE\")],\n",
    ")\n",
    "\n",
    "history=model.fit(x_train, y_train, batch_size=32, epochs=100, verbose=0)\n",
    "\n",
    "show_scores(score_regression_metrics(y_train, model.predict(x_train)))\n",
    "\n",
    "y_pred = model.predict(x_test)\n",
    "scores = score_regression_metrics(y_test, y_pred)\n",
    "show_scores(scores)"
   ]
  },
  {
   "cell_type": "markdown",
   "id": "744f6b58-742b-4342-9c63-81be3f724f0b",
   "metadata": {},
   "source": [
    "# Gráficos"
   ]
  },
  {
   "cell_type": "code",
   "execution_count": 150,
   "id": "dc0bc0c4-3d72-415d-8f37-b2e9238263b8",
   "metadata": {},
   "outputs": [
    {
     "name": "stdout",
     "output_type": "stream",
     "text": [
      "147/147 [==============================] - 0s 2ms/step\n",
      "Scores obtidos:\n",
      "RMSE: 27185.92161126942\n",
      "MAE: 14674.339372794258\n",
      "MAPE: 0.19035243630137\n",
      "26/26 [==============================] - 0s 2ms/step\n",
      "Scores obtidos:\n",
      "RMSE: 38406.38056420336\n",
      "MAE: 26274.873339725666\n",
      "MAPE: 0.42426139046892697\n"
     ]
    }
   ],
   "source": [
    "set_seeds(41)\n",
    "\n",
    "x,y = load_data()\n",
    "\n",
    "x_train, x_test, y_train, y_test = train_test_split(x,y, test_size=0.15, shuffle=False)\n",
    "\n",
    "scaler = MinMaxScaler()\n",
    "x_train = scaler.fit_transform(x_train)\n",
    "x_test = scaler.transform(x_test)\n",
    "\n",
    "model = Sequential()\n",
    "\n",
    "model.add(Dense(units=256, activation=\"relu\")),\n",
    "model.add(Dense(units=128, activation=\"relu\")),\n",
    "model.add(Dense(units=64, activation=\"relu\")),\n",
    "model.add(Dense(units=32, activation=\"relu\")),\n",
    "\n",
    "model.add(Dropout(rate=0.10))\n",
    "model.add(Dense(units=1))\n",
    "model.compile(\n",
    "    optimizer=keras.optimizers.Adam(learning_rate=0.001),\n",
    "    loss=\"mse\",\n",
    "    metrics=[keras.metrics.RootMeanSquaredError(name=\"RMSE\")],\n",
    ")\n",
    "\n",
    "history=model.fit(x_train, y_train, batch_size=32, epochs=200, verbose=0)\n",
    "\n",
    "show_scores(score_regression_metrics(y_train, model.predict(x_train)))\n",
    "\n",
    "y_pred = model.predict(x_test)\n",
    "scores = score_regression_metrics(y_test, y_pred)\n",
    "show_scores(scores)"
   ]
  },
  {
   "cell_type": "code",
   "execution_count": 151,
   "id": "ab4e53d7-b620-4310-a781-821b459d9526",
   "metadata": {},
   "outputs": [],
   "source": [
    "pred = get_pred(y_test, y_pred)"
   ]
  },
  {
   "cell_type": "code",
   "execution_count": 152,
   "id": "3a12a495-39f5-4157-83c5-ac6796570595",
   "metadata": {},
   "outputs": [
    {
     "data": {
      "image/png": "[encoded data removed]",
      "text/plain": [
       "<Figure size 1400x600 with 1 Axes>"
      ]
     },
     "metadata": {},
     "output_type": "display_data"
    }
   ],
   "source": [
    "region_graphs(pred, 'SUDESTE')"
   ]
  },
  {
   "cell_type": "code",
   "execution_count": 153,
   "id": "bacb3ff1-9f25-49c4-973c-372dacf958cf",
   "metadata": {},
   "outputs": [],
   "source": [
    "def show_graphs (pred, reg):\n",
    "    \n",
    "    plt.figure(figsize=(14,6))\n",
    "    \n",
    "    \n",
    "    plt.title(\"Visão regional\")\n",
    "    \n",
    "    for state in reg:\n",
    "        \n",
    "        sns.scatterplot(pred[pred['estados'] == state]['y_test'], label=f\"Dado real de {state}\")\n",
    "        sns.lineplot(pred[pred['estados'] == state]['y_pred'], label=f\"Previsão e {state}\")\n",
    "        \n",
    "    plt.ylabel=\"Consumo\"\n",
    "        \n",
    "    plt.show()"
   ]
  },
  {
   "cell_type": "code",
   "execution_count": 154,
   "id": "297e9951-0461-4480-989e-2ce467045246",
   "metadata": {},
   "outputs": [
    {
     "data": {
      "image/png": "[encoded data removed]",
      "text/plain": [
       "<Figure size 1400x600 with 1 Axes>"
      ]
     },
     "metadata": {},
     "output_type": "display_data"
    }
   ],
   "source": [
    "SUDESTE = ['SP', 'RJ', 'ES', 'MG']\n",
    "\n",
    "show_graphs(pred, SUDESTE)"
   ]
  },
  {
   "cell_type": "code",
   "execution_count": 155,
   "id": "b33b5193-35ad-473d-b360-66e81b097f59",
   "metadata": {},
   "outputs": [
    {
     "data": {
      "image/png": "[encoded data removed]",
      "text/plain": [
       "<Figure size 1400x600 with 1 Axes>"
      ]
     },
     "metadata": {},
     "output_type": "display_data"
    }
   ],
   "source": [
    "SUL = ['PR', 'SC', 'RS']\n",
    "\n",
    "sns.set_palette(\"Set2\")\n",
    "\n",
    "show_graphs(pred, SUL)"
   ]
  },
  {
   "cell_type": "code",
   "execution_count": 156,
   "id": "33b92006-088d-4d95-8636-41237116c98d",
   "metadata": {},
   "outputs": [
    {
     "data": {
      "image/png": "[encoded data removed]",
      "text/plain": [
       "<Figure size 2800x600 with 1 Axes>"
      ]
     },
     "metadata": {},
     "output_type": "display_data"
    }
   ],
   "source": [
    "show_delta(np.array(y_test), y_pred.flatten())"
   ]
  },
  {
   "cell_type": "code",
   "execution_count": 18,
   "id": "4573796d-15d6-4eb2-bb82-a4c7ae0213fa",
   "metadata": {},
   "outputs": [],
   "source": [
    "#Best: -53222.032266 using {'model__activation': 'relu', 'model__batch_size': 32, 'model__dropout_rate': 0.1, 'model__epochs': 200, 'model__learning_rate': 0.001, 'model__n_layers': 3, 'model__n_units': 64}\n"
   ]
  },
  {
   "cell_type": "code",
   "execution_count": null,
   "id": "8d7b6681-d079-4b61-983b-fce332fa2d1d",
   "metadata": {},
   "outputs": [],
   "source": [
    "x,y = load_data()\n",
    "\n",
    "x_train, x_test, y_train, y_test = train_test_split(x,y, test_size=0.15, shuffle=False)\n",
    "\n",
    "scaler = MinMaxScaler()\n",
    "x_train = scaler.fit_transform(x_train)\n",
    "x_test = scaler.transform(x_test)\n",
    "\n",
    "model = Sequential()\n",
    "\n",
    "model.add(Dense(units=64, activation=\"relu\")),\n",
    "model.add(Dense(units=64, activation=\"relu\")),\n",
    "model.add(Dense(units=64, activation=\"relu\")),\n",
    "\n",
    "model.add(Dropout(rate=0.10))\n",
    "model.add(Dense(units=1))\n",
    "model.compile(\n",
    "    optimizer=keras.optimizers.Adam(learning_rate=0.001),\n",
    "    loss=\"mse\",\n",
    "    metrics=[keras.metrics.RootMeanSquaredError(name=\"RMSE\")],\n",
    ")\n",
    "\n",
    "history=model.fit(x_train, y_train, batch_size=32, epochs=200, verbose=0)\n",
    "\n",
    "show_scores(score_regression_metrics(y_train, model.predict(x_train)))\n",
    "\n",
    "y_pred = model.predict(x_test)\n",
    "scores = score_regression_metrics(y_test, y_pred)\n",
    "show_scores(scores)"
   ]
  },
  {
   "cell_type": "code",
   "execution_count": null,
   "id": "076c23d6-65ac-4df3-b7c5-0da515fe3aa4",
   "metadata": {},
   "outputs": [],
   "source": [
    "pred = get_pred(y_test, y_pred)"
   ]
  },
  {
   "cell_type": "code",
   "execution_count": null,
   "id": "f1b72f0d-92d4-4226-939f-bf9f66aeeb31",
   "metadata": {},
   "outputs": [],
   "source": [
    "def region_graphs (pred, reg):\n",
    "    \n",
    "    plt.figure(figsize=(14,6))\n",
    "        \n",
    "    plt.title(f\"Visão regional: {reg}\")\n",
    "    \n",
    "    pred=pred[pred['regiao'] == reg]\n",
    "    \n",
    "    plt.ylabel=\"Consumo\"\n",
    "    sns.scatterplot(pred, x=pred.index, y='y_test', hue=\"estados\")\n",
    "    sns.lineplot(pred, x=pred.index, y='y_pred', hue=\"estados\")\n",
    "    \n",
    "#     for state in reg:\n",
    "        \n",
    "#         sns.scatterplot(pred[pred['estados'] == state]['y_test'], label=f\"Dado real de {state}\")\n",
    "#         sns.lineplot(pred[pred['estados'] == state]['y_pred'], label=f\"Previsão e {state}\")\n",
    "        \n",
    "    plt.show()"
   ]
  },
  {
   "cell_type": "code",
   "execution_count": null,
   "id": "9ee7c758-4f89-4171-ba83-a369e3d07985",
   "metadata": {},
   "outputs": [],
   "source": [
    "region_graphs(pred, 'SUDESTE')"
   ]
  },
  {
   "cell_type": "code",
   "execution_count": null,
   "id": "ac0ea0f5-6dc1-4c4c-b7ed-1583d137596d",
   "metadata": {},
   "outputs": [],
   "source": [
    "region_graphs(pred, 'NORDESTE')"
   ]
  },
  {
   "cell_type": "code",
   "execution_count": null,
   "id": "6d1c0a93-048b-4dbf-8fdd-cfd4876b9f82",
   "metadata": {},
   "outputs": [],
   "source": [
    "def region_metrics (pred):\n",
    "\n",
    "    for reg in pred['regiao'].unique():\n",
    "        \n",
    "        print (f\"Metricas de {reg}:\")\n",
    "        print (f\"RMSE: {mean_squared_error(pred[pred['regiao'] == reg]['y_test'], pred[pred['regiao'] == reg]['y_pred'], squared=False)}\")\n",
    "        print (f\"MAPE: {mean_absolute_percentage_error(pred[pred['regiao'] == reg]['y_test'], pred[pred['regiao'] == reg]['y_pred'])}\")\n",
    "        print (f\"MAE: {mean_absolute_error(pred[pred['regiao'] == reg]['y_test'], pred[pred['regiao'] == reg]['y_pred'])}\")\n",
    "        print (\"-------------------------------\\n\")"
   ]
  },
  {
   "cell_type": "code",
   "execution_count": null,
   "id": "6d4edaf9-8696-461a-aaeb-b980c82af5ba",
   "metadata": {},
   "outputs": [],
   "source": [
    "region_metrics(pred)"
   ]
  },
  {
   "cell_type": "code",
   "execution_count": null,
   "id": "17d846d5-4238-4e90-928e-620f6613a788",
   "metadata": {},
   "outputs": [],
   "source": []
  }
 ],
 "metadata": {
  "kernelspec": {
   "display_name": "Python 3 (ipykernel)",
   "language": "python",
   "name": "python3"
  },
  "language_info": {
   "codemirror_mode": {
    "name": "ipython",
    "version": 3
   },
   "file_extension": ".py",
   "mimetype": "text/x-python",
   "name": "python",
   "nbconvert_exporter": "python",
   "pygments_lexer": "ipython3",
   "version": "3.10.5"
  }
 },
 "nbformat": 4,
 "nbformat_minor": 5
}
