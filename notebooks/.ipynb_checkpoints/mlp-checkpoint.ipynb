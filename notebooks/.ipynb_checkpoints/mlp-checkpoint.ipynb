{
 "cells": [
  {
   "cell_type": "markdown",
   "id": "8028965b-2bc6-4d50-8b0c-91522e33fbb1",
   "metadata": {},
   "source": [
    "# Redes Feed Forward\n",
    "\n",
    "Implementação da previsão do consumo de cimento nos estados  do Brasil utilizando redes neurais multi layer perceptrons feed forward\n",
    "\n",
    "> Dados utilizados disponíveis em: `https://github.com/LeiteJu/TCC/blob/main/dados/input/df.csv`\n",
    "\n",
    "Modelo:\n",
    "- Treinamento: dados de 01/2003 até 06/2017\n",
    "- Teste: dados de 07/2017 até 12/2019\n",
    "\n",
    "Experimentos:\n",
    "- camadas: 1,2,3,4\n",
    "- standard scaler, minmax scaler, power transformer, batch normalization\n",
    "- função de ativação relu e swish\n",
    "- epochs: 100, 200, 300, 400\n",
    "\n",
    "\n",
    "Melhores resultados: \n",
    "\n",
    "|      | MLP |\n",
    "|------|------------------|\n",
    "| RMSE | 35724.18         |\n",
    "| MAE  | 23680.35         |\n",
    "| MAPE | 0.30             |\n",
    "\n",
    "Config:\n",
    "\n",
    "4 camadas com ativação relu e units (256, 128, 64, 32) e minmax"
   ]
  },
  {
   "cell_type": "code",
   "execution_count": 29,
   "id": "f2f23ada-6aa8-4034-a7d1-c4b3bd9226f8",
   "metadata": {},
   "outputs": [],
   "source": [
    "import pandas as pd\n",
    "import numpy as np\n",
    "import matplotlib.pyplot as plt\n",
    "import seaborn as sns\n",
    "import os\n",
    "import random\n",
    "\n",
    "from tensorflow import keras\n",
    "from tensorflow.keras.layers import Dense, Dropout, LSTM, Conv1D, MaxPooling1D, Flatten\n",
    "from tensorflow.keras.models import Sequential\n",
    "from tensorflow.random import set_seed\n",
    "\n",
    "sns.set_palette(\"Set2\")\n",
    "\n",
    "from sklearn.model_selection import train_test_split\n",
    "\n",
    "from sklearn.linear_model import LinearRegression\n",
    "from sklearn.preprocessing import StandardScaler\n",
    "from sklearn.preprocessing import MinMaxScaler, PowerTransformer\n",
    "\n",
    "from sklearn.metrics import mean_squared_error\n",
    "from sklearn.metrics import mean_absolute_error\n",
    "from sklearn.metrics import mean_absolute_percentage_error\n",
    "\n",
    "import warnings\n",
    "warnings.filterwarnings(\"ignore\")\n",
    "\n",
    "from keras.layers import BatchNormalization"
   ]
  },
  {
   "cell_type": "markdown",
   "id": "094d6144-e4b1-4728-ac61-72849dd49bf2",
   "metadata": {},
   "source": [
    "# Constantes"
   ]
  },
  {
   "cell_type": "code",
   "execution_count": 30,
   "id": "2a42e501-53b6-4a5e-99f5-a1bffc77a965",
   "metadata": {},
   "outputs": [],
   "source": [
    "# path dos dados \n",
    "PATH=\"https://raw.githubusercontent.com/LeiteJu/TCC/main/dados/input/\"\n",
    "\n",
    "#siglas dos estados\n",
    "SIGLAS = ['AC', 'AL', 'AM', 'AP', 'BA', 'CE',\n",
    "  'DF', 'ES', 'GO', 'MA',\n",
    "  'MG', 'MS', 'MT', 'PA', 'PB',\n",
    "  'PE', 'PI', 'PR', 'RJ',\n",
    "  'RN', 'RO', 'RR', 'RS',\n",
    "  'SC', 'SE', 'SP', 'TO']\n",
    "\n",
    "# categorias\n",
    "LABELS=[\"subestima: -90%\", \"subestima entre -90% e 60%\", \"subestima entre -60% e -30%\",\n",
    "        \"subestima entre -30% e 10%\", \"entre -10% e 10%\", \"superestima entre 10% e 30%\", \n",
    "        \"superestima entre 30% e 60%\", \"superestima entre 60% e 90%\", \"superestima mais de 90%\"]\n",
    "\n",
    "# regioes\n",
    "N='NORTE'\n",
    "NE=\"NORDESTE\"\n",
    "CO='CENTRO OESTE'\n",
    "SE='SUDESTE'\n",
    "S = 'SUL'\n",
    "\n",
    "REGIOES = {\n",
    "    'AC': N, 'AL': NE, 'AM' : N, 'AP' : N, 'BA' : NE, 'CE' : NE,\n",
    "    'DF' : CO, 'ES' : SE, 'GO' : CO, 'MA' : NE,\n",
    "    'MG' : SE, 'MS' : CO, 'MT' : CO, 'PA' : N, 'PB' : NE,\n",
    "    'PE' : NE, 'PI' : NE, 'PR' : S, 'RJ' : SE,\n",
    "    'RN' : NE, 'RO' : N, 'RR' : N, 'RS' : S,\n",
    "    'SC' : S, 'SE' : NE, 'SP' : SE, 'TO' : N}"
   ]
  },
  {
   "cell_type": "code",
   "execution_count": 31,
   "id": "bb4db44f-03a4-4ae0-91ec-3ce946fcabbb",
   "metadata": {},
   "outputs": [],
   "source": [
    "# calcula metricas de regressao\n",
    "def score_regression_metrics(y_test, y_test_pred):\n",
    "\n",
    "    RMSE = mean_squared_error(y_true=y_test, y_pred=y_test_pred, squared=False)\n",
    "    MAE = mean_absolute_error(y_true=y_test, y_pred=y_test_pred)\n",
    "    MAPE = mean_absolute_percentage_error(y_true=y_test, y_pred=y_test_pred)\n",
    "    R2 = r2_score(y_true=y_test, y_pred=y_test_pred)\n",
    "\n",
    "    scores = {\n",
    "        \"rmse\": RMSE,\n",
    "        \"mae\": MAE,\n",
    "        \"mape\": MAPE,\n",
    "    }\n",
    "\n",
    "    return scores\n",
    "\n",
    "# mostra as metricas de regressao \n",
    "def show_scores (scores):\n",
    "\n",
    "    print (\"Scores obtidos:\")\n",
    "\n",
    "    print (f\"RMSE: {scores['rmse']}\")\n",
    "    print (f\"MAE: {scores['mae']}\")\n",
    "    print (f\"MAPE: {scores['mape']}\")"
   ]
  },
  {
   "cell_type": "code",
   "execution_count": 32,
   "id": "99e3b348-70aa-49e4-b4b8-da99ef7f7711",
   "metadata": {},
   "outputs": [],
   "source": [
    "# classifica o input de acordo com a categoria \n",
    "def categorize(x):\n",
    "    if x < - 0.9:\n",
    "        return LABELS[0]\n",
    "    elif x < - 0.6:\n",
    "        return LABELS[1]\n",
    "    elif x < - 0.3:\n",
    "        return LABELS[2]\n",
    "    elif x < - 0.1:\n",
    "        return LABELS[3]\n",
    "    elif x < 0.1:\n",
    "        return LABELS[4]\n",
    "    elif x < 0.3:\n",
    "        return LABELS[5]\n",
    "    elif x < 0.6:\n",
    "        return LABELS[6]\n",
    "    elif x < 0.9:\n",
    "        return LABELS[7]\n",
    "    else:\n",
    "        return LABELS[8]"
   ]
  },
  {
   "cell_type": "code",
   "execution_count": 33,
   "id": "e7c50bbb-6446-47e3-b487-7597eddf79f9",
   "metadata": {},
   "outputs": [],
   "source": [
    "# mostra os deltas percentuais \n",
    "def show_delta (y_test, y_pred):\n",
    "    \n",
    "    data=(y_pred - y_test)/y_test\n",
    "\n",
    "    error = pd.DataFrame(data, columns=['erro'])\n",
    "    error['categoria']=error['erro'].apply(categorize)\n",
    "    \n",
    "    plt.figure(figsize=(30,10))\n",
    "\n",
    "    g = sns.countplot(data=error, x='categoria', order=LABELS)\n",
    "    \n",
    "    plt.show()"
   ]
  },
  {
   "cell_type": "code",
   "execution_count": 34,
   "id": "cc9a0538-c209-453f-8633-87c08a559e87",
   "metadata": {},
   "outputs": [],
   "source": [
    "def get_regiao (x):\n",
    "    return REGIOES[x]"
   ]
  },
  {
   "cell_type": "code",
   "execution_count": 35,
   "id": "92daf2ea-a2b6-4c24-933d-59f9103488aa",
   "metadata": {
    "tags": []
   },
   "outputs": [],
   "source": [
    "# separa y_test e y_pred em dados por estado e ao longo do tempo\n",
    "def get_pred (y_test, y_pred):\n",
    "    \n",
    "    # os testes sao realizados com dados de 07/2017 ate 12/2019\n",
    "    init = pd.to_datetime(\"072017\", format='%m%Y')\n",
    "    end = pd.to_datetime(\"122019\", format='%m%Y')\n",
    "    data = pd.date_range(start=init, end=end, freq='MS').date\n",
    "    \n",
    "    # todas as datas se repetem para cada estado\n",
    "    pred = pd.DataFrame(list(data) * 27, columns=['data']).sort_values('data')\n",
    "    \n",
    "    # todos os estados se repetem para cada data\n",
    "    pred['estados'] = SIGLAS * 30\n",
    "    \n",
    "    # garante que todos os estados estao presentes em todas as datas \n",
    "    pred['y_test'] =  y_test[len(y_test) % 27 :].values\n",
    "    pred['y_pred'] = y_pred[len(y_pred) % 27 :]\n",
    "    \n",
    "    pred = pred.set_index('data')\n",
    "    \n",
    "    pred['regiao'] = pred['estados'].apply(get_regiao)\n",
    "    \n",
    "    return pred"
   ]
  },
  {
   "cell_type": "markdown",
   "id": "00d15381-e18e-4a4b-8cb7-1807d6904a18",
   "metadata": {},
   "source": [
    "# SEED"
   ]
  },
  {
   "cell_type": "code",
   "execution_count": 36,
   "id": "9fbe749d-a27a-4a07-9b95-42f0e41bc951",
   "metadata": {},
   "outputs": [],
   "source": [
    "def set_seeds (SEED=41):\n",
    "    os.environ['PYTHONHASHSEED'] = str(SEED)\n",
    "    set_seed(SEED)\n",
    "    np.random.seed(SEED)\n",
    "    random.seed(SEED)\n",
    "    \n",
    "SEED = 41\n",
    "set_seeds(SEED)"
   ]
  },
  {
   "cell_type": "markdown",
   "id": "e61e043d-8adb-4067-8e4b-f101c8705cd4",
   "metadata": {},
   "source": [
    "# Dados"
   ]
  },
  {
   "cell_type": "code",
   "execution_count": 37,
   "id": "8ca9722b-8de3-4c45-a19f-b3bc4f403387",
   "metadata": {},
   "outputs": [],
   "source": [
    "def load_data():\n",
    "    \n",
    "    df = pd.read_csv(f\"{PATH}df.csv\")\n",
    "    \n",
    "    x  = df.copy()\n",
    "    x = x.sort_values([\"data\", \"estados\"])\n",
    "    x = x.drop([\"consumo\", 'data'], axis=1)\n",
    "\n",
    "    y = df.copy().sort_values([\"data\", \"estados\"])[['estados', 'data', 'consumo']]\n",
    "    \n",
    "    # processo de one-hot\n",
    "    x = pd.get_dummies(data=x, columns=[\"estados\"], drop_first=True)\n",
    "\n",
    "    y = y['consumo']\n",
    "    \n",
    "    return x,y"
   ]
  },
  {
   "cell_type": "markdown",
   "id": "4ce787c6-02b3-40ea-870a-1e46505a8b4f",
   "metadata": {},
   "source": [
    "# Experimentos"
   ]
  },
  {
   "cell_type": "markdown",
   "id": "2fb32462-76f0-425c-94de-10eebdc73bba",
   "metadata": {
    "tags": []
   },
   "source": [
    "## 1 camada de 16 neurônios"
   ]
  },
  {
   "cell_type": "markdown",
   "id": "0dab11ea",
   "metadata": {},
   "source": [
    "### Standard scaler"
   ]
  },
  {
   "cell_type": "code",
   "execution_count": 74,
   "id": "96ed5a06-52b5-4d2f-b463-b53d756599f2",
   "metadata": {},
   "outputs": [
    {
     "name": "stdout",
     "output_type": "stream",
     "text": [
      "147/147 [==============================] - 0s 2ms/step\n",
      "Scores obtidos:\n",
      "RMSE: 246994.5583123613\n",
      "MAE: 147465.818026902\n",
      "MAPE: 0.9471601454914635\n",
      "26/26 [==============================] - 0s 2ms/step\n",
      "Scores obtidos:\n",
      "RMSE: 205140.496369055\n",
      "MAE: 128625.65212503685\n",
      "MAPE: 0.8810699978948591\n"
     ]
    }
   ],
   "source": [
    "SEED = 41\n",
    "set_seeds(SEED)\n",
    "\n",
    "x,y = load_data()\n",
    "\n",
    "x_train, x_test, y_train, y_test = train_test_split(x,y, test_size=0.15, shuffle=False)\n",
    "\n",
    "scaler = StandardScaler()\n",
    "x_train = scaler.fit_transform(x_train)\n",
    "x_test = scaler.transform(x_test)\n",
    "\n",
    "model = Sequential()\n",
    "\n",
    "model.add(Dense(units=16, activation=\"relu\")),\n",
    "\n",
    "model.add(Dropout(rate=0.10))\n",
    "model.add(Dense(units=1))\n",
    "model.compile(\n",
    "    optimizer=keras.optimizers.Adam(learning_rate=0.001),\n",
    "    loss=\"mse\",\n",
    "    metrics=[keras.metrics.RootMeanSquaredError(name=\"RMSE\")],\n",
    ")\n",
    "\n",
    "history=model.fit(x_train, y_train, batch_size=32, epochs=100, verbose=0)\n",
    "\n",
    "show_scores(score_regression_metrics(y_train, model.predict(x_train)))\n",
    "\n",
    "y_pred = model.predict(x_test)\n",
    "scores = score_regression_metrics(y_test, y_pred)\n",
    "show_scores(scores)"
   ]
  },
  {
   "cell_type": "markdown",
   "id": "d1fded88",
   "metadata": {},
   "source": [
    "### minmax scaler"
   ]
  },
  {
   "cell_type": "code",
   "execution_count": 39,
   "id": "abb5c75a-8ba6-4c85-b226-1c50f3909289",
   "metadata": {},
   "outputs": [
    {
     "name": "stdout",
     "output_type": "stream",
     "text": [
      "147/147 [==============================] - 0s 2ms/step\n",
      "Scores obtidos:\n",
      "RMSE: 252380.9841974362\n",
      "MAE: 139685.8936822227\n",
      "MAPE: 0.7674769773737242\n",
      "26/26 [==============================] - 0s 2ms/step\n",
      "Scores obtidos:\n",
      "RMSE: 215460.1433149431\n",
      "MAE: 125583.7221095167\n",
      "MAPE: 0.6903443206639711\n"
     ]
    }
   ],
   "source": [
    "SEED = 41\n",
    "set_seeds(SEED)\n",
    "\n",
    "x,y = load_data()\n",
    "\n",
    "x_train, x_test, y_train, y_test = train_test_split(x,y, test_size=0.15, shuffle=False)\n",
    "\n",
    "scaler = MinMaxScaler()\n",
    "x_train = scaler.fit_transform(x_train)\n",
    "x_test = scaler.transform(x_test)\n",
    "\n",
    "model = Sequential()\n",
    "\n",
    "model.add(Dense(units=16, activation=\"relu\")),\n",
    "\n",
    "model.add(Dropout(rate=0.10))\n",
    "model.add(Dense(units=1))\n",
    "model.compile(\n",
    "    optimizer=keras.optimizers.Adam(learning_rate=0.001),\n",
    "    loss=\"mse\",\n",
    "    metrics=[keras.metrics.RootMeanSquaredError(name=\"RMSE\")],\n",
    ")\n",
    "\n",
    "history=model.fit(x_train, y_train, batch_size=32, epochs=100, verbose=0)\n",
    "\n",
    "show_scores(score_regression_metrics(y_train, model.predict(x_train)))\n",
    "\n",
    "y_pred = model.predict(x_test)\n",
    "scores = score_regression_metrics(y_test, y_pred)\n",
    "show_scores(scores)"
   ]
  },
  {
   "cell_type": "code",
   "execution_count": 40,
   "id": "b89e504d",
   "metadata": {},
   "outputs": [
    {
     "data": {
      "text/plain": [
       "Text(0.5, 1.0, 'RMSE')"
      ]
     },
     "execution_count": 40,
     "metadata": {},
     "output_type": "execute_result"
    },
    {
     "data": {
      "image/png": "[encoded data removed]",
      "text/plain": [
       "<Figure size 640x480 with 1 Axes>"
      ]
     },
     "metadata": {},
     "output_type": "display_data"
    }
   ],
   "source": [
    "plt.plot(history.history[\"RMSE\"])\n",
    "plt.title(\"RMSE\")"
   ]
  },
  {
   "cell_type": "code",
   "execution_count": 75,
   "id": "aeb979cb",
   "metadata": {},
   "outputs": [
    {
     "name": "stdout",
     "output_type": "stream",
     "text": [
      "147/147 [==============================] - 0s 2ms/step\n",
      "Scores obtidos:\n",
      "RMSE: 233500.98777418854\n",
      "MAE: 118161.73185849379\n",
      "MAPE: 0.8476686063874663\n",
      "26/26 [==============================] - 0s 2ms/step\n",
      "Scores obtidos:\n",
      "RMSE: 194531.54137898856\n",
      "MAE: 105798.21763527811\n",
      "MAPE: 0.798937166175736\n"
     ]
    }
   ],
   "source": [
    "SEED = 41\n",
    "set_seeds(SEED)\n",
    "\n",
    "x,y = load_data()\n",
    "\n",
    "x_train, x_test, y_train, y_test = train_test_split(x,y, test_size=0.15, shuffle=False)\n",
    "\n",
    "scaler = MinMaxScaler()\n",
    "x_train = scaler.fit_transform(x_train)\n",
    "x_test = scaler.transform(x_test)\n",
    "\n",
    "model = Sequential()\n",
    "\n",
    "model.add(Dense(units=16, activation=\"relu\")),\n",
    "\n",
    "model.add(Dropout(rate=0.10))\n",
    "model.add(Dense(units=1))\n",
    "model.compile(\n",
    "    optimizer=keras.optimizers.Adam(learning_rate=0.001),\n",
    "    loss=\"mse\",\n",
    "    metrics=[keras.metrics.RootMeanSquaredError(name=\"RMSE\")],\n",
    ")\n",
    "\n",
    "history=model.fit(x_train, y_train, batch_size=32, epochs=200, verbose=0)\n",
    "\n",
    "show_scores(score_regression_metrics(y_train, model.predict(x_train)))\n",
    "\n",
    "y_pred = model.predict(x_test)\n",
    "scores = score_regression_metrics(y_test, y_pred)\n",
    "show_scores(scores)"
   ]
  },
  {
   "cell_type": "code",
   "execution_count": 76,
   "id": "35bdb587",
   "metadata": {},
   "outputs": [
    {
     "data": {
      "text/plain": [
       "[<matplotlib.lines.Line2D at 0x21a65e74af0>]"
      ]
     },
     "execution_count": 76,
     "metadata": {},
     "output_type": "execute_result"
    },
    {
     "data": {
      "image/png": "[encoded data removed]",
      "text/plain": [
       "<Figure size 640x480 with 1 Axes>"
      ]
     },
     "metadata": {},
     "output_type": "display_data"
    }
   ],
   "source": [
    "plt.plot(history.history[\"RMSE\"])\n"
   ]
  },
  {
   "cell_type": "code",
   "execution_count": 77,
   "id": "3e393dbb",
   "metadata": {},
   "outputs": [
    {
     "name": "stdout",
     "output_type": "stream",
     "text": [
      "147/147 [==============================] - 0s 2ms/step\n",
      "Scores obtidos:\n",
      "RMSE: 206446.48858670497\n",
      "MAE: 103851.86367004913\n",
      "MAPE: 1.4195813224560534\n",
      "26/26 [==============================] - 0s 2ms/step\n",
      "Scores obtidos:\n",
      "RMSE: 166855.00279208625\n",
      "MAE: 97897.91974947098\n",
      "MAPE: 1.4807951848059766\n"
     ]
    }
   ],
   "source": [
    "SEED = 41\n",
    "set_seeds(SEED)\n",
    "\n",
    "x,y = load_data()\n",
    "\n",
    "x_train, x_test, y_train, y_test = train_test_split(x,y, test_size=0.15, shuffle=False)\n",
    "\n",
    "scaler = MinMaxScaler()\n",
    "x_train = scaler.fit_transform(x_train)\n",
    "x_test = scaler.transform(x_test)\n",
    "\n",
    "model = Sequential()\n",
    "\n",
    "model.add(Dense(units=16, activation=\"relu\")),\n",
    "\n",
    "model.add(Dropout(rate=0.10))\n",
    "model.add(Dense(units=1))\n",
    "model.compile(\n",
    "    optimizer=keras.optimizers.Adam(learning_rate=0.001),\n",
    "    loss=\"mse\",\n",
    "    metrics=[keras.metrics.RootMeanSquaredError(name=\"RMSE\")],\n",
    ")\n",
    "\n",
    "history=model.fit(x_train, y_train, batch_size=32, epochs=300, verbose=0)\n",
    "\n",
    "show_scores(score_regression_metrics(y_train, model.predict(x_train)))\n",
    "\n",
    "y_pred = model.predict(x_test)\n",
    "scores = score_regression_metrics(y_test, y_pred)\n",
    "show_scores(scores)"
   ]
  },
  {
   "cell_type": "code",
   "execution_count": 78,
   "id": "faeb7013",
   "metadata": {},
   "outputs": [
    {
     "data": {
      "text/plain": [
       "[<matplotlib.lines.Line2D at 0x21a541688e0>]"
      ]
     },
     "execution_count": 78,
     "metadata": {},
     "output_type": "execute_result"
    },
    {
     "data": {
      "image/png": "[encoded data removed]",
      "text/plain": [
       "<Figure size 640x480 with 1 Axes>"
      ]
     },
     "metadata": {},
     "output_type": "display_data"
    }
   ],
   "source": [
    "plt.plot(history.history[\"RMSE\"])"
   ]
  },
  {
   "cell_type": "markdown",
   "id": "684bdf5b",
   "metadata": {},
   "source": [
    "### power transformer"
   ]
  },
  {
   "cell_type": "code",
   "execution_count": 79,
   "id": "b479dbe3-99f7-448f-8e75-b3367f483c38",
   "metadata": {},
   "outputs": [
    {
     "name": "stdout",
     "output_type": "stream",
     "text": [
      "147/147 [==============================] - 0s 1ms/step\n",
      "Scores obtidos:\n",
      "RMSE: 243668.070346667\n",
      "MAE: 142943.69034150202\n",
      "MAPE: 0.921303883964837\n",
      "26/26 [==============================] - 0s 1ms/step\n",
      "Scores obtidos:\n",
      "RMSE: 200478.87945015295\n",
      "MAE: 121374.88123709576\n",
      "MAPE: 0.82028383600386\n"
     ]
    }
   ],
   "source": [
    "SEED = 41\n",
    "set_seeds(SEED)\n",
    "x,y = load_data()\n",
    "\n",
    "x_train, x_test, y_train, y_test = train_test_split(x,y, test_size=0.15, shuffle=False)\n",
    "\n",
    "scaler = PowerTransformer()\n",
    "x_train = scaler.fit_transform(x_train)\n",
    "x_test = scaler.transform(x_test)\n",
    "\n",
    "model = Sequential()\n",
    "\n",
    "model.add(Dense(units=16, activation=\"relu\")),\n",
    "\n",
    "model.add(Dropout(rate=0.10))\n",
    "model.add(Dense(units=1))\n",
    "model.compile(\n",
    "    optimizer=keras.optimizers.Adam(learning_rate=0.001),\n",
    "    loss=\"mse\",\n",
    "    metrics=[keras.metrics.RootMeanSquaredError(name=\"RMSE\")],\n",
    ")\n",
    "\n",
    "history=model.fit(x_train, y_train, batch_size=32, epochs=100, verbose=0)\n",
    "\n",
    "show_scores(score_regression_metrics(y_train, model.predict(x_train)))\n",
    "\n",
    "y_pred = model.predict(x_test)\n",
    "scores = score_regression_metrics(y_test, y_pred)\n",
    "show_scores(scores)"
   ]
  },
  {
   "cell_type": "markdown",
   "id": "e6afffe7-54ab-4f1f-a5d4-9d2659cd850d",
   "metadata": {
    "tags": []
   },
   "source": [
    "## 1 camada de 32 neurônios"
   ]
  },
  {
   "cell_type": "code",
   "execution_count": 80,
   "id": "c9309c6b-19dd-4de0-8136-9b0a9cff4d0b",
   "metadata": {},
   "outputs": [
    {
     "name": "stdout",
     "output_type": "stream",
     "text": [
      "147/147 [==============================] - 0s 1ms/step\n",
      "Scores obtidos:\n",
      "RMSE: 222601.70439661364\n",
      "MAE: 131845.4192205303\n",
      "MAPE: 0.8733174232566095\n",
      "26/26 [==============================] - 0s 2ms/step\n",
      "Scores obtidos:\n",
      "RMSE: 172732.71367219443\n",
      "MAE: 105484.41255123988\n",
      "MAPE: 0.743507213047091\n"
     ]
    }
   ],
   "source": [
    "SEED = 41\n",
    "set_seeds(SEED)\n",
    "\n",
    "x,y = load_data()\n",
    "\n",
    "x_train, x_test, y_train, y_test = train_test_split(x,y, test_size=0.15, shuffle=False)\n",
    "\n",
    "scaler = StandardScaler()\n",
    "x_train = scaler.fit_transform(x_train)\n",
    "x_test = scaler.transform(x_test)\n",
    "\n",
    "model = Sequential()\n",
    "\n",
    "model.add(Dense(units=32, activation=\"relu\")),\n",
    "\n",
    "model.add(Dropout(rate=0.10))\n",
    "model.add(Dense(units=1))\n",
    "model.compile(\n",
    "    optimizer=keras.optimizers.Adam(learning_rate=0.001),\n",
    "    loss=\"mse\",\n",
    "    metrics=[keras.metrics.RootMeanSquaredError(name=\"RMSE\")],\n",
    ")\n",
    "\n",
    "history=model.fit(x_train, y_train, batch_size=32, epochs=100, verbose=0)\n",
    "\n",
    "show_scores(score_regression_metrics(y_train, model.predict(x_train)))\n",
    "\n",
    "y_pred = model.predict(x_test)\n",
    "scores = score_regression_metrics(y_test, y_pred)\n",
    "show_scores(scores)"
   ]
  },
  {
   "cell_type": "markdown",
   "id": "0984d74a-8067-4f50-9de4-71b79075fc3e",
   "metadata": {
    "tags": []
   },
   "source": [
    "## 2 camadas (64, 32)"
   ]
  },
  {
   "cell_type": "markdown",
   "id": "ff9b9b83",
   "metadata": {},
   "source": [
    "### standard scaler"
   ]
  },
  {
   "cell_type": "code",
   "execution_count": 81,
   "id": "490fb0b7-d50a-4694-a7ec-964a341233d9",
   "metadata": {},
   "outputs": [
    {
     "name": "stdout",
     "output_type": "stream",
     "text": [
      "147/147 [==============================] - 0s 1ms/step\n",
      "Scores obtidos:\n",
      "RMSE: 43234.08848191169\n",
      "MAE: 27438.796667561204\n",
      "MAPE: 0.3390893468339197\n",
      "26/26 [==============================] - 0s 1ms/step\n",
      "Scores obtidos:\n",
      "RMSE: 72458.49565878542\n",
      "MAE: 41818.332888620505\n",
      "MAPE: 0.45657084584847435\n"
     ]
    }
   ],
   "source": [
    "SEED = 41\n",
    "set_seeds(SEED)\n",
    "\n",
    "x,y = load_data()\n",
    "\n",
    "x_train, x_test, y_train, y_test = train_test_split(x,y, test_size=0.15, shuffle=False)\n",
    "\n",
    "scaler = StandardScaler()\n",
    "x_train = scaler.fit_transform(x_train)\n",
    "x_test = scaler.transform(x_test)\n",
    "\n",
    "model = Sequential()\n",
    "\n",
    "model.add(Dense(units=64, activation=\"relu\")),\n",
    "model.add(Dense(units=32, activation=\"relu\")),\n",
    "\n",
    "model.add(Dropout(rate=0.10))\n",
    "model.add(Dense(units=1))\n",
    "model.compile(\n",
    "    optimizer=keras.optimizers.Adam(learning_rate=0.001),\n",
    "    loss=\"mse\",\n",
    "    metrics=[keras.metrics.RootMeanSquaredError(name=\"RMSE\")],\n",
    ")\n",
    "\n",
    "history=model.fit(x_train, y_train, batch_size=32, epochs=100, verbose=0)\n",
    "\n",
    "show_scores(score_regression_metrics(y_train, model.predict(x_train)))\n",
    "\n",
    "y_pred = model.predict(x_test)\n",
    "scores = score_regression_metrics(y_test, y_pred)\n",
    "show_scores(scores)"
   ]
  },
  {
   "cell_type": "code",
   "execution_count": 48,
   "id": "ca0260ad",
   "metadata": {},
   "outputs": [
    {
     "data": {
      "text/plain": [
       "[<matplotlib.lines.Line2D at 0x21a5c18f040>]"
      ]
     },
     "execution_count": 48,
     "metadata": {},
     "output_type": "execute_result"
    },
    {
     "data": {
      "image/png": "[encoded data removed]",
      "text/plain": [
       "<Figure size 640x480 with 1 Axes>"
      ]
     },
     "metadata": {},
     "output_type": "display_data"
    }
   ],
   "source": [
    "plt.plot(history.history[\"RMSE\"])"
   ]
  },
  {
   "cell_type": "code",
   "execution_count": 82,
   "id": "ea76fc6a-b41d-4d49-ad04-0ca81a7c5191",
   "metadata": {},
   "outputs": [
    {
     "name": "stdout",
     "output_type": "stream",
     "text": [
      "147/147 [==============================] - 1s 3ms/step\n",
      "Scores obtidos:\n",
      "RMSE: 40494.09732749083\n",
      "MAE: 22217.887951908102\n",
      "MAPE: 0.24526011933124153\n",
      "26/26 [==============================] - 0s 1ms/step\n",
      "Scores obtidos:\n",
      "RMSE: 85639.71661513812\n",
      "MAE: 51961.29415432285\n",
      "MAPE: 0.6319710833726611\n"
     ]
    }
   ],
   "source": [
    "SEED = 41\n",
    "set_seeds(SEED)\n",
    "\n",
    "x,y = load_data()\n",
    "\n",
    "x_train, x_test, y_train, y_test = train_test_split(x,y, test_size=0.15, shuffle=False)\n",
    "\n",
    "scaler = MinMaxScaler()\n",
    "x_train = scaler.fit_transform(x_train)\n",
    "x_test = scaler.transform(x_test)\n",
    "\n",
    "model = Sequential()\n",
    "\n",
    "model.add(Dense(units=64, activation=\"relu\")),\n",
    "model.add(Dense(units=32, activation=\"relu\")),\n",
    "\n",
    "model.add(Dropout(rate=0.10))\n",
    "model.add(Dense(units=1))\n",
    "model.compile(\n",
    "    optimizer=keras.optimizers.Adam(learning_rate=0.001),\n",
    "    loss=\"mse\",\n",
    "    metrics=[keras.metrics.RootMeanSquaredError(name=\"RMSE\")],\n",
    ")\n",
    "\n",
    "history=model.fit(x_train, y_train, batch_size=32, epochs=100, verbose=0)\n",
    "\n",
    "show_scores(score_regression_metrics(y_train, model.predict(x_train)))\n",
    "\n",
    "y_pred = model.predict(x_test)\n",
    "scores = score_regression_metrics(y_test, y_pred)\n",
    "show_scores(scores)"
   ]
  },
  {
   "cell_type": "code",
   "execution_count": 83,
   "id": "97c21ef7",
   "metadata": {},
   "outputs": [
    {
     "data": {
      "text/plain": [
       "[<matplotlib.lines.Line2D at 0x21a63acaf50>]"
      ]
     },
     "execution_count": 83,
     "metadata": {},
     "output_type": "execute_result"
    },
    {
     "data": {
      "image/png": "[encoded data removed]",
      "text/plain": [
       "<Figure size 640x480 with 1 Axes>"
      ]
     },
     "metadata": {},
     "output_type": "display_data"
    }
   ],
   "source": [
    "plt.plot(history.history[\"RMSE\"])\n"
   ]
  },
  {
   "cell_type": "markdown",
   "id": "a5094185-3665-4d31-8685-1a21312649c1",
   "metadata": {
    "tags": []
   },
   "source": [
    "## 3 camadas (128, 64, 32)"
   ]
  },
  {
   "cell_type": "markdown",
   "id": "81684790-6d3a-4177-83b2-4ca3d4e229aa",
   "metadata": {
    "tags": []
   },
   "source": [
    "### StandardScaler"
   ]
  },
  {
   "cell_type": "code",
   "execution_count": 84,
   "id": "2afe98ee-40a4-410b-a6df-c29139d6f505",
   "metadata": {},
   "outputs": [
    {
     "name": "stdout",
     "output_type": "stream",
     "text": [
      "147/147 [==============================] - 0s 1ms/step\n",
      "Scores obtidos:\n",
      "RMSE: 27777.314510258304\n",
      "MAE: 15499.373290036468\n",
      "MAPE: 0.1710180245682718\n",
      "26/26 [==============================] - 0s 1ms/step\n",
      "Scores obtidos:\n",
      "RMSE: 42505.92214955561\n",
      "MAE: 29389.273809467577\n",
      "MAPE: 0.4905411987726513\n"
     ]
    }
   ],
   "source": [
    "SEED = 41\n",
    "set_seeds(SEED)\n",
    "\n",
    "x,y = load_data()\n",
    "\n",
    "x_train, x_test, y_train, y_test = train_test_split(x,y, test_size=0.15, shuffle=False)\n",
    "\n",
    "scaler = StandardScaler()\n",
    "x_train = scaler.fit_transform(x_train)\n",
    "x_test = scaler.transform(x_test)\n",
    "\n",
    "model = Sequential()\n",
    "\n",
    "model.add(Dense(units=128, activation=\"relu\")),\n",
    "model.add(Dense(units=64, activation=\"relu\")),\n",
    "model.add(Dense(units=32, activation=\"relu\")),\n",
    "\n",
    "model.add(Dropout(rate=0.10))\n",
    "model.add(Dense(units=1))\n",
    "model.compile(\n",
    "    optimizer=keras.optimizers.Adam(learning_rate=0.001),\n",
    "    loss=\"mse\",\n",
    "    metrics=[keras.metrics.RootMeanSquaredError(name=\"RMSE\")],\n",
    ")\n",
    "\n",
    "history=model.fit(x_train, y_train, batch_size=32, epochs=100, verbose=0)\n",
    "\n",
    "show_scores(score_regression_metrics(y_train, model.predict(x_train)))\n",
    "\n",
    "y_pred = model.predict(x_test)\n",
    "scores = score_regression_metrics(y_test, y_pred)\n",
    "show_scores(scores)"
   ]
  },
  {
   "cell_type": "markdown",
   "id": "38b1173c-8181-4585-8ba6-d29062d7841e",
   "metadata": {
    "tags": []
   },
   "source": [
    "### MinMax Scaler"
   ]
  },
  {
   "cell_type": "code",
   "execution_count": 85,
   "id": "dafa0d93-9158-497e-a384-1037702bd9c6",
   "metadata": {
    "tags": []
   },
   "outputs": [
    {
     "name": "stdout",
     "output_type": "stream",
     "text": [
      "147/147 [==============================] - 0s 1ms/step\n",
      "Scores obtidos:\n",
      "RMSE: 33733.21700086493\n",
      "MAE: 18782.349826009984\n",
      "MAPE: 0.2081434682493984\n",
      "26/26 [==============================] - 0s 2ms/step\n",
      "Scores obtidos:\n",
      "RMSE: 68387.62999329923\n",
      "MAE: 38005.39286684269\n",
      "MAPE: 0.3908992873608126\n"
     ]
    }
   ],
   "source": [
    "SEED = 41\n",
    "set_seeds(SEED)\n",
    "\n",
    "x,y = load_data()\n",
    "\n",
    "x_train, x_test, y_train, y_test = train_test_split(x,y, test_size=0.15, shuffle=False)\n",
    "\n",
    "scaler = MinMaxScaler()\n",
    "x_train = scaler.fit_transform(x_train)\n",
    "x_test = scaler.transform(x_test)\n",
    "\n",
    "model = Sequential()\n",
    "\n",
    "model.add(Dense(units=128, activation=\"relu\")),\n",
    "model.add(Dense(units=64, activation=\"relu\")),\n",
    "model.add(Dense(units=32, activation=\"relu\")),\n",
    "\n",
    "model.add(Dropout(rate=0.10))\n",
    "model.add(Dense(units=1))\n",
    "model.compile(\n",
    "    optimizer=keras.optimizers.Adam(learning_rate=0.001),\n",
    "    loss=\"mse\",\n",
    "    metrics=[keras.metrics.RootMeanSquaredError(name=\"RMSE\")],\n",
    ")\n",
    "\n",
    "history=model.fit(x_train, y_train, batch_size=32, epochs=100, verbose=0)\n",
    "\n",
    "show_scores(score_regression_metrics(y_train, model.predict(x_train)))\n",
    "\n",
    "y_pred = model.predict(x_test)\n",
    "scores = score_regression_metrics(y_test, y_pred)\n",
    "show_scores(scores)"
   ]
  },
  {
   "cell_type": "markdown",
   "id": "f9a9bd99-a1b8-4b0b-8288-30b48b53945a",
   "metadata": {
    "tags": []
   },
   "source": [
    "## 3 camadas (256, 128, 64)"
   ]
  },
  {
   "cell_type": "markdown",
   "id": "7593bb9e-1ddc-4d93-a8fc-dee755c675ad",
   "metadata": {
    "tags": []
   },
   "source": [
    "### Standard Scaler"
   ]
  },
  {
   "cell_type": "code",
   "execution_count": 86,
   "id": "ae654ba3-ca6f-474f-81d8-a099c35ac557",
   "metadata": {},
   "outputs": [
    {
     "name": "stdout",
     "output_type": "stream",
     "text": [
      "147/147 [==============================] - 0s 2ms/step\n",
      "Scores obtidos:\n",
      "RMSE: 25416.804526208027\n",
      "MAE: 13560.797683412624\n",
      "MAPE: 0.1366149916929172\n",
      "26/26 [==============================] - 0s 2ms/step\n",
      "Scores obtidos:\n",
      "RMSE: 39428.41451740916\n",
      "MAE: 25624.154694821267\n",
      "MAPE: 0.4075806310859518\n"
     ]
    }
   ],
   "source": [
    "SEED = 41\n",
    "set_seeds(SEED)\n",
    "\n",
    "x,y = load_data()\n",
    "\n",
    "x_train, x_test, y_train, y_test = train_test_split(x,y, test_size=0.15, shuffle=False)\n",
    "\n",
    "scaler = StandardScaler()\n",
    "x_train = scaler.fit_transform(x_train)\n",
    "x_test = scaler.transform(x_test)\n",
    "\n",
    "model = Sequential()\n",
    "\n",
    "model.add(Dense(units=256, activation=\"relu\")),\n",
    "model.add(Dense(units=128, activation=\"relu\")),\n",
    "model.add(Dense(units=64, activation=\"relu\")),\n",
    "\n",
    "model.add(Dropout(rate=0.10))\n",
    "model.add(Dense(units=1))\n",
    "model.compile(\n",
    "    optimizer=keras.optimizers.Adam(learning_rate=0.001),\n",
    "    loss=\"mse\",\n",
    "    metrics=[keras.metrics.RootMeanSquaredError(name=\"RMSE\")],\n",
    ")\n",
    "\n",
    "history=model.fit(x_train, y_train, batch_size=32, epochs=100, verbose=0)\n",
    "\n",
    "show_scores(score_regression_metrics(y_train, model.predict(x_train)))\n",
    "\n",
    "y_pred = model.predict(x_test)\n",
    "scores = score_regression_metrics(y_test, y_pred)\n",
    "show_scores(scores)"
   ]
  },
  {
   "cell_type": "markdown",
   "id": "f23e224a-d05b-4753-99be-4926434fb63d",
   "metadata": {},
   "source": [
    "### MinMax Scaler"
   ]
  },
  {
   "cell_type": "markdown",
   "id": "a20978c5-6c96-4d0b-b9c4-4b6f59bde7f7",
   "metadata": {
    "tags": []
   },
   "source": [
    "#### 100 epochs"
   ]
  },
  {
   "cell_type": "code",
   "execution_count": 87,
   "id": "89bc23c3-c6b2-4e38-ba02-8f7800f04398",
   "metadata": {},
   "outputs": [
    {
     "name": "stdout",
     "output_type": "stream",
     "text": [
      "147/147 [==============================] - 0s 2ms/step\n",
      "Scores obtidos:\n",
      "RMSE: 28925.672281313695\n",
      "MAE: 16560.850810986653\n",
      "MAPE: 0.1749235098246903\n",
      "26/26 [==============================] - 0s 2ms/step\n",
      "Scores obtidos:\n",
      "RMSE: 54502.268477392354\n",
      "MAE: 33483.57239197589\n",
      "MAPE: 0.39636612583462916\n"
     ]
    }
   ],
   "source": [
    "SEED = 41\n",
    "set_seeds(SEED)\n",
    "\n",
    "x,y = load_data()\n",
    "\n",
    "x_train, x_test, y_train, y_test = train_test_split(x,y, test_size=0.15, shuffle=False)\n",
    "\n",
    "scaler = MinMaxScaler()\n",
    "x_train = scaler.fit_transform(x_train)\n",
    "x_test = scaler.transform(x_test)\n",
    "\n",
    "model = Sequential()\n",
    "\n",
    "model.add(Dense(units=256, activation=\"relu\")),\n",
    "model.add(Dense(units=128, activation=\"relu\")),\n",
    "model.add(Dense(units=64, activation=\"relu\")),\n",
    "\n",
    "model.add(Dropout(rate=0.10))\n",
    "model.add(Dense(units=1))\n",
    "model.compile(\n",
    "    optimizer=keras.optimizers.Adam(learning_rate=0.001),\n",
    "    loss=\"mse\",\n",
    "    metrics=[keras.metrics.RootMeanSquaredError(name=\"RMSE\")],\n",
    ")\n",
    "\n",
    "history=model.fit(x_train, y_train, batch_size=32, epochs=100, verbose=0)\n",
    "\n",
    "show_scores(score_regression_metrics(y_train, model.predict(x_train)))\n",
    "\n",
    "y_pred = model.predict(x_test)\n",
    "scores = score_regression_metrics(y_test, y_pred)\n",
    "show_scores(scores)"
   ]
  },
  {
   "cell_type": "markdown",
   "id": "5665b09d-91d3-43a5-89dc-53bb7a201d94",
   "metadata": {
    "tags": []
   },
   "source": [
    "#### 200 epochs"
   ]
  },
  {
   "cell_type": "code",
   "execution_count": 88,
   "id": "22cb9df6-0e0d-4d06-ae53-623c8eca2c6e",
   "metadata": {},
   "outputs": [
    {
     "name": "stdout",
     "output_type": "stream",
     "text": [
      "147/147 [==============================] - 0s 2ms/step\n",
      "Scores obtidos:\n",
      "RMSE: 25267.77452219119\n",
      "MAE: 13490.446583111916\n",
      "MAPE: 0.12359371408045046\n",
      "26/26 [==============================] - 0s 2ms/step\n",
      "Scores obtidos:\n",
      "RMSE: 36758.21401216493\n",
      "MAE: 23704.126089924048\n",
      "MAPE: 0.3115730916575525\n"
     ]
    }
   ],
   "source": [
    "SEED = 41\n",
    "set_seeds(SEED)\n",
    "\n",
    "x,y = load_data()\n",
    "\n",
    "x_train, x_test, y_train, y_test = train_test_split(x,y, test_size=0.15, shuffle=False)\n",
    "\n",
    "scaler = MinMaxScaler()\n",
    "x_train = scaler.fit_transform(x_train)\n",
    "x_test = scaler.transform(x_test)\n",
    "\n",
    "model = Sequential()\n",
    "\n",
    "model.add(Dense(units=256, activation=\"relu\")),\n",
    "model.add(Dense(units=128, activation=\"relu\")),\n",
    "model.add(Dense(units=64, activation=\"relu\")),\n",
    "\n",
    "model.add(Dropout(rate=0.10))\n",
    "model.add(Dense(units=1))\n",
    "model.compile(\n",
    "    optimizer=keras.optimizers.Adam(learning_rate=0.001),\n",
    "    loss=\"mse\",\n",
    "    metrics=[keras.metrics.RootMeanSquaredError(name=\"RMSE\")],\n",
    ")\n",
    "\n",
    "history=model.fit(x_train, y_train, batch_size=32, epochs=200, verbose=0)\n",
    "\n",
    "show_scores(score_regression_metrics(y_train, model.predict(x_train)))\n",
    "\n",
    "y_pred = model.predict(x_test)\n",
    "scores = score_regression_metrics(y_test, y_pred)\n",
    "show_scores(scores)"
   ]
  },
  {
   "cell_type": "markdown",
   "id": "a38ae749-150b-47a7-83cd-207b7200d84f",
   "metadata": {
    "tags": []
   },
   "source": [
    "#### 300 epochs"
   ]
  },
  {
   "cell_type": "code",
   "execution_count": 89,
   "id": "df3ff9ac-a496-48cf-b54d-d3d9c8c92c0c",
   "metadata": {},
   "outputs": [
    {
     "name": "stdout",
     "output_type": "stream",
     "text": [
      "147/147 [==============================] - 0s 2ms/step\n",
      "Scores obtidos:\n",
      "RMSE: 23475.437160835165\n",
      "MAE: 12551.137752898603\n",
      "MAPE: 0.12043715750807911\n",
      "26/26 [==============================] - 0s 2ms/step\n",
      "Scores obtidos:\n",
      "RMSE: 37347.650800844945\n",
      "MAE: 24986.247638301087\n",
      "MAPE: 0.36256679475926795\n"
     ]
    }
   ],
   "source": [
    "SEED = 41\n",
    "set_seeds(SEED)\n",
    "\n",
    "x,y = load_data()\n",
    "\n",
    "x_train, x_test, y_train, y_test = train_test_split(x,y, test_size=0.15, shuffle=False)\n",
    "\n",
    "scaler = MinMaxScaler()\n",
    "x_train = scaler.fit_transform(x_train)\n",
    "x_test = scaler.transform(x_test)\n",
    "\n",
    "model = Sequential()\n",
    "\n",
    "model.add(Dense(units=256, activation=\"relu\")),\n",
    "model.add(Dense(units=128, activation=\"relu\")),\n",
    "model.add(Dense(units=64, activation=\"relu\")),\n",
    "\n",
    "model.add(Dropout(rate=0.10))\n",
    "model.add(Dense(units=1))\n",
    "model.compile(\n",
    "    optimizer=keras.optimizers.Adam(learning_rate=0.001),\n",
    "    loss=\"mse\",\n",
    "    metrics=[keras.metrics.RootMeanSquaredError(name=\"RMSE\")],\n",
    ")\n",
    "\n",
    "history=model.fit(x_train, y_train, batch_size=32, epochs=300, verbose=0)\n",
    "\n",
    "show_scores(score_regression_metrics(y_train, model.predict(x_train)))\n",
    "\n",
    "y_pred = model.predict(x_test)\n",
    "scores = score_regression_metrics(y_test, y_pred)\n",
    "show_scores(scores)"
   ]
  },
  {
   "cell_type": "markdown",
   "id": "8646e72d-4204-4758-ae04-7cf7c71b487a",
   "metadata": {
    "tags": []
   },
   "source": [
    "#### 400 epochs"
   ]
  },
  {
   "cell_type": "code",
   "execution_count": 90,
   "id": "0daac846-0db0-4377-90e6-25198e86d487",
   "metadata": {},
   "outputs": [
    {
     "name": "stdout",
     "output_type": "stream",
     "text": [
      "147/147 [==============================] - 0s 1ms/step\n",
      "Scores obtidos:\n",
      "RMSE: 22421.84353153655\n",
      "MAE: 11553.54462784937\n",
      "MAPE: 0.10721543575876004\n",
      "26/26 [==============================] - 0s 2ms/step\n",
      "Scores obtidos:\n",
      "RMSE: 38286.57378706087\n",
      "MAE: 24549.264071002115\n",
      "MAPE: 0.35297471118043683\n"
     ]
    }
   ],
   "source": [
    "SEED = 41\n",
    "set_seeds(SEED)\n",
    "\n",
    "\n",
    "x,y = load_data()\n",
    "\n",
    "x_train, x_test, y_train, y_test = train_test_split(x,y, test_size=0.15, shuffle=False)\n",
    "\n",
    "scaler = MinMaxScaler()\n",
    "x_train = scaler.fit_transform(x_train)\n",
    "x_test = scaler.transform(x_test)\n",
    "\n",
    "model = Sequential()\n",
    "\n",
    "model.add(Dense(units=256, activation=\"relu\")),\n",
    "model.add(Dense(units=128, activation=\"relu\")),\n",
    "model.add(Dense(units=64, activation=\"relu\")),\n",
    "\n",
    "model.add(Dropout(rate=0.10))\n",
    "model.add(Dense(units=1))\n",
    "model.compile(\n",
    "    optimizer=keras.optimizers.Adam(learning_rate=0.001),\n",
    "    loss=\"mse\",\n",
    "    metrics=[keras.metrics.RootMeanSquaredError(name=\"RMSE\")],\n",
    ")\n",
    "\n",
    "history=model.fit(x_train, y_train, batch_size=32, epochs=400, verbose=0)\n",
    "\n",
    "show_scores(score_regression_metrics(y_train, model.predict(x_train)))\n",
    "\n",
    "y_pred = model.predict(x_test)\n",
    "scores = score_regression_metrics(y_test, y_pred)\n",
    "show_scores(scores)"
   ]
  },
  {
   "cell_type": "markdown",
   "id": "4f4e2a1d-72ce-4a35-a986-100b53b413c7",
   "metadata": {
    "tags": []
   },
   "source": [
    "## 4 camadas (256, 128, 64, 32)"
   ]
  },
  {
   "cell_type": "markdown",
   "id": "be729a2b-9981-4057-a323-cdf06397aa14",
   "metadata": {
    "tags": []
   },
   "source": [
    "### Standard Scaler"
   ]
  },
  {
   "cell_type": "markdown",
   "id": "5a808657-f29a-4cb2-896b-dbcaaf113ba2",
   "metadata": {
    "tags": []
   },
   "source": [
    "#### 100 epochs"
   ]
  },
  {
   "cell_type": "code",
   "execution_count": 91,
   "id": "9f7148e7-16bb-46a1-bf16-bc95b2c2c1da",
   "metadata": {},
   "outputs": [
    {
     "name": "stdout",
     "output_type": "stream",
     "text": [
      "147/147 [==============================] - 0s 2ms/step\n",
      "Scores obtidos:\n",
      "RMSE: 27659.6548137836\n",
      "MAE: 14307.427658092693\n",
      "MAPE: 0.12430383340462078\n",
      "26/26 [==============================] - 0s 2ms/step\n",
      "Scores obtidos:\n",
      "RMSE: 39152.281716784986\n",
      "MAE: 26131.654850693394\n",
      "MAPE: 0.43056381738423105\n"
     ]
    }
   ],
   "source": [
    "SEED = 41\n",
    "set_seeds(SEED)\n",
    "\n",
    "x,y = load_data()\n",
    "\n",
    "x_train, x_test, y_train, y_test = train_test_split(x,y, test_size=0.15, shuffle=False)\n",
    "\n",
    "scaler = StandardScaler()\n",
    "x_train = scaler.fit_transform(x_train)\n",
    "x_test = scaler.transform(x_test)\n",
    "\n",
    "model = Sequential()\n",
    "\n",
    "model.add(Dense(units=256, activation=\"relu\")),\n",
    "model.add(Dense(units=128, activation=\"relu\")),\n",
    "model.add(Dense(units=64, activation=\"relu\")),\n",
    "model.add(Dense(units=32, activation=\"relu\")),\n",
    "\n",
    "model.add(Dropout(rate=0.10))\n",
    "model.add(Dense(units=1))\n",
    "model.compile(\n",
    "    optimizer=keras.optimizers.Adam(learning_rate=0.001),\n",
    "    loss=\"mse\",\n",
    "    metrics=[keras.metrics.RootMeanSquaredError(name=\"RMSE\")],\n",
    ")\n",
    "\n",
    "history=model.fit(x_train, y_train, batch_size=32, epochs=100, verbose=0)\n",
    "\n",
    "show_scores(score_regression_metrics(y_train, model.predict(x_train)))\n",
    "\n",
    "y_pred = model.predict(x_test)\n",
    "scores = score_regression_metrics(y_test, y_pred)\n",
    "show_scores(scores)"
   ]
  },
  {
   "cell_type": "markdown",
   "id": "ce73f039-15d3-42d8-8f8d-0dbcf37a6051",
   "metadata": {},
   "source": [
    "### MinMax Scaler"
   ]
  },
  {
   "cell_type": "markdown",
   "id": "7674009d-9055-4421-b7d2-8fc0df661e4c",
   "metadata": {
    "tags": []
   },
   "source": [
    "#### 100 epochs"
   ]
  },
  {
   "cell_type": "code",
   "execution_count": 92,
   "id": "12f2339e-ea95-440a-8b7a-d8772c75fa58",
   "metadata": {},
   "outputs": [
    {
     "name": "stdout",
     "output_type": "stream",
     "text": [
      "147/147 [==============================] - 0s 2ms/step\n",
      "Scores obtidos:\n",
      "RMSE: 28898.996588938502\n",
      "MAE: 17160.251471848882\n",
      "MAPE: 0.1828036456184894\n",
      "26/26 [==============================] - 0s 2ms/step\n",
      "Scores obtidos:\n",
      "RMSE: 45864.59732691072\n",
      "MAE: 29472.23298632104\n",
      "MAPE: 0.36943942089955417\n"
     ]
    }
   ],
   "source": [
    "SEED = 41\n",
    "set_seeds(SEED)\n",
    "\n",
    "x,y = load_data()\n",
    "\n",
    "x_train, x_test, y_train, y_test = train_test_split(x,y, test_size=0.15, shuffle=False)\n",
    "\n",
    "scaler = MinMaxScaler()\n",
    "x_train = scaler.fit_transform(x_train)\n",
    "x_test = scaler.transform(x_test)\n",
    "\n",
    "model = Sequential()\n",
    "\n",
    "model.add(Dense(units=256, activation=\"relu\")),\n",
    "model.add(Dense(units=128, activation=\"relu\")),\n",
    "model.add(Dense(units=64, activation=\"relu\")),\n",
    "model.add(Dense(units=32, activation=\"relu\")),\n",
    "\n",
    "model.add(Dropout(rate=0.10))\n",
    "model.add(Dense(units=1))\n",
    "model.compile(\n",
    "    optimizer=keras.optimizers.Adam(learning_rate=0.001),\n",
    "    loss=\"mse\",\n",
    "    metrics=[keras.metrics.RootMeanSquaredError(name=\"RMSE\")],\n",
    ")\n",
    "\n",
    "history=model.fit(x_train, y_train, batch_size=32, epochs=100, verbose=0)\n",
    "\n",
    "show_scores(score_regression_metrics(y_train, model.predict(x_train)))\n",
    "\n",
    "y_pred = model.predict(x_test)\n",
    "scores = score_regression_metrics(y_test, y_pred)\n",
    "show_scores(scores)"
   ]
  },
  {
   "cell_type": "markdown",
   "id": "3c0b10c8-39bc-427b-9dcb-38affb006ccc",
   "metadata": {
    "tags": []
   },
   "source": [
    "#### 200 epochs"
   ]
  },
  {
   "cell_type": "code",
   "execution_count": null,
   "id": "f2acdc26-74a8-4df4-aa04-a0c90b775dec",
   "metadata": {},
   "outputs": [],
   "source": [
    "SEED = 41\n",
    "set_seeds(SEED)\n",
    "\n",
    "x,y = load_data()\n",
    "\n",
    "x_train, x_test, y_train, y_test = train_test_split(x,y, test_size=0.15, shuffle=False)\n",
    "\n",
    "scaler = MinMaxScaler()\n",
    "x_train = scaler.fit_transform(x_train)\n",
    "x_test = scaler.transform(x_test)\n",
    "\n",
    "model = Sequential()\n",
    "\n",
    "model.add(Dense(units=256, activation=\"relu\")),\n",
    "model.add(Dense(units=128, activation=\"relu\")),\n",
    "model.add(Dense(units=64, activation=\"relu\")),\n",
    "model.add(Dense(units=32, activation=\"relu\")),\n",
    "\n",
    "model.add(Dropout(rate=0.10))\n",
    "model.add(Dense(units=1))\n",
    "model.compile(\n",
    "    optimizer=keras.optimizers.Adam(learning_rate=0.001),\n",
    "    loss=\"mse\",\n",
    "    metrics=[keras.metrics.RootMeanSquaredError(name=\"RMSE\")],\n",
    ")\n",
    "\n",
    "history=model.fit(x_train, y_train, batch_size=32, epochs=200, verbose=0)\n",
    "\n",
    "show_scores(score_regression_metrics(y_train, model.predict(x_train)))\n",
    "\n",
    "y_pred = model.predict(x_test)\n",
    "scores = score_regression_metrics(y_test, y_pred)\n",
    "show_scores(scores)"
   ]
  },
  {
   "cell_type": "code",
   "execution_count": 61,
   "id": "06b3b57c-6eea-4ea7-84c5-7f991fef596d",
   "metadata": {},
   "outputs": [
    {
     "name": "stdout",
     "output_type": "stream",
     "text": [
      "147/147 [==============================] - 0s 2ms/step\n",
      "Scores obtidos:\n",
      "RMSE: 33301.071886129335\n",
      "MAE: 18846.180325774658\n",
      "MAPE: 0.16262981639021054\n",
      "26/26 [==============================] - 0s 2ms/step\n",
      "Scores obtidos:\n",
      "RMSE: 49983.70058392901\n",
      "MAE: 30160.8846534443\n",
      "MAPE: 0.29594385636094606\n"
     ]
    }
   ],
   "source": [
    "x,y = load_data()\n",
    "\n",
    "DROP=['pib_pc',  'selic', 'idh_e', 'idh_l', 'nfsp', 'preco_ton', 'estoque']\n",
    "x=x.drop(DROP, axis=1)\n",
    "\n",
    "x_train, x_test, y_train, y_test = train_test_split(x,y, test_size=0.15, shuffle=False)\n",
    "\n",
    "scaler = MinMaxScaler()\n",
    "x_train = scaler.fit_transform(x_train)\n",
    "x_test = scaler.transform(x_test)\n",
    "\n",
    "model = Sequential()\n",
    "\n",
    "model.add(Dense(units=256, activation=\"relu\")),\n",
    "model.add(Dense(units=128, activation=\"relu\")),\n",
    "model.add(Dense(units=64, activation=\"relu\")),\n",
    "model.add(Dense(units=32, activation=\"relu\")),\n",
    "\n",
    "model.add(Dropout(rate=0.10))\n",
    "model.add(Dense(units=1))\n",
    "model.compile(\n",
    "    optimizer=keras.optimizers.Adam(learning_rate=0.001),\n",
    "    loss=\"mse\",\n",
    "    metrics=[keras.metrics.RootMeanSquaredError(name=\"RMSE\")],\n",
    ")\n",
    "\n",
    "history=model.fit(x_train, y_train, batch_size=32, epochs=200, verbose=0)\n",
    "\n",
    "show_scores(score_regression_metrics(y_train, model.predict(x_train)))\n",
    "\n",
    "y_pred = model.predict(x_test)\n",
    "scores = score_regression_metrics(y_test, y_pred)\n",
    "show_scores(scores)"
   ]
  },
  {
   "cell_type": "markdown",
   "id": "45c84d77-f7be-4f98-8b85-37703790fba1",
   "metadata": {
    "tags": []
   },
   "source": [
    "#### 300 epochs"
   ]
  },
  {
   "cell_type": "code",
   "execution_count": null,
   "id": "a8a062e1-383b-48fd-8634-96d42620ff00",
   "metadata": {},
   "outputs": [],
   "source": [
    "SEED = 41\n",
    "set_seeds(SEED)\n",
    "\n",
    "x,y = load_data()\n",
    "\n",
    "x_train, x_test, y_train, y_test = train_test_split(x,y, test_size=0.15, shuffle=False)\n",
    "\n",
    "scaler = MinMaxScaler()\n",
    "x_train = scaler.fit_transform(x_train)\n",
    "x_test = scaler.transform(x_test)\n",
    "\n",
    "model = Sequential()\n",
    "\n",
    "model.add(Dense(units=256, activation=\"relu\")),\n",
    "model.add(Dense(units=128, activation=\"relu\")),\n",
    "model.add(Dense(units=64, activation=\"relu\")),\n",
    "model.add(Dense(units=32, activation=\"relu\")),\n",
    "\n",
    "model.add(Dropout(rate=0.10))\n",
    "model.add(Dense(units=1))\n",
    "model.compile(\n",
    "    optimizer=keras.optimizers.Adam(learning_rate=0.001),\n",
    "    loss=\"mse\",\n",
    "    metrics=[keras.metrics.RootMeanSquaredError(name=\"RMSE\")],\n",
    ")\n",
    "\n",
    "history=model.fit(x_train, y_train, batch_size=32, epochs=300, verbose=0)\n",
    "\n",
    "show_scores(score_regression_metrics(y_train, model.predict(x_train)))\n",
    "\n",
    "y_pred = model.predict(x_test)\n",
    "scores = score_regression_metrics(y_test, y_pred)\n",
    "show_scores(scores)"
   ]
  },
  {
   "cell_type": "code",
   "execution_count": null,
   "id": "d08c0ca6-e665-4f58-beda-212f81252cc0",
   "metadata": {},
   "outputs": [],
   "source": [
    "SEED = 41\n",
    "set_seeds(SEED)\n",
    "x,y = load_data()\n",
    "\n",
    "x_train, x_test, y_train, y_test = train_test_split(x,y, test_size=0.15, shuffle=False)\n",
    "\n",
    "scaler = MinMaxScaler()\n",
    "x_train = scaler.fit_transform(x_train)\n",
    "x_test = scaler.transform(x_test)\n",
    "\n",
    "model = Sequential()\n",
    "\n",
    "model.add(Dense(units=512, activation=\"relu\")),\n",
    "model.add(Dense(units=256, activation=\"relu\")),\n",
    "model.add(Dense(units=128, activation=\"relu\")),\n",
    "model.add(Dense(units=64, activation=\"relu\")),\n",
    "model.add(Dense(units=32, activation=\"relu\")),\n",
    "\n",
    "model.add(Dropout(rate=0.10))\n",
    "model.add(Dense(units=1))\n",
    "model.compile(\n",
    "    optimizer=keras.optimizers.Adam(learning_rate=0.001),\n",
    "    loss=\"mse\",\n",
    "    metrics=[keras.metrics.RootMeanSquaredError(name=\"RMSE\")],\n",
    ")\n",
    "\n",
    "history=model.fit(x_train, y_train, batch_size=32, epochs=100, verbose=0)\n",
    "\n",
    "show_scores(score_regression_metrics(y_train, model.predict(x_train)))\n",
    "\n",
    "y_pred = model.predict(x_test)\n",
    "scores = score_regression_metrics(y_test, y_pred)\n",
    "show_scores(scores)"
   ]
  },
  {
   "cell_type": "code",
   "execution_count": null,
   "id": "1799f52b-c752-4609-b1b5-d9f8028949e9",
   "metadata": {},
   "outputs": [],
   "source": [
    "SEED = 41\n",
    "set_seeds(SEED)\n",
    "\n",
    "x,y = load_data()\n",
    "\n",
    "x_train, x_test, y_train, y_test = train_test_split(x,y, test_size=0.15, shuffle=False)\n",
    "\n",
    "scaler = MinMaxScaler()\n",
    "x_train = scaler.fit_transform(x_train)\n",
    "x_test = scaler.transform(x_test)\n",
    "\n",
    "model = Sequential()\n",
    "\n",
    "model.add(Dense(units=512, activation=\"relu\")),\n",
    "model.add(Dense(units=256, activation=\"relu\")),\n",
    "model.add(Dense(units=128, activation=\"relu\")),\n",
    "model.add(Dense(units=64, activation=\"relu\")),\n",
    "model.add(Dense(units=32, activation=\"relu\")),\n",
    "\n",
    "model.add(Dropout(rate=0.10))\n",
    "model.add(Dense(units=1))\n",
    "model.compile(\n",
    "    optimizer=keras.optimizers.Adam(learning_rate=0.001),\n",
    "    loss=\"mse\",\n",
    "    metrics=[keras.metrics.RootMeanSquaredError(name=\"RMSE\")],\n",
    ")\n",
    "\n",
    "history=model.fit(x_train, y_train, batch_size=32, epochs=300, verbose=0)\n",
    "\n",
    "show_scores(score_regression_metrics(y_train, model.predict(x_train)))\n",
    "\n",
    "y_pred = model.predict(x_test)\n",
    "scores = score_regression_metrics(y_test, y_pred)\n",
    "show_scores(scores)"
   ]
  },
  {
   "cell_type": "code",
   "execution_count": 65,
   "id": "dcce389e-224d-4c39-b6e2-2a17e79ccdc7",
   "metadata": {},
   "outputs": [
    {
     "data": {
      "image/png": "[encoded data removed]",
      "text/plain": [
       "<Figure size 1500x500 with 2 Axes>"
      ]
     },
     "metadata": {},
     "output_type": "display_data"
    }
   ],
   "source": [
    "plt.figure(figsize=(15,5))\n",
    "\n",
    "plt.subplot(1,2,1)\n",
    "\n",
    "plt.plot(history.history[\"RMSE\"])\n",
    "plt.title(\"RMSE\")\n",
    "\n",
    "plt.subplot(1,2,2)\n",
    "\n",
    "plt.plot(history.history[\"loss\"])\n",
    "plt.title(\"Loss\")\n",
    "\n",
    "plt.show()"
   ]
  },
  {
   "cell_type": "code",
   "execution_count": null,
   "id": "cca8b00e-847a-4860-8cb3-f394554abb3b",
   "metadata": {
    "tags": []
   },
   "outputs": [],
   "source": [
    "SEED = 41\n",
    "set_seeds(SEED)\n",
    "\n",
    "x,y = load_data()\n",
    "\n",
    "x_train, x_test, y_train, y_test = train_test_split(x,y, test_size=0.15, shuffle=False)\n",
    "\n",
    "scaler = MinMaxScaler()\n",
    "x_train = scaler.fit_transform(x_train)\n",
    "x_test = scaler.transform(x_test)\n",
    "\n",
    "model = Sequential()\n",
    "\n",
    "model.add(Dense(units=64, activation=\"swish\")),\n",
    "model.add(Dense(units=32, activation=\"swish\")),\n",
    "model.add(Dense(units=16, activation=\"swish\")),\n",
    "\n",
    "model.add(Dropout(rate=0.10))\n",
    "model.add(Dense(units=1))\n",
    "model.compile(\n",
    "    optimizer=keras.optimizers.Adam(learning_rate=0.001),\n",
    "    loss=\"mse\",\n",
    "    metrics=[keras.metrics.RootMeanSquaredError(name=\"RMSE\")],\n",
    ")\n",
    "\n",
    "history=model.fit(x_train, y_train, batch_size=32, epochs=100, verbose=0)\n",
    "\n",
    "show_scores(score_regression_metrics(y_train, model.predict(x_train)))\n",
    "\n",
    "y_pred = model.predict(x_test)\n",
    "scores = score_regression_metrics(y_test, y_pred)\n",
    "show_scores(scores)"
   ]
  },
  {
   "cell_type": "markdown",
   "id": "5189fd6f-5713-4512-a470-4fa96ec3d37d",
   "metadata": {
    "tags": []
   },
   "source": [
    "### Swish"
   ]
  },
  {
   "cell_type": "code",
   "execution_count": null,
   "id": "4acca3a7-b2fa-4a5e-8ae5-7ecc541c12db",
   "metadata": {},
   "outputs": [],
   "source": [
    "SEED = 41\n",
    "set_seeds(SEED)\n",
    "\n",
    "x,y = load_data()\n",
    "\n",
    "x_train, x_test, y_train, y_test = train_test_split(x,y, test_size=0.15, shuffle=False)\n",
    "\n",
    "scaler = MinMaxScaler()\n",
    "x_train = scaler.fit_transform(x_train)\n",
    "x_test = scaler.transform(x_test)\n",
    "\n",
    "model = Sequential()\n",
    "\n",
    "model.add(Dense(units=64, activation=\"swish\")),\n",
    "model.add(Dense(units=64, activation=\"swish\")),\n",
    "model.add(Dense(units=64, activation=\"swish\")),\n",
    "\n",
    "model.add(Dropout(rate=0.10))\n",
    "model.add(Dense(units=1))\n",
    "model.compile(\n",
    "    optimizer=keras.optimizers.Adam(learning_rate=0.001),\n",
    "    loss=\"mse\",\n",
    "    metrics=[keras.metrics.RootMeanSquaredError(name=\"RMSE\")],\n",
    ")\n",
    "\n",
    "history=model.fit(x_train, y_train, batch_size=32, epochs=100, verbose=0)\n",
    "\n",
    "show_scores(score_regression_metrics(y_train, model.predict(x_train)))\n",
    "\n",
    "y_pred = model.predict(x_test)\n",
    "scores = score_regression_metrics(y_test, y_pred)\n",
    "show_scores(scores)"
   ]
  },
  {
   "cell_type": "code",
   "execution_count": null,
   "id": "518ec147-a945-4f93-861c-e81f1cc2bf04",
   "metadata": {},
   "outputs": [],
   "source": [
    "x,y = load_data()\n",
    "\n",
    "x_train, x_test, y_train, y_test = train_test_split(x,y, test_size=0.15, shuffle=False)\n",
    "\n",
    "scaler = MinMaxScaler()\n",
    "x_train = scaler.fit_transform(x_train)\n",
    "x_test = scaler.transform(x_test)\n",
    "\n",
    "model = Sequential()\n",
    "\n",
    "model.add(Dense(units=256, activation=\"relu\")),\n",
    "model.add(Dense(units=128, activation=\"swish\")),\n",
    "model.add(Dense(units=64, activation=\"relu\")),\n",
    "\n",
    "model.add(Dropout(rate=0.10))\n",
    "model.add(Dense(units=1))\n",
    "model.compile(\n",
    "    optimizer=keras.optimizers.Adam(learning_rate=0.001),\n",
    "    loss=\"mse\",\n",
    "    metrics=[keras.metrics.RootMeanSquaredError(name=\"RMSE\")],\n",
    ")\n",
    "\n",
    "history=model.fit(x_train, y_train, batch_size=32, epochs=100, verbose=0)\n",
    "\n",
    "show_scores(score_regression_metrics(y_train, model.predict(x_train)))\n",
    "\n",
    "y_pred = model.predict(x_test)\n",
    "scores = score_regression_metrics(y_test, y_pred)\n",
    "show_scores(scores)"
   ]
  },
  {
   "cell_type": "markdown",
   "id": "744f6b58-742b-4342-9c63-81be3f724f0b",
   "metadata": {},
   "source": [
    "# Gráficos"
   ]
  },
  {
   "cell_type": "code",
   "execution_count": null,
   "id": "dc0bc0c4-3d72-415d-8f37-b2e9238263b8",
   "metadata": {},
   "outputs": [],
   "source": [
    "set_seeds(41)\n",
    "\n",
    "x,y = load_data()\n",
    "\n",
    "x_train, x_test, y_train, y_test = train_test_split(x,y, test_size=0.15, shuffle=False)\n",
    "\n",
    "scaler = MinMaxScaler()\n",
    "x_train = scaler.fit_transform(x_train)\n",
    "x_test = scaler.transform(x_test)\n",
    "\n",
    "model = Sequential()\n",
    "\n",
    "model.add(Dense(units=256, activation=\"relu\")),\n",
    "model.add(Dense(units=128, activation=\"relu\")),\n",
    "model.add(Dense(units=64, activation=\"relu\")),\n",
    "model.add(Dense(units=32, activation=\"relu\")),\n",
    "\n",
    "model.add(Dropout(rate=0.10))\n",
    "model.add(Dense(units=1))\n",
    "model.compile(\n",
    "    optimizer=keras.optimizers.Adam(learning_rate=0.001),\n",
    "    loss=\"mse\",\n",
    "    metrics=[keras.metrics.RootMeanSquaredError(name=\"RMSE\")],\n",
    ")\n",
    "\n",
    "history=model.fit(x_train, y_train, batch_size=32, epochs=200, verbose=0)\n",
    "\n",
    "show_scores(score_regression_metrics(y_train, model.predict(x_train)))\n",
    "\n",
    "y_pred = model.predict(x_test)\n",
    "scores = score_regression_metrics(y_test, y_pred)\n",
    "show_scores(scores)"
   ]
  },
  {
   "cell_type": "code",
   "execution_count": 70,
   "id": "ab4e53d7-b620-4310-a781-821b459d9526",
   "metadata": {},
   "outputs": [],
   "source": [
    "pred = get_pred(y_test, y_pred)"
   ]
  },
  {
   "cell_type": "code",
   "execution_count": null,
   "id": "33b92006-088d-4d95-8636-41237116c98d",
   "metadata": {},
   "outputs": [],
   "source": [
    "show_delta(np.array(y_test), y_pred.flatten())"
   ]
  },
  {
   "cell_type": "code",
   "execution_count": null,
   "id": "4573796d-15d6-4eb2-bb82-a4c7ae0213fa",
   "metadata": {},
   "outputs": [],
   "source": [
    "#Best: -53222.032266 using {'model__activation': 'relu', 'model__batch_size': 32, 'model__dropout_rate': 0.1, 'model__epochs': 200, 'model__learning_rate': 0.001, 'model__n_layers': 3, 'model__n_units': 64}\n"
   ]
  },
  {
   "cell_type": "code",
   "execution_count": null,
   "id": "8d7b6681-d079-4b61-983b-fce332fa2d1d",
   "metadata": {},
   "outputs": [],
   "source": [
    "SEED = 41\n",
    "set_seeds(SEED)\n",
    "\n",
    "x,y = load_data()\n",
    "\n",
    "x_train, x_test, y_train, y_test = train_test_split(x,y, test_size=0.15, shuffle=False)\n",
    "\n",
    "scaler = MinMaxScaler()\n",
    "x_train = scaler.fit_transform(x_train)\n",
    "x_test = scaler.transform(x_test)\n",
    "\n",
    "model = Sequential()\n",
    "\n",
    "model.add(Dense(units=64, activation=\"relu\")),\n",
    "model.add(Dense(units=64, activation=\"relu\")),\n",
    "model.add(Dense(units=64, activation=\"relu\")),\n",
    "\n",
    "model.add(Dropout(rate=0.10))\n",
    "model.add(Dense(units=1))\n",
    "model.compile(\n",
    "    optimizer=keras.optimizers.Adam(learning_rate=0.001),\n",
    "    loss=\"mse\",\n",
    "    metrics=[keras.metrics.RootMeanSquaredError(name=\"RMSE\")],\n",
    ")\n",
    "\n",
    "history=model.fit(x_train, y_train, batch_size=32, epochs=200, verbose=0)\n",
    "\n",
    "show_scores(score_regression_metrics(y_train, model.predict(x_train)))\n",
    "\n",
    "y_pred = model.predict(x_test)\n",
    "scores = score_regression_metrics(y_test, y_pred)\n",
    "show_scores(scores)"
   ]
  },
  {
   "cell_type": "code",
   "execution_count": null,
   "id": "076c23d6-65ac-4df3-b7c5-0da515fe3aa4",
   "metadata": {},
   "outputs": [],
   "source": [
    "pred = get_pred(y_test, y_pred)"
   ]
  },
  {
   "cell_type": "code",
   "execution_count": null,
   "id": "f1b72f0d-92d4-4226-939f-bf9f66aeeb31",
   "metadata": {},
   "outputs": [],
   "source": [
    "def region_graphs (pred, reg):\n",
    "    \n",
    "    plt.figure(figsize=(14,6))\n",
    "        \n",
    "    plt.title(f\"Visão regional: {reg}\")\n",
    "    \n",
    "    pred=pred[pred['regiao'] == reg]\n",
    "    \n",
    "    plt.ylabel=\"Consumo\"\n",
    "    sns.scatterplot(pred, x=pred.index, y='y_test', hue=\"estados\")\n",
    "    sns.lineplot(pred, x=pred.index, y='y_pred', hue=\"estados\")\n",
    "    \n",
    "#     for state in reg:\n",
    "        \n",
    "#         sns.scatterplot(pred[pred['estados'] == state]['y_test'], label=f\"Dado real de {state}\")\n",
    "#         sns.lineplot(pred[pred['estados'] == state]['y_pred'], label=f\"Previsão e {state}\")\n",
    "        \n",
    "    plt.show()"
   ]
  },
  {
   "cell_type": "code",
   "execution_count": null,
   "id": "9ee7c758-4f89-4171-ba83-a369e3d07985",
   "metadata": {},
   "outputs": [],
   "source": [
    "region_graphs(pred, 'SUDESTE')"
   ]
  },
  {
   "cell_type": "code",
   "execution_count": null,
   "id": "ac0ea0f5-6dc1-4c4c-b7ed-1583d137596d",
   "metadata": {},
   "outputs": [],
   "source": [
    "region_graphs(pred, 'NORDESTE')"
   ]
  },
  {
   "cell_type": "code",
   "execution_count": null,
   "id": "6d1c0a93-048b-4dbf-8fdd-cfd4876b9f82",
   "metadata": {},
   "outputs": [],
   "source": [
    "def region_metrics (pred):\n",
    "\n",
    "    for reg in pred['regiao'].unique():\n",
    "        \n",
    "        print (f\"Metricas de {reg}:\")\n",
    "        print (f\"RMSE: {mean_squared_error(pred[pred['regiao'] == reg]['y_test'], pred[pred['regiao'] == reg]['y_pred'], squared=False)}\")\n",
    "        print (f\"MAPE: {mean_absolute_percentage_error(pred[pred['regiao'] == reg]['y_test'], pred[pred['regiao'] == reg]['y_pred'])}\")\n",
    "        print (f\"MAE: {mean_absolute_error(pred[pred['regiao'] == reg]['y_test'], pred[pred['regiao'] == reg]['y_pred'])}\")\n",
    "        print (\"-------------------------------\\n\")"
   ]
  },
  {
   "cell_type": "code",
   "execution_count": null,
   "id": "6d4edaf9-8696-461a-aaeb-b980c82af5ba",
   "metadata": {},
   "outputs": [],
   "source": [
    "region_metrics(pred)"
   ]
  },
  {
   "cell_type": "code",
   "execution_count": null,
   "id": "17d846d5-4238-4e90-928e-620f6613a788",
   "metadata": {},
   "outputs": [],
   "source": []
  }
 ],
 "metadata": {
  "kernelspec": {
   "display_name": "Python 3 (ipykernel)",
   "language": "python",
   "name": "python3"
  },
  "language_info": {
   "codemirror_mode": {
    "name": "ipython",
    "version": 3
   },
   "file_extension": ".py",
   "mimetype": "text/x-python",
   "name": "python",
   "nbconvert_exporter": "python",
   "pygments_lexer": "ipython3",
   "version": "3.10.5"
  }
 },
 "nbformat": 4,
 "nbformat_minor": 5
}
