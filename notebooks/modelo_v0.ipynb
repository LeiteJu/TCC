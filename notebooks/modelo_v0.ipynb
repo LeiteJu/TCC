{
 "cells": [
  {
   "cell_type": "markdown",
   "metadata": {},
   "source": [
    "# Modelo para prever a demanda por cimento\n",
    "\n",
    "Versão refatorada\n",
    "\n",
    "Nesse notebook carregamos os dados de `TCC/dados/anualizados/csv/` e implementamos uma rede feed forward simples para prever a demanda por cimento de acordo com o estado\n",
    "\n",
    "Definimos um range de tempo  de janeiro do ano 1991 até dezembro de 2019, adotamos a variável `anomes` para indicar tempo: `199101 <= anomes <= 201912`\n",
    "\n",
    "Supomos, sempre, que os estados estão ordenado sem ordem alfabética nas tabelas. Além disso, supomos que a primeira coluna da tabela indica a medição janeiro de 1991 (anomes = 199101) e a última, dezembro de 2019 (anomes = 201912), com frequência mensal."
   ]
  },
  {
   "cell_type": "code",
   "execution_count": 1,
   "metadata": {},
   "outputs": [],
   "source": [
    "# devolve um array com os valores de ano e mes considerados no modelo\n",
    "# de janeiro de ANO_INICIAL=1991 ate dezembro de ANO_FINAL=2019\n",
    "def get_anomes ():\n",
    "\n",
    "    anos = [str(i) for i in range(ANO_INICIAL, ANO_FINAL+1)]\n",
    "\n",
    "    # colocamos os 0 a esquerda se precisar\n",
    "    meses = [\"{:02d}\".format(i) for i in range(1,13)] \n",
    "\n",
    "    anomes = []\n",
    "\n",
    "    for ano in anos:\n",
    "        anomes += [str(ano) + i for i in meses]\n",
    "\n",
    "    return anomes"
   ]
  },
  {
   "cell_type": "code",
   "execution_count": 2,
   "metadata": {},
   "outputs": [],
   "source": [
    "# funcao que pega um pandas dataframe e coloca os valor \n",
    "# no array que sera usado como entrada para o  modelo\n",
    "def df_to_list(indicador, array : list):\n",
    "\n",
    "    anomes = get_anomes()\n",
    "  \n",
    "    index = 0 \n",
    "\n",
    "    for coluna in anomes:\n",
    "\n",
    "        for linha in indicador[coluna]:\n",
    "\n",
    "            array[index] = array[index] + [linha]\n",
    "            index += 1\n",
    "    \n",
    "    return array"
   ]
  },
  {
   "cell_type": "code",
   "execution_count": 3,
   "metadata": {},
   "outputs": [],
   "source": [
    "# Carrega os dados de consumo de cimento \n",
    "# do PATH considerando a VAR de estabilidade\n",
    "# devolve uma lista com a tendencia de demanda\n",
    "def get_consumo (path : str, var : float) -> list :\n",
    "\n",
    "    import pandas as pd\n",
    "\n",
    "    anomes = get_anomes()\n",
    "\n",
    "    consumo = pd.read_csv(path + \"consumo.csv\")\n",
    "\n",
    "    # para pegarmos a tendencia de consumo do primeiro mes\n",
    "    #  consultamos o mes anterior\n",
    "    anomes = [\"199012\"] + anomes\n",
    "\n",
    "    tendencia = []\n",
    "\n",
    "    # anomes de 19901 ate 201912\n",
    "    for index  in range(1,len(anomes)):\n",
    "\n",
    "        # estados...\n",
    "        for estado in consumo.index:\n",
    "\n",
    "            tend = 1 - (consumo[anomes[index]][estado]/consumo[anomes[index - 1]][estado])\n",
    "\n",
    "            # queda\n",
    "            if tend < - var:\n",
    "                tendencia += [[1., 0., 0.]]\n",
    "\n",
    "            # estabilidade\n",
    "            elif tend <= var:\n",
    "                tendencia += [[0., 1., 0.]]\n",
    "\n",
    "            # aumento\n",
    "            else:\n",
    "                tendencia += [[0., 0., 1.]]\n",
    "\n",
    "    return tendencia"
   ]
  },
  {
   "cell_type": "code",
   "execution_count": 4,
   "metadata": {},
   "outputs": [],
   "source": [
    "# Lê os arquivos csv presentes em 'indicadores' que se encontram no path\n",
    "# definido na variavel path e carrega no df de entrada, que, na verdade,\n",
    "# é uma lista\n",
    "def get_df (path : str, indicadores : list) -> list:\n",
    "\n",
    "    import pandas as pd\n",
    "\n",
    "    df = [[i] for i in range(1,28)] * len(get_anomes())\n",
    "\n",
    "    for ind in indicadores:\n",
    "\n",
    "      print(f\"Carregando o indicador: {ind[:-3]}\")\n",
    "      df = df_to_list(pd.read_csv(path + ind), df)\n",
    "\n",
    "    return df"
   ]
  },
  {
   "cell_type": "code",
   "execution_count": 35,
   "metadata": {},
   "outputs": [],
   "source": [
    "### Constantes que definimos\n",
    "ANO_INICIAL = 1991\n",
    "ANO_FINAL = 2019\n",
    "PATH = \"../dados/anualizados/csv/\"\n",
    "VAR = 0.01\n",
    "INDICADORES = [\n",
    "    \"consumo.csv\",\n",
    "    \"desemprego.csv\",\n",
    "    \"estoque.csv\",\n",
    "    \"idh_educacao.csv\",\n",
    "    \"idh_renda.csv\",\n",
    "    \"idh_saude.csv\",\n",
    "    \"IGP.csv\",\n",
    "    \"INCC.csv\",\n",
    "    \"IPCA.csv\",\n",
    "    \"NFSP.csv\",\n",
    "    \"pib_construcao.csv\",\n",
    "    \"pib_per_capita.csv\",\n",
    "    \"pib_precos_constantes.csv\",\n",
    "    \"pib_precos_mercado_corrente.csv\",\n",
    "    \"populacao.csv\",\n",
    "    \"SELIC.csv\"]\n",
    "\n",
    "QUEDA=-1\n",
    "ESTAB=0\n",
    "AUMENTO=1"
   ]
  },
  {
   "cell_type": "code",
   "execution_count": 6,
   "metadata": {},
   "outputs": [],
   "source": [
    "# Dados do consumo \n",
    "# from load_data import get_consumo \n",
    "tendencia = get_consumo(PATH, VAR)"
   ]
  },
  {
   "cell_type": "code",
   "execution_count": 19,
   "metadata": {},
   "outputs": [
    {
     "name": "stdout",
     "output_type": "stream",
     "text": [
      "Carregando o indicador: consumo.\n",
      "Carregando o indicador: desemprego.\n",
      "Carregando o indicador: estoque.\n",
      "Carregando o indicador: idh_educacao.\n",
      "Carregando o indicador: idh_renda.\n",
      "Carregando o indicador: idh_saude.\n",
      "Carregando o indicador: IGP.\n",
      "Carregando o indicador: INCC.\n",
      "Carregando o indicador: IPCA.\n",
      "Carregando o indicador: NFSP.\n",
      "Carregando o indicador: pib_construcao.\n",
      "Carregando o indicador: pib_per_capita.\n",
      "Carregando o indicador: pib_precos_constantes.\n",
      "Carregando o indicador: pib_precos_mercado_corrente.\n",
      "Carregando o indicador: populacao.\n",
      "Carregando o indicador: SELIC.\n"
     ]
    }
   ],
   "source": [
    "# Dados de entrada \n",
    "# from load_data import get_df \n",
    "df = get_df(PATH, INDICADORES)"
   ]
  },
  {
   "cell_type": "markdown",
   "metadata": {},
   "source": [
    "## Treinamento do modelo\n",
    "\n",
    "Vamos treinar uma rede neural utilizando a biblioteca TensorFlow\n",
    "\n",
    "Dividimos os dados em:\n",
    "- 70%: treino\n",
    "- 30%: teste"
   ]
  },
  {
   "cell_type": "code",
   "execution_count": 21,
   "metadata": {},
   "outputs": [],
   "source": [
    "# Importando as libs\n",
    "\n",
    "from sklearn.model_selection import train_test_split\n",
    "import tensorflow as tf\n",
    "from tensorflow import keras\n",
    "from tensorflow.keras.layers import Dense\n",
    "from tensorflow.keras.models import Sequential"
   ]
  },
  {
   "cell_type": "code",
   "execution_count": 78,
   "metadata": {},
   "outputs": [],
   "source": [
    "# separando conjuntos de treino e teste (70% e 30%)\n",
    "X_train, X_test, y_train, y_test = train_test_split(df, tendencia,test_size=0.3)"
   ]
  },
  {
   "cell_type": "code",
   "execution_count": 79,
   "metadata": {},
   "outputs": [],
   "source": [
    "# vamos definir o modelo\n",
    "# Sequential\n",
    "model = keras.Sequential()\n",
    "model.add(Dense(17, input_shape=(17,), activation=\"softmax\"))\n",
    "model.add(Dense(3, activation=\"softmax\"))"
   ]
  },
  {
   "cell_type": "code",
   "execution_count": 80,
   "metadata": {},
   "outputs": [],
   "source": [
    "model.compile(optimizer='Adam',\n",
    "              loss='categorical_crossentropy',\n",
    "              metrics=['categorical_accuracy'])"
   ]
  },
  {
   "cell_type": "code",
   "execution_count": 81,
   "metadata": {},
   "outputs": [
    {
     "name": "stdout",
     "output_type": "stream",
     "text": [
      "Epoch 1/8\n",
      "206/206 [==============================] - 1s 1ms/step - loss: 1.0519 - categorical_accuracy: 0.5025\n",
      "Epoch 2/8\n",
      "206/206 [==============================] - 0s 1ms/step - loss: 1.0352 - categorical_accuracy: 0.5025\n",
      "Epoch 3/8\n",
      "206/206 [==============================] - 0s 1ms/step - loss: 1.0334 - categorical_accuracy: 0.5025\n",
      "Epoch 4/8\n",
      "206/206 [==============================] - 0s 1ms/step - loss: 1.0329 - categorical_accuracy: 0.5025\n",
      "Epoch 5/8\n",
      "206/206 [==============================] - 0s 1ms/step - loss: 1.0325 - categorical_accuracy: 0.5025\n",
      "Epoch 6/8\n",
      "206/206 [==============================] - 0s 1ms/step - loss: 1.0323 - categorical_accuracy: 0.5025\n",
      "Epoch 7/8\n",
      "206/206 [==============================] - 0s 1ms/step - loss: 1.0321 - categorical_accuracy: 0.5025\n",
      "Epoch 8/8\n",
      "206/206 [==============================] - 0s 1ms/step - loss: 1.0318 - categorical_accuracy: 0.5025\n"
     ]
    },
    {
     "data": {
      "text/plain": [
       "<keras.callbacks.History at 0x2248432a380>"
      ]
     },
     "execution_count": 81,
     "metadata": {},
     "output_type": "execute_result"
    }
   ],
   "source": [
    "model.fit(X_train, y_train, epochs=8) "
   ]
  },
  {
   "cell_type": "code",
   "execution_count": 82,
   "metadata": {},
   "outputs": [
    {
     "name": "stdout",
     "output_type": "stream",
     "text": [
      "89/89 - 0s - loss: 1.0376 - categorical_accuracy: 0.4956 - 226ms/epoch - 3ms/step\n"
     ]
    }
   ],
   "source": [
    "# Avaliacao\n",
    "test_loss, test_acc = model.evaluate(X_test,  y_test, verbose=2)"
   ]
  },
  {
   "cell_type": "code",
   "execution_count": 83,
   "metadata": {},
   "outputs": [
    {
     "name": "stdout",
     "output_type": "stream",
     "text": [
      "89/89 [==============================] - 0s 958us/step\n"
     ]
    }
   ],
   "source": [
    "# previsao\n",
    "predictions = model.predict(X_test)"
   ]
  },
  {
   "cell_type": "code",
   "execution_count": 84,
   "metadata": {},
   "outputs": [],
   "source": [
    "# transforma dado de [0.85, 0.10,0.05]\n",
    "# em [-1]\n",
    "def processa_tendencia (dado):\n",
    "\n",
    "  lis = []\n",
    "\n",
    "  for data in dado:\n",
    "\n",
    "    res = data.index(max(data))\n",
    "    # Queda\n",
    "    if res == 0:\n",
    "      lis += [QUEDA]\n",
    "    # Estabilidade\n",
    "    elif res == 1:\n",
    "      lis += [ESTAB]\n",
    "    # Aumento\n",
    "    else:\n",
    "      lis += [AUMENTO]\n",
    "\n",
    "  return lis"
   ]
  },
  {
   "cell_type": "code",
   "execution_count": 85,
   "metadata": {},
   "outputs": [],
   "source": [
    "p = [list(i) for i in predictions]\n",
    "\n",
    "tend_pred = processa_tendencia(p)\n",
    "tend_real = processa_tendencia(y_test)"
   ]
  },
  {
   "cell_type": "code",
   "execution_count": 86,
   "metadata": {},
   "outputs": [],
   "source": [
    "# calcula os acertos do modelo por categoria\n",
    "def get_accuracy (pred, real):\n",
    "\n",
    "    acertos = 0\n",
    "    erros = 0\n",
    "    estab = 0\n",
    "    queda = 0\n",
    "    aumento = 0\n",
    "    acertos_queda = 0\n",
    "    acertos_estab = 0\n",
    "    acertos_aumento = 0\n",
    "\n",
    "    for i in range(len(pred)):\n",
    "\n",
    "        if real[i] == QUEDA:\n",
    "\n",
    "            queda += 1\n",
    "            \n",
    "            if pred[i] == QUEDA:\n",
    "            \n",
    "                acertos += 1\n",
    "                acertos_queda += 1\n",
    "            \n",
    "            else: \n",
    "\n",
    "                erros += 1 \n",
    "\n",
    "        elif real[i] == ESTAB:\n",
    "            \n",
    "            estab += 1\n",
    "            \n",
    "            if pred[i] == ESTAB:\n",
    "            \n",
    "                acertos += 1\n",
    "                acertos_estab += 1\n",
    "\n",
    "            else: \n",
    "\n",
    "                erros += 1 \n",
    "\n",
    "        else:\n",
    "        \n",
    "            aumento += 1\n",
    "            \n",
    "            if pred[i] == AUMENTO:\n",
    "            \n",
    "                acertos += 1\n",
    "                acertos_aumento += 1\n",
    "\n",
    "            else: \n",
    "\n",
    "                erros += 1  \n",
    "\n",
    "    print(\"Acuracia geral obtida: \")\n",
    "    print(f\"Acertos: {acertos} -> {100*acertos/len(pred):.2f}%\")\n",
    "    print(f\"Erros: {erros} -> {100*erros/len(pred):.2f}%\")\n",
    "    print(\"=============================================\")\n",
    "\n",
    "    print(\"Analisando as quedas:\")\n",
    "    print(f\"Numero de quedas: {queda} -> {100*queda/len(pred):.2f}%\")\n",
    "    print(f\"Acertos relacao ao total de quedas: {acertos_queda} -> {100*acertos_queda/queda:.2f}%\")\n",
    "    print(\"=============================================\")\n",
    "\n",
    "    print(\"Analisando as estabilidades:\")\n",
    "    print(f\"Numero de estabilidades: {estab} -> {100*estab/len(pred):.2f}%\")\n",
    "    print(f\"Acertos relacao ao total de estabilidades: {acertos_estab} -> {100*acertos_estab/estab:.2f}%\")\n",
    "    print(\"=============================================\")\n",
    "\n",
    "    print(\"Analisando os  aumentos:\")\n",
    "    print(f\"Numero de aumentos: {aumento} -> {100*aumento/len(pred):.2f}%\")\n",
    "    print(f\"Acertos relacao ao total de aumentos: {acertos_aumento} -> {100*acertos_aumento/aumento:.2f}%\")\n",
    "    print(\"=============================================\")\n"
   ]
  },
  {
   "cell_type": "code",
   "execution_count": 87,
   "metadata": {},
   "outputs": [
    {
     "name": "stdout",
     "output_type": "stream",
     "text": [
      "Acuracia geral obtida: \n",
      "Acertos: 1397 -> 49.56%\n",
      "Erros: 1422 -> 50.44%\n",
      "=============================================\n",
      "Analisando as quedas:\n",
      "Numero de quedas: 804 -> 28.52%\n",
      "Acertos relacao ao total de quedas: 127 -> 15.80%\n",
      "=============================================\n",
      "Analisando as estabilidades:\n",
      "Numero de estabilidades: 1371 -> 48.63%\n",
      "Acertos relacao ao total de estabilidades: 1258 -> 91.76%\n",
      "=============================================\n",
      "Analisando os  aumentos:\n",
      "Numero de aumentos: 644 -> 22.84%\n",
      "Acertos relacao ao total de aumentos: 12 -> 1.86%\n",
      "=============================================\n"
     ]
    }
   ],
   "source": [
    "get_accuracy(tend_pred, tend_real)"
   ]
  },
  {
   "cell_type": "code",
   "execution_count": 41,
   "metadata": {},
   "outputs": [
    {
     "name": "stdout",
     "output_type": "stream",
     "text": [
      "Quedas: 2709 -> 28.83%\n",
      "Estab: 4589 -> 48.84%\n",
      "Aumento: 2098 -> 22.33%\n"
     ]
    }
   ],
   "source": [
    "data = processa_tendencia(tendencia)\n",
    "\n",
    "queda = 0\n",
    "estab = 0\n",
    "aumento = 0\n",
    "\n",
    "for i in data:\n",
    "\n",
    "    if i == QUEDA:\n",
    "        queda += 1\n",
    "\n",
    "    elif i == ESTAB:\n",
    "        estab += 1\n",
    "    else:\n",
    "        aumento += 1\n",
    "\n",
    "print (f\"Quedas: {queda} -> {100*queda/(len(data)):.2f}%\")\n",
    "print (f\"Estab: {estab} -> {100*estab/(len(data)):.2f}%\")\n",
    "print (f\"Aumento: {aumento} -> {100*aumento/(len(data)):.2f}%\")"
   ]
  },
  {
   "cell_type": "code",
   "execution_count": null,
   "metadata": {},
   "outputs": [],
   "source": []
  }
 ],
 "metadata": {
  "kernelspec": {
   "display_name": "Python 3.10.5 64-bit",
   "language": "python",
   "name": "python3"
  },
  "language_info": {
   "codemirror_mode": {
    "name": "ipython",
    "version": 3
   },
   "file_extension": ".py",
   "mimetype": "text/x-python",
   "name": "python",
   "nbconvert_exporter": "python",
   "pygments_lexer": "ipython3",
   "version": "3.10.5"
  },
  "orig_nbformat": 4,
  "vscode": {
   "interpreter": {
    "hash": "e913b7897ac30ba1cf0615ffc95e0dcac655edcf15ece0252fa093eec079069f"
   }
  }
 },
 "nbformat": 4,
 "nbformat_minor": 2
}
