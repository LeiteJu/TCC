{
 "cells": [
  {
   "cell_type": "markdown",
   "id": "8028965b-2bc6-4d50-8b0c-91522e33fbb1",
   "metadata": {},
   "source": [
    "# Redes MLP"
   ]
  },
  {
   "cell_type": "code",
   "execution_count": 1,
   "id": "f2f23ada-6aa8-4034-a7d1-c4b3bd9226f8",
   "metadata": {},
   "outputs": [],
   "source": [
    "import pandas as pd\n",
    "import numpy as np\n",
    "import matplotlib.pyplot as plt\n",
    "import seaborn as sns\n",
    "import os\n",
    "import random\n",
    "from scipy.stats import pearsonr\n",
    "from collections import Counter\n",
    "\n",
    "from tensorflow import keras\n",
    "from tensorflow.keras.layers import Dense, Dropout, LSTM, Conv1D, MaxPooling1D, Flatten\n",
    "from tensorflow.keras.models import Sequential\n",
    "from tensorflow.random import set_seed\n",
    "\n",
    "sns.set_palette(\"Paired\")\n",
    "\n",
    "from sklearn.model_selection import train_test_split\n",
    "\n",
    "from sklearn.linear_model import LinearRegression\n",
    "from sklearn.preprocessing import StandardScaler\n",
    "from sklearn.preprocessing import MinMaxScaler, PowerTransformer\n",
    "\n",
    "from sklearn.metrics import mean_squared_error\n",
    "from sklearn.metrics import mean_absolute_error\n",
    "from sklearn.metrics import mean_absolute_percentage_error\n",
    "from sklearn.metrics import r2_score\n",
    "\n",
    "from sklearn.pipeline import Pipeline\n",
    "\n",
    "import warnings\n",
    "warnings.filterwarnings(\"ignore\")\n",
    "\n",
    "from keras.layers import BatchNormalization"
   ]
  },
  {
   "cell_type": "markdown",
   "id": "094d6144-e4b1-4728-ac61-72849dd49bf2",
   "metadata": {},
   "source": [
    "# Constantes e funções"
   ]
  },
  {
   "cell_type": "code",
   "execution_count": 2,
   "id": "2a42e501-53b6-4a5e-99f5-a1bffc77a965",
   "metadata": {},
   "outputs": [],
   "source": [
    "PATH=\"https://raw.githubusercontent.com/LeiteJu/TCC/main/dados/input/\"\n",
    "\n",
    "SIGLAS = ['AC', 'AL', 'AM', 'AP', 'BA', 'CE',\n",
    "  'DF', 'ES', 'GO', 'MA',\n",
    "  'MG', 'MS', 'MT', 'PA', 'PB',\n",
    "  'PE', 'PI', 'PR', 'RJ',\n",
    "  'RN', 'RO', 'RR', 'RS',\n",
    "  'SC', 'SE', 'SP', 'TO']\n",
    "\n",
    "LABELS=[\"subestima: -90%\", \"subestima entre -90% e 60%\", \"subestima entre -60% e -30%\",\n",
    "        \"subestima entre -30% e 10%\", \"entre -10% e 10%\", \"superestima entre 10% e 30%\", \n",
    "        \"superestima entre 30% e 60%\", \"superestima entre 60% e 90%\", \"superestima mais de 90%\"]"
   ]
  },
  {
   "cell_type": "code",
   "execution_count": 3,
   "id": "bb4db44f-03a4-4ae0-91ec-3ce946fcabbb",
   "metadata": {},
   "outputs": [],
   "source": [
    "# calcula metricas de regressao\n",
    "def score_regression_metrics(y_test, y_test_pred):\n",
    "\n",
    "    RMSE = mean_squared_error(y_true=y_test, y_pred=y_test_pred, squared=False)\n",
    "    MAE = mean_absolute_error(y_true=y_test, y_pred=y_test_pred)\n",
    "    MAPE = mean_absolute_percentage_error(y_true=y_test, y_pred=y_test_pred)\n",
    "    R2 = r2_score(y_true=y_test, y_pred=y_test_pred)\n",
    "\n",
    "    scores = {\n",
    "        \"neg_root_mean_squared_error\": RMSE,\n",
    "        \"neg_mean_absolute_error\": MAE,\n",
    "        \"neg_mean_absolute_percentage_error\": MAPE,\n",
    "    }\n",
    "\n",
    "    return scores\n",
    "\n",
    "def show_scores (scores):\n",
    "\n",
    "    print (\"Scores obtidos:\")\n",
    "\n",
    "    print (f\"RMSE: {scores['neg_root_mean_squared_error']}\")\n",
    "    print (f\"MAE: {scores['neg_mean_absolute_error']}\")\n",
    "    print (f\"MAPE: {scores['neg_mean_absolute_percentage_error']}\")"
   ]
  },
  {
   "cell_type": "code",
   "execution_count": 4,
   "id": "99e3b348-70aa-49e4-b4b8-da99ef7f7711",
   "metadata": {},
   "outputs": [],
   "source": [
    "def categorize(x):\n",
    "    if x < - 0.9:\n",
    "        return LABELS[0]\n",
    "    elif x < - 0.6:\n",
    "        return LABELS[1]\n",
    "    elif x < - 0.3:\n",
    "        return LABELS[2]\n",
    "    elif x < - 0.1:\n",
    "        return LABELS[3]\n",
    "    elif x < 0.1:\n",
    "        return LABELS[4]\n",
    "    elif x < 0.3:\n",
    "        return LABELS[5]\n",
    "    elif x < 0.6:\n",
    "        return LABELS[6]\n",
    "    elif x < 0.9:\n",
    "        return LABELS[7]\n",
    "    else:\n",
    "        return LABELS[8]"
   ]
  },
  {
   "cell_type": "code",
   "execution_count": 5,
   "id": "e7c50bbb-6446-47e3-b487-7597eddf79f9",
   "metadata": {},
   "outputs": [],
   "source": [
    "def show_delta (y_test, y_pred):\n",
    "    \n",
    "    data=(y_pred - y_test)/y_test\n",
    "\n",
    "    error = pd.DataFrame(data, columns=['erro'])\n",
    "    error['categoria']=error['erro'].apply(categorize)\n",
    "    \n",
    "    plt.figure(figsize=(28,6))\n",
    "\n",
    "    g = sns.countplot(data=error, x='categoria', order=LABELS)\n",
    "    \n",
    "    plt.show()"
   ]
  },
  {
   "cell_type": "code",
   "execution_count": 6,
   "id": "92daf2ea-a2b6-4c24-933d-59f9103488aa",
   "metadata": {
    "tags": []
   },
   "outputs": [],
   "source": [
    "\n",
    "\n",
    "def get_pred (y_train, y_pred):\n",
    "    init = pd.to_datetime(\"072017\", format='%m%Y')\n",
    "    end = pd.to_datetime(\"122019\", format='%m%Y')\n",
    "    data = pd.date_range(start=init, end=end, freq='MS').date\n",
    "    \n",
    "    pred = pd.DataFrame(list(data) * 27, columns=['data']).sort_values('data')\n",
    "    \n",
    "    pred['estados'] = SIGLAS * 30\n",
    "    \n",
    "    pred['y_test'] =  y_test[len(y_test) % 27 :].values\n",
    "    pred['y_pred'] = y_pred[len(y_pred) % 27 :]\n",
    "    \n",
    "    pred = pred.set_index('data')\n",
    "    \n",
    "    return pred"
   ]
  },
  {
   "cell_type": "code",
   "execution_count": 7,
   "id": "84b47256-641e-4f15-8179-cfd596d4c94e",
   "metadata": {},
   "outputs": [],
   "source": [
    "def show_pred (pred, states=SIGLAS):\n",
    "    \n",
    "    for state in states:\n",
    "        \n",
    "        fig, ax = plt.subplots()\n",
    "\n",
    "        pred[pred['estados'] == state].plot(y=\"y_pred\", ax=ax, figsize=(12,6), color=\"coral\", title=f\"Previsão x Dado Real: {state}\", ylabel=\"Consumo\")\n",
    "        pred[pred['estados'] == state].plot(y=\"y_test\", linestyle=' ', marker=\"o\", ax=ax)\n",
    "\n",
    "    plt.show()"
   ]
  },
  {
   "cell_type": "markdown",
   "id": "00d15381-e18e-4a4b-8cb7-1807d6904a18",
   "metadata": {},
   "source": [
    "# SEED"
   ]
  },
  {
   "cell_type": "code",
   "execution_count": 8,
   "id": "9fbe749d-a27a-4a07-9b95-42f0e41bc951",
   "metadata": {},
   "outputs": [],
   "source": [
    "SEED = 41\n",
    "\n",
    "def set_seeds (SEED=41):\n",
    "    os.environ['PYTHONHASHSEED'] = str(SEED)\n",
    "    set_seed(SEED)\n",
    "    np.random.seed(SEED)\n",
    "    random.seed(SEED)"
   ]
  },
  {
   "cell_type": "code",
   "execution_count": 4,
   "id": "5e4384c2-0b6e-42ad-a6df-54d3a1eb25e6",
   "metadata": {},
   "outputs": [],
   "source": [
    "STATES = ['SP', 'RS','AL','DF']"
   ]
  },
  {
   "cell_type": "markdown",
   "id": "e61e043d-8adb-4067-8e4b-f101c8705cd4",
   "metadata": {},
   "source": [
    "# Dados"
   ]
  },
  {
   "cell_type": "code",
   "execution_count": 5,
   "id": "8ca9722b-8de3-4c45-a19f-b3bc4f403387",
   "metadata": {},
   "outputs": [],
   "source": [
    "def load_data():\n",
    "    \n",
    "    df = pd.read_csv(f\"{PATH}processado.csv\")\n",
    "    \n",
    "    x  = df.copy()\n",
    "    x = x.sort_values([\"data\", \"estados\"])\n",
    "    x = x.drop([\"consumo\", 'data'], axis=1)\n",
    "\n",
    "    y = df.copy().sort_values([\"data\", \"estados\"])[['estados', 'data', 'consumo']]\n",
    "    \n",
    "    # processo de one-hot\n",
    "    x = pd.get_dummies(data=x, columns=[\"estados\"], drop_first=True)\n",
    "\n",
    "    y = y['consumo']\n",
    "    \n",
    "    return x,y"
   ]
  },
  {
   "cell_type": "markdown",
   "id": "4ce787c6-02b3-40ea-870a-1e46505a8b4f",
   "metadata": {},
   "source": [
    "# Experimentos"
   ]
  },
  {
   "cell_type": "markdown",
   "id": "2fb32462-76f0-425c-94de-10eebdc73bba",
   "metadata": {},
   "source": [
    "## 1 camada de 16 neurônios"
   ]
  },
  {
   "cell_type": "code",
   "execution_count": 7,
   "id": "96ed5a06-52b5-4d2f-b463-b53d756599f2",
   "metadata": {},
   "outputs": [],
   "source": [
    "x,y = load_data()\n",
    "\n",
    "x_train, x_test, y_train, y_test = train_test_split(x,y, test_size=0.15, shuffle=False)\n",
    "\n",
    "scaler = StandardScaler()\n",
    "x_train = scaler.fit_transform(x_train)\n",
    "x_test = scaler.transform(x_test)\n",
    "\n",
    "model = Sequential()\n",
    "\n",
    "model.add(Dense(units=16, activation=\"relu\")),\n",
    "\n",
    "model.add(Dropout(rate=0.10))\n",
    "model.add(Dense(units=1))\n",
    "model.compile(\n",
    "    optimizer=keras.optimizers.Adam(learning_rate=0.001),\n",
    "    loss=\"mse\",\n",
    "    metrics=[keras.metrics.RootMeanSquaredError(name=\"RMSE\")],\n",
    ")\n",
    "\n",
    "history=model.fit(x_train, y_train, batch_size=32, epochs=100, verbose=0)"
   ]
  },
  {
   "cell_type": "code",
   "execution_count": 8,
   "id": "70dace56-a6f8-4b91-b366-dae987332069",
   "metadata": {},
   "outputs": [
    {
     "name": "stdout",
     "output_type": "stream",
     "text": [
      "147/147 [==============================] - 1s 2ms/step\n",
      "Scores obtidos:\n",
      "RMSE: 243855.39844645167\n",
      "MAE: 145907.02718196597\n",
      "MAPE: 0.934783225873137\n",
      "26/26 [==============================] - 0s 2ms/step\n",
      "Scores obtidos:\n",
      "RMSE: 200214.67739524876\n",
      "MAE: 125018.53669454742\n",
      "MAPE: 0.8547713216716768\n"
     ]
    }
   ],
   "source": [
    "show_scores(score_regression_metrics(y_train, model.predict(x_train)))\n",
    "\n",
    "y_pred = model.predict(x_test)\n",
    "scores = score_regression_metrics(y_test, y_pred)\n",
    "show_scores(scores)"
   ]
  },
  {
   "cell_type": "markdown",
   "id": "e6afffe7-54ab-4f1f-a5d4-9d2659cd850d",
   "metadata": {},
   "source": [
    "## 1 camada de 32 neurônios"
   ]
  },
  {
   "cell_type": "code",
   "execution_count": 9,
   "id": "c9309c6b-19dd-4de0-8136-9b0a9cff4d0b",
   "metadata": {},
   "outputs": [
    {
     "name": "stdout",
     "output_type": "stream",
     "text": [
      "147/147 [==============================] - 0s 2ms/step\n",
      "Scores obtidos:\n",
      "RMSE: 221671.7895034591\n",
      "MAE: 132333.09632677742\n",
      "MAPE: 0.8821725135615109\n",
      "26/26 [==============================] - 0s 1ms/step\n",
      "Scores obtidos:\n",
      "RMSE: 170576.3018056728\n",
      "MAE: 104801.33023623774\n",
      "MAPE: 0.7490715999404003\n"
     ]
    }
   ],
   "source": [
    "x,y = load_data()\n",
    "\n",
    "x_train, x_test, y_train, y_test = train_test_split(x,y, test_size=0.15, shuffle=False)\n",
    "\n",
    "scaler = StandardScaler()\n",
    "x_train = scaler.fit_transform(x_train)\n",
    "x_test = scaler.transform(x_test)\n",
    "\n",
    "model = Sequential()\n",
    "\n",
    "model.add(Dense(units=32, activation=\"relu\")),\n",
    "\n",
    "model.add(Dropout(rate=0.10))\n",
    "model.add(Dense(units=1))\n",
    "model.compile(\n",
    "    optimizer=keras.optimizers.Adam(learning_rate=0.001),\n",
    "    loss=\"mse\",\n",
    "    metrics=[keras.metrics.RootMeanSquaredError(name=\"RMSE\")],\n",
    ")\n",
    "\n",
    "history=model.fit(x_train, y_train, batch_size=32, epochs=100, verbose=0)\n",
    "\n",
    "show_scores(score_regression_metrics(y_train, model.predict(x_train)))\n",
    "\n",
    "y_pred = model.predict(x_test)\n",
    "scores = score_regression_metrics(y_test, y_pred)\n",
    "show_scores(scores)"
   ]
  },
  {
   "cell_type": "markdown",
   "id": "0984d74a-8067-4f50-9de4-71b79075fc3e",
   "metadata": {
    "tags": []
   },
   "source": [
    "## 2 camadas (64, 32)"
   ]
  },
  {
   "cell_type": "code",
   "execution_count": 10,
   "id": "490fb0b7-d50a-4694-a7ec-964a341233d9",
   "metadata": {},
   "outputs": [
    {
     "name": "stdout",
     "output_type": "stream",
     "text": [
      "147/147 [==============================] - 1s 2ms/step\n",
      "Scores obtidos:\n",
      "RMSE: 46081.09315398944\n",
      "MAE: 28427.129880850403\n",
      "MAPE: 0.36625061692052474\n",
      "26/26 [==============================] - 0s 2ms/step\n",
      "Scores obtidos:\n",
      "RMSE: 75830.59535459396\n",
      "MAE: 45477.608256440355\n",
      "MAPE: 0.5316910650192407\n"
     ]
    }
   ],
   "source": [
    "x,y = load_data()\n",
    "\n",
    "x_train, x_test, y_train, y_test = train_test_split(x,y, test_size=0.15, shuffle=False)\n",
    "\n",
    "scaler = StandardScaler()\n",
    "x_train = scaler.fit_transform(x_train)\n",
    "x_test = scaler.transform(x_test)\n",
    "\n",
    "model = Sequential()\n",
    "\n",
    "model.add(Dense(units=64, activation=\"relu\")),\n",
    "model.add(Dense(units=32, activation=\"relu\")),\n",
    "\n",
    "model.add(Dropout(rate=0.10))\n",
    "model.add(Dense(units=1))\n",
    "model.compile(\n",
    "    optimizer=keras.optimizers.Adam(learning_rate=0.001),\n",
    "    loss=\"mse\",\n",
    "    metrics=[keras.metrics.RootMeanSquaredError(name=\"RMSE\")],\n",
    ")\n",
    "\n",
    "history=model.fit(x_train, y_train, batch_size=32, epochs=100, verbose=0)\n",
    "\n",
    "show_scores(score_regression_metrics(y_train, model.predict(x_train)))\n",
    "\n",
    "y_pred = model.predict(x_test)\n",
    "scores = score_regression_metrics(y_test, y_pred)\n",
    "show_scores(scores)"
   ]
  },
  {
   "cell_type": "code",
   "execution_count": 19,
   "id": "ea76fc6a-b41d-4d49-ad04-0ca81a7c5191",
   "metadata": {},
   "outputs": [
    {
     "name": "stdout",
     "output_type": "stream",
     "text": [
      "147/147 [==============================] - 0s 986us/step\n",
      "Scores obtidos:\n",
      "RMSE: 46638.52387772707\n",
      "MAE: 27265.419387465892\n",
      "MAPE: 0.3906691538883569\n",
      "26/26 [==============================] - 0s 2ms/step\n",
      "Scores obtidos:\n",
      "RMSE: 83891.59940503338\n",
      "MAE: 53968.7495917951\n",
      "MAPE: 0.7889138622799715\n"
     ]
    }
   ],
   "source": [
    "x,y = load_data()\n",
    "\n",
    "x_train, x_test, y_train, y_test = train_test_split(x,y, test_size=0.15, shuffle=False)\n",
    "\n",
    "scaler = MinMaxScaler()\n",
    "x_train = scaler.fit_transform(x_train)\n",
    "x_test = scaler.transform(x_test)\n",
    "\n",
    "model = Sequential()\n",
    "\n",
    "model.add(Dense(units=64, activation=\"relu\")),\n",
    "model.add(Dense(units=32, activation=\"relu\")),\n",
    "\n",
    "model.add(Dropout(rate=0.10))\n",
    "model.add(Dense(units=1))\n",
    "model.compile(\n",
    "    optimizer=keras.optimizers.Adam(learning_rate=0.001),\n",
    "    loss=\"mse\",\n",
    "    metrics=[keras.metrics.RootMeanSquaredError(name=\"RMSE\")],\n",
    ")\n",
    "\n",
    "history=model.fit(x_train, y_train, batch_size=32, epochs=100, verbose=0)\n",
    "\n",
    "show_scores(score_regression_metrics(y_train, model.predict(x_train)))\n",
    "\n",
    "y_pred = model.predict(x_test)\n",
    "scores = score_regression_metrics(y_test, y_pred)\n",
    "show_scores(scores)"
   ]
  },
  {
   "cell_type": "markdown",
   "id": "a5094185-3665-4d31-8685-1a21312649c1",
   "metadata": {
    "tags": []
   },
   "source": [
    "## 3 camadas (128, 64, 32)"
   ]
  },
  {
   "cell_type": "markdown",
   "id": "81684790-6d3a-4177-83b2-4ca3d4e229aa",
   "metadata": {},
   "source": [
    "### StandardScaler"
   ]
  },
  {
   "cell_type": "code",
   "execution_count": 11,
   "id": "2afe98ee-40a4-410b-a6df-c29139d6f505",
   "metadata": {},
   "outputs": [
    {
     "name": "stdout",
     "output_type": "stream",
     "text": [
      "147/147 [==============================] - 0s 1ms/step\n",
      "Scores obtidos:\n",
      "RMSE: 31947.754090091094\n",
      "MAE: 17602.572950413767\n",
      "MAPE: 0.24823683800976182\n",
      "26/26 [==============================] - 0s 1ms/step\n",
      "Scores obtidos:\n",
      "RMSE: 42261.20949484571\n",
      "MAE: 28627.092664208925\n",
      "MAPE: 0.4978281962250133\n"
     ]
    }
   ],
   "source": [
    "x,y = load_data()\n",
    "\n",
    "x_train, x_test, y_train, y_test = train_test_split(x,y, test_size=0.15, shuffle=False)\n",
    "\n",
    "scaler = StandardScaler()\n",
    "x_train = scaler.fit_transform(x_train)\n",
    "x_test = scaler.transform(x_test)\n",
    "\n",
    "model = Sequential()\n",
    "\n",
    "model.add(Dense(units=128, activation=\"relu\")),\n",
    "model.add(Dense(units=64, activation=\"relu\")),\n",
    "model.add(Dense(units=32, activation=\"relu\")),\n",
    "\n",
    "model.add(Dropout(rate=0.10))\n",
    "model.add(Dense(units=1))\n",
    "model.compile(\n",
    "    optimizer=keras.optimizers.Adam(learning_rate=0.001),\n",
    "    loss=\"mse\",\n",
    "    metrics=[keras.metrics.RootMeanSquaredError(name=\"RMSE\")],\n",
    ")\n",
    "\n",
    "history=model.fit(x_train, y_train, batch_size=32, epochs=100, verbose=0)\n",
    "\n",
    "show_scores(score_regression_metrics(y_train, model.predict(x_train)))\n",
    "\n",
    "y_pred = model.predict(x_test)\n",
    "scores = score_regression_metrics(y_test, y_pred)\n",
    "show_scores(scores)"
   ]
  },
  {
   "cell_type": "markdown",
   "id": "38b1173c-8181-4585-8ba6-d29062d7841e",
   "metadata": {},
   "source": [
    "### MinMax Scaler"
   ]
  },
  {
   "cell_type": "code",
   "execution_count": 16,
   "id": "dafa0d93-9158-497e-a384-1037702bd9c6",
   "metadata": {
    "tags": []
   },
   "outputs": [
    {
     "name": "stdout",
     "output_type": "stream",
     "text": [
      "147/147 [==============================] - 1s 3ms/step\n",
      "Scores obtidos:\n",
      "RMSE: 38022.79143504296\n",
      "MAE: 20979.434833407744\n",
      "MAPE: 0.31438016585949885\n",
      "26/26 [==============================] - 0s 3ms/step\n",
      "Scores obtidos:\n",
      "RMSE: 73288.59011951227\n",
      "MAE: 41503.87268922522\n",
      "MAPE: 0.49624956332055126\n"
     ]
    }
   ],
   "source": [
    "x,y = load_data()\n",
    "\n",
    "x_train, x_test, y_train, y_test = train_test_split(x,y, test_size=0.15, shuffle=False)\n",
    "\n",
    "scaler = MinMaxScaler()\n",
    "x_train = scaler.fit_transform(x_train)\n",
    "x_test = scaler.transform(x_test)\n",
    "\n",
    "model = Sequential()\n",
    "\n",
    "model.add(Dense(units=128, activation=\"relu\")),\n",
    "model.add(Dense(units=64, activation=\"relu\")),\n",
    "model.add(Dense(units=32, activation=\"relu\")),\n",
    "\n",
    "model.add(Dropout(rate=0.10))\n",
    "model.add(Dense(units=1))\n",
    "model.compile(\n",
    "    optimizer=keras.optimizers.Adam(learning_rate=0.001),\n",
    "    loss=\"mse\",\n",
    "    metrics=[keras.metrics.RootMeanSquaredError(name=\"RMSE\")],\n",
    ")\n",
    "\n",
    "history=model.fit(x_train, y_train, batch_size=32, epochs=100, verbose=0)\n",
    "\n",
    "show_scores(score_regression_metrics(y_train, model.predict(x_train)))\n",
    "\n",
    "y_pred = model.predict(x_test)\n",
    "scores = score_regression_metrics(y_test, y_pred)\n",
    "show_scores(scores)"
   ]
  },
  {
   "cell_type": "markdown",
   "id": "f9a9bd99-a1b8-4b0b-8288-30b48b53945a",
   "metadata": {
    "tags": []
   },
   "source": [
    "## 3 camadas (256, 128, 64)"
   ]
  },
  {
   "cell_type": "markdown",
   "id": "7593bb9e-1ddc-4d93-a8fc-dee755c675ad",
   "metadata": {},
   "source": [
    "### Standard Scaler"
   ]
  },
  {
   "cell_type": "code",
   "execution_count": 15,
   "id": "ae654ba3-ca6f-474f-81d8-a099c35ac557",
   "metadata": {},
   "outputs": [
    {
     "name": "stdout",
     "output_type": "stream",
     "text": [
      "147/147 [==============================] - 1s 3ms/step\n",
      "Scores obtidos:\n",
      "RMSE: 29190.314674853984\n",
      "MAE: 16037.93752724236\n",
      "MAPE: 0.21591592614328717\n",
      "26/26 [==============================] - 0s 3ms/step\n",
      "Scores obtidos:\n",
      "RMSE: 44757.04259393303\n",
      "MAE: 30934.44711093372\n",
      "MAPE: 0.6082110941391301\n"
     ]
    }
   ],
   "source": [
    "x,y = load_data()\n",
    "\n",
    "x_train, x_test, y_train, y_test = train_test_split(x,y, test_size=0.15, shuffle=False)\n",
    "\n",
    "scaler = StandardScaler()\n",
    "x_train = scaler.fit_transform(x_train)\n",
    "x_test = scaler.transform(x_test)\n",
    "\n",
    "model = Sequential()\n",
    "\n",
    "model.add(Dense(units=256, activation=\"relu\")),\n",
    "model.add(Dense(units=128, activation=\"relu\")),\n",
    "model.add(Dense(units=64, activation=\"relu\")),\n",
    "\n",
    "model.add(Dropout(rate=0.10))\n",
    "model.add(Dense(units=1))\n",
    "model.compile(\n",
    "    optimizer=keras.optimizers.Adam(learning_rate=0.001),\n",
    "    loss=\"mse\",\n",
    "    metrics=[keras.metrics.RootMeanSquaredError(name=\"RMSE\")],\n",
    ")\n",
    "\n",
    "history=model.fit(x_train, y_train, batch_size=32, epochs=100, verbose=0)\n",
    "\n",
    "show_scores(score_regression_metrics(y_train, model.predict(x_train)))\n",
    "\n",
    "y_pred = model.predict(x_test)\n",
    "scores = score_regression_metrics(y_test, y_pred)\n",
    "show_scores(scores)"
   ]
  },
  {
   "cell_type": "markdown",
   "id": "f23e224a-d05b-4753-99be-4926434fb63d",
   "metadata": {},
   "source": [
    "### MinMax Scaler"
   ]
  },
  {
   "cell_type": "markdown",
   "id": "a20978c5-6c96-4d0b-b9c4-4b6f59bde7f7",
   "metadata": {},
   "source": [
    "#### 100 epochs"
   ]
  },
  {
   "cell_type": "code",
   "execution_count": 17,
   "id": "89bc23c3-c6b2-4e38-ba02-8f7800f04398",
   "metadata": {},
   "outputs": [
    {
     "name": "stdout",
     "output_type": "stream",
     "text": [
      "147/147 [==============================] - 0s 1ms/step\n",
      "Scores obtidos:\n",
      "RMSE: 33383.11175827079\n",
      "MAE: 18321.270373631854\n",
      "MAPE: 0.24850061302641335\n",
      "26/26 [==============================] - 0s 1ms/step\n",
      "Scores obtidos:\n",
      "RMSE: 51670.28882242578\n",
      "MAE: 31721.802826481256\n",
      "MAPE: 0.46628544462808796\n"
     ]
    }
   ],
   "source": [
    "x,y = load_data()\n",
    "\n",
    "x_train, x_test, y_train, y_test = train_test_split(x,y, test_size=0.15, shuffle=False)\n",
    "\n",
    "scaler = MinMaxScaler()\n",
    "x_train = scaler.fit_transform(x_train)\n",
    "x_test = scaler.transform(x_test)\n",
    "\n",
    "model = Sequential()\n",
    "\n",
    "model.add(Dense(units=256, activation=\"relu\")),\n",
    "model.add(Dense(units=128, activation=\"relu\")),\n",
    "model.add(Dense(units=64, activation=\"relu\")),\n",
    "\n",
    "model.add(Dropout(rate=0.10))\n",
    "model.add(Dense(units=1))\n",
    "model.compile(\n",
    "    optimizer=keras.optimizers.Adam(learning_rate=0.001),\n",
    "    loss=\"mse\",\n",
    "    metrics=[keras.metrics.RootMeanSquaredError(name=\"RMSE\")],\n",
    ")\n",
    "\n",
    "history=model.fit(x_train, y_train, batch_size=32, epochs=100, verbose=0)\n",
    "\n",
    "show_scores(score_regression_metrics(y_train, model.predict(x_train)))\n",
    "\n",
    "y_pred = model.predict(x_test)\n",
    "scores = score_regression_metrics(y_test, y_pred)\n",
    "show_scores(scores)"
   ]
  },
  {
   "cell_type": "markdown",
   "id": "5665b09d-91d3-43a5-89dc-53bb7a201d94",
   "metadata": {},
   "source": [
    "#### 200 epochs"
   ]
  },
  {
   "cell_type": "code",
   "execution_count": 25,
   "id": "22cb9df6-0e0d-4d06-ae53-623c8eca2c6e",
   "metadata": {},
   "outputs": [
    {
     "name": "stdout",
     "output_type": "stream",
     "text": [
      "147/147 [==============================] - 1s 3ms/step\n",
      "Scores obtidos:\n",
      "RMSE: 29218.03497928721\n",
      "MAE: 16281.666354033843\n",
      "MAPE: 0.1930986188540174\n",
      "26/26 [==============================] - 0s 2ms/step\n",
      "Scores obtidos:\n",
      "RMSE: 39237.195428411374\n",
      "MAE: 24710.17849011865\n",
      "MAPE: 0.3561269422536886\n"
     ]
    }
   ],
   "source": [
    "x,y = load_data()\n",
    "\n",
    "x_train, x_test, y_train, y_test = train_test_split(x,y, test_size=0.15, shuffle=False)\n",
    "\n",
    "scaler = MinMaxScaler()\n",
    "x_train = scaler.fit_transform(x_train)\n",
    "x_test = scaler.transform(x_test)\n",
    "\n",
    "model = Sequential()\n",
    "\n",
    "model.add(Dense(units=256, activation=\"relu\")),\n",
    "model.add(Dense(units=128, activation=\"relu\")),\n",
    "model.add(Dense(units=64, activation=\"relu\")),\n",
    "\n",
    "model.add(Dropout(rate=0.10))\n",
    "model.add(Dense(units=1))\n",
    "model.compile(\n",
    "    optimizer=keras.optimizers.Adam(learning_rate=0.001),\n",
    "    loss=\"mse\",\n",
    "    metrics=[keras.metrics.RootMeanSquaredError(name=\"RMSE\")],\n",
    ")\n",
    "\n",
    "history=model.fit(x_train, y_train, batch_size=32, epochs=200, verbose=0)\n",
    "\n",
    "show_scores(score_regression_metrics(y_train, model.predict(x_train)))\n",
    "\n",
    "y_pred = model.predict(x_test)\n",
    "scores = score_regression_metrics(y_test, y_pred)\n",
    "show_scores(scores)"
   ]
  },
  {
   "cell_type": "markdown",
   "id": "a38ae749-150b-47a7-83cd-207b7200d84f",
   "metadata": {},
   "source": [
    "#### 300 epochs"
   ]
  },
  {
   "cell_type": "code",
   "execution_count": 26,
   "id": "df3ff9ac-a496-48cf-b54d-d3d9c8c92c0c",
   "metadata": {},
   "outputs": [
    {
     "name": "stdout",
     "output_type": "stream",
     "text": [
      "147/147 [==============================] - 1s 4ms/step\n",
      "Scores obtidos:\n",
      "RMSE: 27167.7962460437\n",
      "MAE: 14868.129110760565\n",
      "MAPE: 0.1856085018205519\n",
      "26/26 [==============================] - 0s 4ms/step\n",
      "Scores obtidos:\n",
      "RMSE: 38497.330242540025\n",
      "MAE: 24934.504427595035\n",
      "MAPE: 0.29894757959468515\n"
     ]
    }
   ],
   "source": [
    "x,y = load_data()\n",
    "\n",
    "x_train, x_test, y_train, y_test = train_test_split(x,y, test_size=0.15, shuffle=False)\n",
    "\n",
    "scaler = MinMaxScaler()\n",
    "x_train = scaler.fit_transform(x_train)\n",
    "x_test = scaler.transform(x_test)\n",
    "\n",
    "model = Sequential()\n",
    "\n",
    "model.add(Dense(units=256, activation=\"relu\")),\n",
    "model.add(Dense(units=128, activation=\"relu\")),\n",
    "model.add(Dense(units=64, activation=\"relu\")),\n",
    "\n",
    "model.add(Dropout(rate=0.10))\n",
    "model.add(Dense(units=1))\n",
    "model.compile(\n",
    "    optimizer=keras.optimizers.Adam(learning_rate=0.001),\n",
    "    loss=\"mse\",\n",
    "    metrics=[keras.metrics.RootMeanSquaredError(name=\"RMSE\")],\n",
    ")\n",
    "\n",
    "history=model.fit(x_train, y_train, batch_size=32, epochs=300, verbose=0)\n",
    "\n",
    "show_scores(score_regression_metrics(y_train, model.predict(x_train)))\n",
    "\n",
    "y_pred = model.predict(x_test)\n",
    "scores = score_regression_metrics(y_test, y_pred)\n",
    "show_scores(scores)"
   ]
  },
  {
   "cell_type": "markdown",
   "id": "8646e72d-4204-4758-ae04-7cf7c71b487a",
   "metadata": {},
   "source": [
    "#### 400 epochs"
   ]
  },
  {
   "cell_type": "code",
   "execution_count": 27,
   "id": "0daac846-0db0-4377-90e6-25198e86d487",
   "metadata": {},
   "outputs": [
    {
     "name": "stdout",
     "output_type": "stream",
     "text": [
      "147/147 [==============================] - 1s 3ms/step\n",
      "Scores obtidos:\n",
      "RMSE: 26719.970337110975\n",
      "MAE: 14512.683096699402\n",
      "MAPE: 0.19326927691685447\n",
      "26/26 [==============================] - 0s 3ms/step\n",
      "Scores obtidos:\n",
      "RMSE: 41982.76033219207\n",
      "MAE: 28351.057913580713\n",
      "MAPE: 0.4400692429571572\n"
     ]
    }
   ],
   "source": [
    "x,y = load_data()\n",
    "\n",
    "x_train, x_test, y_train, y_test = train_test_split(x,y, test_size=0.15, shuffle=False)\n",
    "\n",
    "scaler = MinMaxScaler()\n",
    "x_train = scaler.fit_transform(x_train)\n",
    "x_test = scaler.transform(x_test)\n",
    "\n",
    "model = Sequential()\n",
    "\n",
    "model.add(Dense(units=256, activation=\"relu\")),\n",
    "model.add(Dense(units=128, activation=\"relu\")),\n",
    "model.add(Dense(units=64, activation=\"relu\")),\n",
    "\n",
    "model.add(Dropout(rate=0.10))\n",
    "model.add(Dense(units=1))\n",
    "model.compile(\n",
    "    optimizer=keras.optimizers.Adam(learning_rate=0.001),\n",
    "    loss=\"mse\",\n",
    "    metrics=[keras.metrics.RootMeanSquaredError(name=\"RMSE\")],\n",
    ")\n",
    "\n",
    "history=model.fit(x_train, y_train, batch_size=32, epochs=400, verbose=0)\n",
    "\n",
    "show_scores(score_regression_metrics(y_train, model.predict(x_train)))\n",
    "\n",
    "y_pred = model.predict(x_test)\n",
    "scores = score_regression_metrics(y_test, y_pred)\n",
    "show_scores(scores)"
   ]
  },
  {
   "cell_type": "markdown",
   "id": "4f4e2a1d-72ce-4a35-a986-100b53b413c7",
   "metadata": {
    "tags": []
   },
   "source": [
    "## 4 camadas (256, 128, 64, 32)"
   ]
  },
  {
   "cell_type": "markdown",
   "id": "5a808657-f29a-4cb2-896b-dbcaaf113ba2",
   "metadata": {},
   "source": [
    "#### 100 epochs"
   ]
  },
  {
   "cell_type": "code",
   "execution_count": 14,
   "id": "9f7148e7-16bb-46a1-bf16-bc95b2c2c1da",
   "metadata": {},
   "outputs": [
    {
     "name": "stdout",
     "output_type": "stream",
     "text": [
      "147/147 [==============================] - 0s 2ms/step\n",
      "Scores obtidos:\n",
      "RMSE: 33527.73530063273\n",
      "MAE: 17501.722512212484\n",
      "MAPE: 0.1878275153380759\n",
      "26/26 [==============================] - 0s 2ms/step\n",
      "Scores obtidos:\n",
      "RMSE: 52495.27907264181\n",
      "MAE: 32900.484561574216\n",
      "MAPE: 0.4794580221388022\n"
     ]
    }
   ],
   "source": [
    "x,y = load_data()\n",
    "\n",
    "x_train, x_test, y_train, y_test = train_test_split(x,y, test_size=0.15, shuffle=False)\n",
    "\n",
    "scaler = StandardScaler()\n",
    "x_train = scaler.fit_transform(x_train)\n",
    "x_test = scaler.transform(x_test)\n",
    "\n",
    "model = Sequential()\n",
    "\n",
    "model.add(Dense(units=256, activation=\"relu\")),\n",
    "model.add(Dense(units=128, activation=\"relu\")),\n",
    "model.add(Dense(units=64, activation=\"relu\")),\n",
    "model.add(Dense(units=32, activation=\"relu\")),\n",
    "\n",
    "model.add(Dropout(rate=0.10))\n",
    "model.add(Dense(units=1))\n",
    "model.compile(\n",
    "    optimizer=keras.optimizers.Adam(learning_rate=0.001),\n",
    "    loss=\"mse\",\n",
    "    metrics=[keras.metrics.RootMeanSquaredError(name=\"RMSE\")],\n",
    ")\n",
    "\n",
    "history=model.fit(x_train, y_train, batch_size=32, epochs=100, verbose=0)\n",
    "\n",
    "show_scores(score_regression_metrics(y_train, model.predict(x_train)))\n",
    "\n",
    "y_pred = model.predict(x_test)\n",
    "scores = score_regression_metrics(y_test, y_pred)\n",
    "show_scores(scores)"
   ]
  },
  {
   "cell_type": "markdown",
   "id": "7674009d-9055-4421-b7d2-8fc0df661e4c",
   "metadata": {},
   "source": [
    "#### 100 epochs"
   ]
  },
  {
   "cell_type": "code",
   "execution_count": 18,
   "id": "12f2339e-ea95-440a-8b7a-d8772c75fa58",
   "metadata": {},
   "outputs": [
    {
     "name": "stdout",
     "output_type": "stream",
     "text": [
      "147/147 [==============================] - 1s 3ms/step\n",
      "Scores obtidos:\n",
      "RMSE: 33912.23778391012\n",
      "MAE: 18018.86626214142\n",
      "MAPE: 0.2184549097850674\n",
      "26/26 [==============================] - 0s 3ms/step\n",
      "Scores obtidos:\n",
      "RMSE: 36075.028292179486\n",
      "MAE: 24397.63993538392\n",
      "MAPE: 0.3950214330478227\n"
     ]
    }
   ],
   "source": [
    "x,y = load_data()\n",
    "\n",
    "x_train, x_test, y_train, y_test = train_test_split(x,y, test_size=0.15, shuffle=False)\n",
    "\n",
    "scaler = MinMaxScaler()\n",
    "x_train = scaler.fit_transform(x_train)\n",
    "x_test = scaler.transform(x_test)\n",
    "\n",
    "model = Sequential()\n",
    "\n",
    "model.add(Dense(units=256, activation=\"relu\")),\n",
    "model.add(Dense(units=128, activation=\"relu\")),\n",
    "model.add(Dense(units=64, activation=\"relu\")),\n",
    "model.add(Dense(units=32, activation=\"relu\")),\n",
    "\n",
    "model.add(Dropout(rate=0.10))\n",
    "model.add(Dense(units=1))\n",
    "model.compile(\n",
    "    optimizer=keras.optimizers.Adam(learning_rate=0.001),\n",
    "    loss=\"mse\",\n",
    "    metrics=[keras.metrics.RootMeanSquaredError(name=\"RMSE\")],\n",
    ")\n",
    "\n",
    "history=model.fit(x_train, y_train, batch_size=32, epochs=100, verbose=0)\n",
    "\n",
    "show_scores(score_regression_metrics(y_train, model.predict(x_train)))\n",
    "\n",
    "y_pred = model.predict(x_test)\n",
    "scores = score_regression_metrics(y_test, y_pred)\n",
    "show_scores(scores)"
   ]
  },
  {
   "cell_type": "markdown",
   "id": "3c0b10c8-39bc-427b-9dcb-38affb006ccc",
   "metadata": {},
   "source": [
    "#### 200 epochs"
   ]
  },
  {
   "cell_type": "code",
   "execution_count": 24,
   "id": "f2acdc26-74a8-4df4-aa04-a0c90b775dec",
   "metadata": {},
   "outputs": [
    {
     "name": "stdout",
     "output_type": "stream",
     "text": [
      "147/147 [==============================] - 0s 1ms/step\n",
      "Scores obtidos:\n",
      "RMSE: 26840.052188467846\n",
      "MAE: 14461.880787689634\n",
      "MAPE: 0.18002862545399428\n",
      "26/26 [==============================] - 0s 1ms/step\n",
      "Scores obtidos:\n",
      "RMSE: 35724.1888231112\n",
      "MAE: 23680.35123186215\n",
      "MAPE: 0.30510319243081785\n"
     ]
    }
   ],
   "source": [
    "x,y = load_data()\n",
    "\n",
    "x_train, x_test, y_train, y_test = train_test_split(x,y, test_size=0.15, shuffle=False)\n",
    "\n",
    "scaler = MinMaxScaler()\n",
    "x_train = scaler.fit_transform(x_train)\n",
    "x_test = scaler.transform(x_test)\n",
    "\n",
    "model = Sequential()\n",
    "\n",
    "model.add(Dense(units=256, activation=\"relu\")),\n",
    "model.add(Dense(units=128, activation=\"relu\")),\n",
    "model.add(Dense(units=64, activation=\"relu\")),\n",
    "model.add(Dense(units=32, activation=\"relu\")),\n",
    "\n",
    "model.add(Dropout(rate=0.10))\n",
    "model.add(Dense(units=1))\n",
    "model.compile(\n",
    "    optimizer=keras.optimizers.Adam(learning_rate=0.001),\n",
    "    loss=\"mse\",\n",
    "    metrics=[keras.metrics.RootMeanSquaredError(name=\"RMSE\")],\n",
    ")\n",
    "\n",
    "history=model.fit(x_train, y_train, batch_size=32, epochs=200, verbose=0)\n",
    "\n",
    "show_scores(score_regression_metrics(y_train, model.predict(x_train)))\n",
    "\n",
    "y_pred = model.predict(x_test)\n",
    "scores = score_regression_metrics(y_test, y_pred)\n",
    "show_scores(scores)"
   ]
  },
  {
   "cell_type": "code",
   "execution_count": null,
   "id": "06b3b57c-6eea-4ea7-84c5-7f991fef596d",
   "metadata": {},
   "outputs": [
    {
     "name": "stdout",
     "output_type": "stream",
     "text": [
      "147/147 [==============================] - 0s 2ms/step\n",
      "Scores obtidos:\n",
      "RMSE: 35732.45874471866\n",
      "MAE: 20241.627538015633\n",
      "MAPE: 0.23687227094651608\n",
      "26/26 [==============================] - 0s 3ms/step\n",
      "Scores obtidos:\n",
      "RMSE: 55034.661790168684\n",
      "MAE: 33021.67671412107\n",
      "MAPE: 0.36704863405761723\n"
     ]
    }
   ],
   "source": [
    "x,y = load_data()\n",
    "\n",
    "DROP=['pib_pc',  'selic', 'idh_e', 'idh_l', 'nfsp', 'preco_ton', 'estoque']\n",
    "x=x.drop(DROP, axis=1)\n",
    "\n",
    "x_train, x_test, y_train, y_test = train_test_split(x,y, test_size=0.15, shuffle=False)\n",
    "\n",
    "scaler = MinMaxScaler()\n",
    "x_train = scaler.fit_transform(x_train)\n",
    "x_test = scaler.transform(x_test)\n",
    "\n",
    "model = Sequential()\n",
    "\n",
    "model.add(Dense(units=256, activation=\"relu\")),\n",
    "model.add(Dense(units=128, activation=\"relu\")),\n",
    "model.add(Dense(units=64, activation=\"relu\")),\n",
    "model.add(Dense(units=32, activation=\"relu\")),\n",
    "\n",
    "model.add(Dropout(rate=0.10))\n",
    "model.add(Dense(units=1))\n",
    "model.compile(\n",
    "    optimizer=keras.optimizers.Adam(learning_rate=0.001),\n",
    "    loss=\"mse\",\n",
    "    metrics=[keras.metrics.RootMeanSquaredError(name=\"RMSE\")],\n",
    ")\n",
    "\n",
    "history=model.fit(x_train, y_train, batch_size=32, epochs=200, verbose=0)\n",
    "\n",
    "show_scores(score_regression_metrics(y_train, model.predict(x_train)))\n",
    "\n",
    "y_pred = model.predict(x_test)\n",
    "scores = score_regression_metrics(y_test, y_pred)\n",
    "show_scores(scores)"
   ]
  },
  {
   "cell_type": "markdown",
   "id": "45c84d77-f7be-4f98-8b85-37703790fba1",
   "metadata": {},
   "source": [
    "#### 300 epochs"
   ]
  },
  {
   "cell_type": "code",
   "execution_count": 21,
   "id": "a8a062e1-383b-48fd-8634-96d42620ff00",
   "metadata": {},
   "outputs": [
    {
     "name": "stdout",
     "output_type": "stream",
     "text": [
      "147/147 [==============================] - 0s 1ms/step\n",
      "Scores obtidos:\n",
      "RMSE: 26779.196313753888\n",
      "MAE: 14494.05190789812\n",
      "MAPE: 0.18822877258579404\n",
      "26/26 [==============================] - 0s 1ms/step\n",
      "Scores obtidos:\n",
      "RMSE: 41166.860360902996\n",
      "MAE: 28085.568436130216\n",
      "MAPE: 0.42987587917173653\n"
     ]
    }
   ],
   "source": [
    "x,y = load_data()\n",
    "\n",
    "x_train, x_test, y_train, y_test = train_test_split(x,y, test_size=0.15, shuffle=False)\n",
    "\n",
    "scaler = MinMaxScaler()\n",
    "x_train = scaler.fit_transform(x_train)\n",
    "x_test = scaler.transform(x_test)\n",
    "\n",
    "model = Sequential()\n",
    "\n",
    "model.add(Dense(units=256, activation=\"relu\")),\n",
    "model.add(Dense(units=128, activation=\"relu\")),\n",
    "model.add(Dense(units=64, activation=\"relu\")),\n",
    "model.add(Dense(units=32, activation=\"relu\")),\n",
    "\n",
    "model.add(Dropout(rate=0.10))\n",
    "model.add(Dense(units=1))\n",
    "model.compile(\n",
    "    optimizer=keras.optimizers.Adam(learning_rate=0.001),\n",
    "    loss=\"mse\",\n",
    "    metrics=[keras.metrics.RootMeanSquaredError(name=\"RMSE\")],\n",
    ")\n",
    "\n",
    "history=model.fit(x_train, y_train, batch_size=32, epochs=300, verbose=0)\n",
    "\n",
    "show_scores(score_regression_metrics(y_train, model.predict(x_train)))\n",
    "\n",
    "y_pred = model.predict(x_test)\n",
    "scores = score_regression_metrics(y_test, y_pred)\n",
    "show_scores(scores)"
   ]
  },
  {
   "cell_type": "code",
   "execution_count": 20,
   "id": "d08c0ca6-e665-4f58-beda-212f81252cc0",
   "metadata": {},
   "outputs": [
    {
     "name": "stdout",
     "output_type": "stream",
     "text": [
      "147/147 [==============================] - 1s 4ms/step\n",
      "Scores obtidos:\n",
      "RMSE: 27672.907171698225\n",
      "MAE: 14826.066428157465\n",
      "MAPE: 0.1848244295884483\n",
      "26/26 [==============================] - 0s 4ms/step\n",
      "Scores obtidos:\n",
      "RMSE: 37759.23364150197\n",
      "MAE: 24989.988986217126\n",
      "MAPE: 0.38621380423914514\n"
     ]
    }
   ],
   "source": [
    "x,y = load_data()\n",
    "\n",
    "x_train, x_test, y_train, y_test = train_test_split(x,y, test_size=0.15, shuffle=False)\n",
    "\n",
    "scaler = MinMaxScaler()\n",
    "x_train = scaler.fit_transform(x_train)\n",
    "x_test = scaler.transform(x_test)\n",
    "\n",
    "model = Sequential()\n",
    "\n",
    "model.add(Dense(units=512, activation=\"relu\")),\n",
    "model.add(Dense(units=256, activation=\"relu\")),\n",
    "model.add(Dense(units=128, activation=\"relu\")),\n",
    "model.add(Dense(units=64, activation=\"relu\")),\n",
    "model.add(Dense(units=32, activation=\"relu\")),\n",
    "\n",
    "model.add(Dropout(rate=0.10))\n",
    "model.add(Dense(units=1))\n",
    "model.compile(\n",
    "    optimizer=keras.optimizers.Adam(learning_rate=0.001),\n",
    "    loss=\"mse\",\n",
    "    metrics=[keras.metrics.RootMeanSquaredError(name=\"RMSE\")],\n",
    ")\n",
    "\n",
    "history=model.fit(x_train, y_train, batch_size=32, epochs=100, verbose=0)\n",
    "\n",
    "show_scores(score_regression_metrics(y_train, model.predict(x_train)))\n",
    "\n",
    "y_pred = model.predict(x_test)\n",
    "scores = score_regression_metrics(y_test, y_pred)\n",
    "show_scores(scores)"
   ]
  },
  {
   "cell_type": "code",
   "execution_count": 22,
   "id": "1799f52b-c752-4609-b1b5-d9f8028949e9",
   "metadata": {},
   "outputs": [
    {
     "name": "stdout",
     "output_type": "stream",
     "text": [
      "147/147 [==============================] - 0s 2ms/step\n",
      "Scores obtidos:\n",
      "RMSE: 22816.804160045063\n",
      "MAE: 11691.57109677503\n",
      "MAPE: 0.10526383707673934\n",
      "26/26 [==============================] - 0s 3ms/step\n",
      "Scores obtidos:\n",
      "RMSE: 48382.2560821487\n",
      "MAE: 32588.463328720147\n",
      "MAPE: 0.4823878235997368\n"
     ]
    }
   ],
   "source": [
    "x,y = load_data()\n",
    "\n",
    "x_train, x_test, y_train, y_test = train_test_split(x,y, test_size=0.15, shuffle=False)\n",
    "\n",
    "scaler = MinMaxScaler()\n",
    "x_train = scaler.fit_transform(x_train)\n",
    "x_test = scaler.transform(x_test)\n",
    "\n",
    "model = Sequential()\n",
    "\n",
    "model.add(Dense(units=512, activation=\"relu\")),\n",
    "model.add(Dense(units=256, activation=\"relu\")),\n",
    "model.add(Dense(units=128, activation=\"relu\")),\n",
    "model.add(Dense(units=64, activation=\"relu\")),\n",
    "model.add(Dense(units=32, activation=\"relu\")),\n",
    "\n",
    "model.add(Dropout(rate=0.10))\n",
    "model.add(Dense(units=1))\n",
    "model.compile(\n",
    "    optimizer=keras.optimizers.Adam(learning_rate=0.001),\n",
    "    loss=\"mse\",\n",
    "    metrics=[keras.metrics.RootMeanSquaredError(name=\"RMSE\")],\n",
    ")\n",
    "\n",
    "history=model.fit(x_train, y_train, batch_size=32, epochs=300, verbose=0)\n",
    "\n",
    "show_scores(score_regression_metrics(y_train, model.predict(x_train)))\n",
    "\n",
    "y_pred = model.predict(x_test)\n",
    "scores = score_regression_metrics(y_test, y_pred)\n",
    "show_scores(scores)"
   ]
  },
  {
   "cell_type": "code",
   "execution_count": 23,
   "id": "dcce389e-224d-4c39-b6e2-2a17e79ccdc7",
   "metadata": {},
   "outputs": [
    {
     "data": {
      "image/png": "[encoded data removed]",
      "text/plain": [
       "<Figure size 1500x500 with 2 Axes>"
      ]
     },
     "metadata": {},
     "output_type": "display_data"
    }
   ],
   "source": [
    "plt.figure(figsize=(15,5))\n",
    "\n",
    "plt.subplot(1,2,1)\n",
    "\n",
    "plt.plot(history.history[\"RMSE\"])\n",
    "plt.title(\"RMSE\")\n",
    "\n",
    "plt.subplot(1,2,2)\n",
    "\n",
    "plt.plot(history.history[\"loss\"])\n",
    "plt.title(\"Loss\")\n",
    "\n",
    "plt.show()"
   ]
  },
  {
   "cell_type": "code",
   "execution_count": null,
   "id": "cca8b00e-847a-4860-8cb3-f394554abb3b",
   "metadata": {},
   "outputs": [],
   "source": []
  }
 ],
 "metadata": {
  "kernelspec": {
   "display_name": "Python 3 (ipykernel)",
   "language": "python",
   "name": "python3"
  },
  "language_info": {
   "codemirror_mode": {
    "name": "ipython",
    "version": 3
   },
   "file_extension": ".py",
   "mimetype": "text/x-python",
   "name": "python",
   "nbconvert_exporter": "python",
   "pygments_lexer": "ipython3",
   "version": "3.10.5"
  }
 },
 "nbformat": 4,
 "nbformat_minor": 5
}
