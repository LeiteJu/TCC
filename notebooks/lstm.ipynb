{
 "cells": [
  {
   "cell_type": "markdown",
   "id": "75c3e2da-ec9d-476a-8c15-fb319117f6ff",
   "metadata": {},
   "source": [
    "# LSTM"
   ]
  },
  {
   "cell_type": "code",
   "execution_count": 9,
   "id": "f8e40cc1-7457-47d4-b009-f02e70083d7a",
   "metadata": {},
   "outputs": [],
   "source": [
    "import pandas as pd\n",
    "import numpy as np\n",
    "import matplotlib.pyplot as plt\n",
    "import seaborn as sns\n",
    "import os\n",
    "import random\n",
    "from scipy.stats import pearsonr\n",
    "from collections import Counter\n",
    "\n",
    "from tensorflow import keras\n",
    "from tensorflow.keras.layers import Dense, Dropout, LSTM, Conv1D, MaxPooling1D, Flatten\n",
    "from tensorflow.keras.models import Sequential\n",
    "from tensorflow.random import set_seed\n",
    "\n",
    "sns.set_palette(\"Paired\")\n",
    "\n",
    "from sklearn.model_selection import train_test_split\n",
    "\n",
    "from sklearn.linear_model import LinearRegression\n",
    "from sklearn.preprocessing import StandardScaler\n",
    "from sklearn.preprocessing import MinMaxScaler, PowerTransformer\n",
    "\n",
    "from sklearn.metrics import mean_squared_error\n",
    "from sklearn.metrics import mean_absolute_error\n",
    "from sklearn.metrics import mean_absolute_percentage_error\n",
    "from sklearn.metrics import r2_score\n",
    "\n",
    "from sklearn.pipeline import Pipeline\n",
    "\n",
    "import warnings\n",
    "warnings.filterwarnings(\"ignore\")\n",
    "\n",
    "from keras.layers import BatchNormalization"
   ]
  },
  {
   "cell_type": "markdown",
   "id": "3fa2d9f1-47ca-4d95-8f27-81332d361707",
   "metadata": {},
   "source": [
    "# Constantes e funções"
   ]
  },
  {
   "cell_type": "code",
   "execution_count": 10,
   "id": "0c97c28a-a24d-4a0f-89f8-c343f28cc969",
   "metadata": {},
   "outputs": [],
   "source": [
    "PATH=\"https://raw.githubusercontent.com/LeiteJu/TCC/main/dados/input/\"\n",
    "\n",
    "SIGLAS = ['AC', 'AL', 'AM', 'AP', 'BA', 'CE',\n",
    "  'DF', 'ES', 'GO', 'MA',\n",
    "  'MG', 'MS', 'MT', 'PA', 'PB',\n",
    "  'PE', 'PI', 'PR', 'RJ',\n",
    "  'RN', 'RO', 'RR', 'RS',\n",
    "  'SC', 'SE', 'SP', 'TO']\n",
    "\n",
    "LABELS=[\"subestima: -90%\", \"subestima entre -90% e 60%\", \"subestima entre -60% e -30%\",\n",
    "        \"subestima entre -30% e 10%\", \"entre -10% e 10%\", \"superestima entre 10% e 30%\", \n",
    "        \"superestima entre 30% e 60%\", \"superestima entre 60% e 90%\", \"superestima mais de 90%\"]"
   ]
  },
  {
   "cell_type": "code",
   "execution_count": 11,
   "id": "4628b7e7-5666-43d3-a0f2-6db8efda1554",
   "metadata": {},
   "outputs": [],
   "source": [
    "# calcula metricas de regressao\n",
    "def score_regression_metrics(y_test, y_test_pred):\n",
    "\n",
    "    RMSE = mean_squared_error(y_true=y_test, y_pred=y_test_pred, squared=False)\n",
    "    MAE = mean_absolute_error(y_true=y_test, y_pred=y_test_pred)\n",
    "    MAPE = mean_absolute_percentage_error(y_true=y_test, y_pred=y_test_pred)\n",
    "    R2 = r2_score(y_true=y_test, y_pred=y_test_pred)\n",
    "\n",
    "    scores = {\n",
    "        \"neg_root_mean_squared_error\": RMSE,\n",
    "        \"neg_mean_absolute_error\": MAE,\n",
    "        \"neg_mean_absolute_percentage_error\": MAPE,\n",
    "    }\n",
    "\n",
    "    return scores\n",
    "\n",
    "def show_scores (scores):\n",
    "\n",
    "    print (\"Scores obtidos:\")\n",
    "\n",
    "    print (f\"RMSE: {scores['neg_root_mean_squared_error']}\")\n",
    "    print (f\"MAE: {scores['neg_mean_absolute_error']}\")\n",
    "    print (f\"MAPE: {scores['neg_mean_absolute_percentage_error']}\")"
   ]
  },
  {
   "cell_type": "code",
   "execution_count": 12,
   "id": "2df60561-e65d-4fc2-adbe-9ab8fc3258dc",
   "metadata": {},
   "outputs": [],
   "source": [
    "def categorize(x):\n",
    "    if x < - 0.9:\n",
    "        return LABELS[0]\n",
    "    elif x < - 0.6:\n",
    "        return LABELS[1]\n",
    "    elif x < - 0.3:\n",
    "        return LABELS[2]\n",
    "    elif x < - 0.1:\n",
    "        return LABELS[3]\n",
    "    elif x < 0.1:\n",
    "        return LABELS[4]\n",
    "    elif x < 0.3:\n",
    "        return LABELS[5]\n",
    "    elif x < 0.6:\n",
    "        return LABELS[6]\n",
    "    elif x < 0.9:\n",
    "        return LABELS[7]\n",
    "    else:\n",
    "        return LABELS[8]"
   ]
  },
  {
   "cell_type": "code",
   "execution_count": 13,
   "id": "2dc92a2b-f8c3-4edb-9194-f39891b05820",
   "metadata": {},
   "outputs": [],
   "source": [
    "def show_delta (y_test, y_pred):\n",
    "    \n",
    "    data=(y_pred - y_test)/y_test\n",
    "\n",
    "    error = pd.DataFrame(data, columns=['erro'])\n",
    "    error['categoria']=error['erro'].apply(categorize)\n",
    "    \n",
    "    plt.figure(figsize=(28,6))\n",
    "\n",
    "    g = sns.countplot(data=error, x='categoria', order=LABELS)\n",
    "    \n",
    "    plt.show()"
   ]
  },
  {
   "cell_type": "code",
   "execution_count": 14,
   "id": "74947549-e166-4c3f-ab0e-2d31438141ef",
   "metadata": {
    "tags": []
   },
   "outputs": [],
   "source": [
    "\n",
    "\n",
    "def get_pred (y_train, y_pred):\n",
    "    init = pd.to_datetime(\"072017\", format='%m%Y')\n",
    "    end = pd.to_datetime(\"122019\", format='%m%Y')\n",
    "    data = pd.date_range(start=init, end=end, freq='MS').date\n",
    "    \n",
    "    pred = pd.DataFrame(list(data) * 27, columns=['data']).sort_values('data')\n",
    "    \n",
    "    pred['estados'] = SIGLAS * 30\n",
    "    \n",
    "    pred['y_test'] =  y_test[len(y_test) % 27 :].values\n",
    "    pred['y_pred'] = y_pred[len(y_pred) % 27 :]\n",
    "    \n",
    "    pred = pred.set_index('data')\n",
    "    \n",
    "    return pred"
   ]
  },
  {
   "cell_type": "code",
   "execution_count": 15,
   "id": "73829c3f-1e07-42fd-b9f3-a9c370f8ae9e",
   "metadata": {},
   "outputs": [],
   "source": [
    "def show_pred (pred, states=SIGLAS):\n",
    "    \n",
    "    for state in states:\n",
    "        \n",
    "        fig, ax = plt.subplots()\n",
    "\n",
    "        pred[pred['estados'] == state].plot(y=\"y_pred\", ax=ax, figsize=(12,6), color=\"coral\", title=f\"Previsão x Dado Real: {state}\", ylabel=\"Consumo\")\n",
    "        pred[pred['estados'] == state].plot(y=\"y_test\", linestyle=' ', marker=\"o\", ax=ax)\n",
    "\n",
    "    plt.show()"
   ]
  },
  {
   "cell_type": "code",
   "execution_count": 16,
   "id": "0694df16-0e92-4a80-a0a3-b552ef15f759",
   "metadata": {},
   "outputs": [],
   "source": [
    "def split_sequences(seq, size):\n",
    "    \n",
    "    lis = []\n",
    "    \n",
    "    for ini in range(len(seq)):\n",
    "        \n",
    "        end = ini + size\n",
    "        \n",
    "        if end > len(seq):\n",
    "            break\n",
    "            \n",
    "            \n",
    "        lis += [seq[ini:end]]\n",
    "        \n",
    "    return np.array(lis)"
   ]
  },
  {
   "cell_type": "code",
   "execution_count": 17,
   "id": "450b88ca-c625-4eee-8b25-f62f4d33f796",
   "metadata": {},
   "outputs": [],
   "source": [
    "class Scaler3DShape:\n",
    "    \n",
    "    def __init__(self, scaler=StandardScaler):\n",
    "        self.scaler = scaler() \n",
    "\n",
    "    def fit_transform(self, x):\n",
    "        x_new = self.scaler.fit_transform(x.reshape(-1, x.shape[-1])).reshape(x.shape)\n",
    "        return x_new\n",
    "\n",
    "    def transform(self, x):\n",
    "        x_new = self.scaler.transform(x.reshape(-1, x.shape[-1])).reshape(x.shape)\n",
    "        return x_new"
   ]
  },
  {
   "cell_type": "markdown",
   "id": "70c79782-54eb-4d5d-8086-1b29ee9b7537",
   "metadata": {},
   "source": [
    "# SEED"
   ]
  },
  {
   "cell_type": "code",
   "execution_count": 18,
   "id": "94f42d1f-1b1b-4ca9-bca5-9298d3c4f1c6",
   "metadata": {},
   "outputs": [],
   "source": [
    "SEED = 41\n",
    "\n",
    "def set_seeds (SEED=41):\n",
    "    os.environ['PYTHONHASHSEED'] = str(SEED)\n",
    "    set_seed(SEED)\n",
    "    np.random.seed(SEED)\n",
    "    random.seed(SEED)"
   ]
  },
  {
   "cell_type": "code",
   "execution_count": 19,
   "id": "d78734a8-abe1-4e38-86f1-ed58d94b90ea",
   "metadata": {},
   "outputs": [],
   "source": [
    "STATES = ['SP', 'RS','AL','DF']"
   ]
  },
  {
   "cell_type": "markdown",
   "id": "d5bc1b98-18dc-4583-bc62-f73a209abbd2",
   "metadata": {},
   "source": [
    "# Dados"
   ]
  },
  {
   "cell_type": "code",
   "execution_count": 20,
   "id": "ed009b88-6c40-41a9-a080-acd7e2e1e941",
   "metadata": {},
   "outputs": [],
   "source": [
    "def load_data():\n",
    "    \n",
    "    df = pd.read_csv(f\"{PATH}processado.csv\")\n",
    "    \n",
    "    x  = df.copy()\n",
    "    x = x.sort_values([\"data\", \"estados\"])\n",
    "    x = x.drop([\"consumo\", 'data'], axis=1)\n",
    "\n",
    "    y = df.copy().sort_values([\"data\", \"estados\"])[['estados', 'data', 'consumo']]\n",
    "    \n",
    "    # processo de one-hot\n",
    "    x = pd.get_dummies(data=x, columns=[\"estados\"], drop_first=True)\n",
    "\n",
    "    y = y['consumo']\n",
    "    \n",
    "    return x,y"
   ]
  },
  {
   "cell_type": "markdown",
   "id": "00d14002-7458-4e09-b70d-bef05c0cd2a6",
   "metadata": {},
   "source": [
    "# Experimentos"
   ]
  },
  {
   "cell_type": "markdown",
   "id": "1a54ab91-bf02-40fd-a0ca-ce786d0f902b",
   "metadata": {},
   "source": [
    "## 1 camada LSTM (128) "
   ]
  },
  {
   "cell_type": "markdown",
   "id": "829944b1-95be-49a6-bee5-e0a74b478e96",
   "metadata": {},
   "source": [
    "#### sem relu e 100 epochs"
   ]
  },
  {
   "cell_type": "code",
   "execution_count": 23,
   "id": "23ca75b7-e262-4d24-8d0f-a9203ef3fd35",
   "metadata": {},
   "outputs": [
    {
     "name": "stdout",
     "output_type": "stream",
     "text": [
      "147/147 [==============================] - 1s 4ms/step\n",
      "Scores obtidos:\n",
      "RMSE: 266562.30824369815\n",
      "MAE: 158602.99647015857\n",
      "MAPE: 0.9503471486726411\n",
      "26/26 [==============================] - 0s 3ms/step\n",
      "Scores obtidos:\n",
      "RMSE: 230042.69356817077\n",
      "MAE: 145363.86099321034\n",
      "MAPE: 0.9564304894123259\n"
     ]
    }
   ],
   "source": [
    "set_seeds(41)\n",
    "\n",
    "x,y = load_data()\n",
    "\n",
    "timestep=5\n",
    "\n",
    "x_train, x_test, y_train, y_test = train_test_split(x,y, test_size=0.15, shuffle=False)\n",
    "\n",
    "x_train = split_sequences(x_train.values, timestep)\n",
    "x_test = split_sequences(x_test.values, timestep)\n",
    "y_train = y_train[:-timestep+1]\n",
    "y_test = y_test[:-timestep+1]\n",
    "\n",
    "scaler = Scaler3DShape(MinMaxScaler)\n",
    "x_train = scaler.fit_transform(x_train)\n",
    "x_test = scaler.transform(x_test)\n",
    "\n",
    "model = Sequential()\n",
    "model.add(LSTM(units=128)),\n",
    "model.add(Dropout(rate=0.10))\n",
    "model.add(Dense(units=1))\n",
    "model.compile(\n",
    "    optimizer=keras.optimizers.Adam(learning_rate=0.001),\n",
    "    loss=\"mse\",\n",
    "    metrics=[keras.metrics.RootMeanSquaredError(name=\"RMSE\")])\n",
    "\n",
    "\n",
    "history = model.fit(x_train, y_train, epochs=100, batch_size=32, verbose=0) \n",
    "\n",
    "show_scores(score_regression_metrics(y_train, model.predict(x_train)))\n",
    "\n",
    "y_pred = model.predict(x_test)\n",
    "scores = score_regression_metrics(y_test, y_pred)\n",
    "show_scores(scores)"
   ]
  },
  {
   "cell_type": "markdown",
   "id": "3f1a009b-16d2-4464-ab61-1cde5e331df7",
   "metadata": {},
   "source": [
    "#### com relu e 100 epochs"
   ]
  },
  {
   "cell_type": "code",
   "execution_count": null,
   "id": "5941fd63-3053-4b4f-bd94-c60adf6bc935",
   "metadata": {},
   "outputs": [],
   "source": [
    "set_seeds(41)\n",
    "\n",
    "x,y = load_data()\n",
    "\n",
    "timestep=5\n",
    "\n",
    "x_train, x_test, y_train, y_test = train_test_split(x,y, test_size=0.15, shuffle=False)\n",
    "\n",
    "x_train = split_sequences(x_train.values, timestep)\n",
    "x_test = split_sequences(x_test.values, timestep)\n",
    "y_train = y_train[:-timestep+1]\n",
    "y_test = y_test[:-timestep+1]\n",
    "\n",
    "scaler = Scaler3DShape(MinMaxScaler)\n",
    "x_train = scaler.fit_transform(x_train)\n",
    "x_test = scaler.transform(x_test)\n",
    "\n",
    "model = Sequential()\n",
    "model.add(LSTM(units=128, activation=\"relu\")),\n",
    "model.add(Dropout(rate=0.10))\n",
    "model.add(Dense(units=1))\n",
    "model.compile(\n",
    "    optimizer=keras.optimizers.Adam(learning_rate=0.001),\n",
    "    loss=\"mse\",\n",
    "    metrics=[keras.metrics.RootMeanSquaredError(name=\"RMSE\")])\n",
    "\n",
    "\n",
    "history = model.fit(x_train, y_train, epochs=100, batch_size=32, verbose=0) \n",
    "\n",
    "show_scores(score_regression_metrics(y_train, model.predict(x_train)))\n",
    "\n",
    "y_pred = model.predict(x_test)\n",
    "scores = score_regression_metrics(y_test, y_pred)\n",
    "show_scores(scores)"
   ]
  },
  {
   "cell_type": "markdown",
   "id": "c8143718-50b1-4278-a2b4-b1606dbe5a8b",
   "metadata": {},
   "source": [
    "## 1 camada LSTM (128) e 2 Dense (64 e 32)"
   ]
  },
  {
   "cell_type": "markdown",
   "id": "66ebba17-82fb-4518-9c04-dd30cbb93733",
   "metadata": {},
   "source": [
    "#### 100 epochs e time=5"
   ]
  },
  {
   "cell_type": "code",
   "execution_count": 22,
   "id": "c7c47eed-21de-4bdf-b219-c0e6dfd2aa62",
   "metadata": {},
   "outputs": [
    {
     "name": "stdout",
     "output_type": "stream",
     "text": [
      "26/26 [==============================] - 1s 3ms/step\n",
      "Scores obtidos:\n",
      "RMSE: 38929.62710779666\n",
      "MAE: 22134.080596664262\n",
      "MAPE: 0.2103375143543596\n"
     ]
    }
   ],
   "source": [
    "set_seeds()\n",
    "\n",
    "x,y = load_data()\n",
    "\n",
    "timestamp=5\n",
    "\n",
    "x_train, x_test, y_train, y_test = train_test_split(x,y, test_size=0.15, shuffle=False)\n",
    "\n",
    "x_train = split_sequences(x_train.values, timestamp)\n",
    "x_test = split_sequences(x_test.values, timestamp)\n",
    "y_train = y_train[:-timestamp+1]\n",
    "y_test = y_test[:-timestamp+1]\n",
    "\n",
    "scaler = Scaler3DShape(MinMaxScaler)\n",
    "x_train = scaler.fit_transform(x_train)\n",
    "x_test = scaler.transform(x_test)\n",
    "\n",
    "model = Sequential()\n",
    "model.add(LSTM(units=128)),\n",
    "model.add(Dense(units=64, activation=\"relu\")),\n",
    "model.add(Dense(units=32, activation=\"relu\")),\n",
    "model.add(Dropout(rate=0.10))\n",
    "model.add(Dense(units=1))\n",
    "model.compile(\n",
    "    optimizer=keras.optimizers.Adam(learning_rate=0.001),\n",
    "    loss=\"mse\",\n",
    "    metrics=[keras.metrics.RootMeanSquaredError(name=\"RMSE\")])\n",
    "\n",
    "\n",
    "history = model.fit(x_train, y_train, epochs=100, batch_size=32, verbose=0) \n",
    "\n",
    "y_pred = model.predict(x_test)\n",
    "scores = score_regression_metrics(y_test, y_pred)\n",
    "show_scores(scores)"
   ]
  },
  {
   "cell_type": "markdown",
   "id": "5278fea7-2a01-4c32-8098-21063b51fe99",
   "metadata": {},
   "source": [
    "## 2 LSTM (128, 64) e 2 Dense (64 e 32)"
   ]
  },
  {
   "cell_type": "markdown",
   "id": "2eb44cba-a62f-4a19-bc3c-d59261c38b1f",
   "metadata": {},
   "source": [
    "#### time=3"
   ]
  },
  {
   "cell_type": "code",
   "execution_count": null,
   "id": "b815fc6d-a48e-4039-8947-831f962803ff",
   "metadata": {},
   "outputs": [],
   "source": [
    "set_seeds(41)\n",
    "\n",
    "x,y = load_data()\n",
    "\n",
    "timestep=3\n",
    "\n",
    "x_train, x_test, y_train, y_test = train_test_split(x,y, test_size=0.15, shuffle=False)\n",
    "\n",
    "x_train = split_sequences(x_train.values, timestep)\n",
    "x_test = split_sequences(x_test.values, timestep)\n",
    "y_train = y_train[:-timestep+1]\n",
    "y_test = y_test[:-timestep+1]\n",
    "\n",
    "scaler = Scaler3DShape(MinMaxScaler)\n",
    "x_train = scaler.fit_transform(x_train)\n",
    "x_test = scaler.transform(x_test)\n",
    "\n",
    "model = Sequential()\n",
    "model.add(LSTM(units=128, return_sequences=True, activation=\"relu\")),\n",
    "model.add(LSTM(units=64, activation=\"relu\")),\n",
    "model.add(Dropout(rate=0.10))\n",
    "model.add(Dense(units=1))\n",
    "model.compile(\n",
    "    optimizer=keras.optimizers.Adam(learning_rate=0.001),\n",
    "    loss=\"mse\",\n",
    "    metrics=[keras.metrics.RootMeanSquaredError(name=\"RMSE\")])\n",
    "\n",
    "\n",
    "history = model.fit(x_train, y_train, epochs=100, batch_size=32, verbose=0) "
   ]
  },
  {
   "cell_type": "markdown",
   "id": "ce2884e3-b9d7-461b-aab7-aafaadb01347",
   "metadata": {},
   "source": [
    "##### tempo=5"
   ]
  },
  {
   "cell_type": "code",
   "execution_count": null,
   "id": "96f4683b-5c9e-4359-97aa-737f80ad2396",
   "metadata": {},
   "outputs": [],
   "source": [
    "set_seeds(41)\n",
    "\n",
    "x,y = load_data()\n",
    "\n",
    "timestep=5\n",
    "\n",
    "x_train, x_test, y_train, y_test = train_test_split(x,y, test_size=0.15, shuffle=False)\n",
    "\n",
    "x_train = split_sequences(x_train.values, timestep)\n",
    "x_test = split_sequences(x_test.values, timestep)\n",
    "y_train = y_train[:-timestep+1]\n",
    "y_test = y_test[:-timestep+1]\n",
    "\n",
    "scaler = Scaler3DShape(MinMaxScaler)\n",
    "x_train = scaler.fit_transform(x_train)\n",
    "x_test = scaler.transform(x_test)\n",
    "\n",
    "model = Sequential()\n",
    "model.add(LSTM(units=128, return_sequences=True, activation=\"relu\")),\n",
    "model.add(LSTM(units=64, activation=\"relu\")),\n",
    "model.add(Dropout(rate=0.10))\n",
    "model.add(Dense(units=1))\n",
    "model.compile(\n",
    "    optimizer=keras.optimizers.Adam(learning_rate=0.001),\n",
    "    loss=\"mse\",\n",
    "    metrics=[keras.metrics.RootMeanSquaredError(name=\"RMSE\")])\n",
    "\n",
    "\n",
    "history = model.fit(x_train, y_train, epochs=100, batch_size=32, verbose=0) "
   ]
  },
  {
   "cell_type": "code",
   "execution_count": null,
   "id": "bbf78788-e1da-4327-acc4-89825390b3cd",
   "metadata": {},
   "outputs": [],
   "source": []
  }
 ],
 "metadata": {
  "kernelspec": {
   "display_name": "Python 3 (ipykernel)",
   "language": "python",
   "name": "python3"
  },
  "language_info": {
   "codemirror_mode": {
    "name": "ipython",
    "version": 3
   },
   "file_extension": ".py",
   "mimetype": "text/x-python",
   "name": "python",
   "nbconvert_exporter": "python",
   "pygments_lexer": "ipython3",
   "version": "3.10.5"
  }
 },
 "nbformat": 4,
 "nbformat_minor": 5
}
